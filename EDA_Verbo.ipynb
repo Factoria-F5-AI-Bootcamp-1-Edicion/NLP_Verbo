{
  "cells": [
    {
      "cell_type": "code",
      "execution_count": 1,
      "id": "c99c2b04-2dd6-4013-b3c1-acb701679537",
      "metadata": {
        "id": "c99c2b04-2dd6-4013-b3c1-acb701679537"
      },
      "outputs": [],
      "source": [
        "# Importación de librerias\n",
        "import pandas as pd\n",
        "import numpy as np\n",
        "import matplotlib.pyplot as plt\n",
        "import seaborn as sns\n",
        "\n",
        "%matplotlib inline\n",
        "import warnings\n",
        "warnings.filterwarnings(\"ignore\")"
      ]
    },
    {
      "cell_type": "code",
      "execution_count": 2,
      "id": "9822846c-bc6a-4a8e-a16f-9d083069ad75",
      "metadata": {
        "colab": {
          "base_uri": "https://localhost:8080/",
          "height": 576
        },
        "id": "9822846c-bc6a-4a8e-a16f-9d083069ad75",
        "outputId": "cf930fa9-e9d2-4dbd-f24b-925a7720c616"
      },
      "outputs": [
        {
          "output_type": "execute_result",
          "data": {
            "text/plain": [
              "              CommentId      VideoId  \\\n",
              "0  Ugg2KwwX0V8-aXgCoAEC  04kJtp6pVXI   \n",
              "1  Ugg2s5AzSPioEXgCoAEC  04kJtp6pVXI   \n",
              "2  Ugg3dWTOxryFfHgCoAEC  04kJtp6pVXI   \n",
              "3  Ugg7Gd006w1MPngCoAEC  04kJtp6pVXI   \n",
              "4  Ugg8FfTbbNF8IngCoAEC  04kJtp6pVXI   \n",
              "5  Ugg9a6FtoXdxmXgCoAEC  04kJtp6pVXI   \n",
              "6  Ugga9KzkNDGvlXgCoAEC  04kJtp6pVXI   \n",
              "\n",
              "                                                Text  IsToxic  IsAbusive  \\\n",
              "0  If only people would just take a step back and...    False      False   \n",
              "1  Law enforcement is not trained to shoot to app...     True       True   \n",
              "2  \\nDont you reckon them 'black lives matter' ba...     True       True   \n",
              "3  There are a very large number of people who do...    False      False   \n",
              "4  The Arab dude is absolutely right, he should h...    False      False   \n",
              "5  here people his facebook is https://www.facebo...     True      False   \n",
              "6  Check out this you tube post. \"Black man goes ...     True      False   \n",
              "\n",
              "   IsThreat  IsProvocative  IsObscene  IsHatespeech  IsRacist  IsNationalist  \\\n",
              "0     False          False      False         False     False          False   \n",
              "1     False          False      False         False     False          False   \n",
              "2     False          False       True         False     False          False   \n",
              "3     False          False      False         False     False          False   \n",
              "4     False          False      False         False     False          False   \n",
              "5     False          False      False          True     False          False   \n",
              "6     False          False      False          True      True          False   \n",
              "\n",
              "   IsSexist  IsHomophobic  IsReligiousHate  IsRadicalism  \n",
              "0     False         False            False         False  \n",
              "1     False         False            False         False  \n",
              "2     False         False            False         False  \n",
              "3     False         False            False         False  \n",
              "4     False         False            False         False  \n",
              "5     False         False             True         False  \n",
              "6     False         False            False         False  "
            ],
            "text/html": [
              "\n",
              "  <div id=\"df-3833ac51-969c-4fc6-9749-b8a817980c96\">\n",
              "    <div class=\"colab-df-container\">\n",
              "      <div>\n",
              "<style scoped>\n",
              "    .dataframe tbody tr th:only-of-type {\n",
              "        vertical-align: middle;\n",
              "    }\n",
              "\n",
              "    .dataframe tbody tr th {\n",
              "        vertical-align: top;\n",
              "    }\n",
              "\n",
              "    .dataframe thead th {\n",
              "        text-align: right;\n",
              "    }\n",
              "</style>\n",
              "<table border=\"1\" class=\"dataframe\">\n",
              "  <thead>\n",
              "    <tr style=\"text-align: right;\">\n",
              "      <th></th>\n",
              "      <th>CommentId</th>\n",
              "      <th>VideoId</th>\n",
              "      <th>Text</th>\n",
              "      <th>IsToxic</th>\n",
              "      <th>IsAbusive</th>\n",
              "      <th>IsThreat</th>\n",
              "      <th>IsProvocative</th>\n",
              "      <th>IsObscene</th>\n",
              "      <th>IsHatespeech</th>\n",
              "      <th>IsRacist</th>\n",
              "      <th>IsNationalist</th>\n",
              "      <th>IsSexist</th>\n",
              "      <th>IsHomophobic</th>\n",
              "      <th>IsReligiousHate</th>\n",
              "      <th>IsRadicalism</th>\n",
              "    </tr>\n",
              "  </thead>\n",
              "  <tbody>\n",
              "    <tr>\n",
              "      <th>0</th>\n",
              "      <td>Ugg2KwwX0V8-aXgCoAEC</td>\n",
              "      <td>04kJtp6pVXI</td>\n",
              "      <td>If only people would just take a step back and...</td>\n",
              "      <td>False</td>\n",
              "      <td>False</td>\n",
              "      <td>False</td>\n",
              "      <td>False</td>\n",
              "      <td>False</td>\n",
              "      <td>False</td>\n",
              "      <td>False</td>\n",
              "      <td>False</td>\n",
              "      <td>False</td>\n",
              "      <td>False</td>\n",
              "      <td>False</td>\n",
              "      <td>False</td>\n",
              "    </tr>\n",
              "    <tr>\n",
              "      <th>1</th>\n",
              "      <td>Ugg2s5AzSPioEXgCoAEC</td>\n",
              "      <td>04kJtp6pVXI</td>\n",
              "      <td>Law enforcement is not trained to shoot to app...</td>\n",
              "      <td>True</td>\n",
              "      <td>True</td>\n",
              "      <td>False</td>\n",
              "      <td>False</td>\n",
              "      <td>False</td>\n",
              "      <td>False</td>\n",
              "      <td>False</td>\n",
              "      <td>False</td>\n",
              "      <td>False</td>\n",
              "      <td>False</td>\n",
              "      <td>False</td>\n",
              "      <td>False</td>\n",
              "    </tr>\n",
              "    <tr>\n",
              "      <th>2</th>\n",
              "      <td>Ugg3dWTOxryFfHgCoAEC</td>\n",
              "      <td>04kJtp6pVXI</td>\n",
              "      <td>\\nDont you reckon them 'black lives matter' ba...</td>\n",
              "      <td>True</td>\n",
              "      <td>True</td>\n",
              "      <td>False</td>\n",
              "      <td>False</td>\n",
              "      <td>True</td>\n",
              "      <td>False</td>\n",
              "      <td>False</td>\n",
              "      <td>False</td>\n",
              "      <td>False</td>\n",
              "      <td>False</td>\n",
              "      <td>False</td>\n",
              "      <td>False</td>\n",
              "    </tr>\n",
              "    <tr>\n",
              "      <th>3</th>\n",
              "      <td>Ugg7Gd006w1MPngCoAEC</td>\n",
              "      <td>04kJtp6pVXI</td>\n",
              "      <td>There are a very large number of people who do...</td>\n",
              "      <td>False</td>\n",
              "      <td>False</td>\n",
              "      <td>False</td>\n",
              "      <td>False</td>\n",
              "      <td>False</td>\n",
              "      <td>False</td>\n",
              "      <td>False</td>\n",
              "      <td>False</td>\n",
              "      <td>False</td>\n",
              "      <td>False</td>\n",
              "      <td>False</td>\n",
              "      <td>False</td>\n",
              "    </tr>\n",
              "    <tr>\n",
              "      <th>4</th>\n",
              "      <td>Ugg8FfTbbNF8IngCoAEC</td>\n",
              "      <td>04kJtp6pVXI</td>\n",
              "      <td>The Arab dude is absolutely right, he should h...</td>\n",
              "      <td>False</td>\n",
              "      <td>False</td>\n",
              "      <td>False</td>\n",
              "      <td>False</td>\n",
              "      <td>False</td>\n",
              "      <td>False</td>\n",
              "      <td>False</td>\n",
              "      <td>False</td>\n",
              "      <td>False</td>\n",
              "      <td>False</td>\n",
              "      <td>False</td>\n",
              "      <td>False</td>\n",
              "    </tr>\n",
              "    <tr>\n",
              "      <th>5</th>\n",
              "      <td>Ugg9a6FtoXdxmXgCoAEC</td>\n",
              "      <td>04kJtp6pVXI</td>\n",
              "      <td>here people his facebook is https://www.facebo...</td>\n",
              "      <td>True</td>\n",
              "      <td>False</td>\n",
              "      <td>False</td>\n",
              "      <td>False</td>\n",
              "      <td>False</td>\n",
              "      <td>True</td>\n",
              "      <td>False</td>\n",
              "      <td>False</td>\n",
              "      <td>False</td>\n",
              "      <td>False</td>\n",
              "      <td>True</td>\n",
              "      <td>False</td>\n",
              "    </tr>\n",
              "    <tr>\n",
              "      <th>6</th>\n",
              "      <td>Ugga9KzkNDGvlXgCoAEC</td>\n",
              "      <td>04kJtp6pVXI</td>\n",
              "      <td>Check out this you tube post. \"Black man goes ...</td>\n",
              "      <td>True</td>\n",
              "      <td>False</td>\n",
              "      <td>False</td>\n",
              "      <td>False</td>\n",
              "      <td>False</td>\n",
              "      <td>True</td>\n",
              "      <td>True</td>\n",
              "      <td>False</td>\n",
              "      <td>False</td>\n",
              "      <td>False</td>\n",
              "      <td>False</td>\n",
              "      <td>False</td>\n",
              "    </tr>\n",
              "  </tbody>\n",
              "</table>\n",
              "</div>\n",
              "      <button class=\"colab-df-convert\" onclick=\"convertToInteractive('df-3833ac51-969c-4fc6-9749-b8a817980c96')\"\n",
              "              title=\"Convert this dataframe to an interactive table.\"\n",
              "              style=\"display:none;\">\n",
              "        \n",
              "  <svg xmlns=\"http://www.w3.org/2000/svg\" height=\"24px\"viewBox=\"0 0 24 24\"\n",
              "       width=\"24px\">\n",
              "    <path d=\"M0 0h24v24H0V0z\" fill=\"none\"/>\n",
              "    <path d=\"M18.56 5.44l.94 2.06.94-2.06 2.06-.94-2.06-.94-.94-2.06-.94 2.06-2.06.94zm-11 1L8.5 8.5l.94-2.06 2.06-.94-2.06-.94L8.5 2.5l-.94 2.06-2.06.94zm10 10l.94 2.06.94-2.06 2.06-.94-2.06-.94-.94-2.06-.94 2.06-2.06.94z\"/><path d=\"M17.41 7.96l-1.37-1.37c-.4-.4-.92-.59-1.43-.59-.52 0-1.04.2-1.43.59L10.3 9.45l-7.72 7.72c-.78.78-.78 2.05 0 2.83L4 21.41c.39.39.9.59 1.41.59.51 0 1.02-.2 1.41-.59l7.78-7.78 2.81-2.81c.8-.78.8-2.07 0-2.86zM5.41 20L4 18.59l7.72-7.72 1.47 1.35L5.41 20z\"/>\n",
              "  </svg>\n",
              "      </button>\n",
              "      \n",
              "  <style>\n",
              "    .colab-df-container {\n",
              "      display:flex;\n",
              "      flex-wrap:wrap;\n",
              "      gap: 12px;\n",
              "    }\n",
              "\n",
              "    .colab-df-convert {\n",
              "      background-color: #E8F0FE;\n",
              "      border: none;\n",
              "      border-radius: 50%;\n",
              "      cursor: pointer;\n",
              "      display: none;\n",
              "      fill: #1967D2;\n",
              "      height: 32px;\n",
              "      padding: 0 0 0 0;\n",
              "      width: 32px;\n",
              "    }\n",
              "\n",
              "    .colab-df-convert:hover {\n",
              "      background-color: #E2EBFA;\n",
              "      box-shadow: 0px 1px 2px rgba(60, 64, 67, 0.3), 0px 1px 3px 1px rgba(60, 64, 67, 0.15);\n",
              "      fill: #174EA6;\n",
              "    }\n",
              "\n",
              "    [theme=dark] .colab-df-convert {\n",
              "      background-color: #3B4455;\n",
              "      fill: #D2E3FC;\n",
              "    }\n",
              "\n",
              "    [theme=dark] .colab-df-convert:hover {\n",
              "      background-color: #434B5C;\n",
              "      box-shadow: 0px 1px 3px 1px rgba(0, 0, 0, 0.15);\n",
              "      filter: drop-shadow(0px 1px 2px rgba(0, 0, 0, 0.3));\n",
              "      fill: #FFFFFF;\n",
              "    }\n",
              "  </style>\n",
              "\n",
              "      <script>\n",
              "        const buttonEl =\n",
              "          document.querySelector('#df-3833ac51-969c-4fc6-9749-b8a817980c96 button.colab-df-convert');\n",
              "        buttonEl.style.display =\n",
              "          google.colab.kernel.accessAllowed ? 'block' : 'none';\n",
              "\n",
              "        async function convertToInteractive(key) {\n",
              "          const element = document.querySelector('#df-3833ac51-969c-4fc6-9749-b8a817980c96');\n",
              "          const dataTable =\n",
              "            await google.colab.kernel.invokeFunction('convertToInteractive',\n",
              "                                                     [key], {});\n",
              "          if (!dataTable) return;\n",
              "\n",
              "          const docLinkHtml = 'Like what you see? Visit the ' +\n",
              "            '<a target=\"_blank\" href=https://colab.research.google.com/notebooks/data_table.ipynb>data table notebook</a>'\n",
              "            + ' to learn more about interactive tables.';\n",
              "          element.innerHTML = '';\n",
              "          dataTable['output_type'] = 'display_data';\n",
              "          await google.colab.output.renderOutput(dataTable, element);\n",
              "          const docLink = document.createElement('div');\n",
              "          docLink.innerHTML = docLinkHtml;\n",
              "          element.appendChild(docLink);\n",
              "        }\n",
              "      </script>\n",
              "    </div>\n",
              "  </div>\n",
              "  "
            ]
          },
          "metadata": {},
          "execution_count": 2
        }
      ],
      "source": [
        "# Abrimos el csv\n",
        "data = pd.read_csv('youtoxic_english_1000.csv')\n",
        "data.head(7)"
      ]
    },
    {
      "cell_type": "code",
      "execution_count": 3,
      "id": "d271cc44-292a-469e-a434-dc4fcf11344c",
      "metadata": {
        "colab": {
          "base_uri": "https://localhost:8080/",
          "height": 297
        },
        "id": "d271cc44-292a-469e-a434-dc4fcf11344c",
        "outputId": "e20e1175-9cde-40c1-cce4-9ee4397da826"
      },
      "outputs": [
        {
          "output_type": "execute_result",
          "data": {
            "text/plain": [
              "<matplotlib.axes._subplots.AxesSubplot at 0x7f8cfd510910>"
            ]
          },
          "metadata": {},
          "execution_count": 3
        },
        {
          "output_type": "display_data",
          "data": {
            "text/plain": [
              "<Figure size 432x288 with 1 Axes>"
            ],
            "image/png": "[encoded data removed]"
          },
          "metadata": {
            "needs_background": "light"
          }
        }
      ],
      "source": [
        "#Comprobamos si los datos estan balanceados si es Istoxic o no\n",
        "sns.countplot(x ='IsToxic', data = data)"
      ]
    },
    {
      "cell_type": "code",
      "execution_count": 4,
      "id": "fiOAN_10e3P1",
      "metadata": {
        "colab": {
          "base_uri": "https://localhost:8080/",
          "height": 985
        },
        "id": "fiOAN_10e3P1",
        "outputId": "aa67a082-67ba-4ca9-f1d0-e4d13d55d9e3"
      },
      "outputs": [
        {
          "output_type": "display_data",
          "data": {
            "text/plain": [
              "<Figure size 1440x1080 with 12 Axes>"
            ],
            "image/png": "[encoded data removed]"
          },
          "metadata": {
            "needs_background": "light"
          }
        }
      ],
      "source": [
        "#Se crea un grafico para visualizar de manera simultanea todas las variables en relacion a stroke\n",
        "fig, ax = plt.subplots(3, 4, figsize = (20, 15))\n",
        "ax[2, 3].axis('off')\n",
        "\n",
        "plt.suptitle('Relación de las variables negativas', fontsize = 30, color = 'teal')\n",
        "\n",
        "ax1 = sns.countplot(x ='IsToxic', data= data, hue= 'IsToxic', ax= ax[0, 0], palette= 'RdPu')\n",
        "ax1.set(xlabel = 'Comentarios toxicos')\n",
        "\n",
        "ax2 = sns.countplot(x ='IsAbusive', data= data, hue= 'IsAbusive', ax= ax[0, 1], palette= 'winter')\n",
        "ax2.set(xlabel = 'Comentarios abusivos')\n",
        "\n",
        "ax3 = sns.countplot(x ='IsThreat', data= data, hue= 'IsThreat', ax= ax[0, 2], palette= 'summer')\n",
        "ax3.set(xlabel = 'Comentarios amenazantes ')\n",
        "\n",
        "ax4 = sns.countplot(x ='IsProvocative', data= data, hue= 'IsProvocative', ax= ax[0, 3], palette= 'ocean')\n",
        "ax4.set(xlabel = 'Comentarios provocativos')\n",
        "\n",
        "ax5 = sns.countplot(x ='IsObscene', data= data, hue= 'IsObscene', ax= ax[1, 0], palette= 'YlGnBu')\n",
        "ax5.set(xlabel = 'Comentarios obsceno')\n",
        "\n",
        "ax6 = sns.countplot(x ='IsHatespeech', data= data, hue= 'IsHatespeech', ax= ax[1, 1], palette= 'copper')\n",
        "ax6.set(xlabel = 'Comentarios de odio')\n",
        "\n",
        "ax7 = sns.countplot(x ='IsRacist', data= data, hue= 'IsRacist', ax= ax[1, 2], palette= 'plasma')\n",
        "ax7.set(xlabel = 'Comentarios racistas')\n",
        "\n",
        "ax8 = sns.countplot(x ='IsNationalist', data= data, hue= 'IsNationalist', ax= ax[1, 3], palette= 'winter')\n",
        "ax8.set(xlabel = 'Comentarios nacionalistas')\n",
        "\n",
        "ax9 = sns.countplot(x ='IsSexist', data= data, hue= 'IsSexist', ax= ax[2, 0], palette= 'summer')\n",
        "ax9.set(xlabel = 'Comentarios sexistas')\n",
        "\n",
        "ax10 = sns.countplot(x ='IsHomophobic', data= data, hue= 'IsHomophobic', ax= ax[2, 1], palette= 'ocean')\n",
        "ax10.set(xlabel = 'Comentarios homofobicos')\n",
        "\n",
        "ax11 = sns.countplot(x ='IsReligiousHate', data= data, hue= 'IsReligiousHate', ax= ax[2, 2], palette= 'RdPu')\n",
        "ax11.set(xlabel = 'Comentarios de odio religioso')\n",
        "\n",
        "ax12 = sns.countplot(x ='IsRadicalism', data= data, hue= 'IsRadicalism', ax= ax[2, 3], palette= 'YlGnBu')\n",
        "ax12.set(xlabel = 'Comentarios radicalistas')\n",
        "\n",
        "plt.show()"
      ]
    },
    {
      "cell_type": "code",
      "execution_count": 5,
      "id": "SPatrH02gG-p",
      "metadata": {
        "colab": {
          "base_uri": "https://localhost:8080/",
          "height": 236
        },
        "id": "SPatrH02gG-p",
        "outputId": "54c592cc-9221-48fc-a4c2-6f16c972654a"
      },
      "outputs": [
        {
          "output_type": "execute_result",
          "data": {
            "text/plain": [
              "                   CommentId      VideoId           Text IsToxic IsAbusive  \\\n",
              "count                   1000         1000           1000    1000      1000   \n",
              "unique                  1000           13            997       2         2   \n",
              "top     Ugg2KwwX0V8-aXgCoAEC  9pr1oE34bIM  run them over   False     False   \n",
              "freq                       1          274              3     538       647   \n",
              "\n",
              "       IsThreat IsProvocative IsObscene IsHatespeech IsRacist IsNationalist  \\\n",
              "count      1000          1000      1000         1000     1000          1000   \n",
              "unique        2             2         2            2        2             2   \n",
              "top       False         False     False        False    False         False   \n",
              "freq        979           839       900          862      875           992   \n",
              "\n",
              "       IsSexist IsHomophobic IsReligiousHate IsRadicalism  \n",
              "count      1000         1000            1000         1000  \n",
              "unique        2            1               2            1  \n",
              "top       False        False           False        False  \n",
              "freq        999         1000             988         1000  "
            ],
            "text/html": [
              "\n",
              "  <div id=\"df-2d42c437-b841-4905-be28-9050930af06e\">\n",
              "    <div class=\"colab-df-container\">\n",
              "      <div>\n",
              "<style scoped>\n",
              "    .dataframe tbody tr th:only-of-type {\n",
              "        vertical-align: middle;\n",
              "    }\n",
              "\n",
              "    .dataframe tbody tr th {\n",
              "        vertical-align: top;\n",
              "    }\n",
              "\n",
              "    .dataframe thead th {\n",
              "        text-align: right;\n",
              "    }\n",
              "</style>\n",
              "<table border=\"1\" class=\"dataframe\">\n",
              "  <thead>\n",
              "    <tr style=\"text-align: right;\">\n",
              "      <th></th>\n",
              "      <th>CommentId</th>\n",
              "      <th>VideoId</th>\n",
              "      <th>Text</th>\n",
              "      <th>IsToxic</th>\n",
              "      <th>IsAbusive</th>\n",
              "      <th>IsThreat</th>\n",
              "      <th>IsProvocative</th>\n",
              "      <th>IsObscene</th>\n",
              "      <th>IsHatespeech</th>\n",
              "      <th>IsRacist</th>\n",
              "      <th>IsNationalist</th>\n",
              "      <th>IsSexist</th>\n",
              "      <th>IsHomophobic</th>\n",
              "      <th>IsReligiousHate</th>\n",
              "      <th>IsRadicalism</th>\n",
              "    </tr>\n",
              "  </thead>\n",
              "  <tbody>\n",
              "    <tr>\n",
              "      <th>count</th>\n",
              "      <td>1000</td>\n",
              "      <td>1000</td>\n",
              "      <td>1000</td>\n",
              "      <td>1000</td>\n",
              "      <td>1000</td>\n",
              "      <td>1000</td>\n",
              "      <td>1000</td>\n",
              "      <td>1000</td>\n",
              "      <td>1000</td>\n",
              "      <td>1000</td>\n",
              "      <td>1000</td>\n",
              "      <td>1000</td>\n",
              "      <td>1000</td>\n",
              "      <td>1000</td>\n",
              "      <td>1000</td>\n",
              "    </tr>\n",
              "    <tr>\n",
              "      <th>unique</th>\n",
              "      <td>1000</td>\n",
              "      <td>13</td>\n",
              "      <td>997</td>\n",
              "      <td>2</td>\n",
              "      <td>2</td>\n",
              "      <td>2</td>\n",
              "      <td>2</td>\n",
              "      <td>2</td>\n",
              "      <td>2</td>\n",
              "      <td>2</td>\n",
              "      <td>2</td>\n",
              "      <td>2</td>\n",
              "      <td>1</td>\n",
              "      <td>2</td>\n",
              "      <td>1</td>\n",
              "    </tr>\n",
              "    <tr>\n",
              "      <th>top</th>\n",
              "      <td>Ugg2KwwX0V8-aXgCoAEC</td>\n",
              "      <td>9pr1oE34bIM</td>\n",
              "      <td>run them over</td>\n",
              "      <td>False</td>\n",
              "      <td>False</td>\n",
              "      <td>False</td>\n",
              "      <td>False</td>\n",
              "      <td>False</td>\n",
              "      <td>False</td>\n",
              "      <td>False</td>\n",
              "      <td>False</td>\n",
              "      <td>False</td>\n",
              "      <td>False</td>\n",
              "      <td>False</td>\n",
              "      <td>False</td>\n",
              "    </tr>\n",
              "    <tr>\n",
              "      <th>freq</th>\n",
              "      <td>1</td>\n",
              "      <td>274</td>\n",
              "      <td>3</td>\n",
              "      <td>538</td>\n",
              "      <td>647</td>\n",
              "      <td>979</td>\n",
              "      <td>839</td>\n",
              "      <td>900</td>\n",
              "      <td>862</td>\n",
              "      <td>875</td>\n",
              "      <td>992</td>\n",
              "      <td>999</td>\n",
              "      <td>1000</td>\n",
              "      <td>988</td>\n",
              "      <td>1000</td>\n",
              "    </tr>\n",
              "  </tbody>\n",
              "</table>\n",
              "</div>\n",
              "      <button class=\"colab-df-convert\" onclick=\"convertToInteractive('df-2d42c437-b841-4905-be28-9050930af06e')\"\n",
              "              title=\"Convert this dataframe to an interactive table.\"\n",
              "              style=\"display:none;\">\n",
              "        \n",
              "  <svg xmlns=\"http://www.w3.org/2000/svg\" height=\"24px\"viewBox=\"0 0 24 24\"\n",
              "       width=\"24px\">\n",
              "    <path d=\"M0 0h24v24H0V0z\" fill=\"none\"/>\n",
              "    <path d=\"M18.56 5.44l.94 2.06.94-2.06 2.06-.94-2.06-.94-.94-2.06-.94 2.06-2.06.94zm-11 1L8.5 8.5l.94-2.06 2.06-.94-2.06-.94L8.5 2.5l-.94 2.06-2.06.94zm10 10l.94 2.06.94-2.06 2.06-.94-2.06-.94-.94-2.06-.94 2.06-2.06.94z\"/><path d=\"M17.41 7.96l-1.37-1.37c-.4-.4-.92-.59-1.43-.59-.52 0-1.04.2-1.43.59L10.3 9.45l-7.72 7.72c-.78.78-.78 2.05 0 2.83L4 21.41c.39.39.9.59 1.41.59.51 0 1.02-.2 1.41-.59l7.78-7.78 2.81-2.81c.8-.78.8-2.07 0-2.86zM5.41 20L4 18.59l7.72-7.72 1.47 1.35L5.41 20z\"/>\n",
              "  </svg>\n",
              "      </button>\n",
              "      \n",
              "  <style>\n",
              "    .colab-df-container {\n",
              "      display:flex;\n",
              "      flex-wrap:wrap;\n",
              "      gap: 12px;\n",
              "    }\n",
              "\n",
              "    .colab-df-convert {\n",
              "      background-color: #E8F0FE;\n",
              "      border: none;\n",
              "      border-radius: 50%;\n",
              "      cursor: pointer;\n",
              "      display: none;\n",
              "      fill: #1967D2;\n",
              "      height: 32px;\n",
              "      padding: 0 0 0 0;\n",
              "      width: 32px;\n",
              "    }\n",
              "\n",
              "    .colab-df-convert:hover {\n",
              "      background-color: #E2EBFA;\n",
              "      box-shadow: 0px 1px 2px rgba(60, 64, 67, 0.3), 0px 1px 3px 1px rgba(60, 64, 67, 0.15);\n",
              "      fill: #174EA6;\n",
              "    }\n",
              "\n",
              "    [theme=dark] .colab-df-convert {\n",
              "      background-color: #3B4455;\n",
              "      fill: #D2E3FC;\n",
              "    }\n",
              "\n",
              "    [theme=dark] .colab-df-convert:hover {\n",
              "      background-color: #434B5C;\n",
              "      box-shadow: 0px 1px 3px 1px rgba(0, 0, 0, 0.15);\n",
              "      filter: drop-shadow(0px 1px 2px rgba(0, 0, 0, 0.3));\n",
              "      fill: #FFFFFF;\n",
              "    }\n",
              "  </style>\n",
              "\n",
              "      <script>\n",
              "        const buttonEl =\n",
              "          document.querySelector('#df-2d42c437-b841-4905-be28-9050930af06e button.colab-df-convert');\n",
              "        buttonEl.style.display =\n",
              "          google.colab.kernel.accessAllowed ? 'block' : 'none';\n",
              "\n",
              "        async function convertToInteractive(key) {\n",
              "          const element = document.querySelector('#df-2d42c437-b841-4905-be28-9050930af06e');\n",
              "          const dataTable =\n",
              "            await google.colab.kernel.invokeFunction('convertToInteractive',\n",
              "                                                     [key], {});\n",
              "          if (!dataTable) return;\n",
              "\n",
              "          const docLinkHtml = 'Like what you see? Visit the ' +\n",
              "            '<a target=\"_blank\" href=https://colab.research.google.com/notebooks/data_table.ipynb>data table notebook</a>'\n",
              "            + ' to learn more about interactive tables.';\n",
              "          element.innerHTML = '';\n",
              "          dataTable['output_type'] = 'display_data';\n",
              "          await google.colab.output.renderOutput(dataTable, element);\n",
              "          const docLink = document.createElement('div');\n",
              "          docLink.innerHTML = docLinkHtml;\n",
              "          element.appendChild(docLink);\n",
              "        }\n",
              "      </script>\n",
              "    </div>\n",
              "  </div>\n",
              "  "
            ]
          },
          "metadata": {},
          "execution_count": 5
        }
      ],
      "source": [
        "#Decripcion del dataset\n",
        "data.describe()"
      ]
    },
    {
      "cell_type": "code",
      "execution_count": 6,
      "id": "agdV1uWkgO6L",
      "metadata": {
        "colab": {
          "base_uri": "https://localhost:8080/"
        },
        "id": "agdV1uWkgO6L",
        "outputId": "e0c4327f-b1c4-400f-a5e5-5ff538f248ee"
      },
      "outputs": [
        {
          "output_type": "stream",
          "name": "stdout",
          "text": [
            "<class 'pandas.core.frame.DataFrame'>\n",
            "RangeIndex: 1000 entries, 0 to 999\n",
            "Data columns (total 15 columns):\n",
            " #   Column           Non-Null Count  Dtype \n",
            "---  ------           --------------  ----- \n",
            " 0   CommentId        1000 non-null   object\n",
            " 1   VideoId          1000 non-null   object\n",
            " 2   Text             1000 non-null   object\n",
            " 3   IsToxic          1000 non-null   bool  \n",
            " 4   IsAbusive        1000 non-null   bool  \n",
            " 5   IsThreat         1000 non-null   bool  \n",
            " 6   IsProvocative    1000 non-null   bool  \n",
            " 7   IsObscene        1000 non-null   bool  \n",
            " 8   IsHatespeech     1000 non-null   bool  \n",
            " 9   IsRacist         1000 non-null   bool  \n",
            " 10  IsNationalist    1000 non-null   bool  \n",
            " 11  IsSexist         1000 non-null   bool  \n",
            " 12  IsHomophobic     1000 non-null   bool  \n",
            " 13  IsReligiousHate  1000 non-null   bool  \n",
            " 14  IsRadicalism     1000 non-null   bool  \n",
            "dtypes: bool(12), object(3)\n",
            "memory usage: 35.3+ KB\n"
          ]
        }
      ],
      "source": [
        "#Información del dataset\n",
        "data.info()"
      ]
    },
    {
      "cell_type": "code",
      "execution_count": 7,
      "id": "B_-AA9rmgg-U",
      "metadata": {
        "colab": {
          "base_uri": "https://localhost:8080/"
        },
        "id": "B_-AA9rmgg-U",
        "outputId": "77f0a985-4f70-432d-b5d5-c5b2da331e69"
      },
      "outputs": [
        {
          "output_type": "execute_result",
          "data": {
            "text/plain": [
              "CommentId          0\n",
              "VideoId            0\n",
              "Text               0\n",
              "IsToxic            0\n",
              "IsAbusive          0\n",
              "IsThreat           0\n",
              "IsProvocative      0\n",
              "IsObscene          0\n",
              "IsHatespeech       0\n",
              "IsRacist           0\n",
              "IsNationalist      0\n",
              "IsSexist           0\n",
              "IsHomophobic       0\n",
              "IsReligiousHate    0\n",
              "IsRadicalism       0\n",
              "dtype: int64"
            ]
          },
          "metadata": {},
          "execution_count": 7
        }
      ],
      "source": [
        "#Comprobamos si existen valores nulos\n",
        "data.isnull().sum(axis = 0)"
      ]
    },
    {
      "cell_type": "code",
      "execution_count": 8,
      "id": "qLiD9c_ugsSs",
      "metadata": {
        "colab": {
          "base_uri": "https://localhost:8080/"
        },
        "id": "qLiD9c_ugsSs",
        "outputId": "b715cc7f-00b5-41eb-b926-fc134c84ded8"
      },
      "outputs": [
        {
          "output_type": "execute_result",
          "data": {
            "text/plain": [
              "0"
            ]
          },
          "metadata": {},
          "execution_count": 8
        }
      ],
      "source": [
        "#Comprobamos los datos duplicados\n",
        "data_duplicadas = data[data.duplicated()]\n",
        "len(data_duplicadas)"
      ]
    },
    {
      "cell_type": "code",
      "execution_count": 9,
      "id": "kFFqvVB8gz-b",
      "metadata": {
        "colab": {
          "base_uri": "https://localhost:8080/",
          "height": 622
        },
        "id": "kFFqvVB8gz-b",
        "outputId": "f9640251-cfc8-4188-e0d8-bdf041efb302"
      },
      "outputs": [
        {
          "output_type": "execute_result",
          "data": {
            "text/plain": [
              "<matplotlib.axes._subplots.AxesSubplot at 0x7f8cfccadfd0>"
            ]
          },
          "metadata": {},
          "execution_count": 9
        },
        {
          "output_type": "display_data",
          "data": {
            "text/plain": [
              "<Figure size 792x648 with 2 Axes>"
            ],
            "image/png": "[encoded data removed]"
          },
          "metadata": {
            "needs_background": "light"
          }
        }
      ],
      "source": [
        "#Mapa de calor con las variables\n",
        "mask = np.triu(np.ones_like(data.corr(), dtype=bool))\n",
        "\n",
        "# Configuramos el matplotlib\n",
        "f, ax = plt.subplots(figsize=(11, 9))\n",
        "\n",
        "# Ploteamos el heatmap\n",
        "cmap = sns.diverging_palette(20, 220, n=200)\n",
        "sns.heatmap(data.corr(), mask=mask, vmax=1., vmin=-1., center=0,\n",
        "            square=True, linewidths=.5, cbar_kws={\"shrink\": .5}, annot=True)"
      ]
    },
    {
      "cell_type": "markdown",
      "id": "wdJ0I6KLiszE",
      "metadata": {
        "id": "wdJ0I6KLiszE"
      },
      "source": [
        "Variables que no tienen valores verdaderos"
      ]
    },
    {
      "cell_type": "code",
      "execution_count": 10,
      "id": "8qxa_YSxhG8G",
      "metadata": {
        "colab": {
          "base_uri": "https://localhost:8080/"
        },
        "id": "8qxa_YSxhG8G",
        "outputId": "ac94f9b1-528a-4377-e44e-13d5710a6895"
      },
      "outputs": [
        {
          "output_type": "execute_result",
          "data": {
            "text/plain": [
              "False    1000\n",
              "Name: IsHomophobic, dtype: int64"
            ]
          },
          "metadata": {},
          "execution_count": 10
        }
      ],
      "source": [
        "data.IsHomophobic.value_counts()"
      ]
    },
    {
      "cell_type": "code",
      "execution_count": 11,
      "id": "pfvCZyY8pwMa",
      "metadata": {
        "colab": {
          "base_uri": "https://localhost:8080/"
        },
        "id": "pfvCZyY8pwMa",
        "outputId": "b52775ab-2875-423f-a06a-2367d8518d9c"
      },
      "outputs": [
        {
          "output_type": "execute_result",
          "data": {
            "text/plain": [
              "False    1000\n",
              "Name: IsRadicalism, dtype: int64"
            ]
          },
          "metadata": {},
          "execution_count": 11
        }
      ],
      "source": [
        "data.IsRadicalism.value_counts()"
      ]
    },
    {
      "cell_type": "code",
      "execution_count": 12,
      "id": "Etdjaq7Oh5Bv",
      "metadata": {
        "colab": {
          "base_uri": "https://localhost:8080/"
        },
        "id": "Etdjaq7Oh5Bv",
        "outputId": "78c435cb-ba16-4a2c-c123-9a592826c5da"
      },
      "outputs": [
        {
          "output_type": "execute_result",
          "data": {
            "text/plain": [
              "9pr1oE34bIM    274\n",
              "04kJtp6pVXI    172\n",
              "cT14IbTDW2c    146\n",
              "dG7mZQvaQDk    112\n",
              "TZxEyoplYbI    104\n",
              "bUgKZMSxr3E     39\n",
              "8HB18hZrhXc     38\n",
              "4rCweDxDqdw     37\n",
              "Dt9-byUhPdg     34\n",
              "#NAME?          16\n",
              "dDbRyFIkNII     10\n",
              "XRuCW80L9mA     10\n",
              "5vF4si3hoRA      8\n",
              "Name: VideoId, dtype: int64"
            ]
          },
          "metadata": {},
          "execution_count": 12
        }
      ],
      "source": [
        "data.VideoId.value_counts()"
      ]
    },
    {
      "cell_type": "code",
      "execution_count": 13,
      "id": "GGj9y8w6iVZL",
      "metadata": {
        "colab": {
          "base_uri": "https://localhost:8080/",
          "height": 332
        },
        "id": "GGj9y8w6iVZL",
        "outputId": "3bfbabf7-4e6d-49a4-b1d6-d173d2531473"
      },
      "outputs": [
        {
          "output_type": "display_data",
          "data": {
            "text/plain": [
              "<Figure size 432x288 with 1 Axes>"
            ],
            "image/png": "[encoded data removed]"
          },
          "metadata": {
            "needs_background": "light"
          }
        }
      ],
      "source": [
        "sns.boxplot(data=data)\n",
        "plt.xticks(rotation=90)\n",
        "plt.show()"
      ]
    },
    {
      "cell_type": "markdown",
      "id": "xO3Dyt2BkyeW",
      "metadata": {
        "id": "xO3Dyt2BkyeW"
      },
      "source": [
        "## 3. Limpieza de datos"
      ]
    },
    {
      "cell_type": "code",
      "execution_count": 14,
      "id": "kV6YZkdxjEUI",
      "metadata": {
        "id": "kV6YZkdxjEUI"
      },
      "outputs": [],
      "source": [
        "#\n",
        "import re \n",
        "import string \n",
        "def clean_text_round1(text): \n",
        "    '''Nos elimina palabras sin sentido, signos de puntuación, números, espacios en blanco y corchetes''' \n",
        "    text = text.lower() \n",
        "    text = re.sub('\\[.*?\\]', '', text) \n",
        "    text = re.sub('[%s]' % re.escape(string.punctuation), '', text) \n",
        "    text = re.sub('\\w*\\d\\w*', '', text) \n",
        "    text = re.sub('[‘’“”…]', '', text)\n",
        "    text = re.sub('\\n', '', text)\n",
        "    return text \n",
        "\n",
        "round1 = lambda x: clean_text_round1(x) "
      ]
    },
    {
      "cell_type": "code",
      "source": [
        "data['Text'] = data['Text'].replace(u'\\xa0', u' ')"
      ],
      "metadata": {
        "id": "P_Y6x__9eS_p"
      },
      "id": "P_Y6x__9eS_p",
      "execution_count": 15,
      "outputs": []
    },
    {
      "cell_type": "code",
      "execution_count": 16,
      "id": "P70OEcDtmUlW",
      "metadata": {
        "colab": {
          "base_uri": "https://localhost:8080/"
        },
        "id": "P70OEcDtmUlW",
        "outputId": "27be6e19-843d-4e26-da51-f5feb6a701d2"
      },
      "outputs": [
        {
          "output_type": "execute_result",
          "data": {
            "text/plain": [
              "0      if only people would just take a step back and...\n",
              "1      law enforcement is not trained to shoot to app...\n",
              "2      dont you reckon them black lives matter banner...\n",
              "3      there are a very large number of people who do...\n",
              "4      the arab dude is absolutely right he should ha...\n",
              "                             ...                        \n",
              "995    i remember that they sent in the national defe...\n",
              "996    stats dont represent the problem race baiting ...\n",
              "997    the quote from the mother wow that hit hard ve...\n",
              "998                              this video is so racist\n",
              "999          god the narrator has such an annoying lisp \n",
              "Name: Text, Length: 1000, dtype: object"
            ]
          },
          "metadata": {},
          "execution_count": 16
        }
      ],
      "source": [
        "text_clean = data[\"Text\"].apply(round1)\n",
        "text_clean"
      ]
    },
    {
      "cell_type": "code",
      "execution_count": 17,
      "id": "2qsGa8Ej1qjs",
      "metadata": {
        "id": "2qsGa8Ej1qjs"
      },
      "outputs": [],
      "source": [
        "# Limpiamos emojis\n",
        "import re\n",
        "def remove_emojis(data_clean):\n",
        "    emoj = re.compile(\"[\"\n",
        "        u\"\\U0001F600-\\U0001F64F\"  # emoticons\n",
        "        u\"\\U0001F300-\\U0001F5FF\"  # symbols & pictographs\n",
        "        u\"\\U0001F680-\\U0001F6FF\"  # transport & map symbols\n",
        "        u\"\\U0001F1E0-\\U0001F1FF\"  # flags (iOS)\n",
        "        u\"\\U00002500-\\U00002BEF\"  # chinese char\n",
        "        u\"\\U00002702-\\U000027B0\"\n",
        "        u\"\\U00002702-\\U000027B0\"\n",
        "        u\"\\U000024C2-\\U0001F251\"\n",
        "        u\"\\U0001f926-\\U0001f937\"\n",
        "        u\"\\U00010000-\\U0010ffff\"\n",
        "        u\"\\u2640-\\u2642\" \n",
        "        u\"\\u2600-\\u2B55\"\n",
        "        u\"\\u200d\"\n",
        "        u\"\\u23cf\"\n",
        "        u\"\\u23e9\"\n",
        "        u\"\\u231a\"\n",
        "        u\"\\ufe0f\"  # dingbats\n",
        "        u\"\\u3030\"\n",
        "                      \"]+\", re.UNICODE)\n",
        "    return re.sub(emoj, '', data_clean)"
      ]
    },
    {
      "cell_type": "code",
      "execution_count": 18,
      "id": "dabb2d5c",
      "metadata": {
        "colab": {
          "base_uri": "https://localhost:8080/"
        },
        "id": "dabb2d5c",
        "outputId": "a987c728-6a57-47f1-841c-50c7c59d553b"
      },
      "outputs": [
        {
          "output_type": "execute_result",
          "data": {
            "text/plain": [
              "0      if only people would just take a step back and...\n",
              "1      law enforcement is not trained to shoot to app...\n",
              "2      dont you reckon them black lives matter banner...\n",
              "3      there are a very large number of people who do...\n",
              "4      the arab dude is absolutely right he should ha...\n",
              "                             ...                        \n",
              "995    i remember that they sent in the national defe...\n",
              "996    stats dont represent the problem race baiting ...\n",
              "997    the quote from the mother wow that hit hard ve...\n",
              "998                              this video is so racist\n",
              "999          god the narrator has such an annoying lisp \n",
              "Name: Text, Length: 1000, dtype: object"
            ]
          },
          "metadata": {},
          "execution_count": 18
        }
      ],
      "source": [
        "final_text = text_clean.apply(remove_emojis)\n",
        "final_text"
      ]
    },
    {
      "cell_type": "markdown",
      "id": "Xcd4IYr75AAJ",
      "metadata": {
        "id": "Xcd4IYr75AAJ"
      },
      "source": [
        "# Tokenización"
      ]
    },
    {
      "cell_type": "markdown",
      "id": "916aefe2-24fb-47d4-8026-96dd5e364c23",
      "metadata": {
        "id": "916aefe2-24fb-47d4-8026-96dd5e364c23"
      },
      "source": [
        "import string\n",
        "punctuation = set(string.punctuation)\n",
        "\n",
        "def tokenize(sentence):\n",
        "    tokens = []\n",
        "    for token in sentence.split():\n",
        "        new_token = []\n",
        "        for character in token:\n",
        "            if character not in punctuation:\n",
        "                new_token.append(character.lower())\n",
        "        if new_token:\n",
        "            tokens.append(\"\".join(new_token))\n",
        "    return tokens"
      ]
    },
    {
      "cell_type": "markdown",
      "id": "437bc4b0-0b75-4a29-aacf-b47ee35d78d1",
      "metadata": {
        "id": "437bc4b0-0b75-4a29-aacf-b47ee35d78d1"
      },
      "source": [
        "\n",
        "token= data_final.apply(tokenize)"
      ]
    },
    {
      "cell_type": "code",
      "execution_count": 19,
      "id": "7198467f-9256-428e-98c2-20c8b4c249e6",
      "metadata": {
        "colab": {
          "base_uri": "https://localhost:8080/",
          "height": 423
        },
        "id": "7198467f-9256-428e-98c2-20c8b4c249e6",
        "outputId": "73a8877b-fc7c-4a36-bac3-c3eba0ea08ea"
      },
      "outputs": [
        {
          "output_type": "execute_result",
          "data": {
            "text/plain": [
              "                                                  Text  IsToxic\n",
              "0    if only people would just take a step back and...        0\n",
              "1    law enforcement is not trained to shoot to app...        1\n",
              "2    dont you reckon them black lives matter banner...        1\n",
              "3    there are a very large number of people who do...        0\n",
              "4    the arab dude is absolutely right he should ha...        0\n",
              "..                                                 ...      ...\n",
              "995  i remember that they sent in the national defe...        0\n",
              "996  stats dont represent the problem race baiting ...        1\n",
              "997  the quote from the mother wow that hit hard ve...        0\n",
              "998                            this video is so racist        0\n",
              "999        god the narrator has such an annoying lisp         0\n",
              "\n",
              "[1000 rows x 2 columns]"
            ],
            "text/html": [
              "\n",
              "  <div id=\"df-b910fb25-1615-410b-a56e-f2b3bfc321fc\">\n",
              "    <div class=\"colab-df-container\">\n",
              "      <div>\n",
              "<style scoped>\n",
              "    .dataframe tbody tr th:only-of-type {\n",
              "        vertical-align: middle;\n",
              "    }\n",
              "\n",
              "    .dataframe tbody tr th {\n",
              "        vertical-align: top;\n",
              "    }\n",
              "\n",
              "    .dataframe thead th {\n",
              "        text-align: right;\n",
              "    }\n",
              "</style>\n",
              "<table border=\"1\" class=\"dataframe\">\n",
              "  <thead>\n",
              "    <tr style=\"text-align: right;\">\n",
              "      <th></th>\n",
              "      <th>Text</th>\n",
              "      <th>IsToxic</th>\n",
              "    </tr>\n",
              "  </thead>\n",
              "  <tbody>\n",
              "    <tr>\n",
              "      <th>0</th>\n",
              "      <td>if only people would just take a step back and...</td>\n",
              "      <td>0</td>\n",
              "    </tr>\n",
              "    <tr>\n",
              "      <th>1</th>\n",
              "      <td>law enforcement is not trained to shoot to app...</td>\n",
              "      <td>1</td>\n",
              "    </tr>\n",
              "    <tr>\n",
              "      <th>2</th>\n",
              "      <td>dont you reckon them black lives matter banner...</td>\n",
              "      <td>1</td>\n",
              "    </tr>\n",
              "    <tr>\n",
              "      <th>3</th>\n",
              "      <td>there are a very large number of people who do...</td>\n",
              "      <td>0</td>\n",
              "    </tr>\n",
              "    <tr>\n",
              "      <th>4</th>\n",
              "      <td>the arab dude is absolutely right he should ha...</td>\n",
              "      <td>0</td>\n",
              "    </tr>\n",
              "    <tr>\n",
              "      <th>...</th>\n",
              "      <td>...</td>\n",
              "      <td>...</td>\n",
              "    </tr>\n",
              "    <tr>\n",
              "      <th>995</th>\n",
              "      <td>i remember that they sent in the national defe...</td>\n",
              "      <td>0</td>\n",
              "    </tr>\n",
              "    <tr>\n",
              "      <th>996</th>\n",
              "      <td>stats dont represent the problem race baiting ...</td>\n",
              "      <td>1</td>\n",
              "    </tr>\n",
              "    <tr>\n",
              "      <th>997</th>\n",
              "      <td>the quote from the mother wow that hit hard ve...</td>\n",
              "      <td>0</td>\n",
              "    </tr>\n",
              "    <tr>\n",
              "      <th>998</th>\n",
              "      <td>this video is so racist</td>\n",
              "      <td>0</td>\n",
              "    </tr>\n",
              "    <tr>\n",
              "      <th>999</th>\n",
              "      <td>god the narrator has such an annoying lisp</td>\n",
              "      <td>0</td>\n",
              "    </tr>\n",
              "  </tbody>\n",
              "</table>\n",
              "<p>1000 rows × 2 columns</p>\n",
              "</div>\n",
              "      <button class=\"colab-df-convert\" onclick=\"convertToInteractive('df-b910fb25-1615-410b-a56e-f2b3bfc321fc')\"\n",
              "              title=\"Convert this dataframe to an interactive table.\"\n",
              "              style=\"display:none;\">\n",
              "        \n",
              "  <svg xmlns=\"http://www.w3.org/2000/svg\" height=\"24px\"viewBox=\"0 0 24 24\"\n",
              "       width=\"24px\">\n",
              "    <path d=\"M0 0h24v24H0V0z\" fill=\"none\"/>\n",
              "    <path d=\"M18.56 5.44l.94 2.06.94-2.06 2.06-.94-2.06-.94-.94-2.06-.94 2.06-2.06.94zm-11 1L8.5 8.5l.94-2.06 2.06-.94-2.06-.94L8.5 2.5l-.94 2.06-2.06.94zm10 10l.94 2.06.94-2.06 2.06-.94-2.06-.94-.94-2.06-.94 2.06-2.06.94z\"/><path d=\"M17.41 7.96l-1.37-1.37c-.4-.4-.92-.59-1.43-.59-.52 0-1.04.2-1.43.59L10.3 9.45l-7.72 7.72c-.78.78-.78 2.05 0 2.83L4 21.41c.39.39.9.59 1.41.59.51 0 1.02-.2 1.41-.59l7.78-7.78 2.81-2.81c.8-.78.8-2.07 0-2.86zM5.41 20L4 18.59l7.72-7.72 1.47 1.35L5.41 20z\"/>\n",
              "  </svg>\n",
              "      </button>\n",
              "      \n",
              "  <style>\n",
              "    .colab-df-container {\n",
              "      display:flex;\n",
              "      flex-wrap:wrap;\n",
              "      gap: 12px;\n",
              "    }\n",
              "\n",
              "    .colab-df-convert {\n",
              "      background-color: #E8F0FE;\n",
              "      border: none;\n",
              "      border-radius: 50%;\n",
              "      cursor: pointer;\n",
              "      display: none;\n",
              "      fill: #1967D2;\n",
              "      height: 32px;\n",
              "      padding: 0 0 0 0;\n",
              "      width: 32px;\n",
              "    }\n",
              "\n",
              "    .colab-df-convert:hover {\n",
              "      background-color: #E2EBFA;\n",
              "      box-shadow: 0px 1px 2px rgba(60, 64, 67, 0.3), 0px 1px 3px 1px rgba(60, 64, 67, 0.15);\n",
              "      fill: #174EA6;\n",
              "    }\n",
              "\n",
              "    [theme=dark] .colab-df-convert {\n",
              "      background-color: #3B4455;\n",
              "      fill: #D2E3FC;\n",
              "    }\n",
              "\n",
              "    [theme=dark] .colab-df-convert:hover {\n",
              "      background-color: #434B5C;\n",
              "      box-shadow: 0px 1px 3px 1px rgba(0, 0, 0, 0.15);\n",
              "      filter: drop-shadow(0px 1px 2px rgba(0, 0, 0, 0.3));\n",
              "      fill: #FFFFFF;\n",
              "    }\n",
              "  </style>\n",
              "\n",
              "      <script>\n",
              "        const buttonEl =\n",
              "          document.querySelector('#df-b910fb25-1615-410b-a56e-f2b3bfc321fc button.colab-df-convert');\n",
              "        buttonEl.style.display =\n",
              "          google.colab.kernel.accessAllowed ? 'block' : 'none';\n",
              "\n",
              "        async function convertToInteractive(key) {\n",
              "          const element = document.querySelector('#df-b910fb25-1615-410b-a56e-f2b3bfc321fc');\n",
              "          const dataTable =\n",
              "            await google.colab.kernel.invokeFunction('convertToInteractive',\n",
              "                                                     [key], {});\n",
              "          if (!dataTable) return;\n",
              "\n",
              "          const docLinkHtml = 'Like what you see? Visit the ' +\n",
              "            '<a target=\"_blank\" href=https://colab.research.google.com/notebooks/data_table.ipynb>data table notebook</a>'\n",
              "            + ' to learn more about interactive tables.';\n",
              "          element.innerHTML = '';\n",
              "          dataTable['output_type'] = 'display_data';\n",
              "          await google.colab.output.renderOutput(dataTable, element);\n",
              "          const docLink = document.createElement('div');\n",
              "          docLink.innerHTML = docLinkHtml;\n",
              "          element.appendChild(docLink);\n",
              "        }\n",
              "      </script>\n",
              "    </div>\n",
              "  </div>\n",
              "  "
            ]
          },
          "metadata": {},
          "execution_count": 19
        }
      ],
      "source": [
        "istoxic = data[\"IsToxic\"].astype(\"uint8\")\n",
        "result = pd.concat([final_text, istoxic], axis=1)\n",
        "result"
      ]
    },
    {
      "cell_type": "code",
      "execution_count": 20,
      "id": "a69dcd83-6684-4f65-85d0-4f21a173dab0",
      "metadata": {
        "id": "a69dcd83-6684-4f65-85d0-4f21a173dab0"
      },
      "outputs": [],
      "source": [
        "# Importación spaCy\n",
        "import spacy\n",
        "import en_core_web_sm"
      ]
    },
    {
      "cell_type": "code",
      "execution_count": 21,
      "id": "4fef80de-9374-4079-9039-7bcc5c7bdbe0",
      "metadata": {
        "tags": [],
        "colab": {
          "base_uri": "https://localhost:8080/",
          "height": 423
        },
        "id": "4fef80de-9374-4079-9039-7bcc5c7bdbe0",
        "outputId": "7c5569c6-21b8-40a9-eb83-4c6f9260d9f1"
      },
      "outputs": [
        {
          "output_type": "execute_result",
          "data": {
            "text/plain": [
              "                                                  Text  IsToxic  \\\n",
              "0    if only people would just take a step back and...        0   \n",
              "1    law enforcement is not trained to shoot to app...        1   \n",
              "2    dont you reckon them black lives matter banner...        1   \n",
              "3    there are a very large number of people who do...        0   \n",
              "4    the arab dude is absolutely right he should ha...        0   \n",
              "..                                                 ...      ...   \n",
              "995  i remember that they sent in the national defe...        0   \n",
              "996  stats dont represent the problem race baiting ...        1   \n",
              "997  the quote from the mother wow that hit hard ve...        0   \n",
              "998                            this video is so racist        0   \n",
              "999        god the narrator has such an annoying lisp         0   \n",
              "\n",
              "                                          tokenizacion  \n",
              "0    (if, only, people, would, just, take, a, step,...  \n",
              "1    (law, enforcement, is, not, trained, to, shoot...  \n",
              "2    (do, nt, you, reckon, them, black, lives, matt...  \n",
              "3    (there, are, a, very, large, number, of, peopl...  \n",
              "4    (the, arab, dude, is, absolutely, right, he, s...  \n",
              "..                                                 ...  \n",
              "995  (i, remember, that, they, sent, in, the, natio...  \n",
              "996  (stats, do, nt, represent, the, problem, race,...  \n",
              "997  (the, quote, from, the, mother, wow, that, hit...  \n",
              "998                      (this, video, is, so, racist)  \n",
              "999  (god, the, narrator, has, such, an, annoying, ...  \n",
              "\n",
              "[1000 rows x 3 columns]"
            ],
            "text/html": [
              "\n",
              "  <div id=\"df-7b91842e-39a3-41d3-b122-b15f1181bdc7\">\n",
              "    <div class=\"colab-df-container\">\n",
              "      <div>\n",
              "<style scoped>\n",
              "    .dataframe tbody tr th:only-of-type {\n",
              "        vertical-align: middle;\n",
              "    }\n",
              "\n",
              "    .dataframe tbody tr th {\n",
              "        vertical-align: top;\n",
              "    }\n",
              "\n",
              "    .dataframe thead th {\n",
              "        text-align: right;\n",
              "    }\n",
              "</style>\n",
              "<table border=\"1\" class=\"dataframe\">\n",
              "  <thead>\n",
              "    <tr style=\"text-align: right;\">\n",
              "      <th></th>\n",
              "      <th>Text</th>\n",
              "      <th>IsToxic</th>\n",
              "      <th>tokenizacion</th>\n",
              "    </tr>\n",
              "  </thead>\n",
              "  <tbody>\n",
              "    <tr>\n",
              "      <th>0</th>\n",
              "      <td>if only people would just take a step back and...</td>\n",
              "      <td>0</td>\n",
              "      <td>(if, only, people, would, just, take, a, step,...</td>\n",
              "    </tr>\n",
              "    <tr>\n",
              "      <th>1</th>\n",
              "      <td>law enforcement is not trained to shoot to app...</td>\n",
              "      <td>1</td>\n",
              "      <td>(law, enforcement, is, not, trained, to, shoot...</td>\n",
              "    </tr>\n",
              "    <tr>\n",
              "      <th>2</th>\n",
              "      <td>dont you reckon them black lives matter banner...</td>\n",
              "      <td>1</td>\n",
              "      <td>(do, nt, you, reckon, them, black, lives, matt...</td>\n",
              "    </tr>\n",
              "    <tr>\n",
              "      <th>3</th>\n",
              "      <td>there are a very large number of people who do...</td>\n",
              "      <td>0</td>\n",
              "      <td>(there, are, a, very, large, number, of, peopl...</td>\n",
              "    </tr>\n",
              "    <tr>\n",
              "      <th>4</th>\n",
              "      <td>the arab dude is absolutely right he should ha...</td>\n",
              "      <td>0</td>\n",
              "      <td>(the, arab, dude, is, absolutely, right, he, s...</td>\n",
              "    </tr>\n",
              "    <tr>\n",
              "      <th>...</th>\n",
              "      <td>...</td>\n",
              "      <td>...</td>\n",
              "      <td>...</td>\n",
              "    </tr>\n",
              "    <tr>\n",
              "      <th>995</th>\n",
              "      <td>i remember that they sent in the national defe...</td>\n",
              "      <td>0</td>\n",
              "      <td>(i, remember, that, they, sent, in, the, natio...</td>\n",
              "    </tr>\n",
              "    <tr>\n",
              "      <th>996</th>\n",
              "      <td>stats dont represent the problem race baiting ...</td>\n",
              "      <td>1</td>\n",
              "      <td>(stats, do, nt, represent, the, problem, race,...</td>\n",
              "    </tr>\n",
              "    <tr>\n",
              "      <th>997</th>\n",
              "      <td>the quote from the mother wow that hit hard ve...</td>\n",
              "      <td>0</td>\n",
              "      <td>(the, quote, from, the, mother, wow, that, hit...</td>\n",
              "    </tr>\n",
              "    <tr>\n",
              "      <th>998</th>\n",
              "      <td>this video is so racist</td>\n",
              "      <td>0</td>\n",
              "      <td>(this, video, is, so, racist)</td>\n",
              "    </tr>\n",
              "    <tr>\n",
              "      <th>999</th>\n",
              "      <td>god the narrator has such an annoying lisp</td>\n",
              "      <td>0</td>\n",
              "      <td>(god, the, narrator, has, such, an, annoying, ...</td>\n",
              "    </tr>\n",
              "  </tbody>\n",
              "</table>\n",
              "<p>1000 rows × 3 columns</p>\n",
              "</div>\n",
              "      <button class=\"colab-df-convert\" onclick=\"convertToInteractive('df-7b91842e-39a3-41d3-b122-b15f1181bdc7')\"\n",
              "              title=\"Convert this dataframe to an interactive table.\"\n",
              "              style=\"display:none;\">\n",
              "        \n",
              "  <svg xmlns=\"http://www.w3.org/2000/svg\" height=\"24px\"viewBox=\"0 0 24 24\"\n",
              "       width=\"24px\">\n",
              "    <path d=\"M0 0h24v24H0V0z\" fill=\"none\"/>\n",
              "    <path d=\"M18.56 5.44l.94 2.06.94-2.06 2.06-.94-2.06-.94-.94-2.06-.94 2.06-2.06.94zm-11 1L8.5 8.5l.94-2.06 2.06-.94-2.06-.94L8.5 2.5l-.94 2.06-2.06.94zm10 10l.94 2.06.94-2.06 2.06-.94-2.06-.94-.94-2.06-.94 2.06-2.06.94z\"/><path d=\"M17.41 7.96l-1.37-1.37c-.4-.4-.92-.59-1.43-.59-.52 0-1.04.2-1.43.59L10.3 9.45l-7.72 7.72c-.78.78-.78 2.05 0 2.83L4 21.41c.39.39.9.59 1.41.59.51 0 1.02-.2 1.41-.59l7.78-7.78 2.81-2.81c.8-.78.8-2.07 0-2.86zM5.41 20L4 18.59l7.72-7.72 1.47 1.35L5.41 20z\"/>\n",
              "  </svg>\n",
              "      </button>\n",
              "      \n",
              "  <style>\n",
              "    .colab-df-container {\n",
              "      display:flex;\n",
              "      flex-wrap:wrap;\n",
              "      gap: 12px;\n",
              "    }\n",
              "\n",
              "    .colab-df-convert {\n",
              "      background-color: #E8F0FE;\n",
              "      border: none;\n",
              "      border-radius: 50%;\n",
              "      cursor: pointer;\n",
              "      display: none;\n",
              "      fill: #1967D2;\n",
              "      height: 32px;\n",
              "      padding: 0 0 0 0;\n",
              "      width: 32px;\n",
              "    }\n",
              "\n",
              "    .colab-df-convert:hover {\n",
              "      background-color: #E2EBFA;\n",
              "      box-shadow: 0px 1px 2px rgba(60, 64, 67, 0.3), 0px 1px 3px 1px rgba(60, 64, 67, 0.15);\n",
              "      fill: #174EA6;\n",
              "    }\n",
              "\n",
              "    [theme=dark] .colab-df-convert {\n",
              "      background-color: #3B4455;\n",
              "      fill: #D2E3FC;\n",
              "    }\n",
              "\n",
              "    [theme=dark] .colab-df-convert:hover {\n",
              "      background-color: #434B5C;\n",
              "      box-shadow: 0px 1px 3px 1px rgba(0, 0, 0, 0.15);\n",
              "      filter: drop-shadow(0px 1px 2px rgba(0, 0, 0, 0.3));\n",
              "      fill: #FFFFFF;\n",
              "    }\n",
              "  </style>\n",
              "\n",
              "      <script>\n",
              "        const buttonEl =\n",
              "          document.querySelector('#df-7b91842e-39a3-41d3-b122-b15f1181bdc7 button.colab-df-convert');\n",
              "        buttonEl.style.display =\n",
              "          google.colab.kernel.accessAllowed ? 'block' : 'none';\n",
              "\n",
              "        async function convertToInteractive(key) {\n",
              "          const element = document.querySelector('#df-7b91842e-39a3-41d3-b122-b15f1181bdc7');\n",
              "          const dataTable =\n",
              "            await google.colab.kernel.invokeFunction('convertToInteractive',\n",
              "                                                     [key], {});\n",
              "          if (!dataTable) return;\n",
              "\n",
              "          const docLinkHtml = 'Like what you see? Visit the ' +\n",
              "            '<a target=\"_blank\" href=https://colab.research.google.com/notebooks/data_table.ipynb>data table notebook</a>'\n",
              "            + ' to learn more about interactive tables.';\n",
              "          element.innerHTML = '';\n",
              "          dataTable['output_type'] = 'display_data';\n",
              "          await google.colab.output.renderOutput(dataTable, element);\n",
              "          const docLink = document.createElement('div');\n",
              "          docLink.innerHTML = docLinkHtml;\n",
              "          element.appendChild(docLink);\n",
              "        }\n",
              "      </script>\n",
              "    </div>\n",
              "  </div>\n",
              "  "
            ]
          },
          "metadata": {},
          "execution_count": 21
        }
      ],
      "source": [
        "\n",
        "\n",
        "nlp = spacy.load(\"en_core_web_sm\")\n",
        "result[\"tokenizacion\"] = final_text.apply(lambda x: nlp.tokenizer(x))\n",
        "result\n"
      ]
    },
    {
      "cell_type": "code",
      "execution_count": 22,
      "id": "5929472a-f501-4c1a-bd51-62733ce93ab5",
      "metadata": {
        "colab": {
          "base_uri": "https://localhost:8080/"
        },
        "id": "5929472a-f501-4c1a-bd51-62733ce93ab5",
        "outputId": "2565656a-95c7-4743-c1d4-82fdea5525fa"
      },
      "outputs": [
        {
          "output_type": "stream",
          "name": "stdout",
          "text": [
            "<class 'pandas.core.frame.DataFrame'>\n",
            "RangeIndex: 1000 entries, 0 to 999\n",
            "Data columns (total 3 columns):\n",
            " #   Column        Non-Null Count  Dtype \n",
            "---  ------        --------------  ----- \n",
            " 0   Text          1000 non-null   object\n",
            " 1   IsToxic       1000 non-null   uint8 \n",
            " 2   tokenizacion  1000 non-null   object\n",
            "dtypes: object(2), uint8(1)\n",
            "memory usage: 16.7+ KB\n"
          ]
        }
      ],
      "source": [
        "result.info()"
      ]
    },
    {
      "cell_type": "markdown",
      "id": "ac9963db",
      "metadata": {
        "id": "ac9963db"
      },
      "source": [
        "# Split"
      ]
    },
    {
      "cell_type": "code",
      "execution_count": 88,
      "id": "d156fac7",
      "metadata": {
        "colab": {
          "base_uri": "https://localhost:8080/"
        },
        "id": "d156fac7",
        "outputId": "f263eca6-3e51-4c55-be78-09ee1bb4e481"
      },
      "outputs": [
        {
          "output_type": "stream",
          "name": "stdout",
          "text": [
            "Training examples: 800, testing examples 200\n"
          ]
        }
      ],
      "source": [
        "from sklearn.model_selection import train_test_split\n",
        "X = result[\"Text\"]\n",
        "y = result[\"IsToxic\"]\n",
        "\n",
        "train_text,test_text, train_labels, test_labels = train_test_split( X, y, test_size=0.2, stratify = None)\n",
        "print(f\"Training examples: {len(train_text)}, testing examples {len(test_text)}\")"
      ]
    },
    {
      "cell_type": "markdown",
      "id": "ec260ae4",
      "metadata": {
        "id": "ec260ae4"
      },
      "source": [
        "# Entrenamiento"
      ]
    },
    {
      "cell_type": "code",
      "execution_count": 83,
      "id": "352bfac5",
      "metadata": {
        "id": "352bfac5"
      },
      "outputs": [],
      "source": [
        "from sklearn.feature_extraction.text import CountVectorizer"
      ]
    },
    {
      "cell_type": "code",
      "source": [
        "from sklearn.feature_extraction.text import CountVectorizer, TfidfTransformer\n",
        "count_vect = CountVectorizer(stop_words='english')\n",
        "transformer = TfidfTransformer(norm='l2',sublinear_tf=True)"
      ],
      "metadata": {
        "id": "sBhyljn0e_G1"
      },
      "id": "sBhyljn0e_G1",
      "execution_count": 84,
      "outputs": []
    },
    {
      "cell_type": "code",
      "source": [
        "x_train_counts = count_vect.fit_transform(train_text)\n",
        "x_train_tfidf = transformer.fit_transform(x_train_counts)"
      ],
      "metadata": {
        "id": "jUucVcNFmLfk"
      },
      "id": "jUucVcNFmLfk",
      "execution_count": 89,
      "outputs": []
    },
    {
      "cell_type": "code",
      "source": [
        "print(x_train_counts.shape)\n",
        "print(x_train_tfidf.shape)"
      ],
      "metadata": {
        "colab": {
          "base_uri": "https://localhost:8080/"
        },
        "id": "6CEpB3rzmSNy",
        "outputId": "ee1b8207-98d3-4d43-df03-212a7b81bc3c"
      },
      "id": "6CEpB3rzmSNy",
      "execution_count": 86,
      "outputs": [
        {
          "output_type": "stream",
          "name": "stdout",
          "text": [
            "(800, 4060)\n",
            "(800, 4060)\n"
          ]
        }
      ]
    },
    {
      "cell_type": "code",
      "source": [
        "x_test_counts = count_vect.transform(test_text)\n",
        "x_test_tfidf = transformer.transform(x_test_counts)"
      ],
      "metadata": {
        "id": "qMdQYlFzmYGS"
      },
      "id": "qMdQYlFzmYGS",
      "execution_count": 67,
      "outputs": []
    },
    {
      "cell_type": "markdown",
      "id": "2eda5f0d",
      "metadata": {
        "id": "2eda5f0d"
      },
      "source": [
        "# Modelo"
      ]
    },
    {
      "cell_type": "code",
      "source": [
        "from sklearn.ensemble import RandomForestClassifier\n",
        "from sklearn.metrics import *\n",
        "\n",
        "model = RandomForestClassifier(n_estimators=500)\n",
        "model.fit(x_train_tfidf,train_labels)"
      ],
      "metadata": {
        "colab": {
          "base_uri": "https://localhost:8080/"
        },
        "id": "jLvBAcCYmj6f",
        "outputId": "6a58dd3a-5469-4fea-ea67-5d444ecc30f0"
      },
      "id": "jLvBAcCYmj6f",
      "execution_count": 98,
      "outputs": [
        {
          "output_type": "execute_result",
          "data": {
            "text/plain": [
              "RandomForestClassifier(n_estimators=500)"
            ]
          },
          "metadata": {},
          "execution_count": 98
        }
      ]
    },
    {
      "cell_type": "code",
      "source": [
        "predictions = model.predict(x_test_tfidf)\n",
        "predictions2 = model.predict(x_train_tfidf)"
      ],
      "metadata": {
        "id": "wXzg7GgDmrZR"
      },
      "id": "wXzg7GgDmrZR",
      "execution_count": 76,
      "outputs": []
    },
    {
      "cell_type": "code",
      "source": [
        "#Metricas de test\n",
        "\n",
        "accur = accuracy_score(test_labels, predictions)\n",
        "preci = precision_score(test_labels, predictions)\n",
        "recal = recall_score(test_labels, predictions)\n",
        "f1 = f1_score(test_labels, predictions)\n",
        "class_repor = classification_report(test_labels, predictions)\n",
        "\n",
        "\n",
        "#Metricas de train\n",
        "\n",
        "accur_train = accuracy_score(train_labels, predictions2)\n",
        "preci_train = precision_score(train_labels, predictions2)\n",
        "recal_train = recall_score(train_labels, predictions2)\n",
        "f1_train = f1_score(train_labels, predictions2)\n",
        "\n",
        "\n",
        "print()\n",
        "print(f\"Recall: {recal}\")\n",
        "print(f\"Precision: {preci}\")\n",
        "print(f\"F1_score: {f1}\")\n",
        "print(f\"Accuracy: {accur}\")\n",
        "print()\n",
        "print(\"*************************************************\")\n",
        "print()\n",
        "print(f\"recall_score_train: {recal_train}\")\n",
        "print(f\"precision_score_train: {preci_train}\")\n",
        "print(f\"f1_score_train: {f1_train}\")\n",
        "print(f\"accuracy_score_train: {accur_train}\")\n",
        "print()\n",
        "print(f\"Reporte de Clasificación:\")\n",
        "print()\n",
        "print(classification_report(predictions,test_labels))"
      ],
      "metadata": {
        "colab": {
          "base_uri": "https://localhost:8080/"
        },
        "id": "ghT9_Tqgn7Np",
        "outputId": "0afcd5ba-3808-4596-defd-a97ced4e6c13"
      },
      "id": "ghT9_Tqgn7Np",
      "execution_count": 79,
      "outputs": [
        {
          "output_type": "stream",
          "name": "stdout",
          "text": [
            "\n",
            "Recall: 0.5222222222222223\n",
            "Precision: 0.7580645161290323\n",
            "F1_score: 0.618421052631579\n",
            "Accuracy: 0.71\n",
            "\n",
            "*************************************************\n",
            "\n",
            "recall_score_train: 1.0\n",
            "precision_score_train: 1.0\n",
            "f1_score_train: 1.0\n",
            "accuracy_score_train: 1.0\n",
            "\n",
            "Reporte de Clasificación:\n",
            "\n",
            "              precision    recall  f1-score   support\n",
            "\n",
            "           0       0.86      0.69      0.77       138\n",
            "           1       0.52      0.76      0.62        62\n",
            "\n",
            "    accuracy                           0.71       200\n",
            "   macro avg       0.69      0.72      0.69       200\n",
            "weighted avg       0.76      0.71      0.72       200\n",
            "\n"
          ]
        }
      ]
    },
    {
      "cell_type": "code",
      "source": [
        "#Building XGBoost Model\n",
        "from xgboost import XGBClassifier\n",
        "model_bow = XGBClassifier(random_state=22,learning_rate=0.9)\n",
        "model_bow.fit(x_train_tfidf,train_labels)"
      ],
      "metadata": {
        "colab": {
          "base_uri": "https://localhost:8080/"
        },
        "id": "oiLNegxCJQi1",
        "outputId": "c29b4870-4fcc-430a-b147-af9ba10c2695"
      },
      "id": "oiLNegxCJQi1",
      "execution_count": 72,
      "outputs": [
        {
          "output_type": "execute_result",
          "data": {
            "text/plain": [
              "XGBClassifier(learning_rate=0.9, random_state=22)"
            ]
          },
          "metadata": {},
          "execution_count": 72
        }
      ]
    },
    {
      "cell_type": "code",
      "source": [
        "predict_xgb = model_bow.predict(x_test_tfidf)\n",
        "predict2_xgb = model_bow.predict(x_train_tfidf)"
      ],
      "metadata": {
        "id": "nAkf2AQanzc6"
      },
      "id": "nAkf2AQanzc6",
      "execution_count": 80,
      "outputs": []
    },
    {
      "cell_type": "code",
      "source": [
        "#Metricas de test\n",
        "\n",
        "accur = accuracy_score(test_labels, predict_xgb)\n",
        "preci = precision_score(test_labels, predict_xgb)\n",
        "recal = recall_score(test_labels, predict_xgb)\n",
        "f1 = f1_score(test_labels, predict_xgb)\n",
        "class_repor = classification_report(test_labels, predict_xgb)\n",
        "\n",
        "\n",
        "#Metricas de train\n",
        "\n",
        "accur_train = accuracy_score(train_labels, predict2_xgb)\n",
        "preci_train = precision_score(train_labels, predict2_xgb)\n",
        "recal_train = recall_score(train_labels, predict2_xgb)\n",
        "f1_train = f1_score(train_labels, predict2_xgb)\n",
        "\n",
        "\n",
        "print()\n",
        "print(f\"Recall: {recal}\")\n",
        "print(f\"Precision: {preci}\")\n",
        "print(f\"F1_score: {f1}\")\n",
        "print(f\"Accuracy: {accur}\")\n",
        "print()\n",
        "print(\"*************************************************\")\n",
        "print()\n",
        "print(f\"recall_score_train: {recal_train}\")\n",
        "print(f\"precision_score_train: {preci_train}\")\n",
        "print(f\"f1_score_train: {f1_train}\")\n",
        "print(f\"accuracy_score_train: {accur_train}\")\n",
        "print()\n",
        "print(f\"Reporte de Clasificación:\")\n",
        "print()\n",
        "print(classification_report(predict_xgb,test_labels))"
      ],
      "metadata": {
        "colab": {
          "base_uri": "https://localhost:8080/"
        },
        "id": "46jenKsyn3pf",
        "outputId": "ae5db036-718c-4d6e-889a-dce382bd3a29"
      },
      "id": "46jenKsyn3pf",
      "execution_count": 81,
      "outputs": [
        {
          "output_type": "stream",
          "name": "stdout",
          "text": [
            "\n",
            "Recall: 0.5555555555555556\n",
            "Precision: 0.6493506493506493\n",
            "F1_score: 0.5988023952095809\n",
            "Accuracy: 0.665\n",
            "\n",
            "*************************************************\n",
            "\n",
            "recall_score_train: 0.8870967741935484\n",
            "precision_score_train: 0.9880239520958084\n",
            "f1_score_train: 0.934844192634561\n",
            "accuracy_score_train: 0.9425\n",
            "\n",
            "Reporte de Clasificación:\n",
            "\n",
            "              precision    recall  f1-score   support\n",
            "\n",
            "           0       0.75      0.67      0.71       123\n",
            "           1       0.56      0.65      0.60        77\n",
            "\n",
            "    accuracy                           0.67       200\n",
            "   macro avg       0.66      0.66      0.66       200\n",
            "weighted avg       0.68      0.67      0.67       200\n",
            "\n"
          ]
        }
      ]
    },
    {
      "cell_type": "code",
      "source": [
        "#Se importa librería de RandomSearch\n",
        "from sklearn.model_selection import RandomizedSearchCV\n",
        "\n",
        "# Ejemplo cross-validation\n",
        "from sklearn.model_selection import cross_validate\n",
        "from sklearn.model_selection import StratifiedKFold\n",
        "import multiprocessing\n",
        "from multiprocessing import Pool"
      ],
      "metadata": {
        "id": "XqhOGsFLp9lN"
      },
      "id": "XqhOGsFLp9lN",
      "execution_count": 101,
      "outputs": []
    },
    {
      "cell_type": "code",
      "source": [
        "# Grid de hiperparámetros evaluados\n",
        "# ==============================================================================\n",
        "param_grid = {'n_estimators'  : [30,40,50,100,200],\n",
        "              'max_depth'     : [3,4,5],\n",
        "              'subsample'     : [1,3],\n",
        "              'learning_rate' : [0.01,0.1],\n",
        "              'reg_alpha'     : [0.1,0.5,0.75],\n",
        "              'reg_lambda'    : [2,4,5],\n",
        "              \"min_child_weight\" : [5,15,20,25],\n",
        "              'scale_pos_weight' : [5]\n",
        "             }\n",
        "\n",
        "# Búsqueda por grid search con validación cruzada\n",
        "# ==============================================================================\n",
        "grid = RandomizedSearchCV(\n",
        "        estimator  = XGBClassifier(random_state=42),\n",
        "        param_distributions = param_grid,\n",
        "        scoring    = ['recall','accuracy'],\n",
        "        n_jobs     = multiprocessing.cpu_count() - 1,\n",
        "        cv         = 5, # nos quedamos con 200 en cross validation después de hacer pruebas con varios valores\n",
        "        refit      = False,\n",
        "        verbose    = 0,\n",
        "        return_train_score = True\n",
        "       )\n",
        "\n",
        "grid.fit(X = train_text, y = train_labels)\n",
        "\n",
        "# Resultados\n",
        "# ==============================================================================\n",
        "resultados = pd.DataFrame(grid.cv_results_)\n",
        "resultados.filter(regex = '(param*|mean_t)') \\\n",
        "    .drop(columns = 'params') \\\n",
        "    .sort_values('mean_test_recall', ascending = False) \\\n",
        "    .head(10)"
      ],
      "metadata": {
        "colab": {
          "base_uri": "https://localhost:8080/",
          "height": 427
        },
        "id": "yZWod0wpo9Ld",
        "outputId": "17eac16a-8551-4a0f-8615-50532fca24d9"
      },
      "id": "yZWod0wpo9Ld",
      "execution_count": 115,
      "outputs": [
        {
          "output_type": "execute_result",
          "data": {
            "text/plain": [
              "  param_subsample param_scale_pos_weight param_reg_lambda param_reg_alpha  \\\n",
              "0               1                      5                4            0.75   \n",
              "1               3                      5                4             0.1   \n",
              "2               3                      5                5            0.75   \n",
              "3               3                      5                4            0.75   \n",
              "4               1                      5                5            0.75   \n",
              "5               3                      5                4             0.1   \n",
              "6               3                      5                2            0.75   \n",
              "7               1                      5                2            0.75   \n",
              "8               3                      5                4            0.75   \n",
              "9               1                      5                5             0.5   \n",
              "\n",
              "  param_n_estimators param_min_child_weight param_max_depth  \\\n",
              "0                 50                     15               3   \n",
              "1                100                     25               3   \n",
              "2                100                     20               5   \n",
              "3                 30                     25               5   \n",
              "4                 40                     25               3   \n",
              "5                 40                      5               5   \n",
              "6                 40                     15               4   \n",
              "7                100                      5               5   \n",
              "8                 30                     25               3   \n",
              "9                100                     20               3   \n",
              "\n",
              "  param_learning_rate  mean_test_recall  mean_train_recall  \\\n",
              "0                0.01               NaN                NaN   \n",
              "1                0.01               NaN                NaN   \n",
              "2                 0.1               NaN                NaN   \n",
              "3                 0.1               NaN                NaN   \n",
              "4                 0.1               NaN                NaN   \n",
              "5                 0.1               NaN                NaN   \n",
              "6                 0.1               NaN                NaN   \n",
              "7                0.01               NaN                NaN   \n",
              "8                 0.1               NaN                NaN   \n",
              "9                0.01               NaN                NaN   \n",
              "\n",
              "   mean_test_accuracy  mean_train_accuracy  \n",
              "0                 NaN                  NaN  \n",
              "1                 NaN                  NaN  \n",
              "2                 NaN                  NaN  \n",
              "3                 NaN                  NaN  \n",
              "4                 NaN                  NaN  \n",
              "5                 NaN                  NaN  \n",
              "6                 NaN                  NaN  \n",
              "7                 NaN                  NaN  \n",
              "8                 NaN                  NaN  \n",
              "9                 NaN                  NaN  "
            ],
            "text/html": [
              "\n",
              "  <div id=\"df-c4cd5ed3-daf9-4484-9e9a-71cf35e44cc5\">\n",
              "    <div class=\"colab-df-container\">\n",
              "      <div>\n",
              "<style scoped>\n",
              "    .dataframe tbody tr th:only-of-type {\n",
              "        vertical-align: middle;\n",
              "    }\n",
              "\n",
              "    .dataframe tbody tr th {\n",
              "        vertical-align: top;\n",
              "    }\n",
              "\n",
              "    .dataframe thead th {\n",
              "        text-align: right;\n",
              "    }\n",
              "</style>\n",
              "<table border=\"1\" class=\"dataframe\">\n",
              "  <thead>\n",
              "    <tr style=\"text-align: right;\">\n",
              "      <th></th>\n",
              "      <th>param_subsample</th>\n",
              "      <th>param_scale_pos_weight</th>\n",
              "      <th>param_reg_lambda</th>\n",
              "      <th>param_reg_alpha</th>\n",
              "      <th>param_n_estimators</th>\n",
              "      <th>param_min_child_weight</th>\n",
              "      <th>param_max_depth</th>\n",
              "      <th>param_learning_rate</th>\n",
              "      <th>mean_test_recall</th>\n",
              "      <th>mean_train_recall</th>\n",
              "      <th>mean_test_accuracy</th>\n",
              "      <th>mean_train_accuracy</th>\n",
              "    </tr>\n",
              "  </thead>\n",
              "  <tbody>\n",
              "    <tr>\n",
              "      <th>0</th>\n",
              "      <td>1</td>\n",
              "      <td>5</td>\n",
              "      <td>4</td>\n",
              "      <td>0.75</td>\n",
              "      <td>50</td>\n",
              "      <td>15</td>\n",
              "      <td>3</td>\n",
              "      <td>0.01</td>\n",
              "      <td>NaN</td>\n",
              "      <td>NaN</td>\n",
              "      <td>NaN</td>\n",
              "      <td>NaN</td>\n",
              "    </tr>\n",
              "    <tr>\n",
              "      <th>1</th>\n",
              "      <td>3</td>\n",
              "      <td>5</td>\n",
              "      <td>4</td>\n",
              "      <td>0.1</td>\n",
              "      <td>100</td>\n",
              "      <td>25</td>\n",
              "      <td>3</td>\n",
              "      <td>0.01</td>\n",
              "      <td>NaN</td>\n",
              "      <td>NaN</td>\n",
              "      <td>NaN</td>\n",
              "      <td>NaN</td>\n",
              "    </tr>\n",
              "    <tr>\n",
              "      <th>2</th>\n",
              "      <td>3</td>\n",
              "      <td>5</td>\n",
              "      <td>5</td>\n",
              "      <td>0.75</td>\n",
              "      <td>100</td>\n",
              "      <td>20</td>\n",
              "      <td>5</td>\n",
              "      <td>0.1</td>\n",
              "      <td>NaN</td>\n",
              "      <td>NaN</td>\n",
              "      <td>NaN</td>\n",
              "      <td>NaN</td>\n",
              "    </tr>\n",
              "    <tr>\n",
              "      <th>3</th>\n",
              "      <td>3</td>\n",
              "      <td>5</td>\n",
              "      <td>4</td>\n",
              "      <td>0.75</td>\n",
              "      <td>30</td>\n",
              "      <td>25</td>\n",
              "      <td>5</td>\n",
              "      <td>0.1</td>\n",
              "      <td>NaN</td>\n",
              "      <td>NaN</td>\n",
              "      <td>NaN</td>\n",
              "      <td>NaN</td>\n",
              "    </tr>\n",
              "    <tr>\n",
              "      <th>4</th>\n",
              "      <td>1</td>\n",
              "      <td>5</td>\n",
              "      <td>5</td>\n",
              "      <td>0.75</td>\n",
              "      <td>40</td>\n",
              "      <td>25</td>\n",
              "      <td>3</td>\n",
              "      <td>0.1</td>\n",
              "      <td>NaN</td>\n",
              "      <td>NaN</td>\n",
              "      <td>NaN</td>\n",
              "      <td>NaN</td>\n",
              "    </tr>\n",
              "    <tr>\n",
              "      <th>5</th>\n",
              "      <td>3</td>\n",
              "      <td>5</td>\n",
              "      <td>4</td>\n",
              "      <td>0.1</td>\n",
              "      <td>40</td>\n",
              "      <td>5</td>\n",
              "      <td>5</td>\n",
              "      <td>0.1</td>\n",
              "      <td>NaN</td>\n",
              "      <td>NaN</td>\n",
              "      <td>NaN</td>\n",
              "      <td>NaN</td>\n",
              "    </tr>\n",
              "    <tr>\n",
              "      <th>6</th>\n",
              "      <td>3</td>\n",
              "      <td>5</td>\n",
              "      <td>2</td>\n",
              "      <td>0.75</td>\n",
              "      <td>40</td>\n",
              "      <td>15</td>\n",
              "      <td>4</td>\n",
              "      <td>0.1</td>\n",
              "      <td>NaN</td>\n",
              "      <td>NaN</td>\n",
              "      <td>NaN</td>\n",
              "      <td>NaN</td>\n",
              "    </tr>\n",
              "    <tr>\n",
              "      <th>7</th>\n",
              "      <td>1</td>\n",
              "      <td>5</td>\n",
              "      <td>2</td>\n",
              "      <td>0.75</td>\n",
              "      <td>100</td>\n",
              "      <td>5</td>\n",
              "      <td>5</td>\n",
              "      <td>0.01</td>\n",
              "      <td>NaN</td>\n",
              "      <td>NaN</td>\n",
              "      <td>NaN</td>\n",
              "      <td>NaN</td>\n",
              "    </tr>\n",
              "    <tr>\n",
              "      <th>8</th>\n",
              "      <td>3</td>\n",
              "      <td>5</td>\n",
              "      <td>4</td>\n",
              "      <td>0.75</td>\n",
              "      <td>30</td>\n",
              "      <td>25</td>\n",
              "      <td>3</td>\n",
              "      <td>0.1</td>\n",
              "      <td>NaN</td>\n",
              "      <td>NaN</td>\n",
              "      <td>NaN</td>\n",
              "      <td>NaN</td>\n",
              "    </tr>\n",
              "    <tr>\n",
              "      <th>9</th>\n",
              "      <td>1</td>\n",
              "      <td>5</td>\n",
              "      <td>5</td>\n",
              "      <td>0.5</td>\n",
              "      <td>100</td>\n",
              "      <td>20</td>\n",
              "      <td>3</td>\n",
              "      <td>0.01</td>\n",
              "      <td>NaN</td>\n",
              "      <td>NaN</td>\n",
              "      <td>NaN</td>\n",
              "      <td>NaN</td>\n",
              "    </tr>\n",
              "  </tbody>\n",
              "</table>\n",
              "</div>\n",
              "      <button class=\"colab-df-convert\" onclick=\"convertToInteractive('df-c4cd5ed3-daf9-4484-9e9a-71cf35e44cc5')\"\n",
              "              title=\"Convert this dataframe to an interactive table.\"\n",
              "              style=\"display:none;\">\n",
              "        \n",
              "  <svg xmlns=\"http://www.w3.org/2000/svg\" height=\"24px\"viewBox=\"0 0 24 24\"\n",
              "       width=\"24px\">\n",
              "    <path d=\"M0 0h24v24H0V0z\" fill=\"none\"/>\n",
              "    <path d=\"M18.56 5.44l.94 2.06.94-2.06 2.06-.94-2.06-.94-.94-2.06-.94 2.06-2.06.94zm-11 1L8.5 8.5l.94-2.06 2.06-.94-2.06-.94L8.5 2.5l-.94 2.06-2.06.94zm10 10l.94 2.06.94-2.06 2.06-.94-2.06-.94-.94-2.06-.94 2.06-2.06.94z\"/><path d=\"M17.41 7.96l-1.37-1.37c-.4-.4-.92-.59-1.43-.59-.52 0-1.04.2-1.43.59L10.3 9.45l-7.72 7.72c-.78.78-.78 2.05 0 2.83L4 21.41c.39.39.9.59 1.41.59.51 0 1.02-.2 1.41-.59l7.78-7.78 2.81-2.81c.8-.78.8-2.07 0-2.86zM5.41 20L4 18.59l7.72-7.72 1.47 1.35L5.41 20z\"/>\n",
              "  </svg>\n",
              "      </button>\n",
              "      \n",
              "  <style>\n",
              "    .colab-df-container {\n",
              "      display:flex;\n",
              "      flex-wrap:wrap;\n",
              "      gap: 12px;\n",
              "    }\n",
              "\n",
              "    .colab-df-convert {\n",
              "      background-color: #E8F0FE;\n",
              "      border: none;\n",
              "      border-radius: 50%;\n",
              "      cursor: pointer;\n",
              "      display: none;\n",
              "      fill: #1967D2;\n",
              "      height: 32px;\n",
              "      padding: 0 0 0 0;\n",
              "      width: 32px;\n",
              "    }\n",
              "\n",
              "    .colab-df-convert:hover {\n",
              "      background-color: #E2EBFA;\n",
              "      box-shadow: 0px 1px 2px rgba(60, 64, 67, 0.3), 0px 1px 3px 1px rgba(60, 64, 67, 0.15);\n",
              "      fill: #174EA6;\n",
              "    }\n",
              "\n",
              "    [theme=dark] .colab-df-convert {\n",
              "      background-color: #3B4455;\n",
              "      fill: #D2E3FC;\n",
              "    }\n",
              "\n",
              "    [theme=dark] .colab-df-convert:hover {\n",
              "      background-color: #434B5C;\n",
              "      box-shadow: 0px 1px 3px 1px rgba(0, 0, 0, 0.15);\n",
              "      filter: drop-shadow(0px 1px 2px rgba(0, 0, 0, 0.3));\n",
              "      fill: #FFFFFF;\n",
              "    }\n",
              "  </style>\n",
              "\n",
              "      <script>\n",
              "        const buttonEl =\n",
              "          document.querySelector('#df-c4cd5ed3-daf9-4484-9e9a-71cf35e44cc5 button.colab-df-convert');\n",
              "        buttonEl.style.display =\n",
              "          google.colab.kernel.accessAllowed ? 'block' : 'none';\n",
              "\n",
              "        async function convertToInteractive(key) {\n",
              "          const element = document.querySelector('#df-c4cd5ed3-daf9-4484-9e9a-71cf35e44cc5');\n",
              "          const dataTable =\n",
              "            await google.colab.kernel.invokeFunction('convertToInteractive',\n",
              "                                                     [key], {});\n",
              "          if (!dataTable) return;\n",
              "\n",
              "          const docLinkHtml = 'Like what you see? Visit the ' +\n",
              "            '<a target=\"_blank\" href=https://colab.research.google.com/notebooks/data_table.ipynb>data table notebook</a>'\n",
              "            + ' to learn more about interactive tables.';\n",
              "          element.innerHTML = '';\n",
              "          dataTable['output_type'] = 'display_data';\n",
              "          await google.colab.output.renderOutput(dataTable, element);\n",
              "          const docLink = document.createElement('div');\n",
              "          docLink.innerHTML = docLinkHtml;\n",
              "          element.appendChild(docLink);\n",
              "        }\n",
              "      </script>\n",
              "    </div>\n",
              "  </div>\n",
              "  "
            ]
          },
          "metadata": {},
          "execution_count": 115
        }
      ]
    },
    {
      "cell_type": "code",
      "source": [],
      "metadata": {
        "id": "2d4J1DVVrkVZ"
      },
      "id": "2d4J1DVVrkVZ",
      "execution_count": null,
      "outputs": []
    }
  ],
  "metadata": {
    "colab": {
      "provenance": []
    },
    "kernelspec": {
      "display_name": "Python 3 (ipykernel)",
      "language": "python",
      "name": "python3"
    },
    "language_info": {
      "codemirror_mode": {
        "name": "ipython",
        "version": 3
      },
      "file_extension": ".py",
      "mimetype": "text/x-python",
      "name": "python",
      "nbconvert_exporter": "python",
      "pygments_lexer": "ipython3",
      "version": "3.10.8"
    },
    "vscode": {
      "interpreter": {
        "hash": "9e5b7788a29f1d840a4c703888c44b85ff725f1d39a11799edab98dde2bf1c69"
      }
    }
  },
  "nbformat": 4,
  "nbformat_minor": 5
}