{
  "cells": [
    {
      "cell_type": "code",
      "execution_count": 61,
      "id": "c99c2b04-2dd6-4013-b3c1-acb701679537",
      "metadata": {
        "id": "c99c2b04-2dd6-4013-b3c1-acb701679537"
      },
      "outputs": [],
      "source": [
        "# Importación de librerias\n",
        "import pandas as pd\n",
        "import numpy as np\n",
        "import matplotlib.pyplot as plt\n",
        "import seaborn as sns\n",
        "\n",
        "%matplotlib inline\n",
        "import warnings\n",
        "warnings.filterwarnings(\"ignore\")"
      ]
    },
    {
      "cell_type": "code",
      "execution_count": 62,
      "id": "9822846c-bc6a-4a8e-a16f-9d083069ad75",
      "metadata": {
        "colab": {
          "base_uri": "https://localhost:8080/",
          "height": 576
        },
        "id": "9822846c-bc6a-4a8e-a16f-9d083069ad75",
        "outputId": "a7fda397-afaa-4b4f-ded8-892fb75666a7"
      },
      "outputs": [
        {
          "output_type": "execute_result",
          "data": {
            "text/plain": [
              "              CommentId      VideoId  \\\n",
              "0  Ugg2KwwX0V8-aXgCoAEC  04kJtp6pVXI   \n",
              "1  Ugg2s5AzSPioEXgCoAEC  04kJtp6pVXI   \n",
              "2  Ugg3dWTOxryFfHgCoAEC  04kJtp6pVXI   \n",
              "3  Ugg7Gd006w1MPngCoAEC  04kJtp6pVXI   \n",
              "4  Ugg8FfTbbNF8IngCoAEC  04kJtp6pVXI   \n",
              "5  Ugg9a6FtoXdxmXgCoAEC  04kJtp6pVXI   \n",
              "6  Ugga9KzkNDGvlXgCoAEC  04kJtp6pVXI   \n",
              "\n",
              "                                                Text  IsToxic  IsAbusive  \\\n",
              "0  If only people would just take a step back and...    False      False   \n",
              "1  Law enforcement is not trained to shoot to app...     True       True   \n",
              "2  \\nDont you reckon them 'black lives matter' ba...     True       True   \n",
              "3  There are a very large number of people who do...    False      False   \n",
              "4  The Arab dude is absolutely right, he should h...    False      False   \n",
              "5  here people his facebook is https://www.facebo...     True      False   \n",
              "6  Check out this you tube post. \"Black man goes ...     True      False   \n",
              "\n",
              "   IsThreat  IsProvocative  IsObscene  IsHatespeech  IsRacist  IsNationalist  \\\n",
              "0     False          False      False         False     False          False   \n",
              "1     False          False      False         False     False          False   \n",
              "2     False          False       True         False     False          False   \n",
              "3     False          False      False         False     False          False   \n",
              "4     False          False      False         False     False          False   \n",
              "5     False          False      False          True     False          False   \n",
              "6     False          False      False          True      True          False   \n",
              "\n",
              "   IsSexist  IsHomophobic  IsReligiousHate  IsRadicalism  \n",
              "0     False         False            False         False  \n",
              "1     False         False            False         False  \n",
              "2     False         False            False         False  \n",
              "3     False         False            False         False  \n",
              "4     False         False            False         False  \n",
              "5     False         False             True         False  \n",
              "6     False         False            False         False  "
            ],
            "text/html": [
              "\n",
              "  <div id=\"df-5bb99606-de7e-471f-8d46-d956a3b079f5\">\n",
              "    <div class=\"colab-df-container\">\n",
              "      <div>\n",
              "<style scoped>\n",
              "    .dataframe tbody tr th:only-of-type {\n",
              "        vertical-align: middle;\n",
              "    }\n",
              "\n",
              "    .dataframe tbody tr th {\n",
              "        vertical-align: top;\n",
              "    }\n",
              "\n",
              "    .dataframe thead th {\n",
              "        text-align: right;\n",
              "    }\n",
              "</style>\n",
              "<table border=\"1\" class=\"dataframe\">\n",
              "  <thead>\n",
              "    <tr style=\"text-align: right;\">\n",
              "      <th></th>\n",
              "      <th>CommentId</th>\n",
              "      <th>VideoId</th>\n",
              "      <th>Text</th>\n",
              "      <th>IsToxic</th>\n",
              "      <th>IsAbusive</th>\n",
              "      <th>IsThreat</th>\n",
              "      <th>IsProvocative</th>\n",
              "      <th>IsObscene</th>\n",
              "      <th>IsHatespeech</th>\n",
              "      <th>IsRacist</th>\n",
              "      <th>IsNationalist</th>\n",
              "      <th>IsSexist</th>\n",
              "      <th>IsHomophobic</th>\n",
              "      <th>IsReligiousHate</th>\n",
              "      <th>IsRadicalism</th>\n",
              "    </tr>\n",
              "  </thead>\n",
              "  <tbody>\n",
              "    <tr>\n",
              "      <th>0</th>\n",
              "      <td>Ugg2KwwX0V8-aXgCoAEC</td>\n",
              "      <td>04kJtp6pVXI</td>\n",
              "      <td>If only people would just take a step back and...</td>\n",
              "      <td>False</td>\n",
              "      <td>False</td>\n",
              "      <td>False</td>\n",
              "      <td>False</td>\n",
              "      <td>False</td>\n",
              "      <td>False</td>\n",
              "      <td>False</td>\n",
              "      <td>False</td>\n",
              "      <td>False</td>\n",
              "      <td>False</td>\n",
              "      <td>False</td>\n",
              "      <td>False</td>\n",
              "    </tr>\n",
              "    <tr>\n",
              "      <th>1</th>\n",
              "      <td>Ugg2s5AzSPioEXgCoAEC</td>\n",
              "      <td>04kJtp6pVXI</td>\n",
              "      <td>Law enforcement is not trained to shoot to app...</td>\n",
              "      <td>True</td>\n",
              "      <td>True</td>\n",
              "      <td>False</td>\n",
              "      <td>False</td>\n",
              "      <td>False</td>\n",
              "      <td>False</td>\n",
              "      <td>False</td>\n",
              "      <td>False</td>\n",
              "      <td>False</td>\n",
              "      <td>False</td>\n",
              "      <td>False</td>\n",
              "      <td>False</td>\n",
              "    </tr>\n",
              "    <tr>\n",
              "      <th>2</th>\n",
              "      <td>Ugg3dWTOxryFfHgCoAEC</td>\n",
              "      <td>04kJtp6pVXI</td>\n",
              "      <td>\\nDont you reckon them 'black lives matter' ba...</td>\n",
              "      <td>True</td>\n",
              "      <td>True</td>\n",
              "      <td>False</td>\n",
              "      <td>False</td>\n",
              "      <td>True</td>\n",
              "      <td>False</td>\n",
              "      <td>False</td>\n",
              "      <td>False</td>\n",
              "      <td>False</td>\n",
              "      <td>False</td>\n",
              "      <td>False</td>\n",
              "      <td>False</td>\n",
              "    </tr>\n",
              "    <tr>\n",
              "      <th>3</th>\n",
              "      <td>Ugg7Gd006w1MPngCoAEC</td>\n",
              "      <td>04kJtp6pVXI</td>\n",
              "      <td>There are a very large number of people who do...</td>\n",
              "      <td>False</td>\n",
              "      <td>False</td>\n",
              "      <td>False</td>\n",
              "      <td>False</td>\n",
              "      <td>False</td>\n",
              "      <td>False</td>\n",
              "      <td>False</td>\n",
              "      <td>False</td>\n",
              "      <td>False</td>\n",
              "      <td>False</td>\n",
              "      <td>False</td>\n",
              "      <td>False</td>\n",
              "    </tr>\n",
              "    <tr>\n",
              "      <th>4</th>\n",
              "      <td>Ugg8FfTbbNF8IngCoAEC</td>\n",
              "      <td>04kJtp6pVXI</td>\n",
              "      <td>The Arab dude is absolutely right, he should h...</td>\n",
              "      <td>False</td>\n",
              "      <td>False</td>\n",
              "      <td>False</td>\n",
              "      <td>False</td>\n",
              "      <td>False</td>\n",
              "      <td>False</td>\n",
              "      <td>False</td>\n",
              "      <td>False</td>\n",
              "      <td>False</td>\n",
              "      <td>False</td>\n",
              "      <td>False</td>\n",
              "      <td>False</td>\n",
              "    </tr>\n",
              "    <tr>\n",
              "      <th>5</th>\n",
              "      <td>Ugg9a6FtoXdxmXgCoAEC</td>\n",
              "      <td>04kJtp6pVXI</td>\n",
              "      <td>here people his facebook is https://www.facebo...</td>\n",
              "      <td>True</td>\n",
              "      <td>False</td>\n",
              "      <td>False</td>\n",
              "      <td>False</td>\n",
              "      <td>False</td>\n",
              "      <td>True</td>\n",
              "      <td>False</td>\n",
              "      <td>False</td>\n",
              "      <td>False</td>\n",
              "      <td>False</td>\n",
              "      <td>True</td>\n",
              "      <td>False</td>\n",
              "    </tr>\n",
              "    <tr>\n",
              "      <th>6</th>\n",
              "      <td>Ugga9KzkNDGvlXgCoAEC</td>\n",
              "      <td>04kJtp6pVXI</td>\n",
              "      <td>Check out this you tube post. \"Black man goes ...</td>\n",
              "      <td>True</td>\n",
              "      <td>False</td>\n",
              "      <td>False</td>\n",
              "      <td>False</td>\n",
              "      <td>False</td>\n",
              "      <td>True</td>\n",
              "      <td>True</td>\n",
              "      <td>False</td>\n",
              "      <td>False</td>\n",
              "      <td>False</td>\n",
              "      <td>False</td>\n",
              "      <td>False</td>\n",
              "    </tr>\n",
              "  </tbody>\n",
              "</table>\n",
              "</div>\n",
              "      <button class=\"colab-df-convert\" onclick=\"convertToInteractive('df-5bb99606-de7e-471f-8d46-d956a3b079f5')\"\n",
              "              title=\"Convert this dataframe to an interactive table.\"\n",
              "              style=\"display:none;\">\n",
              "        \n",
              "  <svg xmlns=\"http://www.w3.org/2000/svg\" height=\"24px\"viewBox=\"0 0 24 24\"\n",
              "       width=\"24px\">\n",
              "    <path d=\"M0 0h24v24H0V0z\" fill=\"none\"/>\n",
              "    <path d=\"M18.56 5.44l.94 2.06.94-2.06 2.06-.94-2.06-.94-.94-2.06-.94 2.06-2.06.94zm-11 1L8.5 8.5l.94-2.06 2.06-.94-2.06-.94L8.5 2.5l-.94 2.06-2.06.94zm10 10l.94 2.06.94-2.06 2.06-.94-2.06-.94-.94-2.06-.94 2.06-2.06.94z\"/><path d=\"M17.41 7.96l-1.37-1.37c-.4-.4-.92-.59-1.43-.59-.52 0-1.04.2-1.43.59L10.3 9.45l-7.72 7.72c-.78.78-.78 2.05 0 2.83L4 21.41c.39.39.9.59 1.41.59.51 0 1.02-.2 1.41-.59l7.78-7.78 2.81-2.81c.8-.78.8-2.07 0-2.86zM5.41 20L4 18.59l7.72-7.72 1.47 1.35L5.41 20z\"/>\n",
              "  </svg>\n",
              "      </button>\n",
              "      \n",
              "  <style>\n",
              "    .colab-df-container {\n",
              "      display:flex;\n",
              "      flex-wrap:wrap;\n",
              "      gap: 12px;\n",
              "    }\n",
              "\n",
              "    .colab-df-convert {\n",
              "      background-color: #E8F0FE;\n",
              "      border: none;\n",
              "      border-radius: 50%;\n",
              "      cursor: pointer;\n",
              "      display: none;\n",
              "      fill: #1967D2;\n",
              "      height: 32px;\n",
              "      padding: 0 0 0 0;\n",
              "      width: 32px;\n",
              "    }\n",
              "\n",
              "    .colab-df-convert:hover {\n",
              "      background-color: #E2EBFA;\n",
              "      box-shadow: 0px 1px 2px rgba(60, 64, 67, 0.3), 0px 1px 3px 1px rgba(60, 64, 67, 0.15);\n",
              "      fill: #174EA6;\n",
              "    }\n",
              "\n",
              "    [theme=dark] .colab-df-convert {\n",
              "      background-color: #3B4455;\n",
              "      fill: #D2E3FC;\n",
              "    }\n",
              "\n",
              "    [theme=dark] .colab-df-convert:hover {\n",
              "      background-color: #434B5C;\n",
              "      box-shadow: 0px 1px 3px 1px rgba(0, 0, 0, 0.15);\n",
              "      filter: drop-shadow(0px 1px 2px rgba(0, 0, 0, 0.3));\n",
              "      fill: #FFFFFF;\n",
              "    }\n",
              "  </style>\n",
              "\n",
              "      <script>\n",
              "        const buttonEl =\n",
              "          document.querySelector('#df-5bb99606-de7e-471f-8d46-d956a3b079f5 button.colab-df-convert');\n",
              "        buttonEl.style.display =\n",
              "          google.colab.kernel.accessAllowed ? 'block' : 'none';\n",
              "\n",
              "        async function convertToInteractive(key) {\n",
              "          const element = document.querySelector('#df-5bb99606-de7e-471f-8d46-d956a3b079f5');\n",
              "          const dataTable =\n",
              "            await google.colab.kernel.invokeFunction('convertToInteractive',\n",
              "                                                     [key], {});\n",
              "          if (!dataTable) return;\n",
              "\n",
              "          const docLinkHtml = 'Like what you see? Visit the ' +\n",
              "            '<a target=\"_blank\" href=https://colab.research.google.com/notebooks/data_table.ipynb>data table notebook</a>'\n",
              "            + ' to learn more about interactive tables.';\n",
              "          element.innerHTML = '';\n",
              "          dataTable['output_type'] = 'display_data';\n",
              "          await google.colab.output.renderOutput(dataTable, element);\n",
              "          const docLink = document.createElement('div');\n",
              "          docLink.innerHTML = docLinkHtml;\n",
              "          element.appendChild(docLink);\n",
              "        }\n",
              "      </script>\n",
              "    </div>\n",
              "  </div>\n",
              "  "
            ]
          },
          "metadata": {},
          "execution_count": 62
        }
      ],
      "source": [
        "# Abrimos el csv\n",
        "data = pd.read_csv('youtoxic_english_1000.csv')\n",
        "data.head(7)"
      ]
    },
    {
      "cell_type": "code",
      "execution_count": 63,
      "id": "d271cc44-292a-469e-a434-dc4fcf11344c",
      "metadata": {
        "colab": {
          "base_uri": "https://localhost:8080/",
          "height": 297
        },
        "id": "d271cc44-292a-469e-a434-dc4fcf11344c",
        "outputId": "85183a3c-2c65-481a-eec3-0e6314b5daf2"
      },
      "outputs": [
        {
          "output_type": "execute_result",
          "data": {
            "text/plain": [
              "<matplotlib.axes._subplots.AxesSubplot at 0x7ff42ba2efd0>"
            ]
          },
          "metadata": {},
          "execution_count": 63
        },
        {
          "output_type": "display_data",
          "data": {
            "text/plain": [
              "<Figure size 432x288 with 1 Axes>"
            ],
            "image/png": "[encoded data removed]"
          },
          "metadata": {
            "needs_background": "light"
          }
        }
      ],
      "source": [
        "#Comprobamos si los datos estan balanceados si es Istoxic o no\n",
        "sns.countplot(x ='IsToxic', data = data)"
      ]
    },
    {
      "cell_type": "code",
      "execution_count": 64,
      "id": "fiOAN_10e3P1",
      "metadata": {
        "colab": {
          "base_uri": "https://localhost:8080/",
          "height": 637
        },
        "id": "fiOAN_10e3P1",
        "outputId": "11fcfbee-de67-4f7a-dc83-a01571fd53a6"
      },
      "outputs": [
        {
          "output_type": "display_data",
          "data": {
            "text/plain": [
              "<Figure size 1440x1080 with 12 Axes>"
            ],
            "image/png": "[encoded data removed]"
          },
          "metadata": {
            "needs_background": "light"
          }
        }
      ],
      "source": [
        "#Se crea un grafico para visualizar de manera simultanea todas las variables en relacion a stroke\n",
        "fig, ax = plt.subplots(3, 4, figsize = (20, 15))\n",
        "ax[2, 3].axis('off')\n",
        "\n",
        "plt.suptitle('Relación de las variables negativas', fontsize = 30, color = 'teal')\n",
        "\n",
        "ax1 = sns.countplot(x ='IsToxic', data= data, hue= 'IsToxic', ax= ax[0, 0], palette= 'RdPu')\n",
        "ax1.set(xlabel = 'Comentarios toxicos')\n",
        "\n",
        "ax2 = sns.countplot(x ='IsAbusive', data= data, hue= 'IsAbusive', ax= ax[0, 1], palette= 'winter')\n",
        "ax2.set(xlabel = 'Comentarios abusivos')\n",
        "\n",
        "ax3 = sns.countplot(x ='IsThreat', data= data, hue= 'IsThreat', ax= ax[0, 2], palette= 'summer')\n",
        "ax3.set(xlabel = 'Comentarios amenazantes ')\n",
        "\n",
        "ax4 = sns.countplot(x ='IsProvocative', data= data, hue= 'IsProvocative', ax= ax[0, 3], palette= 'ocean')\n",
        "ax4.set(xlabel = 'Comentarios provocativos')\n",
        "\n",
        "ax5 = sns.countplot(x ='IsObscene', data= data, hue= 'IsObscene', ax= ax[1, 0], palette= 'YlGnBu')\n",
        "ax5.set(xlabel = 'Comentarios obsceno')\n",
        "\n",
        "ax6 = sns.countplot(x ='IsHatespeech', data= data, hue= 'IsHatespeech', ax= ax[1, 1], palette= 'copper')\n",
        "ax6.set(xlabel = 'Comentarios de odio')\n",
        "\n",
        "ax7 = sns.countplot(x ='IsRacist', data= data, hue= 'IsRacist', ax= ax[1, 2], palette= 'plasma')\n",
        "ax7.set(xlabel = 'Comentarios racistas')\n",
        "\n",
        "ax8 = sns.countplot(x ='IsNationalist', data= data, hue= 'IsNationalist', ax= ax[1, 3], palette= 'winter')\n",
        "ax8.set(xlabel = 'Comentarios nacionalistas')\n",
        "\n",
        "ax9 = sns.countplot(x ='IsSexist', data= data, hue= 'IsSexist', ax= ax[2, 0], palette= 'summer')\n",
        "ax9.set(xlabel = 'Comentarios sexistas')\n",
        "\n",
        "ax10 = sns.countplot(x ='IsHomophobic', data= data, hue= 'IsHomophobic', ax= ax[2, 1], palette= 'ocean')\n",
        "ax10.set(xlabel = 'Comentarios homofobicos')\n",
        "\n",
        "ax11 = sns.countplot(x ='IsReligiousHate', data= data, hue= 'IsReligiousHate', ax= ax[2, 2], palette= 'RdPu')\n",
        "ax11.set(xlabel = 'Comentarios de odio religioso')\n",
        "\n",
        "ax12 = sns.countplot(x ='IsRadicalism', data= data, hue= 'IsRadicalism', ax= ax[2, 3], palette= 'YlGnBu')\n",
        "ax12.set(xlabel = 'Comentarios radicalistas')\n",
        "\n",
        "plt.show()"
      ]
    },
    {
      "cell_type": "code",
      "execution_count": 65,
      "id": "SPatrH02gG-p",
      "metadata": {
        "colab": {
          "base_uri": "https://localhost:8080/",
          "height": 273
        },
        "id": "SPatrH02gG-p",
        "outputId": "f7b9c257-d5c9-4808-f8ef-ed9168f43929"
      },
      "outputs": [
        {
          "output_type": "execute_result",
          "data": {
            "text/plain": [
              "                   CommentId      VideoId           Text IsToxic IsAbusive  \\\n",
              "count                   1000         1000           1000    1000      1000   \n",
              "unique                  1000           13            997       2         2   \n",
              "top     Ugg2KwwX0V8-aXgCoAEC  9pr1oE34bIM  run them over   False     False   \n",
              "freq                       1          274              3     538       647   \n",
              "\n",
              "       IsThreat IsProvocative IsObscene IsHatespeech IsRacist IsNationalist  \\\n",
              "count      1000          1000      1000         1000     1000          1000   \n",
              "unique        2             2         2            2        2             2   \n",
              "top       False         False     False        False    False         False   \n",
              "freq        979           839       900          862      875           992   \n",
              "\n",
              "       IsSexist IsHomophobic IsReligiousHate IsRadicalism  \n",
              "count      1000         1000            1000         1000  \n",
              "unique        2            1               2            1  \n",
              "top       False        False           False        False  \n",
              "freq        999         1000             988         1000  "
            ],
            "text/html": [
              "\n",
              "  <div id=\"df-0a8240b0-85c5-470f-87b0-13fbe39b0aab\">\n",
              "    <div class=\"colab-df-container\">\n",
              "      <div>\n",
              "<style scoped>\n",
              "    .dataframe tbody tr th:only-of-type {\n",
              "        vertical-align: middle;\n",
              "    }\n",
              "\n",
              "    .dataframe tbody tr th {\n",
              "        vertical-align: top;\n",
              "    }\n",
              "\n",
              "    .dataframe thead th {\n",
              "        text-align: right;\n",
              "    }\n",
              "</style>\n",
              "<table border=\"1\" class=\"dataframe\">\n",
              "  <thead>\n",
              "    <tr style=\"text-align: right;\">\n",
              "      <th></th>\n",
              "      <th>CommentId</th>\n",
              "      <th>VideoId</th>\n",
              "      <th>Text</th>\n",
              "      <th>IsToxic</th>\n",
              "      <th>IsAbusive</th>\n",
              "      <th>IsThreat</th>\n",
              "      <th>IsProvocative</th>\n",
              "      <th>IsObscene</th>\n",
              "      <th>IsHatespeech</th>\n",
              "      <th>IsRacist</th>\n",
              "      <th>IsNationalist</th>\n",
              "      <th>IsSexist</th>\n",
              "      <th>IsHomophobic</th>\n",
              "      <th>IsReligiousHate</th>\n",
              "      <th>IsRadicalism</th>\n",
              "    </tr>\n",
              "  </thead>\n",
              "  <tbody>\n",
              "    <tr>\n",
              "      <th>count</th>\n",
              "      <td>1000</td>\n",
              "      <td>1000</td>\n",
              "      <td>1000</td>\n",
              "      <td>1000</td>\n",
              "      <td>1000</td>\n",
              "      <td>1000</td>\n",
              "      <td>1000</td>\n",
              "      <td>1000</td>\n",
              "      <td>1000</td>\n",
              "      <td>1000</td>\n",
              "      <td>1000</td>\n",
              "      <td>1000</td>\n",
              "      <td>1000</td>\n",
              "      <td>1000</td>\n",
              "      <td>1000</td>\n",
              "    </tr>\n",
              "    <tr>\n",
              "      <th>unique</th>\n",
              "      <td>1000</td>\n",
              "      <td>13</td>\n",
              "      <td>997</td>\n",
              "      <td>2</td>\n",
              "      <td>2</td>\n",
              "      <td>2</td>\n",
              "      <td>2</td>\n",
              "      <td>2</td>\n",
              "      <td>2</td>\n",
              "      <td>2</td>\n",
              "      <td>2</td>\n",
              "      <td>2</td>\n",
              "      <td>1</td>\n",
              "      <td>2</td>\n",
              "      <td>1</td>\n",
              "    </tr>\n",
              "    <tr>\n",
              "      <th>top</th>\n",
              "      <td>Ugg2KwwX0V8-aXgCoAEC</td>\n",
              "      <td>9pr1oE34bIM</td>\n",
              "      <td>run them over</td>\n",
              "      <td>False</td>\n",
              "      <td>False</td>\n",
              "      <td>False</td>\n",
              "      <td>False</td>\n",
              "      <td>False</td>\n",
              "      <td>False</td>\n",
              "      <td>False</td>\n",
              "      <td>False</td>\n",
              "      <td>False</td>\n",
              "      <td>False</td>\n",
              "      <td>False</td>\n",
              "      <td>False</td>\n",
              "    </tr>\n",
              "    <tr>\n",
              "      <th>freq</th>\n",
              "      <td>1</td>\n",
              "      <td>274</td>\n",
              "      <td>3</td>\n",
              "      <td>538</td>\n",
              "      <td>647</td>\n",
              "      <td>979</td>\n",
              "      <td>839</td>\n",
              "      <td>900</td>\n",
              "      <td>862</td>\n",
              "      <td>875</td>\n",
              "      <td>992</td>\n",
              "      <td>999</td>\n",
              "      <td>1000</td>\n",
              "      <td>988</td>\n",
              "      <td>1000</td>\n",
              "    </tr>\n",
              "  </tbody>\n",
              "</table>\n",
              "</div>\n",
              "      <button class=\"colab-df-convert\" onclick=\"convertToInteractive('df-0a8240b0-85c5-470f-87b0-13fbe39b0aab')\"\n",
              "              title=\"Convert this dataframe to an interactive table.\"\n",
              "              style=\"display:none;\">\n",
              "        \n",
              "  <svg xmlns=\"http://www.w3.org/2000/svg\" height=\"24px\"viewBox=\"0 0 24 24\"\n",
              "       width=\"24px\">\n",
              "    <path d=\"M0 0h24v24H0V0z\" fill=\"none\"/>\n",
              "    <path d=\"M18.56 5.44l.94 2.06.94-2.06 2.06-.94-2.06-.94-.94-2.06-.94 2.06-2.06.94zm-11 1L8.5 8.5l.94-2.06 2.06-.94-2.06-.94L8.5 2.5l-.94 2.06-2.06.94zm10 10l.94 2.06.94-2.06 2.06-.94-2.06-.94-.94-2.06-.94 2.06-2.06.94z\"/><path d=\"M17.41 7.96l-1.37-1.37c-.4-.4-.92-.59-1.43-.59-.52 0-1.04.2-1.43.59L10.3 9.45l-7.72 7.72c-.78.78-.78 2.05 0 2.83L4 21.41c.39.39.9.59 1.41.59.51 0 1.02-.2 1.41-.59l7.78-7.78 2.81-2.81c.8-.78.8-2.07 0-2.86zM5.41 20L4 18.59l7.72-7.72 1.47 1.35L5.41 20z\"/>\n",
              "  </svg>\n",
              "      </button>\n",
              "      \n",
              "  <style>\n",
              "    .colab-df-container {\n",
              "      display:flex;\n",
              "      flex-wrap:wrap;\n",
              "      gap: 12px;\n",
              "    }\n",
              "\n",
              "    .colab-df-convert {\n",
              "      background-color: #E8F0FE;\n",
              "      border: none;\n",
              "      border-radius: 50%;\n",
              "      cursor: pointer;\n",
              "      display: none;\n",
              "      fill: #1967D2;\n",
              "      height: 32px;\n",
              "      padding: 0 0 0 0;\n",
              "      width: 32px;\n",
              "    }\n",
              "\n",
              "    .colab-df-convert:hover {\n",
              "      background-color: #E2EBFA;\n",
              "      box-shadow: 0px 1px 2px rgba(60, 64, 67, 0.3), 0px 1px 3px 1px rgba(60, 64, 67, 0.15);\n",
              "      fill: #174EA6;\n",
              "    }\n",
              "\n",
              "    [theme=dark] .colab-df-convert {\n",
              "      background-color: #3B4455;\n",
              "      fill: #D2E3FC;\n",
              "    }\n",
              "\n",
              "    [theme=dark] .colab-df-convert:hover {\n",
              "      background-color: #434B5C;\n",
              "      box-shadow: 0px 1px 3px 1px rgba(0, 0, 0, 0.15);\n",
              "      filter: drop-shadow(0px 1px 2px rgba(0, 0, 0, 0.3));\n",
              "      fill: #FFFFFF;\n",
              "    }\n",
              "  </style>\n",
              "\n",
              "      <script>\n",
              "        const buttonEl =\n",
              "          document.querySelector('#df-0a8240b0-85c5-470f-87b0-13fbe39b0aab button.colab-df-convert');\n",
              "        buttonEl.style.display =\n",
              "          google.colab.kernel.accessAllowed ? 'block' : 'none';\n",
              "\n",
              "        async function convertToInteractive(key) {\n",
              "          const element = document.querySelector('#df-0a8240b0-85c5-470f-87b0-13fbe39b0aab');\n",
              "          const dataTable =\n",
              "            await google.colab.kernel.invokeFunction('convertToInteractive',\n",
              "                                                     [key], {});\n",
              "          if (!dataTable) return;\n",
              "\n",
              "          const docLinkHtml = 'Like what you see? Visit the ' +\n",
              "            '<a target=\"_blank\" href=https://colab.research.google.com/notebooks/data_table.ipynb>data table notebook</a>'\n",
              "            + ' to learn more about interactive tables.';\n",
              "          element.innerHTML = '';\n",
              "          dataTable['output_type'] = 'display_data';\n",
              "          await google.colab.output.renderOutput(dataTable, element);\n",
              "          const docLink = document.createElement('div');\n",
              "          docLink.innerHTML = docLinkHtml;\n",
              "          element.appendChild(docLink);\n",
              "        }\n",
              "      </script>\n",
              "    </div>\n",
              "  </div>\n",
              "  "
            ]
          },
          "metadata": {},
          "execution_count": 65
        }
      ],
      "source": [
        "#Decripcion del dataset\n",
        "data.describe()"
      ]
    },
    {
      "cell_type": "code",
      "execution_count": 66,
      "id": "agdV1uWkgO6L",
      "metadata": {
        "colab": {
          "base_uri": "https://localhost:8080/"
        },
        "id": "agdV1uWkgO6L",
        "outputId": "a2a93f3c-2bfb-484d-b3c6-e93274a16330"
      },
      "outputs": [
        {
          "output_type": "stream",
          "name": "stdout",
          "text": [
            "<class 'pandas.core.frame.DataFrame'>\n",
            "RangeIndex: 1000 entries, 0 to 999\n",
            "Data columns (total 15 columns):\n",
            " #   Column           Non-Null Count  Dtype \n",
            "---  ------           --------------  ----- \n",
            " 0   CommentId        1000 non-null   object\n",
            " 1   VideoId          1000 non-null   object\n",
            " 2   Text             1000 non-null   object\n",
            " 3   IsToxic          1000 non-null   bool  \n",
            " 4   IsAbusive        1000 non-null   bool  \n",
            " 5   IsThreat         1000 non-null   bool  \n",
            " 6   IsProvocative    1000 non-null   bool  \n",
            " 7   IsObscene        1000 non-null   bool  \n",
            " 8   IsHatespeech     1000 non-null   bool  \n",
            " 9   IsRacist         1000 non-null   bool  \n",
            " 10  IsNationalist    1000 non-null   bool  \n",
            " 11  IsSexist         1000 non-null   bool  \n",
            " 12  IsHomophobic     1000 non-null   bool  \n",
            " 13  IsReligiousHate  1000 non-null   bool  \n",
            " 14  IsRadicalism     1000 non-null   bool  \n",
            "dtypes: bool(12), object(3)\n",
            "memory usage: 35.3+ KB\n"
          ]
        }
      ],
      "source": [
        "#Información del dataset\n",
        "data.info()"
      ]
    },
    {
      "cell_type": "code",
      "execution_count": 67,
      "id": "B_-AA9rmgg-U",
      "metadata": {
        "colab": {
          "base_uri": "https://localhost:8080/"
        },
        "id": "B_-AA9rmgg-U",
        "outputId": "2c620c89-efcf-4c80-df7e-db43e4f28a9c"
      },
      "outputs": [
        {
          "output_type": "execute_result",
          "data": {
            "text/plain": [
              "CommentId          0\n",
              "VideoId            0\n",
              "Text               0\n",
              "IsToxic            0\n",
              "IsAbusive          0\n",
              "IsThreat           0\n",
              "IsProvocative      0\n",
              "IsObscene          0\n",
              "IsHatespeech       0\n",
              "IsRacist           0\n",
              "IsNationalist      0\n",
              "IsSexist           0\n",
              "IsHomophobic       0\n",
              "IsReligiousHate    0\n",
              "IsRadicalism       0\n",
              "dtype: int64"
            ]
          },
          "metadata": {},
          "execution_count": 67
        }
      ],
      "source": [
        "#Comprobamos si existen valores nulos\n",
        "data.isnull().sum(axis = 0)"
      ]
    },
    {
      "cell_type": "code",
      "execution_count": 68,
      "id": "qLiD9c_ugsSs",
      "metadata": {
        "colab": {
          "base_uri": "https://localhost:8080/"
        },
        "id": "qLiD9c_ugsSs",
        "outputId": "381ab796-83f4-487f-953e-9fe4456f168d"
      },
      "outputs": [
        {
          "output_type": "execute_result",
          "data": {
            "text/plain": [
              "0"
            ]
          },
          "metadata": {},
          "execution_count": 68
        }
      ],
      "source": [
        "#Comprobamos los datos duplicados\n",
        "data_duplicadas = data[data.duplicated()]\n",
        "len(data_duplicadas)"
      ]
    },
    {
      "cell_type": "code",
      "execution_count": 69,
      "id": "kFFqvVB8gz-b",
      "metadata": {
        "colab": {
          "base_uri": "https://localhost:8080/",
          "height": 615
        },
        "id": "kFFqvVB8gz-b",
        "outputId": "7184502c-91b0-4279-8764-41bac6068f31"
      },
      "outputs": [
        {
          "output_type": "execute_result",
          "data": {
            "text/plain": [
              "<matplotlib.axes._subplots.AxesSubplot at 0x7ff42abf8520>"
            ]
          },
          "metadata": {},
          "execution_count": 69
        },
        {
          "output_type": "display_data",
          "data": {
            "text/plain": [
              "<Figure size 792x648 with 2 Axes>"
            ],
            "image/png": "[encoded data removed]"
          },
          "metadata": {
            "needs_background": "light"
          }
        }
      ],
      "source": [
        "#Mapa de calor con las variables\n",
        "mask = np.triu(np.ones_like(data.corr(), dtype=bool))\n",
        "\n",
        "# Configuramos el matplotlib\n",
        "f, ax = plt.subplots(figsize=(11, 9))\n",
        "\n",
        "# Ploteamos el heatmap\n",
        "cmap = sns.diverging_palette(20, 220, n=200)\n",
        "sns.heatmap(data.corr(), mask=mask, vmax=1., vmin=-1., center=0,\n",
        "            square=True, linewidths=.5, cbar_kws={\"shrink\": .5}, annot=True)"
      ]
    },
    {
      "cell_type": "markdown",
      "id": "wdJ0I6KLiszE",
      "metadata": {
        "id": "wdJ0I6KLiszE"
      },
      "source": [
        "Variables que no tienen valores verdaderos"
      ]
    },
    {
      "cell_type": "code",
      "execution_count": 70,
      "id": "8qxa_YSxhG8G",
      "metadata": {
        "colab": {
          "base_uri": "https://localhost:8080/"
        },
        "id": "8qxa_YSxhG8G",
        "outputId": "20cbd297-8ceb-4325-e839-d90608e8ec19"
      },
      "outputs": [
        {
          "output_type": "execute_result",
          "data": {
            "text/plain": [
              "False    1000\n",
              "Name: IsHomophobic, dtype: int64"
            ]
          },
          "metadata": {},
          "execution_count": 70
        }
      ],
      "source": [
        "data.IsHomophobic.value_counts()"
      ]
    },
    {
      "cell_type": "code",
      "execution_count": 71,
      "id": "pfvCZyY8pwMa",
      "metadata": {
        "colab": {
          "base_uri": "https://localhost:8080/"
        },
        "id": "pfvCZyY8pwMa",
        "outputId": "7022ab50-5109-4b5d-aa16-2d7dba236202"
      },
      "outputs": [
        {
          "output_type": "execute_result",
          "data": {
            "text/plain": [
              "False    1000\n",
              "Name: IsRadicalism, dtype: int64"
            ]
          },
          "metadata": {},
          "execution_count": 71
        }
      ],
      "source": [
        "data.IsRadicalism.value_counts()"
      ]
    },
    {
      "cell_type": "code",
      "execution_count": 72,
      "id": "Etdjaq7Oh5Bv",
      "metadata": {
        "colab": {
          "base_uri": "https://localhost:8080/"
        },
        "id": "Etdjaq7Oh5Bv",
        "outputId": "1c62ce6d-3c1b-4d63-a618-47f8fa74ca16"
      },
      "outputs": [
        {
          "output_type": "execute_result",
          "data": {
            "text/plain": [
              "9pr1oE34bIM    274\n",
              "04kJtp6pVXI    172\n",
              "cT14IbTDW2c    146\n",
              "dG7mZQvaQDk    112\n",
              "TZxEyoplYbI    104\n",
              "bUgKZMSxr3E     39\n",
              "8HB18hZrhXc     38\n",
              "4rCweDxDqdw     37\n",
              "Dt9-byUhPdg     34\n",
              "#NAME?          16\n",
              "dDbRyFIkNII     10\n",
              "XRuCW80L9mA     10\n",
              "5vF4si3hoRA      8\n",
              "Name: VideoId, dtype: int64"
            ]
          },
          "metadata": {},
          "execution_count": 72
        }
      ],
      "source": [
        "data.VideoId.value_counts()"
      ]
    },
    {
      "cell_type": "code",
      "execution_count": 73,
      "id": "GGj9y8w6iVZL",
      "metadata": {
        "colab": {
          "base_uri": "https://localhost:8080/",
          "height": 325
        },
        "id": "GGj9y8w6iVZL",
        "outputId": "5a726cba-7794-453e-d79d-f7d5b6b7483d"
      },
      "outputs": [
        {
          "output_type": "display_data",
          "data": {
            "text/plain": [
              "<Figure size 432x288 with 1 Axes>"
            ],
            "image/png": "[encoded data removed]"
          },
          "metadata": {
            "needs_background": "light"
          }
        }
      ],
      "source": [
        "sns.boxplot(data=data)\n",
        "plt.xticks(rotation=90)\n",
        "plt.show()"
      ]
    },
    {
      "cell_type": "markdown",
      "id": "xO3Dyt2BkyeW",
      "metadata": {
        "id": "xO3Dyt2BkyeW"
      },
      "source": [
        "## 3. Limpieza de datos"
      ]
    },
    {
      "cell_type": "code",
      "execution_count": 74,
      "id": "kV6YZkdxjEUI",
      "metadata": {
        "id": "kV6YZkdxjEUI"
      },
      "outputs": [],
      "source": [
        "#\n",
        "import re \n",
        "import string \n",
        "def clean_text_round1(text): \n",
        "    '''Nos elimina palabras sin sentido, signos de puntuación, números, espacios en blanco y corchetes''' \n",
        "    text = text.lower() \n",
        "    text = re.sub('\\[.*?\\]', '', text) \n",
        "    text = re.sub('[%s]' % re.escape(string.punctuation), '', text) \n",
        "    text = re.sub('\\w*\\d\\w*', '', text) \n",
        "    text = re.sub('[‘’“”…]', '', text)\n",
        "    text = re.sub('\\n', '', text)\n",
        "    return text \n",
        "\n",
        "round1 = lambda x: clean_text_round1(x) "
      ]
    },
    {
      "cell_type": "code",
      "source": [
        "data['Text'] = data['Text'].replace(u'\\xa0', u' ')"
      ],
      "metadata": {
        "id": "P_Y6x__9eS_p"
      },
      "id": "P_Y6x__9eS_p",
      "execution_count": 75,
      "outputs": []
    },
    {
      "cell_type": "code",
      "execution_count": 76,
      "id": "P70OEcDtmUlW",
      "metadata": {
        "colab": {
          "base_uri": "https://localhost:8080/"
        },
        "id": "P70OEcDtmUlW",
        "outputId": "51d86b8f-b4a0-479e-db52-c49abdf862ae"
      },
      "outputs": [
        {
          "output_type": "execute_result",
          "data": {
            "text/plain": [
              "0      if only people would just take a step back and...\n",
              "1      law enforcement is not trained to shoot to app...\n",
              "2      dont you reckon them black lives matter banner...\n",
              "3      there are a very large number of people who do...\n",
              "4      the arab dude is absolutely right he should ha...\n",
              "                             ...                        \n",
              "995    i remember that they sent in the national defe...\n",
              "996    stats dont represent the problem race baiting ...\n",
              "997    the quote from the mother wow that hit hard ve...\n",
              "998                              this video is so racist\n",
              "999          god the narrator has such an annoying lisp \n",
              "Name: Text, Length: 1000, dtype: object"
            ]
          },
          "metadata": {},
          "execution_count": 76
        }
      ],
      "source": [
        "text_clean = data[\"Text\"].apply(round1)\n",
        "text_clean"
      ]
    },
    {
      "cell_type": "code",
      "execution_count": 77,
      "id": "2qsGa8Ej1qjs",
      "metadata": {
        "id": "2qsGa8Ej1qjs"
      },
      "outputs": [],
      "source": [
        "# Limpiamos emojis\n",
        "import re\n",
        "def remove_emojis(data_clean):\n",
        "    emoj = re.compile(\"[\"\n",
        "        u\"\\U0001F600-\\U0001F64F\"  # emoticons\n",
        "        u\"\\U0001F300-\\U0001F5FF\"  # symbols & pictographs\n",
        "        u\"\\U0001F680-\\U0001F6FF\"  # transport & map symbols\n",
        "        u\"\\U0001F1E0-\\U0001F1FF\"  # flags (iOS)\n",
        "        u\"\\U00002500-\\U00002BEF\"  # chinese char\n",
        "        u\"\\U00002702-\\U000027B0\"\n",
        "        u\"\\U00002702-\\U000027B0\"\n",
        "        u\"\\U000024C2-\\U0001F251\"\n",
        "        u\"\\U0001f926-\\U0001f937\"\n",
        "        u\"\\U00010000-\\U0010ffff\"\n",
        "        u\"\\u2640-\\u2642\" \n",
        "        u\"\\u2600-\\u2B55\"\n",
        "        u\"\\u200d\"\n",
        "        u\"\\u23cf\"\n",
        "        u\"\\u23e9\"\n",
        "        u\"\\u231a\"\n",
        "        u\"\\ufe0f\"  # dingbats\n",
        "        u\"\\u3030\"\n",
        "                      \"]+\", re.UNICODE)\n",
        "    return re.sub(emoj, '', data_clean)\n",
        "\n",
        "    round1 = lambda x: remove_emojis(x)"
      ]
    },
    {
      "cell_type": "code",
      "execution_count": 78,
      "id": "dabb2d5c",
      "metadata": {
        "colab": {
          "base_uri": "https://localhost:8080/"
        },
        "id": "dabb2d5c",
        "outputId": "580f7f60-ecc4-4f51-dd16-9ed91614ac76"
      },
      "outputs": [
        {
          "output_type": "execute_result",
          "data": {
            "text/plain": [
              "0      if only people would just take a step back and...\n",
              "1      law enforcement is not trained to shoot to app...\n",
              "2      dont you reckon them black lives matter banner...\n",
              "3      there are a very large number of people who do...\n",
              "4      the arab dude is absolutely right he should ha...\n",
              "                             ...                        \n",
              "995    i remember that they sent in the national defe...\n",
              "996    stats dont represent the problem race baiting ...\n",
              "997    the quote from the mother wow that hit hard ve...\n",
              "998                              this video is so racist\n",
              "999          god the narrator has such an annoying lisp \n",
              "Name: Text, Length: 1000, dtype: object"
            ]
          },
          "metadata": {},
          "execution_count": 78
        }
      ],
      "source": [
        "final_text = text_clean.apply(round1)\n",
        "final_text"
      ]
    },
    {
      "cell_type": "markdown",
      "id": "Xcd4IYr75AAJ",
      "metadata": {
        "id": "Xcd4IYr75AAJ"
      },
      "source": [
        "# Tokenización"
      ]
    },
    {
      "cell_type": "markdown",
      "id": "916aefe2-24fb-47d4-8026-96dd5e364c23",
      "metadata": {
        "id": "916aefe2-24fb-47d4-8026-96dd5e364c23"
      },
      "source": [
        "import string\n",
        "punctuation = set(string.punctuation)\n",
        "\n",
        "def tokenize(sentence):\n",
        "    tokens = []\n",
        "    for token in sentence.split():\n",
        "        new_token = []\n",
        "        for character in token:\n",
        "            if character not in punctuation:\n",
        "                new_token.append(character.lower())\n",
        "        if new_token:\n",
        "            tokens.append(\"\".join(new_token))\n",
        "    return tokens"
      ]
    },
    {
      "cell_type": "markdown",
      "id": "437bc4b0-0b75-4a29-aacf-b47ee35d78d1",
      "metadata": {
        "id": "437bc4b0-0b75-4a29-aacf-b47ee35d78d1"
      },
      "source": [
        "\n",
        "token= data_final.apply(tokenize)"
      ]
    },
    {
      "cell_type": "code",
      "execution_count": 79,
      "id": "7198467f-9256-428e-98c2-20c8b4c249e6",
      "metadata": {
        "colab": {
          "base_uri": "https://localhost:8080/",
          "height": 423
        },
        "id": "7198467f-9256-428e-98c2-20c8b4c249e6",
        "outputId": "753bdbaf-8db7-40ba-bc05-dd0161401482"
      },
      "outputs": [
        {
          "output_type": "execute_result",
          "data": {
            "text/plain": [
              "                                                  Text  IsToxic\n",
              "0    if only people would just take a step back and...        0\n",
              "1    law enforcement is not trained to shoot to app...        1\n",
              "2    dont you reckon them black lives matter banner...        1\n",
              "3    there are a very large number of people who do...        0\n",
              "4    the arab dude is absolutely right he should ha...        0\n",
              "..                                                 ...      ...\n",
              "995  i remember that they sent in the national defe...        0\n",
              "996  stats dont represent the problem race baiting ...        1\n",
              "997  the quote from the mother wow that hit hard ve...        0\n",
              "998                            this video is so racist        0\n",
              "999        god the narrator has such an annoying lisp         0\n",
              "\n",
              "[1000 rows x 2 columns]"
            ],
            "text/html": [
              "\n",
              "  <div id=\"df-6c3abb38-f8f1-4746-993a-9f283c131e64\">\n",
              "    <div class=\"colab-df-container\">\n",
              "      <div>\n",
              "<style scoped>\n",
              "    .dataframe tbody tr th:only-of-type {\n",
              "        vertical-align: middle;\n",
              "    }\n",
              "\n",
              "    .dataframe tbody tr th {\n",
              "        vertical-align: top;\n",
              "    }\n",
              "\n",
              "    .dataframe thead th {\n",
              "        text-align: right;\n",
              "    }\n",
              "</style>\n",
              "<table border=\"1\" class=\"dataframe\">\n",
              "  <thead>\n",
              "    <tr style=\"text-align: right;\">\n",
              "      <th></th>\n",
              "      <th>Text</th>\n",
              "      <th>IsToxic</th>\n",
              "    </tr>\n",
              "  </thead>\n",
              "  <tbody>\n",
              "    <tr>\n",
              "      <th>0</th>\n",
              "      <td>if only people would just take a step back and...</td>\n",
              "      <td>0</td>\n",
              "    </tr>\n",
              "    <tr>\n",
              "      <th>1</th>\n",
              "      <td>law enforcement is not trained to shoot to app...</td>\n",
              "      <td>1</td>\n",
              "    </tr>\n",
              "    <tr>\n",
              "      <th>2</th>\n",
              "      <td>dont you reckon them black lives matter banner...</td>\n",
              "      <td>1</td>\n",
              "    </tr>\n",
              "    <tr>\n",
              "      <th>3</th>\n",
              "      <td>there are a very large number of people who do...</td>\n",
              "      <td>0</td>\n",
              "    </tr>\n",
              "    <tr>\n",
              "      <th>4</th>\n",
              "      <td>the arab dude is absolutely right he should ha...</td>\n",
              "      <td>0</td>\n",
              "    </tr>\n",
              "    <tr>\n",
              "      <th>...</th>\n",
              "      <td>...</td>\n",
              "      <td>...</td>\n",
              "    </tr>\n",
              "    <tr>\n",
              "      <th>995</th>\n",
              "      <td>i remember that they sent in the national defe...</td>\n",
              "      <td>0</td>\n",
              "    </tr>\n",
              "    <tr>\n",
              "      <th>996</th>\n",
              "      <td>stats dont represent the problem race baiting ...</td>\n",
              "      <td>1</td>\n",
              "    </tr>\n",
              "    <tr>\n",
              "      <th>997</th>\n",
              "      <td>the quote from the mother wow that hit hard ve...</td>\n",
              "      <td>0</td>\n",
              "    </tr>\n",
              "    <tr>\n",
              "      <th>998</th>\n",
              "      <td>this video is so racist</td>\n",
              "      <td>0</td>\n",
              "    </tr>\n",
              "    <tr>\n",
              "      <th>999</th>\n",
              "      <td>god the narrator has such an annoying lisp</td>\n",
              "      <td>0</td>\n",
              "    </tr>\n",
              "  </tbody>\n",
              "</table>\n",
              "<p>1000 rows × 2 columns</p>\n",
              "</div>\n",
              "      <button class=\"colab-df-convert\" onclick=\"convertToInteractive('df-6c3abb38-f8f1-4746-993a-9f283c131e64')\"\n",
              "              title=\"Convert this dataframe to an interactive table.\"\n",
              "              style=\"display:none;\">\n",
              "        \n",
              "  <svg xmlns=\"http://www.w3.org/2000/svg\" height=\"24px\"viewBox=\"0 0 24 24\"\n",
              "       width=\"24px\">\n",
              "    <path d=\"M0 0h24v24H0V0z\" fill=\"none\"/>\n",
              "    <path d=\"M18.56 5.44l.94 2.06.94-2.06 2.06-.94-2.06-.94-.94-2.06-.94 2.06-2.06.94zm-11 1L8.5 8.5l.94-2.06 2.06-.94-2.06-.94L8.5 2.5l-.94 2.06-2.06.94zm10 10l.94 2.06.94-2.06 2.06-.94-2.06-.94-.94-2.06-.94 2.06-2.06.94z\"/><path d=\"M17.41 7.96l-1.37-1.37c-.4-.4-.92-.59-1.43-.59-.52 0-1.04.2-1.43.59L10.3 9.45l-7.72 7.72c-.78.78-.78 2.05 0 2.83L4 21.41c.39.39.9.59 1.41.59.51 0 1.02-.2 1.41-.59l7.78-7.78 2.81-2.81c.8-.78.8-2.07 0-2.86zM5.41 20L4 18.59l7.72-7.72 1.47 1.35L5.41 20z\"/>\n",
              "  </svg>\n",
              "      </button>\n",
              "      \n",
              "  <style>\n",
              "    .colab-df-container {\n",
              "      display:flex;\n",
              "      flex-wrap:wrap;\n",
              "      gap: 12px;\n",
              "    }\n",
              "\n",
              "    .colab-df-convert {\n",
              "      background-color: #E8F0FE;\n",
              "      border: none;\n",
              "      border-radius: 50%;\n",
              "      cursor: pointer;\n",
              "      display: none;\n",
              "      fill: #1967D2;\n",
              "      height: 32px;\n",
              "      padding: 0 0 0 0;\n",
              "      width: 32px;\n",
              "    }\n",
              "\n",
              "    .colab-df-convert:hover {\n",
              "      background-color: #E2EBFA;\n",
              "      box-shadow: 0px 1px 2px rgba(60, 64, 67, 0.3), 0px 1px 3px 1px rgba(60, 64, 67, 0.15);\n",
              "      fill: #174EA6;\n",
              "    }\n",
              "\n",
              "    [theme=dark] .colab-df-convert {\n",
              "      background-color: #3B4455;\n",
              "      fill: #D2E3FC;\n",
              "    }\n",
              "\n",
              "    [theme=dark] .colab-df-convert:hover {\n",
              "      background-color: #434B5C;\n",
              "      box-shadow: 0px 1px 3px 1px rgba(0, 0, 0, 0.15);\n",
              "      filter: drop-shadow(0px 1px 2px rgba(0, 0, 0, 0.3));\n",
              "      fill: #FFFFFF;\n",
              "    }\n",
              "  </style>\n",
              "\n",
              "      <script>\n",
              "        const buttonEl =\n",
              "          document.querySelector('#df-6c3abb38-f8f1-4746-993a-9f283c131e64 button.colab-df-convert');\n",
              "        buttonEl.style.display =\n",
              "          google.colab.kernel.accessAllowed ? 'block' : 'none';\n",
              "\n",
              "        async function convertToInteractive(key) {\n",
              "          const element = document.querySelector('#df-6c3abb38-f8f1-4746-993a-9f283c131e64');\n",
              "          const dataTable =\n",
              "            await google.colab.kernel.invokeFunction('convertToInteractive',\n",
              "                                                     [key], {});\n",
              "          if (!dataTable) return;\n",
              "\n",
              "          const docLinkHtml = 'Like what you see? Visit the ' +\n",
              "            '<a target=\"_blank\" href=https://colab.research.google.com/notebooks/data_table.ipynb>data table notebook</a>'\n",
              "            + ' to learn more about interactive tables.';\n",
              "          element.innerHTML = '';\n",
              "          dataTable['output_type'] = 'display_data';\n",
              "          await google.colab.output.renderOutput(dataTable, element);\n",
              "          const docLink = document.createElement('div');\n",
              "          docLink.innerHTML = docLinkHtml;\n",
              "          element.appendChild(docLink);\n",
              "        }\n",
              "      </script>\n",
              "    </div>\n",
              "  </div>\n",
              "  "
            ]
          },
          "metadata": {},
          "execution_count": 79
        }
      ],
      "source": [
        "istoxic = data[\"IsToxic\"].astype(\"uint8\")\n",
        "result = pd.concat([final_text, istoxic], axis=1)\n",
        "result"
      ]
    },
    {
      "cell_type": "code",
      "execution_count": 80,
      "id": "a69dcd83-6684-4f65-85d0-4f21a173dab0",
      "metadata": {
        "id": "a69dcd83-6684-4f65-85d0-4f21a173dab0"
      },
      "outputs": [],
      "source": [
        "# Importación spaCy\n",
        "import spacy\n",
        "import en_core_web_sm"
      ]
    },
    {
      "cell_type": "code",
      "execution_count": 81,
      "id": "4fef80de-9374-4079-9039-7bcc5c7bdbe0",
      "metadata": {
        "tags": [],
        "colab": {
          "base_uri": "https://localhost:8080/",
          "height": 467
        },
        "id": "4fef80de-9374-4079-9039-7bcc5c7bdbe0",
        "outputId": "3272178a-f986-4eba-f768-bb9c9c0d5e19"
      },
      "outputs": [
        {
          "output_type": "execute_result",
          "data": {
            "text/plain": [
              "                                                  Text  IsToxic  \\\n",
              "0    if only people would just take a step back and...        0   \n",
              "1    law enforcement is not trained to shoot to app...        1   \n",
              "2    dont you reckon them black lives matter banner...        1   \n",
              "3    there are a very large number of people who do...        0   \n",
              "4    the arab dude is absolutely right he should ha...        0   \n",
              "..                                                 ...      ...   \n",
              "995  i remember that they sent in the national defe...        0   \n",
              "996  stats dont represent the problem race baiting ...        1   \n",
              "997  the quote from the mother wow that hit hard ve...        0   \n",
              "998                            this video is so racist        0   \n",
              "999        god the narrator has such an annoying lisp         0   \n",
              "\n",
              "                                          Tokenizacion  \n",
              "0    (if, only, people, would, just, take, a, step,...  \n",
              "1    (law, enforcement, is, not, trained, to, shoot...  \n",
              "2    (do, nt, you, reckon, them, black, lives, matt...  \n",
              "3    (there, are, a, very, large, number, of, peopl...  \n",
              "4    (the, arab, dude, is, absolutely, right, he, s...  \n",
              "..                                                 ...  \n",
              "995  (i, remember, that, they, sent, in, the, natio...  \n",
              "996  (stats, do, nt, represent, the, problem, race,...  \n",
              "997  (the, quote, from, the, mother, wow, that, hit...  \n",
              "998                      (this, video, is, so, racist)  \n",
              "999  (god, the, narrator, has, such, an, annoying, ...  \n",
              "\n",
              "[1000 rows x 3 columns]"
            ],
            "text/html": [
              "\n",
              "  <div id=\"df-1d0981b3-9c17-4397-86ee-2796b15a37a8\">\n",
              "    <div class=\"colab-df-container\">\n",
              "      <div>\n",
              "<style scoped>\n",
              "    .dataframe tbody tr th:only-of-type {\n",
              "        vertical-align: middle;\n",
              "    }\n",
              "\n",
              "    .dataframe tbody tr th {\n",
              "        vertical-align: top;\n",
              "    }\n",
              "\n",
              "    .dataframe thead th {\n",
              "        text-align: right;\n",
              "    }\n",
              "</style>\n",
              "<table border=\"1\" class=\"dataframe\">\n",
              "  <thead>\n",
              "    <tr style=\"text-align: right;\">\n",
              "      <th></th>\n",
              "      <th>Text</th>\n",
              "      <th>IsToxic</th>\n",
              "      <th>Tokenizacion</th>\n",
              "    </tr>\n",
              "  </thead>\n",
              "  <tbody>\n",
              "    <tr>\n",
              "      <th>0</th>\n",
              "      <td>if only people would just take a step back and...</td>\n",
              "      <td>0</td>\n",
              "      <td>(if, only, people, would, just, take, a, step,...</td>\n",
              "    </tr>\n",
              "    <tr>\n",
              "      <th>1</th>\n",
              "      <td>law enforcement is not trained to shoot to app...</td>\n",
              "      <td>1</td>\n",
              "      <td>(law, enforcement, is, not, trained, to, shoot...</td>\n",
              "    </tr>\n",
              "    <tr>\n",
              "      <th>2</th>\n",
              "      <td>dont you reckon them black lives matter banner...</td>\n",
              "      <td>1</td>\n",
              "      <td>(do, nt, you, reckon, them, black, lives, matt...</td>\n",
              "    </tr>\n",
              "    <tr>\n",
              "      <th>3</th>\n",
              "      <td>there are a very large number of people who do...</td>\n",
              "      <td>0</td>\n",
              "      <td>(there, are, a, very, large, number, of, peopl...</td>\n",
              "    </tr>\n",
              "    <tr>\n",
              "      <th>4</th>\n",
              "      <td>the arab dude is absolutely right he should ha...</td>\n",
              "      <td>0</td>\n",
              "      <td>(the, arab, dude, is, absolutely, right, he, s...</td>\n",
              "    </tr>\n",
              "    <tr>\n",
              "      <th>...</th>\n",
              "      <td>...</td>\n",
              "      <td>...</td>\n",
              "      <td>...</td>\n",
              "    </tr>\n",
              "    <tr>\n",
              "      <th>995</th>\n",
              "      <td>i remember that they sent in the national defe...</td>\n",
              "      <td>0</td>\n",
              "      <td>(i, remember, that, they, sent, in, the, natio...</td>\n",
              "    </tr>\n",
              "    <tr>\n",
              "      <th>996</th>\n",
              "      <td>stats dont represent the problem race baiting ...</td>\n",
              "      <td>1</td>\n",
              "      <td>(stats, do, nt, represent, the, problem, race,...</td>\n",
              "    </tr>\n",
              "    <tr>\n",
              "      <th>997</th>\n",
              "      <td>the quote from the mother wow that hit hard ve...</td>\n",
              "      <td>0</td>\n",
              "      <td>(the, quote, from, the, mother, wow, that, hit...</td>\n",
              "    </tr>\n",
              "    <tr>\n",
              "      <th>998</th>\n",
              "      <td>this video is so racist</td>\n",
              "      <td>0</td>\n",
              "      <td>(this, video, is, so, racist)</td>\n",
              "    </tr>\n",
              "    <tr>\n",
              "      <th>999</th>\n",
              "      <td>god the narrator has such an annoying lisp</td>\n",
              "      <td>0</td>\n",
              "      <td>(god, the, narrator, has, such, an, annoying, ...</td>\n",
              "    </tr>\n",
              "  </tbody>\n",
              "</table>\n",
              "<p>1000 rows × 3 columns</p>\n",
              "</div>\n",
              "      <button class=\"colab-df-convert\" onclick=\"convertToInteractive('df-1d0981b3-9c17-4397-86ee-2796b15a37a8')\"\n",
              "              title=\"Convert this dataframe to an interactive table.\"\n",
              "              style=\"display:none;\">\n",
              "        \n",
              "  <svg xmlns=\"http://www.w3.org/2000/svg\" height=\"24px\"viewBox=\"0 0 24 24\"\n",
              "       width=\"24px\">\n",
              "    <path d=\"M0 0h24v24H0V0z\" fill=\"none\"/>\n",
              "    <path d=\"M18.56 5.44l.94 2.06.94-2.06 2.06-.94-2.06-.94-.94-2.06-.94 2.06-2.06.94zm-11 1L8.5 8.5l.94-2.06 2.06-.94-2.06-.94L8.5 2.5l-.94 2.06-2.06.94zm10 10l.94 2.06.94-2.06 2.06-.94-2.06-.94-.94-2.06-.94 2.06-2.06.94z\"/><path d=\"M17.41 7.96l-1.37-1.37c-.4-.4-.92-.59-1.43-.59-.52 0-1.04.2-1.43.59L10.3 9.45l-7.72 7.72c-.78.78-.78 2.05 0 2.83L4 21.41c.39.39.9.59 1.41.59.51 0 1.02-.2 1.41-.59l7.78-7.78 2.81-2.81c.8-.78.8-2.07 0-2.86zM5.41 20L4 18.59l7.72-7.72 1.47 1.35L5.41 20z\"/>\n",
              "  </svg>\n",
              "      </button>\n",
              "      \n",
              "  <style>\n",
              "    .colab-df-container {\n",
              "      display:flex;\n",
              "      flex-wrap:wrap;\n",
              "      gap: 12px;\n",
              "    }\n",
              "\n",
              "    .colab-df-convert {\n",
              "      background-color: #E8F0FE;\n",
              "      border: none;\n",
              "      border-radius: 50%;\n",
              "      cursor: pointer;\n",
              "      display: none;\n",
              "      fill: #1967D2;\n",
              "      height: 32px;\n",
              "      padding: 0 0 0 0;\n",
              "      width: 32px;\n",
              "    }\n",
              "\n",
              "    .colab-df-convert:hover {\n",
              "      background-color: #E2EBFA;\n",
              "      box-shadow: 0px 1px 2px rgba(60, 64, 67, 0.3), 0px 1px 3px 1px rgba(60, 64, 67, 0.15);\n",
              "      fill: #174EA6;\n",
              "    }\n",
              "\n",
              "    [theme=dark] .colab-df-convert {\n",
              "      background-color: #3B4455;\n",
              "      fill: #D2E3FC;\n",
              "    }\n",
              "\n",
              "    [theme=dark] .colab-df-convert:hover {\n",
              "      background-color: #434B5C;\n",
              "      box-shadow: 0px 1px 3px 1px rgba(0, 0, 0, 0.15);\n",
              "      filter: drop-shadow(0px 1px 2px rgba(0, 0, 0, 0.3));\n",
              "      fill: #FFFFFF;\n",
              "    }\n",
              "  </style>\n",
              "\n",
              "      <script>\n",
              "        const buttonEl =\n",
              "          document.querySelector('#df-1d0981b3-9c17-4397-86ee-2796b15a37a8 button.colab-df-convert');\n",
              "        buttonEl.style.display =\n",
              "          google.colab.kernel.accessAllowed ? 'block' : 'none';\n",
              "\n",
              "        async function convertToInteractive(key) {\n",
              "          const element = document.querySelector('#df-1d0981b3-9c17-4397-86ee-2796b15a37a8');\n",
              "          const dataTable =\n",
              "            await google.colab.kernel.invokeFunction('convertToInteractive',\n",
              "                                                     [key], {});\n",
              "          if (!dataTable) return;\n",
              "\n",
              "          const docLinkHtml = 'Like what you see? Visit the ' +\n",
              "            '<a target=\"_blank\" href=https://colab.research.google.com/notebooks/data_table.ipynb>data table notebook</a>'\n",
              "            + ' to learn more about interactive tables.';\n",
              "          element.innerHTML = '';\n",
              "          dataTable['output_type'] = 'display_data';\n",
              "          await google.colab.output.renderOutput(dataTable, element);\n",
              "          const docLink = document.createElement('div');\n",
              "          docLink.innerHTML = docLinkHtml;\n",
              "          element.appendChild(docLink);\n",
              "        }\n",
              "      </script>\n",
              "    </div>\n",
              "  </div>\n",
              "  "
            ]
          },
          "metadata": {},
          "execution_count": 81
        }
      ],
      "source": [
        "nlp = spacy.load(\"en_core_web_sm\")\n",
        "result[\"Tokenizacion\"]= final_text.apply(lambda x: nlp.tokenizer(x))\n",
        "result"
      ]
    },
    {
      "cell_type": "code",
      "source": [
        "result.info()"
      ],
      "metadata": {
        "colab": {
          "base_uri": "https://localhost:8080/"
        },
        "id": "MFxBtwFvQVL5",
        "outputId": "bce8f63f-088a-4628-dcc4-98cd646490e3"
      },
      "id": "MFxBtwFvQVL5",
      "execution_count": 82,
      "outputs": [
        {
          "output_type": "stream",
          "name": "stdout",
          "text": [
            "<class 'pandas.core.frame.DataFrame'>\n",
            "RangeIndex: 1000 entries, 0 to 999\n",
            "Data columns (total 3 columns):\n",
            " #   Column        Non-Null Count  Dtype \n",
            "---  ------        --------------  ----- \n",
            " 0   Text          1000 non-null   object\n",
            " 1   IsToxic       1000 non-null   uint8 \n",
            " 2   Tokenizacion  1000 non-null   object\n",
            "dtypes: object(2), uint8(1)\n",
            "memory usage: 16.7+ KB\n"
          ]
        }
      ]
    },
    {
      "cell_type": "markdown",
      "id": "ac9963db",
      "metadata": {
        "id": "ac9963db"
      },
      "source": [
        "# Split"
      ]
    },
    {
      "cell_type": "code",
      "execution_count": 83,
      "id": "d156fac7",
      "metadata": {
        "colab": {
          "base_uri": "https://localhost:8080/"
        },
        "id": "d156fac7",
        "outputId": "fd6a6d11-ecb1-4d28-a25c-889f8a56bbf2"
      },
      "outputs": [
        {
          "output_type": "stream",
          "name": "stdout",
          "text": [
            "Training examples: 800, testing examples 200\n"
          ]
        }
      ],
      "source": [
        "from sklearn.model_selection import train_test_split\n",
        "X = result[\"Text\"]\n",
        "y = result[\"IsToxic\"]\n",
        "\n",
        "train_text,test_text, train_labels, test_labels = train_test_split( X, y, test_size=0.2, stratify = y)\n",
        "print(f\"Training examples: {len(train_text)}, testing examples {len(test_text)}\")"
      ]
    },
    {
      "cell_type": "markdown",
      "id": "ec260ae4",
      "metadata": {
        "id": "ec260ae4"
      },
      "source": [
        "# Entrenamiento"
      ]
    },
    {
      "cell_type": "code",
      "source": [
        "from sklearn.feature_extraction.text import CountVectorizer, TfidfTransformer\n",
        "count_vect = CountVectorizer(stop_words='english')\n",
        "transformer = TfidfTransformer(norm='l2',sublinear_tf=True)"
      ],
      "metadata": {
        "id": "sBhyljn0e_G1"
      },
      "id": "sBhyljn0e_G1",
      "execution_count": 84,
      "outputs": []
    },
    {
      "cell_type": "code",
      "source": [
        "x_train_counts = count_vect.fit_transform(train_text)\n",
        "x_train_tfidf = transformer.fit_transform(x_train_counts)"
      ],
      "metadata": {
        "id": "jUucVcNFmLfk"
      },
      "id": "jUucVcNFmLfk",
      "execution_count": 85,
      "outputs": []
    },
    {
      "cell_type": "code",
      "source": [
        "print(x_train_counts.shape)\n",
        "print(x_train_tfidf.shape)"
      ],
      "metadata": {
        "colab": {
          "base_uri": "https://localhost:8080/"
        },
        "id": "6CEpB3rzmSNy",
        "outputId": "6afb1947-7c3d-4e2b-c3a1-30c7d51da9c5"
      },
      "id": "6CEpB3rzmSNy",
      "execution_count": 86,
      "outputs": [
        {
          "output_type": "stream",
          "name": "stdout",
          "text": [
            "(800, 3902)\n",
            "(800, 3902)\n"
          ]
        }
      ]
    },
    {
      "cell_type": "code",
      "source": [
        "x_test_counts = count_vect.transform(test_text)\n",
        "x_test_tfidf = transformer.transform(x_test_counts)"
      ],
      "metadata": {
        "id": "qMdQYlFzmYGS"
      },
      "id": "qMdQYlFzmYGS",
      "execution_count": 87,
      "outputs": []
    },
    {
      "cell_type": "markdown",
      "id": "2eda5f0d",
      "metadata": {
        "id": "2eda5f0d"
      },
      "source": [
        "# Modelos predictivos"
      ]
    },
    {
      "cell_type": "code",
      "source": [
        "from sklearn.ensemble import RandomForestClassifier\n",
        "from sklearn.metrics import *\n",
        "\n",
        "model = RandomForestClassifier(n_estimators=500)\n",
        "model.fit(x_train_tfidf,train_labels)"
      ],
      "metadata": {
        "colab": {
          "base_uri": "https://localhost:8080/"
        },
        "id": "jLvBAcCYmj6f",
        "outputId": "d61798be-d2a7-46ab-8084-a3636ddd50f3"
      },
      "id": "jLvBAcCYmj6f",
      "execution_count": 88,
      "outputs": [
        {
          "output_type": "execute_result",
          "data": {
            "text/plain": [
              "RandomForestClassifier(bootstrap=True, ccp_alpha=0.0, class_weight=None,\n",
              "                       criterion='gini', max_depth=None, max_features='auto',\n",
              "                       max_leaf_nodes=None, max_samples=None,\n",
              "                       min_impurity_decrease=0.0, min_samples_leaf=1,\n",
              "                       min_samples_split=2, min_weight_fraction_leaf=0.0,\n",
              "                       n_estimators=500, n_jobs=None, oob_score=False,\n",
              "                       random_state=None, verbose=0, warm_start=False)"
            ]
          },
          "metadata": {},
          "execution_count": 88
        }
      ]
    },
    {
      "cell_type": "code",
      "source": [
        "predictions = model.predict(x_test_tfidf)\n",
        "predictions2 = model.predict(x_train_tfidf)"
      ],
      "metadata": {
        "id": "wXzg7GgDmrZR"
      },
      "id": "wXzg7GgDmrZR",
      "execution_count": 89,
      "outputs": []
    },
    {
      "cell_type": "code",
      "source": [
        "#Matriz de confusion\n",
        "    \n",
        "print()\n",
        "print(f\"Matriz de Confusión:\")\n",
        "print()\n",
        "    \n",
        "con_matrix = confusion_matrix(test_labels, predictions)\n",
        "classes_names = ['False', 'True']\n",
        "con_matrix_ConfusionMatrix = pd.DataFrame(con_matrix, index=classes_names, columns=classes_names)\n",
        "\n",
        "sns.heatmap(con_matrix_ConfusionMatrix, annot=True, cbar=None, cmap=\"Blues\", fmt = 'g')\n",
        "plt.title(\"RandomForest Confusion Matrix\")\n",
        "plt.tight_layout()\n",
        "plt.ylabel(\"True Class\")\n",
        "plt.xlabel(\"Predicted Class\")\n",
        "plt.show()\n",
        "\n",
        "\n",
        "#Metricas de test\n",
        "\n",
        "accur = accuracy_score(test_labels, predictions)\n",
        "preci = precision_score(test_labels, predictions)\n",
        "recal = recall_score(test_labels, predictions)\n",
        "f1 = f1_score(test_labels, predictions)\n",
        "class_repor = classification_report(test_labels, predictions)\n",
        "\n",
        "\n",
        "#Metricas de train\n",
        "\n",
        "accur_train = accuracy_score(train_labels, predictions2)\n",
        "preci_train = precision_score(train_labels, predictions2)\n",
        "recal_train = recall_score(train_labels, predictions2)\n",
        "f1_train = f1_score(train_labels, predictions2)\n",
        "\n",
        "\n",
        "print()\n",
        "print(f\"Recall: {recal}\")\n",
        "print(f\"Precision: {preci}\")\n",
        "print(f\"F1_score: {f1}\")\n",
        "print(f\"Accuracy: {accur}\")\n",
        "print()\n",
        "print(\"*************************************************\")\n",
        "print()\n",
        "print(f\"recall_score_train: {recal_train}\")\n",
        "print(f\"precision_score_train: {preci_train}\")\n",
        "print(f\"f1_score_train: {f1_train}\")\n",
        "print(f\"accuracy_score_train: {accur_train}\")\n",
        "print()\n",
        "print(\"Overfitting {:.2f} % \".format(((accur - accur_train)/accur) *100))\n",
        "print()\n",
        "print(f\"Reporte de Clasificación:\")\n",
        "print()\n",
        "print(classification_report(predictions,test_labels))"
      ],
      "metadata": {
        "colab": {
          "base_uri": "https://localhost:8080/",
          "height": 841
        },
        "id": "ghT9_Tqgn7Np",
        "outputId": "ccca10b6-6eba-4cad-eaa4-fd5331c9fb8c"
      },
      "id": "ghT9_Tqgn7Np",
      "execution_count": 90,
      "outputs": [
        {
          "output_type": "stream",
          "name": "stdout",
          "text": [
            "\n",
            "Matriz de Confusión:\n",
            "\n"
          ]
        },
        {
          "output_type": "display_data",
          "data": {
            "text/plain": [
              "<Figure size 432x288 with 1 Axes>"
            ],
            "image/png": "[encoded data removed]"
          },
          "metadata": {
            "needs_background": "light"
          }
        },
        {
          "output_type": "stream",
          "name": "stdout",
          "text": [
            "\n",
            "Recall: 0.4782608695652174\n",
            "Precision: 0.8148148148148148\n",
            "F1_score: 0.6027397260273973\n",
            "Accuracy: 0.71\n",
            "\n",
            "*************************************************\n",
            "\n",
            "recall_score_train: 1.0\n",
            "precision_score_train: 1.0\n",
            "f1_score_train: 1.0\n",
            "accuracy_score_train: 1.0\n",
            "\n",
            "Overfitting -40.85 % \n",
            "\n",
            "Reporte de Clasificación:\n",
            "\n",
            "              precision    recall  f1-score   support\n",
            "\n",
            "           0       0.91      0.67      0.77       146\n",
            "           1       0.48      0.81      0.60        54\n",
            "\n",
            "    accuracy                           0.71       200\n",
            "   macro avg       0.69      0.74      0.69       200\n",
            "weighted avg       0.79      0.71      0.73       200\n",
            "\n"
          ]
        }
      ]
    },
    {
      "cell_type": "code",
      "source": [
        "from sklearn.naive_bayes import MultinomialNB\n",
        "NB = MultinomialNB()\n",
        "NB.fit(x_train_tfidf, train_labels)"
      ],
      "metadata": {
        "colab": {
          "base_uri": "https://localhost:8080/"
        },
        "id": "2d4J1DVVrkVZ",
        "outputId": "e68310dc-3e70-4a26-ba47-33c8ca2f38ff"
      },
      "id": "2d4J1DVVrkVZ",
      "execution_count": 91,
      "outputs": [
        {
          "output_type": "execute_result",
          "data": {
            "text/plain": [
              "MultinomialNB(alpha=1.0, class_prior=None, fit_prior=True)"
            ]
          },
          "metadata": {},
          "execution_count": 91
        }
      ]
    },
    {
      "cell_type": "code",
      "source": [
        "predict_nb = NB.predict(x_test_tfidf)\n",
        "predict2_nb = NB.predict(x_train_tfidf)"
      ],
      "metadata": {
        "id": "s0gsj0mCDE3i"
      },
      "id": "s0gsj0mCDE3i",
      "execution_count": 92,
      "outputs": []
    },
    {
      "cell_type": "code",
      "source": [
        "#Matriz de confusion\n",
        "    \n",
        "print()\n",
        "print(f\"Matriz de Confusión:\")\n",
        "print()\n",
        "    \n",
        "con_matrix = confusion_matrix(test_labels, predict_nb)\n",
        "classes_names = ['False', 'True']\n",
        "con_matrix_ConfusionMatrix = pd.DataFrame(con_matrix, index=classes_names, columns=classes_names)\n",
        "\n",
        "sns.heatmap(con_matrix_ConfusionMatrix, annot=True, cbar=None, cmap=\"Blues\", fmt = 'g')\n",
        "plt.title(\"Naive Bayes Confusion Matrix\")\n",
        "plt.tight_layout()\n",
        "plt.ylabel(\"True Class\")\n",
        "plt.xlabel(\"Predicted Class\")\n",
        "plt.show()\n",
        "\n",
        "#Metricas de test\n",
        "\n",
        "accur = accuracy_score(test_labels, predict_nb)\n",
        "preci = precision_score(test_labels, predict_nb)\n",
        "recal = recall_score(test_labels, predict_nb)\n",
        "f1 = f1_score(test_labels, predict_nb)\n",
        "class_repor = classification_report(test_labels, predict_nb)\n",
        "\n",
        "\n",
        "#Metricas de train\n",
        "\n",
        "accur_train = accuracy_score(train_labels, predict2_nb)\n",
        "preci_train = precision_score(train_labels, predict2_nb)\n",
        "recal_train = recall_score(train_labels, predict2_nb)\n",
        "f1_train = f1_score(train_labels, predict2_nb)\n",
        "\n",
        "\n",
        "print()\n",
        "print(f\"Recall: {recal}\")\n",
        "print(f\"Precision: {preci}\")\n",
        "print(f\"F1_score: {f1}\")\n",
        "print(f\"Accuracy: {accur}\")\n",
        "print()\n",
        "print(\"*************************************************\")\n",
        "print()\n",
        "print(f\"recall_score_train: {recal_train}\")\n",
        "print(f\"precision_score_train: {preci_train}\")\n",
        "print(f\"f1_score_train: {f1_train}\")\n",
        "print(f\"accuracy_score_train: {accur_train}\")\n",
        "print()\n",
        "print(f\"accuracy_score_train: {accur_train}\")\n",
        "print()\n",
        "print(\"Overfitting {:.2f} % \".format(((accur - accur_train)/accur) *100))\n",
        "print()\n",
        "print(f\"Reporte de Clasificación:\")\n",
        "print()\n",
        "print(classification_report(predict_nb,test_labels))"
      ],
      "metadata": {
        "colab": {
          "base_uri": "https://localhost:8080/",
          "height": 877
        },
        "id": "o90dy5QwDLwQ",
        "outputId": "983a6989-54d0-434b-887b-93eca68833ac"
      },
      "id": "o90dy5QwDLwQ",
      "execution_count": 93,
      "outputs": [
        {
          "output_type": "stream",
          "name": "stdout",
          "text": [
            "\n",
            "Matriz de Confusión:\n",
            "\n"
          ]
        },
        {
          "output_type": "display_data",
          "data": {
            "text/plain": [
              "<Figure size 432x288 with 1 Axes>"
            ],
            "image/png": "[encoded data removed]"
          },
          "metadata": {
            "needs_background": "light"
          }
        },
        {
          "output_type": "stream",
          "name": "stdout",
          "text": [
            "\n",
            "Recall: 0.5869565217391305\n",
            "Precision: 0.7297297297297297\n",
            "F1_score: 0.6506024096385542\n",
            "Accuracy: 0.71\n",
            "\n",
            "*************************************************\n",
            "\n",
            "recall_score_train: 0.9594594594594594\n",
            "precision_score_train: 0.9861111111111112\n",
            "f1_score_train: 0.9726027397260274\n",
            "accuracy_score_train: 0.975\n",
            "\n",
            "accuracy_score_train: 0.975\n",
            "\n",
            "Overfitting -37.32 % \n",
            "\n",
            "Reporte de Clasificación:\n",
            "\n",
            "              precision    recall  f1-score   support\n",
            "\n",
            "           0       0.81      0.70      0.75       126\n",
            "           1       0.59      0.73      0.65        74\n",
            "\n",
            "    accuracy                           0.71       200\n",
            "   macro avg       0.70      0.71      0.70       200\n",
            "weighted avg       0.73      0.71      0.71       200\n",
            "\n"
          ]
        }
      ]
    },
    {
      "cell_type": "code",
      "source": [
        "from lightgbm import LGBMClassifier\n",
        "LGBM = LGBMClassifier(learning_rate=0.01, max_depth = 4, scale_pos_weight = 5, class_weight= \"balanced\", min_child_weight =15)\n",
        "LGBM.fit(x_train_tfidf, train_labels)"
      ],
      "metadata": {
        "colab": {
          "base_uri": "https://localhost:8080/"
        },
        "id": "9Dpl66XTDYNm",
        "outputId": "8bf6984b-fa8f-4bdb-bc33-508b82cbe59d"
      },
      "id": "9Dpl66XTDYNm",
      "execution_count": 94,
      "outputs": [
        {
          "output_type": "execute_result",
          "data": {
            "text/plain": [
              "LGBMClassifier(boosting_type='gbdt', class_weight='balanced',\n",
              "               colsample_bytree=1.0, importance_type='split',\n",
              "               learning_rate=0.01, max_depth=4, min_child_samples=20,\n",
              "               min_child_weight=15, min_split_gain=0.0, n_estimators=100,\n",
              "               n_jobs=-1, num_leaves=31, objective=None, random_state=None,\n",
              "               reg_alpha=0.0, reg_lambda=0.0, scale_pos_weight=5, silent=True,\n",
              "               subsample=1.0, subsample_for_bin=200000, subsample_freq=0)"
            ]
          },
          "metadata": {},
          "execution_count": 94
        }
      ]
    },
    {
      "cell_type": "code",
      "source": [
        "predict_lgbm = LGBM.predict(x_test_tfidf)\n",
        "predict2_lgbm = LGBM.predict(x_train_tfidf)"
      ],
      "metadata": {
        "id": "u8YIhe8FF9Dr"
      },
      "id": "u8YIhe8FF9Dr",
      "execution_count": 95,
      "outputs": []
    },
    {
      "cell_type": "code",
      "source": [
        "#Matriz de confusion\n",
        "    \n",
        "print()\n",
        "print(f\"Matriz de Confusión:\")\n",
        "print()\n",
        "    \n",
        "con_matrix = confusion_matrix(test_labels, predict_nb)\n",
        "classes_names = ['False', 'True']\n",
        "con_matrix_ConfusionMatrix = pd.DataFrame(con_matrix, index=classes_names, columns=classes_names)\n",
        "\n",
        "sns.heatmap(con_matrix_ConfusionMatrix, annot=True, cbar=None, cmap=\"Blues\", fmt = 'g')\n",
        "plt.title(\"LGBM Confusion Matrix\")\n",
        "plt.tight_layout()\n",
        "plt.ylabel(\"True Class\")\n",
        "plt.xlabel(\"Predicted Class\")\n",
        "plt.show()\n",
        "\n",
        "#Metricas de test\n",
        "\n",
        "accur = accuracy_score(test_labels, predict_lgbm)\n",
        "preci = precision_score(test_labels, predict_lgbm)\n",
        "recal = recall_score(test_labels, predict_lgbm)\n",
        "f1 = f1_score(test_labels, predict_lgbm)\n",
        "class_repor = classification_report(test_labels, predict_lgbm)\n",
        "\n",
        "\n",
        "#Metricas de train\n",
        "\n",
        "accur_train = accuracy_score(train_labels, predict2_lgbm)\n",
        "preci_train = precision_score(train_labels, predict2_lgbm)\n",
        "recal_train = recall_score(train_labels, predict2_lgbm)\n",
        "f1_train = f1_score(train_labels, predict2_lgbm)\n",
        "\n",
        "\n",
        "print()\n",
        "print(f\"Recall: {recal}\")\n",
        "print(f\"Precision: {preci}\")\n",
        "print(f\"F1_score: {f1}\")\n",
        "print(f\"Accuracy: {accur}\")\n",
        "print()\n",
        "print(\"*************************************************\")\n",
        "print()\n",
        "print(f\"recall_score_train: {recal_train}\")\n",
        "print(f\"precision_score_train: {preci_train}\")\n",
        "print(f\"f1_score_train: {f1_train}\")\n",
        "print(f\"accuracy_score_train: {accur_train}\")\n",
        "print()\n",
        "print(\"Overfitting {:.2f} % \".format(((accur - accur_train)/accur) *100))\n",
        "print(\"-----------------------------------------------------\")\n",
        "print()\n",
        "print(f\"Reporte de Clasificación:\")\n",
        "print()\n",
        "print(classification_report(predict_lgbm,test_labels))"
      ],
      "metadata": {
        "colab": {
          "base_uri": "https://localhost:8080/",
          "height": 859
        },
        "id": "7rUNW0g3GPm9",
        "outputId": "236fc40e-f637-4ae4-fb7f-907e6a33e182"
      },
      "id": "7rUNW0g3GPm9",
      "execution_count": 96,
      "outputs": [
        {
          "output_type": "stream",
          "name": "stdout",
          "text": [
            "\n",
            "Matriz de Confusión:\n",
            "\n"
          ]
        },
        {
          "output_type": "display_data",
          "data": {
            "text/plain": [
              "<Figure size 432x288 with 1 Axes>"
            ],
            "image/png": "[encoded data removed]"
          },
          "metadata": {
            "needs_background": "light"
          }
        },
        {
          "output_type": "stream",
          "name": "stdout",
          "text": [
            "\n",
            "Recall: 1.0\n",
            "Precision: 0.46\n",
            "F1_score: 0.6301369863013699\n",
            "Accuracy: 0.46\n",
            "\n",
            "*************************************************\n",
            "\n",
            "recall_score_train: 1.0\n",
            "precision_score_train: 0.4625\n",
            "f1_score_train: 0.6324786324786326\n",
            "accuracy_score_train: 0.4625\n",
            "\n",
            "Overfitting -0.54 % \n",
            "-----------------------------------------------------\n",
            "\n",
            "Reporte de Clasificación:\n",
            "\n",
            "              precision    recall  f1-score   support\n",
            "\n",
            "           0       0.00      0.00      0.00         0\n",
            "           1       1.00      0.46      0.63       200\n",
            "\n",
            "    accuracy                           0.46       200\n",
            "   macro avg       0.50      0.23      0.32       200\n",
            "weighted avg       1.00      0.46      0.63       200\n",
            "\n"
          ]
        }
      ]
    },
    {
      "cell_type": "markdown",
      "source": [
        "## Modelo de XGBoost Classifier"
      ],
      "metadata": {
        "id": "KEN9T_EZALzI"
      },
      "id": "KEN9T_EZALzI"
    },
    {
      "cell_type": "code",
      "source": [
        "#Building XGBoost Model\n",
        "from xgboost import XGBClassifier\n",
        "model_bow = XGBClassifier(learning_rate=0.01, max_depth = 5, scale_pos_weight = 10, class_weight= \"balanced\")\n",
        "model_bow.fit(x_train_tfidf,train_labels)"
      ],
      "metadata": {
        "colab": {
          "base_uri": "https://localhost:8080/"
        },
        "id": "oiLNegxCJQi1",
        "outputId": "06c6a33b-0d3a-4c8b-a215-cfe6cad588d0"
      },
      "id": "oiLNegxCJQi1",
      "execution_count": 97,
      "outputs": [
        {
          "output_type": "execute_result",
          "data": {
            "text/plain": [
              "XGBClassifier(base_score=0.5, booster='gbtree', class_weight='balanced',\n",
              "              colsample_bylevel=1, colsample_bynode=1, colsample_bytree=1,\n",
              "              gamma=0, learning_rate=0.01, max_delta_step=0, max_depth=5,\n",
              "              min_child_weight=1, missing=None, n_estimators=100, n_jobs=1,\n",
              "              nthread=None, objective='binary:logistic', random_state=0,\n",
              "              reg_alpha=0, reg_lambda=1, scale_pos_weight=10, seed=None,\n",
              "              silent=None, subsample=1, verbosity=1)"
            ]
          },
          "metadata": {},
          "execution_count": 97
        }
      ]
    },
    {
      "cell_type": "code",
      "source": [
        "predict_xgb = model_bow.predict(x_test_tfidf)\n",
        "predict2_xgb = model_bow.predict(x_train_tfidf)"
      ],
      "metadata": {
        "id": "nAkf2AQanzc6"
      },
      "id": "nAkf2AQanzc6",
      "execution_count": 98,
      "outputs": []
    },
    {
      "cell_type": "code",
      "source": [
        "#Matriz de confusion\n",
        "    \n",
        "print()\n",
        "print(f\"Matriz de Confusión:\")\n",
        "print()\n",
        "    \n",
        "con_matrix = confusion_matrix(test_labels, predict_xgb)\n",
        "classes_names = ['False', 'True']\n",
        "con_matrix_ConfusionMatrix = pd.DataFrame(con_matrix, index=classes_names, columns=classes_names)\n",
        "\n",
        "sns.heatmap(con_matrix_ConfusionMatrix, annot=True, cbar=None, cmap=\"Blues\", fmt = 'g')\n",
        "plt.title(\"XGBoost Confusion Matrix\")\n",
        "plt.tight_layout()\n",
        "plt.ylabel(\"True Class\")\n",
        "plt.xlabel(\"Predicted Class\")\n",
        "plt.show()\n",
        "\n",
        "\n",
        "#Metricas de test\n",
        "\n",
        "accur = accuracy_score(test_labels, predict_xgb)\n",
        "preci = precision_score(test_labels, predict_xgb)\n",
        "recal = recall_score(test_labels, predict_xgb)\n",
        "f1 = f1_score(test_labels, predict_xgb)\n",
        "class_repor = classification_report(test_labels, predict_xgb)\n",
        "\n",
        "\n",
        "#Metricas de train\n",
        "\n",
        "accur_train = accuracy_score(train_labels, predict2_xgb)\n",
        "preci_train = precision_score(train_labels, predict2_xgb)\n",
        "recal_train = recall_score(train_labels, predict2_xgb)\n",
        "f1_train = f1_score(train_labels, predict2_xgb)\n",
        "\n",
        "\n",
        "print()\n",
        "print(f\"Recall: {recal}\")\n",
        "print(f\"Precision: {preci}\")\n",
        "print(f\"F1_score: {f1}\")\n",
        "print(f\"Accuracy: {accur}\")\n",
        "print()\n",
        "print(\"*************************************************\")\n",
        "print()\n",
        "print(f\"recall_score_train: {recal_train}\")\n",
        "print(f\"precision_score_train: {preci_train}\")\n",
        "print(f\"f1_score_train: {f1_train}\")\n",
        "print(f\"accuracy_score_train: {accur_train}\")\n",
        "print()\n",
        "print()\n",
        "print(\"Overfitting {:.2f} % \".format(((accur - accur_train)/accur) *100))\n",
        "print()\n",
        "print(f\"Reporte de Clasificación:\")\n",
        "print()\n",
        "print(classification_report(predict_xgb,test_labels))"
      ],
      "metadata": {
        "colab": {
          "base_uri": "https://localhost:8080/",
          "height": 859
        },
        "id": "46jenKsyn3pf",
        "outputId": "29bd9e63-db55-4416-ee56-fdc0da6ccf35"
      },
      "id": "46jenKsyn3pf",
      "execution_count": 99,
      "outputs": [
        {
          "output_type": "stream",
          "name": "stdout",
          "text": [
            "\n",
            "Matriz de Confusión:\n",
            "\n"
          ]
        },
        {
          "output_type": "display_data",
          "data": {
            "text/plain": [
              "<Figure size 432x288 with 1 Axes>"
            ],
            "image/png": "[encoded data removed]"
          },
          "metadata": {
            "needs_background": "light"
          }
        },
        {
          "output_type": "stream",
          "name": "stdout",
          "text": [
            "\n",
            "Recall: 0.9782608695652174\n",
            "Precision: 0.4838709677419355\n",
            "F1_score: 0.6474820143884893\n",
            "Accuracy: 0.51\n",
            "\n",
            "*************************************************\n",
            "\n",
            "recall_score_train: 1.0\n",
            "precision_score_train: 0.4959785522788204\n",
            "f1_score_train: 0.6630824372759856\n",
            "accuracy_score_train: 0.53\n",
            "\n",
            "\n",
            "Overfitting -3.92 % \n",
            "\n",
            "Reporte de Clasificación:\n",
            "\n",
            "              precision    recall  f1-score   support\n",
            "\n",
            "           0       0.11      0.86      0.20        14\n",
            "           1       0.98      0.48      0.65       186\n",
            "\n",
            "    accuracy                           0.51       200\n",
            "   macro avg       0.54      0.67      0.42       200\n",
            "weighted avg       0.92      0.51      0.62       200\n",
            "\n"
          ]
        }
      ]
    },
    {
      "cell_type": "code",
      "source": [
        "#Se importa pickle para guardar el modelo y el transformer\n",
        "import pickle\n",
        "modelo_pickle = 'model_bow.pkl'\n",
        "pickle.dump(model_bow, open(modelo_pickle, 'wb')) \n",
        "#Comprobar que el modelo de ha guardado\n",
        "modeloprueba = pickle.load(open('model_bow.pkl', 'rb'))"
      ],
      "metadata": {
        "id": "6vtxkijPh4IR"
      },
      "id": "6vtxkijPh4IR",
      "execution_count": 100,
      "outputs": []
    },
    {
      "cell_type": "code",
      "source": [
        "pickle.dump(count_vect, open('count_vect.pkl', 'wb'))\n",
        "pickle.dump(transformer, open('transformer.pkl', 'wb'))"
      ],
      "metadata": {
        "id": "wIQuebzIG85j"
      },
      "id": "wIQuebzIG85j",
      "execution_count": 104,
      "outputs": []
    },
    {
      "cell_type": "markdown",
      "source": [
        "## Auto ML"
      ],
      "metadata": {
        "id": "dKzHKDR3SngG"
      },
      "id": "dKzHKDR3SngG"
    },
    {
      "cell_type": "code",
      "source": [
        "#Librerias\n",
        "import re\n",
        "import nltk\n",
        "import gensim\n",
        "from gensim.models import Word2Vec\n",
        "from pycaret.nlp import *\n",
        "from pycaret.classification import *"
      ],
      "metadata": {
        "id": "lAt7HN-NhRtx"
      },
      "id": "lAt7HN-NhRtx",
      "execution_count": 117,
      "outputs": []
    },
    {
      "cell_type": "code",
      "source": [
        "from pycaret.nlp import *\n",
        "pre_process = setup(data = result ,target ='Tokenizacion', session_id = 1, custom_stopwords= ['english'])\n"
      ],
      "metadata": {
        "colab": {
          "base_uri": "https://localhost:8080/",
          "height": 175,
          "referenced_widgets": [
            "9b5f159fd9f348a38df9ff560a5040ce",
            "bcbc3a88745347989e86e1828f21ec14",
            "4736cd339a654c0ea65e52aa711b1da4"
          ]
        },
        "id": "68gBXDIeSsPa",
        "outputId": "afdbc8c1-1934-4ad0-afb9-1111251dba06"
      },
      "id": "68gBXDIeSsPa",
      "execution_count": 106,
      "outputs": [
        {
          "output_type": "display_data",
          "data": {
            "text/plain": [
              "<pandas.io.formats.style.Styler at 0x7ff4270a5d90>"
            ],
            "text/html": [
              "<style type=\"text/css\">\n",
              "</style>\n",
              "<table id=\"T_634ca_\" class=\"dataframe\">\n",
              "  <thead>\n",
              "    <tr>\n",
              "      <th class=\"col_heading level0 col0\" >Description</th>\n",
              "      <th class=\"col_heading level0 col1\" >Value</th>\n",
              "    </tr>\n",
              "  </thead>\n",
              "  <tbody>\n",
              "    <tr>\n",
              "      <td id=\"T_634ca_row0_col0\" class=\"data row0 col0\" >session_id</td>\n",
              "      <td id=\"T_634ca_row0_col1\" class=\"data row0 col1\" >1</td>\n",
              "    </tr>\n",
              "    <tr>\n",
              "      <td id=\"T_634ca_row1_col0\" class=\"data row1 col0\" >Documents</td>\n",
              "      <td id=\"T_634ca_row1_col1\" class=\"data row1 col1\" >1000</td>\n",
              "    </tr>\n",
              "    <tr>\n",
              "      <td id=\"T_634ca_row2_col0\" class=\"data row2 col0\" >Vocab Size</td>\n",
              "      <td id=\"T_634ca_row2_col1\" class=\"data row2 col1\" >3145</td>\n",
              "    </tr>\n",
              "    <tr>\n",
              "      <td id=\"T_634ca_row3_col0\" class=\"data row3 col0\" >Custom Stopwords</td>\n",
              "      <td id=\"T_634ca_row3_col1\" class=\"data row3 col1\" >True</td>\n",
              "    </tr>\n",
              "  </tbody>\n",
              "</table>\n"
            ]
          },
          "metadata": {}
        }
      ]
    },
    {
      "cell_type": "code",
      "source": [
        "models()"
      ],
      "metadata": {
        "colab": {
          "base_uri": "https://localhost:8080/",
          "height": 237
        },
        "id": "I3NaAw8tS3cA",
        "outputId": "f809bdf5-ced0-4ccb-f6bc-568243a129b9"
      },
      "id": "I3NaAw8tS3cA",
      "execution_count": 107,
      "outputs": [
        {
          "output_type": "execute_result",
          "data": {
            "text/plain": [
              "                                  Name                  Reference\n",
              "ID                                                               \n",
              "lda        Latent Dirichlet Allocation     gensim/models/ldamodel\n",
              "lsi           Latent Semantic Indexing     gensim/models/lsimodel\n",
              "hdp     Hierarchical Dirichlet Process     gensim/models/hdpmodel\n",
              "rp                  Random Projections      gensim/models/rpmodel\n",
              "nmf  Non-Negative Matrix Factorization  sklearn.decomposition.NMF"
            ],
            "text/html": [
              "\n",
              "  <div id=\"df-5f65c85c-d9b1-41bf-98ea-de79818381db\">\n",
              "    <div class=\"colab-df-container\">\n",
              "      <div>\n",
              "<style scoped>\n",
              "    .dataframe tbody tr th:only-of-type {\n",
              "        vertical-align: middle;\n",
              "    }\n",
              "\n",
              "    .dataframe tbody tr th {\n",
              "        vertical-align: top;\n",
              "    }\n",
              "\n",
              "    .dataframe thead th {\n",
              "        text-align: right;\n",
              "    }\n",
              "</style>\n",
              "<table border=\"1\" class=\"dataframe\">\n",
              "  <thead>\n",
              "    <tr style=\"text-align: right;\">\n",
              "      <th></th>\n",
              "      <th>Name</th>\n",
              "      <th>Reference</th>\n",
              "    </tr>\n",
              "    <tr>\n",
              "      <th>ID</th>\n",
              "      <th></th>\n",
              "      <th></th>\n",
              "    </tr>\n",
              "  </thead>\n",
              "  <tbody>\n",
              "    <tr>\n",
              "      <th>lda</th>\n",
              "      <td>Latent Dirichlet Allocation</td>\n",
              "      <td>gensim/models/ldamodel</td>\n",
              "    </tr>\n",
              "    <tr>\n",
              "      <th>lsi</th>\n",
              "      <td>Latent Semantic Indexing</td>\n",
              "      <td>gensim/models/lsimodel</td>\n",
              "    </tr>\n",
              "    <tr>\n",
              "      <th>hdp</th>\n",
              "      <td>Hierarchical Dirichlet Process</td>\n",
              "      <td>gensim/models/hdpmodel</td>\n",
              "    </tr>\n",
              "    <tr>\n",
              "      <th>rp</th>\n",
              "      <td>Random Projections</td>\n",
              "      <td>gensim/models/rpmodel</td>\n",
              "    </tr>\n",
              "    <tr>\n",
              "      <th>nmf</th>\n",
              "      <td>Non-Negative Matrix Factorization</td>\n",
              "      <td>sklearn.decomposition.NMF</td>\n",
              "    </tr>\n",
              "  </tbody>\n",
              "</table>\n",
              "</div>\n",
              "      <button class=\"colab-df-convert\" onclick=\"convertToInteractive('df-5f65c85c-d9b1-41bf-98ea-de79818381db')\"\n",
              "              title=\"Convert this dataframe to an interactive table.\"\n",
              "              style=\"display:none;\">\n",
              "        \n",
              "  <svg xmlns=\"http://www.w3.org/2000/svg\" height=\"24px\"viewBox=\"0 0 24 24\"\n",
              "       width=\"24px\">\n",
              "    <path d=\"M0 0h24v24H0V0z\" fill=\"none\"/>\n",
              "    <path d=\"M18.56 5.44l.94 2.06.94-2.06 2.06-.94-2.06-.94-.94-2.06-.94 2.06-2.06.94zm-11 1L8.5 8.5l.94-2.06 2.06-.94-2.06-.94L8.5 2.5l-.94 2.06-2.06.94zm10 10l.94 2.06.94-2.06 2.06-.94-2.06-.94-.94-2.06-.94 2.06-2.06.94z\"/><path d=\"M17.41 7.96l-1.37-1.37c-.4-.4-.92-.59-1.43-.59-.52 0-1.04.2-1.43.59L10.3 9.45l-7.72 7.72c-.78.78-.78 2.05 0 2.83L4 21.41c.39.39.9.59 1.41.59.51 0 1.02-.2 1.41-.59l7.78-7.78 2.81-2.81c.8-.78.8-2.07 0-2.86zM5.41 20L4 18.59l7.72-7.72 1.47 1.35L5.41 20z\"/>\n",
              "  </svg>\n",
              "      </button>\n",
              "      \n",
              "  <style>\n",
              "    .colab-df-container {\n",
              "      display:flex;\n",
              "      flex-wrap:wrap;\n",
              "      gap: 12px;\n",
              "    }\n",
              "\n",
              "    .colab-df-convert {\n",
              "      background-color: #E8F0FE;\n",
              "      border: none;\n",
              "      border-radius: 50%;\n",
              "      cursor: pointer;\n",
              "      display: none;\n",
              "      fill: #1967D2;\n",
              "      height: 32px;\n",
              "      padding: 0 0 0 0;\n",
              "      width: 32px;\n",
              "    }\n",
              "\n",
              "    .colab-df-convert:hover {\n",
              "      background-color: #E2EBFA;\n",
              "      box-shadow: 0px 1px 2px rgba(60, 64, 67, 0.3), 0px 1px 3px 1px rgba(60, 64, 67, 0.15);\n",
              "      fill: #174EA6;\n",
              "    }\n",
              "\n",
              "    [theme=dark] .colab-df-convert {\n",
              "      background-color: #3B4455;\n",
              "      fill: #D2E3FC;\n",
              "    }\n",
              "\n",
              "    [theme=dark] .colab-df-convert:hover {\n",
              "      background-color: #434B5C;\n",
              "      box-shadow: 0px 1px 3px 1px rgba(0, 0, 0, 0.15);\n",
              "      filter: drop-shadow(0px 1px 2px rgba(0, 0, 0, 0.3));\n",
              "      fill: #FFFFFF;\n",
              "    }\n",
              "  </style>\n",
              "\n",
              "      <script>\n",
              "        const buttonEl =\n",
              "          document.querySelector('#df-5f65c85c-d9b1-41bf-98ea-de79818381db button.colab-df-convert');\n",
              "        buttonEl.style.display =\n",
              "          google.colab.kernel.accessAllowed ? 'block' : 'none';\n",
              "\n",
              "        async function convertToInteractive(key) {\n",
              "          const element = document.querySelector('#df-5f65c85c-d9b1-41bf-98ea-de79818381db');\n",
              "          const dataTable =\n",
              "            await google.colab.kernel.invokeFunction('convertToInteractive',\n",
              "                                                     [key], {});\n",
              "          if (!dataTable) return;\n",
              "\n",
              "          const docLinkHtml = 'Like what you see? Visit the ' +\n",
              "            '<a target=\"_blank\" href=https://colab.research.google.com/notebooks/data_table.ipynb>data table notebook</a>'\n",
              "            + ' to learn more about interactive tables.';\n",
              "          element.innerHTML = '';\n",
              "          dataTable['output_type'] = 'display_data';\n",
              "          await google.colab.output.renderOutput(dataTable, element);\n",
              "          const docLink = document.createElement('div');\n",
              "          docLink.innerHTML = docLinkHtml;\n",
              "          element.appendChild(docLink);\n",
              "        }\n",
              "      </script>\n",
              "    </div>\n",
              "  </div>\n",
              "  "
            ]
          },
          "metadata": {},
          "execution_count": 107
        }
      ]
    },
    {
      "cell_type": "code",
      "source": [
        "#Se elige un modelo de pycaret\n",
        "lda = create_model('lda')\n",
        "print(lda)"
      ],
      "metadata": {
        "colab": {
          "base_uri": "https://localhost:8080/",
          "height": 141,
          "referenced_widgets": [
            "734d7b0c97c24dd380c4bb72ceb7899b",
            "d6b5f7bef6294b5fac66296e9554d941",
            "3db17ac242f54176b0b959e203e43be6"
          ]
        },
        "id": "alEfIvfMVRbz",
        "outputId": "52e3a448-1db6-4f2f-95d8-6b1f1a15757c"
      },
      "id": "alEfIvfMVRbz",
      "execution_count": 108,
      "outputs": [
        {
          "output_type": "stream",
          "name": "stdout",
          "text": [
            "LdaModel(num_terms=3145, num_topics=4, decay=0.5, chunksize=100)\n"
          ]
        }
      ]
    },
    {
      "cell_type": "code",
      "source": [
        "lda_data = assign_model(lda)\n",
        "lda_data.head()"
      ],
      "metadata": {
        "colab": {
          "base_uri": "https://localhost:8080/",
          "height": 634,
          "referenced_widgets": [
            "85105b908d88455f9e9f94a4fccba623",
            "3c1c810ff2af480e8240973730eec998",
            "76ef2a74477441dab5ffffd1b9d41817"
          ]
        },
        "id": "u472TMd1VUN0",
        "outputId": "dc1c5997-2107-4ff8-f957-717eff322971"
      },
      "id": "u472TMd1VUN0",
      "execution_count": 109,
      "outputs": [
        {
          "output_type": "execute_result",
          "data": {
            "text/plain": [
              "                                                Text  IsToxic  \\\n",
              "0  if only people would just take a step back and...        0   \n",
              "1  law enforcement is not trained to shoot to app...        1   \n",
              "2  dont you reckon them black lives matter banner...        1   \n",
              "3  there are a very large number of people who do...        0   \n",
              "4  the arab dude is absolutely right he should ha...        0   \n",
              "\n",
              "                                        Tokenizacion   Topic_0   Topic_1  \\\n",
              "0  people take step back make case people situati...  0.002490  0.015253   \n",
              "1  law_enforcement train shoot apprehend train sh...  0.017372  0.034727   \n",
              "2  reckon black lives_matter banner hold white ki...  0.336677  0.014515   \n",
              "3  large number people police officer call crimin...  0.005325  0.012483   \n",
              "4  arab dude absolutely right shot extra time sho...  0.011971  0.023609   \n",
              "\n",
              "    Topic_2   Topic_3 Dominant_Topic  Perc_Dominant_Topic  \n",
              "0  0.066767  0.915490        Topic 3                 0.92  \n",
              "1  0.859040  0.088861        Topic 2                 0.86  \n",
              "2  0.500376  0.148431        Topic 2                 0.50  \n",
              "3  0.052195  0.929997        Topic 3                 0.93  \n",
              "4  0.742514  0.221906        Topic 2                 0.74  "
            ],
            "text/html": [
              "\n",
              "  <div id=\"df-f9ad3649-e329-48bb-95e7-d7a0a59df61a\">\n",
              "    <div class=\"colab-df-container\">\n",
              "      <div>\n",
              "<style scoped>\n",
              "    .dataframe tbody tr th:only-of-type {\n",
              "        vertical-align: middle;\n",
              "    }\n",
              "\n",
              "    .dataframe tbody tr th {\n",
              "        vertical-align: top;\n",
              "    }\n",
              "\n",
              "    .dataframe thead th {\n",
              "        text-align: right;\n",
              "    }\n",
              "</style>\n",
              "<table border=\"1\" class=\"dataframe\">\n",
              "  <thead>\n",
              "    <tr style=\"text-align: right;\">\n",
              "      <th></th>\n",
              "      <th>Text</th>\n",
              "      <th>IsToxic</th>\n",
              "      <th>Tokenizacion</th>\n",
              "      <th>Topic_0</th>\n",
              "      <th>Topic_1</th>\n",
              "      <th>Topic_2</th>\n",
              "      <th>Topic_3</th>\n",
              "      <th>Dominant_Topic</th>\n",
              "      <th>Perc_Dominant_Topic</th>\n",
              "    </tr>\n",
              "  </thead>\n",
              "  <tbody>\n",
              "    <tr>\n",
              "      <th>0</th>\n",
              "      <td>if only people would just take a step back and...</td>\n",
              "      <td>0</td>\n",
              "      <td>people take step back make case people situati...</td>\n",
              "      <td>0.002490</td>\n",
              "      <td>0.015253</td>\n",
              "      <td>0.066767</td>\n",
              "      <td>0.915490</td>\n",
              "      <td>Topic 3</td>\n",
              "      <td>0.92</td>\n",
              "    </tr>\n",
              "    <tr>\n",
              "      <th>1</th>\n",
              "      <td>law enforcement is not trained to shoot to app...</td>\n",
              "      <td>1</td>\n",
              "      <td>law_enforcement train shoot apprehend train sh...</td>\n",
              "      <td>0.017372</td>\n",
              "      <td>0.034727</td>\n",
              "      <td>0.859040</td>\n",
              "      <td>0.088861</td>\n",
              "      <td>Topic 2</td>\n",
              "      <td>0.86</td>\n",
              "    </tr>\n",
              "    <tr>\n",
              "      <th>2</th>\n",
              "      <td>dont you reckon them black lives matter banner...</td>\n",
              "      <td>1</td>\n",
              "      <td>reckon black lives_matter banner hold white ki...</td>\n",
              "      <td>0.336677</td>\n",
              "      <td>0.014515</td>\n",
              "      <td>0.500376</td>\n",
              "      <td>0.148431</td>\n",
              "      <td>Topic 2</td>\n",
              "      <td>0.50</td>\n",
              "    </tr>\n",
              "    <tr>\n",
              "      <th>3</th>\n",
              "      <td>there are a very large number of people who do...</td>\n",
              "      <td>0</td>\n",
              "      <td>large number people police officer call crimin...</td>\n",
              "      <td>0.005325</td>\n",
              "      <td>0.012483</td>\n",
              "      <td>0.052195</td>\n",
              "      <td>0.929997</td>\n",
              "      <td>Topic 3</td>\n",
              "      <td>0.93</td>\n",
              "    </tr>\n",
              "    <tr>\n",
              "      <th>4</th>\n",
              "      <td>the arab dude is absolutely right he should ha...</td>\n",
              "      <td>0</td>\n",
              "      <td>arab dude absolutely right shot extra time sho...</td>\n",
              "      <td>0.011971</td>\n",
              "      <td>0.023609</td>\n",
              "      <td>0.742514</td>\n",
              "      <td>0.221906</td>\n",
              "      <td>Topic 2</td>\n",
              "      <td>0.74</td>\n",
              "    </tr>\n",
              "  </tbody>\n",
              "</table>\n",
              "</div>\n",
              "      <button class=\"colab-df-convert\" onclick=\"convertToInteractive('df-f9ad3649-e329-48bb-95e7-d7a0a59df61a')\"\n",
              "              title=\"Convert this dataframe to an interactive table.\"\n",
              "              style=\"display:none;\">\n",
              "        \n",
              "  <svg xmlns=\"http://www.w3.org/2000/svg\" height=\"24px\"viewBox=\"0 0 24 24\"\n",
              "       width=\"24px\">\n",
              "    <path d=\"M0 0h24v24H0V0z\" fill=\"none\"/>\n",
              "    <path d=\"M18.56 5.44l.94 2.06.94-2.06 2.06-.94-2.06-.94-.94-2.06-.94 2.06-2.06.94zm-11 1L8.5 8.5l.94-2.06 2.06-.94-2.06-.94L8.5 2.5l-.94 2.06-2.06.94zm10 10l.94 2.06.94-2.06 2.06-.94-2.06-.94-.94-2.06-.94 2.06-2.06.94z\"/><path d=\"M17.41 7.96l-1.37-1.37c-.4-.4-.92-.59-1.43-.59-.52 0-1.04.2-1.43.59L10.3 9.45l-7.72 7.72c-.78.78-.78 2.05 0 2.83L4 21.41c.39.39.9.59 1.41.59.51 0 1.02-.2 1.41-.59l7.78-7.78 2.81-2.81c.8-.78.8-2.07 0-2.86zM5.41 20L4 18.59l7.72-7.72 1.47 1.35L5.41 20z\"/>\n",
              "  </svg>\n",
              "      </button>\n",
              "      \n",
              "  <style>\n",
              "    .colab-df-container {\n",
              "      display:flex;\n",
              "      flex-wrap:wrap;\n",
              "      gap: 12px;\n",
              "    }\n",
              "\n",
              "    .colab-df-convert {\n",
              "      background-color: #E8F0FE;\n",
              "      border: none;\n",
              "      border-radius: 50%;\n",
              "      cursor: pointer;\n",
              "      display: none;\n",
              "      fill: #1967D2;\n",
              "      height: 32px;\n",
              "      padding: 0 0 0 0;\n",
              "      width: 32px;\n",
              "    }\n",
              "\n",
              "    .colab-df-convert:hover {\n",
              "      background-color: #E2EBFA;\n",
              "      box-shadow: 0px 1px 2px rgba(60, 64, 67, 0.3), 0px 1px 3px 1px rgba(60, 64, 67, 0.15);\n",
              "      fill: #174EA6;\n",
              "    }\n",
              "\n",
              "    [theme=dark] .colab-df-convert {\n",
              "      background-color: #3B4455;\n",
              "      fill: #D2E3FC;\n",
              "    }\n",
              "\n",
              "    [theme=dark] .colab-df-convert:hover {\n",
              "      background-color: #434B5C;\n",
              "      box-shadow: 0px 1px 3px 1px rgba(0, 0, 0, 0.15);\n",
              "      filter: drop-shadow(0px 1px 2px rgba(0, 0, 0, 0.3));\n",
              "      fill: #FFFFFF;\n",
              "    }\n",
              "  </style>\n",
              "\n",
              "      <script>\n",
              "        const buttonEl =\n",
              "          document.querySelector('#df-f9ad3649-e329-48bb-95e7-d7a0a59df61a button.colab-df-convert');\n",
              "        buttonEl.style.display =\n",
              "          google.colab.kernel.accessAllowed ? 'block' : 'none';\n",
              "\n",
              "        async function convertToInteractive(key) {\n",
              "          const element = document.querySelector('#df-f9ad3649-e329-48bb-95e7-d7a0a59df61a');\n",
              "          const dataTable =\n",
              "            await google.colab.kernel.invokeFunction('convertToInteractive',\n",
              "                                                     [key], {});\n",
              "          if (!dataTable) return;\n",
              "\n",
              "          const docLinkHtml = 'Like what you see? Visit the ' +\n",
              "            '<a target=\"_blank\" href=https://colab.research.google.com/notebooks/data_table.ipynb>data table notebook</a>'\n",
              "            + ' to learn more about interactive tables.';\n",
              "          element.innerHTML = '';\n",
              "          dataTable['output_type'] = 'display_data';\n",
              "          await google.colab.output.renderOutput(dataTable, element);\n",
              "          const docLink = document.createElement('div');\n",
              "          docLink.innerHTML = docLinkHtml;\n",
              "          element.appendChild(docLink);\n",
              "        }\n",
              "      </script>\n",
              "    </div>\n",
              "  </div>\n",
              "  "
            ]
          },
          "metadata": {},
          "execution_count": 109
        }
      ]
    },
    {
      "cell_type": "code",
      "source": [
        "lda_data.drop(['Text','Tokenizacion',], axis = 1, inplace=True, errors='ignore')"
      ],
      "metadata": {
        "id": "iGjm3DPBXYGj"
      },
      "id": "iGjm3DPBXYGj",
      "execution_count": 110,
      "outputs": []
    },
    {
      "cell_type": "code",
      "source": [
        "model = setup(data = lda_data, target = 'IsToxic')"
      ],
      "metadata": {
        "colab": {
          "base_uri": "https://localhost:8080/",
          "height": 770
        },
        "id": "oLsn1QTRmgg2",
        "outputId": "7a90cc8f-516f-4f6b-cc29-8ca88301b942"
      },
      "id": "oLsn1QTRmgg2",
      "execution_count": 120,
      "outputs": [
        {
          "output_type": "display_data",
          "data": {
            "text/plain": [
              "<pandas.io.formats.style.Styler at 0x7ff51c604f70>"
            ],
            "text/html": [
              "<style type=\"text/css\">\n",
              "#T_cb4e0_row9_col1 {\n",
              "  background-color: lightgreen;\n",
              "}\n",
              "</style>\n",
              "<table id=\"T_cb4e0_\" class=\"dataframe\">\n",
              "  <thead>\n",
              "    <tr>\n",
              "      <th class=\"blank level0\" >&nbsp;</th>\n",
              "      <th class=\"col_heading level0 col0\" >Description</th>\n",
              "      <th class=\"col_heading level0 col1\" >Value</th>\n",
              "    </tr>\n",
              "  </thead>\n",
              "  <tbody>\n",
              "    <tr>\n",
              "      <th id=\"T_cb4e0_level0_row0\" class=\"row_heading level0 row0\" >0</th>\n",
              "      <td id=\"T_cb4e0_row0_col0\" class=\"data row0 col0\" >Session id</td>\n",
              "      <td id=\"T_cb4e0_row0_col1\" class=\"data row0 col1\" >7057</td>\n",
              "    </tr>\n",
              "    <tr>\n",
              "      <th id=\"T_cb4e0_level0_row1\" class=\"row_heading level0 row1\" >1</th>\n",
              "      <td id=\"T_cb4e0_row1_col0\" class=\"data row1 col0\" >Target</td>\n",
              "      <td id=\"T_cb4e0_row1_col1\" class=\"data row1 col1\" >IsToxic</td>\n",
              "    </tr>\n",
              "    <tr>\n",
              "      <th id=\"T_cb4e0_level0_row2\" class=\"row_heading level0 row2\" >2</th>\n",
              "      <td id=\"T_cb4e0_row2_col0\" class=\"data row2 col0\" >Target type</td>\n",
              "      <td id=\"T_cb4e0_row2_col1\" class=\"data row2 col1\" >Binary</td>\n",
              "    </tr>\n",
              "    <tr>\n",
              "      <th id=\"T_cb4e0_level0_row3\" class=\"row_heading level0 row3\" >3</th>\n",
              "      <td id=\"T_cb4e0_row3_col0\" class=\"data row3 col0\" >Original data shape</td>\n",
              "      <td id=\"T_cb4e0_row3_col1\" class=\"data row3 col1\" >(1000, 7)</td>\n",
              "    </tr>\n",
              "    <tr>\n",
              "      <th id=\"T_cb4e0_level0_row4\" class=\"row_heading level0 row4\" >4</th>\n",
              "      <td id=\"T_cb4e0_row4_col0\" class=\"data row4 col0\" >Transformed data shape</td>\n",
              "      <td id=\"T_cb4e0_row4_col1\" class=\"data row4 col1\" >(1000, 10)</td>\n",
              "    </tr>\n",
              "    <tr>\n",
              "      <th id=\"T_cb4e0_level0_row5\" class=\"row_heading level0 row5\" >5</th>\n",
              "      <td id=\"T_cb4e0_row5_col0\" class=\"data row5 col0\" >Transformed train set shape</td>\n",
              "      <td id=\"T_cb4e0_row5_col1\" class=\"data row5 col1\" >(699, 10)</td>\n",
              "    </tr>\n",
              "    <tr>\n",
              "      <th id=\"T_cb4e0_level0_row6\" class=\"row_heading level0 row6\" >6</th>\n",
              "      <td id=\"T_cb4e0_row6_col0\" class=\"data row6 col0\" >Transformed test set shape</td>\n",
              "      <td id=\"T_cb4e0_row6_col1\" class=\"data row6 col1\" >(301, 10)</td>\n",
              "    </tr>\n",
              "    <tr>\n",
              "      <th id=\"T_cb4e0_level0_row7\" class=\"row_heading level0 row7\" >7</th>\n",
              "      <td id=\"T_cb4e0_row7_col0\" class=\"data row7 col0\" >Numeric features</td>\n",
              "      <td id=\"T_cb4e0_row7_col1\" class=\"data row7 col1\" >5</td>\n",
              "    </tr>\n",
              "    <tr>\n",
              "      <th id=\"T_cb4e0_level0_row8\" class=\"row_heading level0 row8\" >8</th>\n",
              "      <td id=\"T_cb4e0_row8_col0\" class=\"data row8 col0\" >Categorical features</td>\n",
              "      <td id=\"T_cb4e0_row8_col1\" class=\"data row8 col1\" >1</td>\n",
              "    </tr>\n",
              "    <tr>\n",
              "      <th id=\"T_cb4e0_level0_row9\" class=\"row_heading level0 row9\" >9</th>\n",
              "      <td id=\"T_cb4e0_row9_col0\" class=\"data row9 col0\" >Preprocess</td>\n",
              "      <td id=\"T_cb4e0_row9_col1\" class=\"data row9 col1\" >True</td>\n",
              "    </tr>\n",
              "    <tr>\n",
              "      <th id=\"T_cb4e0_level0_row10\" class=\"row_heading level0 row10\" >10</th>\n",
              "      <td id=\"T_cb4e0_row10_col0\" class=\"data row10 col0\" >Imputation type</td>\n",
              "      <td id=\"T_cb4e0_row10_col1\" class=\"data row10 col1\" >simple</td>\n",
              "    </tr>\n",
              "    <tr>\n",
              "      <th id=\"T_cb4e0_level0_row11\" class=\"row_heading level0 row11\" >11</th>\n",
              "      <td id=\"T_cb4e0_row11_col0\" class=\"data row11 col0\" >Numeric imputation</td>\n",
              "      <td id=\"T_cb4e0_row11_col1\" class=\"data row11 col1\" >mean</td>\n",
              "    </tr>\n",
              "    <tr>\n",
              "      <th id=\"T_cb4e0_level0_row12\" class=\"row_heading level0 row12\" >12</th>\n",
              "      <td id=\"T_cb4e0_row12_col0\" class=\"data row12 col0\" >Categorical imputation</td>\n",
              "      <td id=\"T_cb4e0_row12_col1\" class=\"data row12 col1\" >constant</td>\n",
              "    </tr>\n",
              "    <tr>\n",
              "      <th id=\"T_cb4e0_level0_row13\" class=\"row_heading level0 row13\" >13</th>\n",
              "      <td id=\"T_cb4e0_row13_col0\" class=\"data row13 col0\" >Maximum one-hot encoding</td>\n",
              "      <td id=\"T_cb4e0_row13_col1\" class=\"data row13 col1\" >5</td>\n",
              "    </tr>\n",
              "    <tr>\n",
              "      <th id=\"T_cb4e0_level0_row14\" class=\"row_heading level0 row14\" >14</th>\n",
              "      <td id=\"T_cb4e0_row14_col0\" class=\"data row14 col0\" >Encoding method</td>\n",
              "      <td id=\"T_cb4e0_row14_col1\" class=\"data row14 col1\" >None</td>\n",
              "    </tr>\n",
              "    <tr>\n",
              "      <th id=\"T_cb4e0_level0_row15\" class=\"row_heading level0 row15\" >15</th>\n",
              "      <td id=\"T_cb4e0_row15_col0\" class=\"data row15 col0\" >Low variance threshold</td>\n",
              "      <td id=\"T_cb4e0_row15_col1\" class=\"data row15 col1\" >0</td>\n",
              "    </tr>\n",
              "    <tr>\n",
              "      <th id=\"T_cb4e0_level0_row16\" class=\"row_heading level0 row16\" >16</th>\n",
              "      <td id=\"T_cb4e0_row16_col0\" class=\"data row16 col0\" >Fold Generator</td>\n",
              "      <td id=\"T_cb4e0_row16_col1\" class=\"data row16 col1\" >StratifiedKFold</td>\n",
              "    </tr>\n",
              "    <tr>\n",
              "      <th id=\"T_cb4e0_level0_row17\" class=\"row_heading level0 row17\" >17</th>\n",
              "      <td id=\"T_cb4e0_row17_col0\" class=\"data row17 col0\" >Fold Number</td>\n",
              "      <td id=\"T_cb4e0_row17_col1\" class=\"data row17 col1\" >10</td>\n",
              "    </tr>\n",
              "    <tr>\n",
              "      <th id=\"T_cb4e0_level0_row18\" class=\"row_heading level0 row18\" >18</th>\n",
              "      <td id=\"T_cb4e0_row18_col0\" class=\"data row18 col0\" >CPU Jobs</td>\n",
              "      <td id=\"T_cb4e0_row18_col1\" class=\"data row18 col1\" >-1</td>\n",
              "    </tr>\n",
              "    <tr>\n",
              "      <th id=\"T_cb4e0_level0_row19\" class=\"row_heading level0 row19\" >19</th>\n",
              "      <td id=\"T_cb4e0_row19_col0\" class=\"data row19 col0\" >Use GPU</td>\n",
              "      <td id=\"T_cb4e0_row19_col1\" class=\"data row19 col1\" >False</td>\n",
              "    </tr>\n",
              "    <tr>\n",
              "      <th id=\"T_cb4e0_level0_row20\" class=\"row_heading level0 row20\" >20</th>\n",
              "      <td id=\"T_cb4e0_row20_col0\" class=\"data row20 col0\" >Log Experiment</td>\n",
              "      <td id=\"T_cb4e0_row20_col1\" class=\"data row20 col1\" >False</td>\n",
              "    </tr>\n",
              "    <tr>\n",
              "      <th id=\"T_cb4e0_level0_row21\" class=\"row_heading level0 row21\" >21</th>\n",
              "      <td id=\"T_cb4e0_row21_col0\" class=\"data row21 col0\" >Experiment Name</td>\n",
              "      <td id=\"T_cb4e0_row21_col1\" class=\"data row21 col1\" >clf-default-name</td>\n",
              "    </tr>\n",
              "    <tr>\n",
              "      <th id=\"T_cb4e0_level0_row22\" class=\"row_heading level0 row22\" >22</th>\n",
              "      <td id=\"T_cb4e0_row22_col0\" class=\"data row22 col0\" >USI</td>\n",
              "      <td id=\"T_cb4e0_row22_col1\" class=\"data row22 col1\" >96aa</td>\n",
              "    </tr>\n",
              "  </tbody>\n",
              "</table>\n"
            ]
          },
          "metadata": {}
        }
      ]
    },
    {
      "cell_type": "code",
      "source": [
        "compare_models(sort='Recall',n_select = 5)"
      ],
      "metadata": {
        "colab": {
          "base_uri": "https://localhost:8080/",
          "height": 855,
          "referenced_widgets": [
            "f7119a980ae74f88afaf3af3be60e540",
            "ef9a112cc2d345508ae3dd65f1c63571",
            "21a09fb5a111445d8aee54cf8f1a5441",
            "aec12c1c9cc64ed089f67cff95340049",
            "5f3c13b7abfa4f9e87dfd962f971802d",
            "bcc08028d29f4ca4bc2085055e53fc4c",
            "8055b71868e04bd6929113c9917e4266",
            "57e23775163946b59b280af1d343b119",
            "723c3507d62c4611a34be1c077909c9a",
            "973ba7c7a3f6456cbf612bd6d3a269c3",
            "f803c394bf71430da8c95333dfe4fe59"
          ]
        },
        "id": "pdRk9_xAmjs4",
        "outputId": "807bab6a-ad26-4dc1-d3b6-ecc39aefa05b"
      },
      "id": "pdRk9_xAmjs4",
      "execution_count": 121,
      "outputs": [
        {
          "output_type": "display_data",
          "data": {
            "text/plain": [
              "<IPython.core.display.HTML object>"
            ],
            "text/html": []
          },
          "metadata": {}
        },
        {
          "output_type": "display_data",
          "data": {
            "text/plain": [
              "<pandas.io.formats.style.Styler at 0x7ff42a9fbf10>"
            ],
            "text/html": [
              "<style type=\"text/css\">\n",
              "#T_be8fb_ th {\n",
              "  text-align: left;\n",
              "}\n",
              "#T_be8fb_row0_col0, #T_be8fb_row0_col1, #T_be8fb_row0_col2, #T_be8fb_row0_col4, #T_be8fb_row0_col6, #T_be8fb_row0_col7, #T_be8fb_row1_col0, #T_be8fb_row1_col1, #T_be8fb_row1_col2, #T_be8fb_row1_col3, #T_be8fb_row1_col4, #T_be8fb_row1_col5, #T_be8fb_row1_col6, #T_be8fb_row1_col7, #T_be8fb_row2_col0, #T_be8fb_row2_col1, #T_be8fb_row2_col2, #T_be8fb_row2_col3, #T_be8fb_row2_col4, #T_be8fb_row2_col5, #T_be8fb_row2_col6, #T_be8fb_row2_col7, #T_be8fb_row3_col0, #T_be8fb_row3_col1, #T_be8fb_row3_col2, #T_be8fb_row3_col3, #T_be8fb_row3_col4, #T_be8fb_row3_col5, #T_be8fb_row3_col6, #T_be8fb_row3_col7, #T_be8fb_row4_col0, #T_be8fb_row4_col1, #T_be8fb_row4_col2, #T_be8fb_row4_col3, #T_be8fb_row4_col4, #T_be8fb_row4_col5, #T_be8fb_row4_col6, #T_be8fb_row4_col7, #T_be8fb_row5_col0, #T_be8fb_row5_col1, #T_be8fb_row5_col2, #T_be8fb_row5_col3, #T_be8fb_row5_col4, #T_be8fb_row5_col5, #T_be8fb_row5_col6, #T_be8fb_row5_col7, #T_be8fb_row6_col0, #T_be8fb_row6_col1, #T_be8fb_row6_col2, #T_be8fb_row6_col3, #T_be8fb_row6_col4, #T_be8fb_row6_col5, #T_be8fb_row6_col6, #T_be8fb_row6_col7, #T_be8fb_row7_col0, #T_be8fb_row7_col3, #T_be8fb_row7_col5, #T_be8fb_row8_col0, #T_be8fb_row8_col1, #T_be8fb_row8_col2, #T_be8fb_row8_col3, #T_be8fb_row8_col4, #T_be8fb_row8_col5, #T_be8fb_row8_col6, #T_be8fb_row8_col7, #T_be8fb_row9_col0, #T_be8fb_row9_col1, #T_be8fb_row9_col2, #T_be8fb_row9_col3, #T_be8fb_row9_col4, #T_be8fb_row9_col5, #T_be8fb_row9_col6, #T_be8fb_row9_col7, #T_be8fb_row10_col0, #T_be8fb_row10_col1, #T_be8fb_row10_col2, #T_be8fb_row10_col3, #T_be8fb_row10_col4, #T_be8fb_row10_col5, #T_be8fb_row10_col6, #T_be8fb_row10_col7, #T_be8fb_row11_col0, #T_be8fb_row11_col1, #T_be8fb_row11_col2, #T_be8fb_row11_col3, #T_be8fb_row11_col4, #T_be8fb_row11_col5, #T_be8fb_row11_col6, #T_be8fb_row11_col7, #T_be8fb_row12_col0, #T_be8fb_row12_col1, #T_be8fb_row12_col2, #T_be8fb_row12_col3, #T_be8fb_row12_col4, #T_be8fb_row12_col5, #T_be8fb_row12_col6, #T_be8fb_row12_col7 {\n",
              "  text-align: left;\n",
              "}\n",
              "#T_be8fb_row0_col3, #T_be8fb_row0_col5, #T_be8fb_row7_col1, #T_be8fb_row7_col2, #T_be8fb_row7_col4, #T_be8fb_row7_col6, #T_be8fb_row7_col7 {\n",
              "  text-align: left;\n",
              "  background-color: yellow;\n",
              "}\n",
              "#T_be8fb_row0_col8, #T_be8fb_row1_col8, #T_be8fb_row2_col8, #T_be8fb_row3_col8, #T_be8fb_row4_col8, #T_be8fb_row5_col8, #T_be8fb_row6_col8, #T_be8fb_row7_col8, #T_be8fb_row9_col8, #T_be8fb_row10_col8, #T_be8fb_row11_col8, #T_be8fb_row12_col8 {\n",
              "  text-align: left;\n",
              "  background-color: lightgrey;\n",
              "}\n",
              "#T_be8fb_row8_col8 {\n",
              "  text-align: left;\n",
              "  background-color: yellow;\n",
              "  background-color: lightgrey;\n",
              "}\n",
              "</style>\n",
              "<table id=\"T_be8fb_\" class=\"dataframe\">\n",
              "  <thead>\n",
              "    <tr>\n",
              "      <th class=\"blank level0\" >&nbsp;</th>\n",
              "      <th class=\"col_heading level0 col0\" >Model</th>\n",
              "      <th class=\"col_heading level0 col1\" >Accuracy</th>\n",
              "      <th class=\"col_heading level0 col2\" >AUC</th>\n",
              "      <th class=\"col_heading level0 col3\" >Recall</th>\n",
              "      <th class=\"col_heading level0 col4\" >Prec.</th>\n",
              "      <th class=\"col_heading level0 col5\" >F1</th>\n",
              "      <th class=\"col_heading level0 col6\" >Kappa</th>\n",
              "      <th class=\"col_heading level0 col7\" >MCC</th>\n",
              "      <th class=\"col_heading level0 col8\" >TT (Sec)</th>\n",
              "    </tr>\n",
              "  </thead>\n",
              "  <tbody>\n",
              "    <tr>\n",
              "      <th id=\"T_be8fb_level0_row0\" class=\"row_heading level0 row0\" >nb</th>\n",
              "      <td id=\"T_be8fb_row0_col0\" class=\"data row0 col0\" >Naive Bayes</td>\n",
              "      <td id=\"T_be8fb_row0_col1\" class=\"data row0 col1\" >0.4864</td>\n",
              "      <td id=\"T_be8fb_row0_col2\" class=\"data row0 col2\" >0.5191</td>\n",
              "      <td id=\"T_be8fb_row0_col3\" class=\"data row0 col3\" >0.6203</td>\n",
              "      <td id=\"T_be8fb_row0_col4\" class=\"data row0 col4\" >0.4610</td>\n",
              "      <td id=\"T_be8fb_row0_col5\" class=\"data row0 col5\" >0.5232</td>\n",
              "      <td id=\"T_be8fb_row0_col6\" class=\"data row0 col6\" >-0.0059</td>\n",
              "      <td id=\"T_be8fb_row0_col7\" class=\"data row0 col7\" >-0.0078</td>\n",
              "      <td id=\"T_be8fb_row0_col8\" class=\"data row0 col8\" >0.0580</td>\n",
              "    </tr>\n",
              "    <tr>\n",
              "      <th id=\"T_be8fb_level0_row1\" class=\"row_heading level0 row1\" >qda</th>\n",
              "      <td id=\"T_be8fb_row1_col0\" class=\"data row1 col0\" >Quadratic Discriminant Analysis</td>\n",
              "      <td id=\"T_be8fb_row1_col1\" class=\"data row1 col1\" >0.5049</td>\n",
              "      <td id=\"T_be8fb_row1_col2\" class=\"data row1 col2\" >0.5147</td>\n",
              "      <td id=\"T_be8fb_row1_col3\" class=\"data row1 col3\" >0.6097</td>\n",
              "      <td id=\"T_be8fb_row1_col4\" class=\"data row1 col4\" >0.4660</td>\n",
              "      <td id=\"T_be8fb_row1_col5\" class=\"data row1 col5\" >0.5186</td>\n",
              "      <td id=\"T_be8fb_row1_col6\" class=\"data row1 col6\" >0.0242</td>\n",
              "      <td id=\"T_be8fb_row1_col7\" class=\"data row1 col7\" >0.0321</td>\n",
              "      <td id=\"T_be8fb_row1_col8\" class=\"data row1 col8\" >0.0560</td>\n",
              "    </tr>\n",
              "    <tr>\n",
              "      <th id=\"T_be8fb_level0_row2\" class=\"row_heading level0 row2\" >knn</th>\n",
              "      <td id=\"T_be8fb_row2_col0\" class=\"data row2 col0\" >K Neighbors Classifier</td>\n",
              "      <td id=\"T_be8fb_row2_col1\" class=\"data row2 col1\" >0.4923</td>\n",
              "      <td id=\"T_be8fb_row2_col2\" class=\"data row2 col2\" >0.5147</td>\n",
              "      <td id=\"T_be8fb_row2_col3\" class=\"data row2 col3\" >0.4554</td>\n",
              "      <td id=\"T_be8fb_row2_col4\" class=\"data row2 col4\" >0.4498</td>\n",
              "      <td id=\"T_be8fb_row2_col5\" class=\"data row2 col5\" >0.4510</td>\n",
              "      <td id=\"T_be8fb_row2_col6\" class=\"data row2 col6\" >-0.0203</td>\n",
              "      <td id=\"T_be8fb_row2_col7\" class=\"data row2 col7\" >-0.0206</td>\n",
              "      <td id=\"T_be8fb_row2_col8\" class=\"data row2 col8\" >0.0660</td>\n",
              "    </tr>\n",
              "    <tr>\n",
              "      <th id=\"T_be8fb_level0_row3\" class=\"row_heading level0 row3\" >dt</th>\n",
              "      <td id=\"T_be8fb_row3_col0\" class=\"data row3 col0\" >Decision Tree Classifier</td>\n",
              "      <td id=\"T_be8fb_row3_col1\" class=\"data row3 col1\" >0.5295</td>\n",
              "      <td id=\"T_be8fb_row3_col2\" class=\"data row3 col2\" >0.5258</td>\n",
              "      <td id=\"T_be8fb_row3_col3\" class=\"data row3 col3\" >0.4429</td>\n",
              "      <td id=\"T_be8fb_row3_col4\" class=\"data row3 col4\" >0.4890</td>\n",
              "      <td id=\"T_be8fb_row3_col5\" class=\"data row3 col5\" >0.4631</td>\n",
              "      <td id=\"T_be8fb_row3_col6\" class=\"data row3 col6\" >0.0473</td>\n",
              "      <td id=\"T_be8fb_row3_col7\" class=\"data row3 col7\" >0.0476</td>\n",
              "      <td id=\"T_be8fb_row3_col8\" class=\"data row3 col8\" >0.0610</td>\n",
              "    </tr>\n",
              "    <tr>\n",
              "      <th id=\"T_be8fb_level0_row4\" class=\"row_heading level0 row4\" >rf</th>\n",
              "      <td id=\"T_be8fb_row4_col0\" class=\"data row4 col0\" >Random Forest Classifier</td>\n",
              "      <td id=\"T_be8fb_row4_col1\" class=\"data row4 col1\" >0.5122</td>\n",
              "      <td id=\"T_be8fb_row4_col2\" class=\"data row4 col2\" >0.5122</td>\n",
              "      <td id=\"T_be8fb_row4_col3\" class=\"data row4 col3\" >0.4398</td>\n",
              "      <td id=\"T_be8fb_row4_col4\" class=\"data row4 col4\" >0.4717</td>\n",
              "      <td id=\"T_be8fb_row4_col5\" class=\"data row4 col5\" >0.4535</td>\n",
              "      <td id=\"T_be8fb_row4_col6\" class=\"data row4 col6\" >0.0147</td>\n",
              "      <td id=\"T_be8fb_row4_col7\" class=\"data row4 col7\" >0.0148</td>\n",
              "      <td id=\"T_be8fb_row4_col8\" class=\"data row4 col8\" >0.2620</td>\n",
              "    </tr>\n",
              "    <tr>\n",
              "      <th id=\"T_be8fb_level0_row5\" class=\"row_heading level0 row5\" >et</th>\n",
              "      <td id=\"T_be8fb_row5_col0\" class=\"data row5 col0\" >Extra Trees Classifier</td>\n",
              "      <td id=\"T_be8fb_row5_col1\" class=\"data row5 col1\" >0.4880</td>\n",
              "      <td id=\"T_be8fb_row5_col2\" class=\"data row5 col2\" >0.4999</td>\n",
              "      <td id=\"T_be8fb_row5_col3\" class=\"data row5 col3\" >0.4211</td>\n",
              "      <td id=\"T_be8fb_row5_col4\" class=\"data row5 col4\" >0.4426</td>\n",
              "      <td id=\"T_be8fb_row5_col5\" class=\"data row5 col5\" >0.4304</td>\n",
              "      <td id=\"T_be8fb_row5_col6\" class=\"data row5 col6\" >-0.0332</td>\n",
              "      <td id=\"T_be8fb_row5_col7\" class=\"data row5 col7\" >-0.0335</td>\n",
              "      <td id=\"T_be8fb_row5_col8\" class=\"data row5 col8\" >0.2140</td>\n",
              "    </tr>\n",
              "    <tr>\n",
              "      <th id=\"T_be8fb_level0_row6\" class=\"row_heading level0 row6\" >gbc</th>\n",
              "      <td id=\"T_be8fb_row6_col0\" class=\"data row6 col0\" >Gradient Boosting Classifier</td>\n",
              "      <td id=\"T_be8fb_row6_col1\" class=\"data row6 col1\" >0.4893</td>\n",
              "      <td id=\"T_be8fb_row6_col2\" class=\"data row6 col2\" >0.4903</td>\n",
              "      <td id=\"T_be8fb_row6_col3\" class=\"data row6 col3\" >0.3969</td>\n",
              "      <td id=\"T_be8fb_row6_col4\" class=\"data row6 col4\" >0.4360</td>\n",
              "      <td id=\"T_be8fb_row6_col5\" class=\"data row6 col5\" >0.4132</td>\n",
              "      <td id=\"T_be8fb_row6_col6\" class=\"data row6 col6\" >-0.0344</td>\n",
              "      <td id=\"T_be8fb_row6_col7\" class=\"data row6 col7\" >-0.0363</td>\n",
              "      <td id=\"T_be8fb_row6_col8\" class=\"data row6 col8\" >0.1670</td>\n",
              "    </tr>\n",
              "    <tr>\n",
              "      <th id=\"T_be8fb_level0_row7\" class=\"row_heading level0 row7\" >ada</th>\n",
              "      <td id=\"T_be8fb_row7_col0\" class=\"data row7 col0\" >Ada Boost Classifier</td>\n",
              "      <td id=\"T_be8fb_row7_col1\" class=\"data row7 col1\" >0.5380</td>\n",
              "      <td id=\"T_be8fb_row7_col2\" class=\"data row7 col2\" >0.5460</td>\n",
              "      <td id=\"T_be8fb_row7_col3\" class=\"data row7 col3\" >0.3812</td>\n",
              "      <td id=\"T_be8fb_row7_col4\" class=\"data row7 col4\" >0.5038</td>\n",
              "      <td id=\"T_be8fb_row7_col5\" class=\"data row7 col5\" >0.4321</td>\n",
              "      <td id=\"T_be8fb_row7_col6\" class=\"data row7 col6\" >0.0553</td>\n",
              "      <td id=\"T_be8fb_row7_col7\" class=\"data row7 col7\" >0.0577</td>\n",
              "      <td id=\"T_be8fb_row7_col8\" class=\"data row7 col8\" >0.1430</td>\n",
              "    </tr>\n",
              "    <tr>\n",
              "      <th id=\"T_be8fb_level0_row8\" class=\"row_heading level0 row8\" >svm</th>\n",
              "      <td id=\"T_be8fb_row8_col0\" class=\"data row8 col0\" >SVM - Linear Kernel</td>\n",
              "      <td id=\"T_be8fb_row8_col1\" class=\"data row8 col1\" >0.5036</td>\n",
              "      <td id=\"T_be8fb_row8_col2\" class=\"data row8 col2\" >0.0000</td>\n",
              "      <td id=\"T_be8fb_row8_col3\" class=\"data row8 col3\" >0.3699</td>\n",
              "      <td id=\"T_be8fb_row8_col4\" class=\"data row8 col4\" >0.3562</td>\n",
              "      <td id=\"T_be8fb_row8_col5\" class=\"data row8 col5\" >0.3372</td>\n",
              "      <td id=\"T_be8fb_row8_col6\" class=\"data row8 col6\" >-0.0146</td>\n",
              "      <td id=\"T_be8fb_row8_col7\" class=\"data row8 col7\" >-0.0272</td>\n",
              "      <td id=\"T_be8fb_row8_col8\" class=\"data row8 col8\" >0.0440</td>\n",
              "    </tr>\n",
              "    <tr>\n",
              "      <th id=\"T_be8fb_level0_row9\" class=\"row_heading level0 row9\" >lda</th>\n",
              "      <td id=\"T_be8fb_row9_col0\" class=\"data row9 col0\" >Linear Discriminant Analysis</td>\n",
              "      <td id=\"T_be8fb_row9_col1\" class=\"data row9 col1\" >0.5149</td>\n",
              "      <td id=\"T_be8fb_row9_col2\" class=\"data row9 col2\" >0.5013</td>\n",
              "      <td id=\"T_be8fb_row9_col3\" class=\"data row9 col3\" >0.2110</td>\n",
              "      <td id=\"T_be8fb_row9_col4\" class=\"data row9 col4\" >0.4645</td>\n",
              "      <td id=\"T_be8fb_row9_col5\" class=\"data row9 col5\" >0.2805</td>\n",
              "      <td id=\"T_be8fb_row9_col6\" class=\"data row9 col6\" >-0.0122</td>\n",
              "      <td id=\"T_be8fb_row9_col7\" class=\"data row9 col7\" >-0.0089</td>\n",
              "      <td id=\"T_be8fb_row9_col8\" class=\"data row9 col8\" >0.0570</td>\n",
              "    </tr>\n",
              "    <tr>\n",
              "      <th id=\"T_be8fb_level0_row10\" class=\"row_heading level0 row10\" >ridge</th>\n",
              "      <td id=\"T_be8fb_row10_col0\" class=\"data row10 col0\" >Ridge Classifier</td>\n",
              "      <td id=\"T_be8fb_row10_col1\" class=\"data row10 col1\" >0.5163</td>\n",
              "      <td id=\"T_be8fb_row10_col2\" class=\"data row10 col2\" >0.0000</td>\n",
              "      <td id=\"T_be8fb_row10_col3\" class=\"data row10 col3\" >0.1860</td>\n",
              "      <td id=\"T_be8fb_row10_col4\" class=\"data row10 col4\" >0.4618</td>\n",
              "      <td id=\"T_be8fb_row10_col5\" class=\"data row10 col5\" >0.2561</td>\n",
              "      <td id=\"T_be8fb_row10_col6\" class=\"data row10 col6\" >-0.0135</td>\n",
              "      <td id=\"T_be8fb_row10_col7\" class=\"data row10 col7\" >-0.0108</td>\n",
              "      <td id=\"T_be8fb_row10_col8\" class=\"data row10 col8\" >0.0480</td>\n",
              "    </tr>\n",
              "    <tr>\n",
              "      <th id=\"T_be8fb_level0_row11\" class=\"row_heading level0 row11\" >lr</th>\n",
              "      <td id=\"T_be8fb_row11_col0\" class=\"data row11 col0\" >Logistic Regression</td>\n",
              "      <td id=\"T_be8fb_row11_col1\" class=\"data row11 col1\" >0.5249</td>\n",
              "      <td id=\"T_be8fb_row11_col2\" class=\"data row11 col2\" >0.5016</td>\n",
              "      <td id=\"T_be8fb_row11_col3\" class=\"data row11 col3\" >0.1549</td>\n",
              "      <td id=\"T_be8fb_row11_col4\" class=\"data row11 col4\" >0.4756</td>\n",
              "      <td id=\"T_be8fb_row11_col5\" class=\"data row11 col5\" >0.2268</td>\n",
              "      <td id=\"T_be8fb_row11_col6\" class=\"data row11 col6\" >-0.0017</td>\n",
              "      <td id=\"T_be8fb_row11_col7\" class=\"data row11 col7\" >0.0032</td>\n",
              "      <td id=\"T_be8fb_row11_col8\" class=\"data row11 col8\" >0.7690</td>\n",
              "    </tr>\n",
              "    <tr>\n",
              "      <th id=\"T_be8fb_level0_row12\" class=\"row_heading level0 row12\" >dummy</th>\n",
              "      <td id=\"T_be8fb_row12_col0\" class=\"data row12 col0\" >Dummy Classifier</td>\n",
              "      <td id=\"T_be8fb_row12_col1\" class=\"data row12 col1\" >0.5379</td>\n",
              "      <td id=\"T_be8fb_row12_col2\" class=\"data row12 col2\" >0.5000</td>\n",
              "      <td id=\"T_be8fb_row12_col3\" class=\"data row12 col3\" >0.0000</td>\n",
              "      <td id=\"T_be8fb_row12_col4\" class=\"data row12 col4\" >0.0000</td>\n",
              "      <td id=\"T_be8fb_row12_col5\" class=\"data row12 col5\" >0.0000</td>\n",
              "      <td id=\"T_be8fb_row12_col6\" class=\"data row12 col6\" >0.0000</td>\n",
              "      <td id=\"T_be8fb_row12_col7\" class=\"data row12 col7\" >0.0000</td>\n",
              "      <td id=\"T_be8fb_row12_col8\" class=\"data row12 col8\" >0.0550</td>\n",
              "    </tr>\n",
              "  </tbody>\n",
              "</table>\n"
            ]
          },
          "metadata": {}
        },
        {
          "output_type": "display_data",
          "data": {
            "text/plain": [
              "Processing:   0%|          | 0/65 [00:00<?, ?it/s]"
            ],
            "application/vnd.jupyter.widget-view+json": {
              "version_major": 2,
              "version_minor": 0,
              "model_id": "f7119a980ae74f88afaf3af3be60e540"
            }
          },
          "metadata": {
            "application/vnd.jupyter.widget-view+json": {
              "colab": {
                "custom_widget_manager": {
                  "url": "https://ssl.gstatic.com/colaboratory-static/widgets/colab-cdn-widget-manager/d2e234f7cc04bf79/manager.min.js"
                }
              }
            }
          }
        },
        {
          "output_type": "display_data",
          "data": {
            "text/plain": [
              "<IPython.core.display.HTML object>"
            ],
            "text/html": []
          },
          "metadata": {}
        },
        {
          "output_type": "execute_result",
          "data": {
            "text/plain": [
              "[GaussianNB(priors=None, var_smoothing=1e-09),\n",
              " QuadraticDiscriminantAnalysis(priors=None, reg_param=0.0,\n",
              "                               store_covariance=False, tol=0.0001),\n",
              " KNeighborsClassifier(algorithm='auto', leaf_size=30, metric='minkowski',\n",
              "                      metric_params=None, n_jobs=-1, n_neighbors=5, p=2,\n",
              "                      weights='uniform'),\n",
              " DecisionTreeClassifier(ccp_alpha=0.0, class_weight=None, criterion='gini',\n",
              "                        max_depth=None, max_features=None, max_leaf_nodes=None,\n",
              "                        min_impurity_decrease=0.0, min_samples_leaf=1,\n",
              "                        min_samples_split=2, min_weight_fraction_leaf=0.0,\n",
              "                        random_state=7057, splitter='best'),\n",
              " RandomForestClassifier(bootstrap=True, ccp_alpha=0.0, class_weight=None,\n",
              "                        criterion='gini', max_depth=None, max_features='auto',\n",
              "                        max_leaf_nodes=None, max_samples=None,\n",
              "                        min_impurity_decrease=0.0, min_samples_leaf=1,\n",
              "                        min_samples_split=2, min_weight_fraction_leaf=0.0,\n",
              "                        n_estimators=100, n_jobs=-1, oob_score=False,\n",
              "                        random_state=7057, verbose=0, warm_start=False)]"
            ]
          },
          "metadata": {},
          "execution_count": 121
        }
      ]
    },
    {
      "cell_type": "markdown",
      "source": [
        "### Modelo QuadraticDiscriminantAnalysis"
      ],
      "metadata": {
        "id": "dN4jtkfknYyo"
      },
      "id": "dN4jtkfknYyo"
    },
    {
      "cell_type": "code",
      "source": [
        "#Se crea modelo predictivo QDA\n",
        "qda = create_model('qda',verbose = False)"
      ],
      "metadata": {
        "id": "wFzWxGEUm5Vs"
      },
      "id": "wFzWxGEUm5Vs",
      "execution_count": 122,
      "outputs": []
    },
    {
      "cell_type": "code",
      "source": [
        "#Tuneo de hiperparametros, priorizando metrica Recall\n",
        "tuned_qda = tune_model(qda, optimize = 'Recall', early_stopping = True)"
      ],
      "metadata": {
        "colab": {
          "base_uri": "https://localhost:8080/",
          "height": 513,
          "referenced_widgets": [
            "b89cd869e7104d0d9a9a2e3afd3c1908",
            "cb90c3efe91542f0a904ef48679ac421",
            "91b42381098549648b737420536f93a1",
            "00a5b7bd66f84898a30bc246d24db569",
            "ffa6597692c84357b19a3f12968e1ab7",
            "28925277fab04f50a98448e654c165ef",
            "6998fe3afc734556a51559179ad20024",
            "4fb95071c54f46ba805abad013e3a4cf",
            "b00d90588530416bad386b3a3bfbc185",
            "a69af6e9105a4a94bad46656a56762c5",
            "29c394f5a3e74f9ea1c5a02b8abd5595"
          ]
        },
        "id": "2Nn-F_EtnnvQ",
        "outputId": "26ae572f-40d8-479b-b7a7-8f970eae8f60"
      },
      "id": "2Nn-F_EtnnvQ",
      "execution_count": 126,
      "outputs": [
        {
          "output_type": "display_data",
          "data": {
            "text/plain": [
              "<IPython.core.display.HTML object>"
            ],
            "text/html": []
          },
          "metadata": {}
        },
        {
          "output_type": "display_data",
          "data": {
            "text/plain": [
              "<pandas.io.formats.style.Styler at 0x7ff51cd4f460>"
            ],
            "text/html": [
              "<style type=\"text/css\">\n",
              "#T_13c66_row10_col0, #T_13c66_row10_col1, #T_13c66_row10_col2, #T_13c66_row10_col3, #T_13c66_row10_col4, #T_13c66_row10_col5, #T_13c66_row10_col6 {\n",
              "  background: yellow;\n",
              "}\n",
              "</style>\n",
              "<table id=\"T_13c66_\" class=\"dataframe\">\n",
              "  <thead>\n",
              "    <tr>\n",
              "      <th class=\"blank level0\" >&nbsp;</th>\n",
              "      <th class=\"col_heading level0 col0\" >Accuracy</th>\n",
              "      <th class=\"col_heading level0 col1\" >AUC</th>\n",
              "      <th class=\"col_heading level0 col2\" >Recall</th>\n",
              "      <th class=\"col_heading level0 col3\" >Prec.</th>\n",
              "      <th class=\"col_heading level0 col4\" >F1</th>\n",
              "      <th class=\"col_heading level0 col5\" >Kappa</th>\n",
              "      <th class=\"col_heading level0 col6\" >MCC</th>\n",
              "    </tr>\n",
              "    <tr>\n",
              "      <th class=\"index_name level0\" >Fold</th>\n",
              "      <th class=\"blank col0\" >&nbsp;</th>\n",
              "      <th class=\"blank col1\" >&nbsp;</th>\n",
              "      <th class=\"blank col2\" >&nbsp;</th>\n",
              "      <th class=\"blank col3\" >&nbsp;</th>\n",
              "      <th class=\"blank col4\" >&nbsp;</th>\n",
              "      <th class=\"blank col5\" >&nbsp;</th>\n",
              "      <th class=\"blank col6\" >&nbsp;</th>\n",
              "    </tr>\n",
              "  </thead>\n",
              "  <tbody>\n",
              "    <tr>\n",
              "      <th id=\"T_13c66_level0_row0\" class=\"row_heading level0 row0\" >0</th>\n",
              "      <td id=\"T_13c66_row0_col0\" class=\"data row0 col0\" >0.4857</td>\n",
              "      <td id=\"T_13c66_row0_col1\" class=\"data row0 col1\" >0.5012</td>\n",
              "      <td id=\"T_13c66_row0_col2\" class=\"data row0 col2\" >0.6875</td>\n",
              "      <td id=\"T_13c66_row0_col3\" class=\"data row0 col3\" >0.4583</td>\n",
              "      <td id=\"T_13c66_row0_col4\" class=\"data row0 col4\" >0.5500</td>\n",
              "      <td id=\"T_13c66_row0_col5\" class=\"data row0 col5\" >0.0032</td>\n",
              "      <td id=\"T_13c66_row0_col6\" class=\"data row0 col6\" >0.0035</td>\n",
              "    </tr>\n",
              "    <tr>\n",
              "      <th id=\"T_13c66_level0_row1\" class=\"row_heading level0 row1\" >1</th>\n",
              "      <td id=\"T_13c66_row1_col0\" class=\"data row1 col0\" >0.5571</td>\n",
              "      <td id=\"T_13c66_row1_col1\" class=\"data row1 col1\" >0.5473</td>\n",
              "      <td id=\"T_13c66_row1_col2\" class=\"data row1 col2\" >0.4375</td>\n",
              "      <td id=\"T_13c66_row1_col3\" class=\"data row1 col3\" >0.5185</td>\n",
              "      <td id=\"T_13c66_row1_col4\" class=\"data row1 col4\" >0.4746</td>\n",
              "      <td id=\"T_13c66_row1_col5\" class=\"data row1 col5\" >0.0966</td>\n",
              "      <td id=\"T_13c66_row1_col6\" class=\"data row1 col6\" >0.0976</td>\n",
              "    </tr>\n",
              "    <tr>\n",
              "      <th id=\"T_13c66_level0_row2\" class=\"row_heading level0 row2\" >2</th>\n",
              "      <td id=\"T_13c66_row2_col0\" class=\"data row2 col0\" >0.4714</td>\n",
              "      <td id=\"T_13c66_row2_col1\" class=\"data row2 col1\" >0.5378</td>\n",
              "      <td id=\"T_13c66_row2_col2\" class=\"data row2 col2\" >0.4062</td>\n",
              "      <td id=\"T_13c66_row2_col3\" class=\"data row2 col3\" >0.4194</td>\n",
              "      <td id=\"T_13c66_row2_col4\" class=\"data row2 col4\" >0.4127</td>\n",
              "      <td id=\"T_13c66_row2_col5\" class=\"data row2 col5\" >-0.0676</td>\n",
              "      <td id=\"T_13c66_row2_col6\" class=\"data row2 col6\" >-0.0676</td>\n",
              "    </tr>\n",
              "    <tr>\n",
              "      <th id=\"T_13c66_level0_row3\" class=\"row_heading level0 row3\" >3</th>\n",
              "      <td id=\"T_13c66_row3_col0\" class=\"data row3 col0\" >0.4429</td>\n",
              "      <td id=\"T_13c66_row3_col1\" class=\"data row3 col1\" >0.4827</td>\n",
              "      <td id=\"T_13c66_row3_col2\" class=\"data row3 col2\" >0.4688</td>\n",
              "      <td id=\"T_13c66_row3_col3\" class=\"data row3 col3\" >0.4054</td>\n",
              "      <td id=\"T_13c66_row3_col4\" class=\"data row3 col4\" >0.4348</td>\n",
              "      <td id=\"T_13c66_row3_col5\" class=\"data row3 col5\" >-0.1089</td>\n",
              "      <td id=\"T_13c66_row3_col6\" class=\"data row3 col6\" >-0.1100</td>\n",
              "    </tr>\n",
              "    <tr>\n",
              "      <th id=\"T_13c66_level0_row4\" class=\"row_heading level0 row4\" >4</th>\n",
              "      <td id=\"T_13c66_row4_col0\" class=\"data row4 col0\" >0.4571</td>\n",
              "      <td id=\"T_13c66_row4_col1\" class=\"data row4 col1\" >0.4877</td>\n",
              "      <td id=\"T_13c66_row4_col2\" class=\"data row4 col2\" >0.5000</td>\n",
              "      <td id=\"T_13c66_row4_col3\" class=\"data row4 col3\" >0.4211</td>\n",
              "      <td id=\"T_13c66_row4_col4\" class=\"data row4 col4\" >0.4571</td>\n",
              "      <td id=\"T_13c66_row4_col5\" class=\"data row4 col5\" >-0.0778</td>\n",
              "      <td id=\"T_13c66_row4_col6\" class=\"data row4 col6\" >-0.0789</td>\n",
              "    </tr>\n",
              "    <tr>\n",
              "      <th id=\"T_13c66_level0_row5\" class=\"row_heading level0 row5\" >5</th>\n",
              "      <td id=\"T_13c66_row5_col0\" class=\"data row5 col0\" >0.5286</td>\n",
              "      <td id=\"T_13c66_row5_col1\" class=\"data row5 col1\" >0.5789</td>\n",
              "      <td id=\"T_13c66_row5_col2\" class=\"data row5 col2\" >0.3438</td>\n",
              "      <td id=\"T_13c66_row5_col3\" class=\"data row5 col3\" >0.4783</td>\n",
              "      <td id=\"T_13c66_row5_col4\" class=\"data row5 col4\" >0.4000</td>\n",
              "      <td id=\"T_13c66_row5_col5\" class=\"data row5 col5\" >0.0286</td>\n",
              "      <td id=\"T_13c66_row5_col6\" class=\"data row5 col6\" >0.0297</td>\n",
              "    </tr>\n",
              "    <tr>\n",
              "      <th id=\"T_13c66_level0_row6\" class=\"row_heading level0 row6\" >6</th>\n",
              "      <td id=\"T_13c66_row6_col0\" class=\"data row6 col0\" >0.5429</td>\n",
              "      <td id=\"T_13c66_row6_col1\" class=\"data row6 col1\" >0.5799</td>\n",
              "      <td id=\"T_13c66_row6_col2\" class=\"data row6 col2\" >0.4242</td>\n",
              "      <td id=\"T_13c66_row6_col3\" class=\"data row6 col3\" >0.5185</td>\n",
              "      <td id=\"T_13c66_row6_col4\" class=\"data row6 col4\" >0.4667</td>\n",
              "      <td id=\"T_13c66_row6_col5\" class=\"data row6 col5\" >0.0736</td>\n",
              "      <td id=\"T_13c66_row6_col6\" class=\"data row6 col6\" >0.0748</td>\n",
              "    </tr>\n",
              "    <tr>\n",
              "      <th id=\"T_13c66_level0_row7\" class=\"row_heading level0 row7\" >7</th>\n",
              "      <td id=\"T_13c66_row7_col0\" class=\"data row7 col0\" >0.5429</td>\n",
              "      <td id=\"T_13c66_row7_col1\" class=\"data row7 col1\" >0.5741</td>\n",
              "      <td id=\"T_13c66_row7_col2\" class=\"data row7 col2\" >0.3939</td>\n",
              "      <td id=\"T_13c66_row7_col3\" class=\"data row7 col3\" >0.5200</td>\n",
              "      <td id=\"T_13c66_row7_col4\" class=\"data row7 col4\" >0.4483</td>\n",
              "      <td id=\"T_13c66_row7_col5\" class=\"data row7 col5\" >0.0705</td>\n",
              "      <td id=\"T_13c66_row7_col6\" class=\"data row7 col6\" >0.0725</td>\n",
              "    </tr>\n",
              "    <tr>\n",
              "      <th id=\"T_13c66_level0_row8\" class=\"row_heading level0 row8\" >8</th>\n",
              "      <td id=\"T_13c66_row8_col0\" class=\"data row8 col0\" >0.4429</td>\n",
              "      <td id=\"T_13c66_row8_col1\" class=\"data row8 col1\" >0.4447</td>\n",
              "      <td id=\"T_13c66_row8_col2\" class=\"data row8 col2\" >0.3636</td>\n",
              "      <td id=\"T_13c66_row8_col3\" class=\"data row8 col3\" >0.4000</td>\n",
              "      <td id=\"T_13c66_row8_col4\" class=\"data row8 col4\" >0.3810</td>\n",
              "      <td id=\"T_13c66_row8_col5\" class=\"data row8 col5\" >-0.1235</td>\n",
              "      <td id=\"T_13c66_row8_col6\" class=\"data row8 col6\" >-0.1239</td>\n",
              "    </tr>\n",
              "    <tr>\n",
              "      <th id=\"T_13c66_level0_row9\" class=\"row_heading level0 row9\" >9</th>\n",
              "      <td id=\"T_13c66_row9_col0\" class=\"data row9 col0\" >0.4928</td>\n",
              "      <td id=\"T_13c66_row9_col1\" class=\"data row9 col1\" >0.4637</td>\n",
              "      <td id=\"T_13c66_row9_col2\" class=\"data row9 col2\" >0.5312</td>\n",
              "      <td id=\"T_13c66_row9_col3\" class=\"data row9 col3\" >0.4595</td>\n",
              "      <td id=\"T_13c66_row9_col4\" class=\"data row9 col4\" >0.4928</td>\n",
              "      <td id=\"T_13c66_row9_col5\" class=\"data row9 col5\" >-0.0092</td>\n",
              "      <td id=\"T_13c66_row9_col6\" class=\"data row9 col6\" >-0.0093</td>\n",
              "    </tr>\n",
              "    <tr>\n",
              "      <th id=\"T_13c66_level0_row10\" class=\"row_heading level0 row10\" >Mean</th>\n",
              "      <td id=\"T_13c66_row10_col0\" class=\"data row10 col0\" >0.4964</td>\n",
              "      <td id=\"T_13c66_row10_col1\" class=\"data row10 col1\" >0.5198</td>\n",
              "      <td id=\"T_13c66_row10_col2\" class=\"data row10 col2\" >0.4557</td>\n",
              "      <td id=\"T_13c66_row10_col3\" class=\"data row10 col3\" >0.4599</td>\n",
              "      <td id=\"T_13c66_row10_col4\" class=\"data row10 col4\" >0.4518</td>\n",
              "      <td id=\"T_13c66_row10_col5\" class=\"data row10 col5\" >-0.0114</td>\n",
              "      <td id=\"T_13c66_row10_col6\" class=\"data row10 col6\" >-0.0112</td>\n",
              "    </tr>\n",
              "    <tr>\n",
              "      <th id=\"T_13c66_level0_row11\" class=\"row_heading level0 row11\" >Std</th>\n",
              "      <td id=\"T_13c66_row11_col0\" class=\"data row11 col0\" >0.0413</td>\n",
              "      <td id=\"T_13c66_row11_col1\" class=\"data row11 col1\" >0.0476</td>\n",
              "      <td id=\"T_13c66_row11_col2\" class=\"data row11 col2\" >0.0950</td>\n",
              "      <td id=\"T_13c66_row11_col3\" class=\"data row11 col3\" >0.0453</td>\n",
              "      <td id=\"T_13c66_row11_col4\" class=\"data row11 col4\" >0.0465</td>\n",
              "      <td id=\"T_13c66_row11_col5\" class=\"data row11 col5\" >0.0755</td>\n",
              "      <td id=\"T_13c66_row11_col6\" class=\"data row11 col6\" >0.0764</td>\n",
              "    </tr>\n",
              "  </tbody>\n",
              "</table>\n"
            ]
          },
          "metadata": {}
        },
        {
          "output_type": "display_data",
          "data": {
            "text/plain": [
              "Processing:   0%|          | 0/7 [00:00<?, ?it/s]"
            ],
            "application/vnd.jupyter.widget-view+json": {
              "version_major": 2,
              "version_minor": 0,
              "model_id": "b89cd869e7104d0d9a9a2e3afd3c1908"
            }
          },
          "metadata": {
            "application/vnd.jupyter.widget-view+json": {
              "colab": {
                "custom_widget_manager": {
                  "url": "https://ssl.gstatic.com/colaboratory-static/widgets/colab-cdn-widget-manager/d2e234f7cc04bf79/manager.min.js"
                }
              }
            }
          }
        },
        {
          "output_type": "stream",
          "name": "stdout",
          "text": [
            "Fitting 10 folds for each of 10 candidates, totalling 100 fits\n"
          ]
        },
        {
          "output_type": "display_data",
          "data": {
            "text/plain": [
              "<IPython.core.display.HTML object>"
            ],
            "text/html": []
          },
          "metadata": {}
        },
        {
          "output_type": "stream",
          "name": "stdout",
          "text": [
            "Original model was better than the tuned model, hence it will be returned. NOTE: The display metrics are for the tuned model (not the original one).\n"
          ]
        }
      ]
    },
    {
      "cell_type": "code",
      "source": [
        "predict_model(qda)"
      ],
      "metadata": {
        "colab": {
          "base_uri": "https://localhost:8080/",
          "height": 568
        },
        "id": "HjTeY6OinxtK",
        "outputId": "7494b665-98cd-4b2e-f161-e845994b1634"
      },
      "id": "HjTeY6OinxtK",
      "execution_count": 127,
      "outputs": [
        {
          "output_type": "display_data",
          "data": {
            "text/plain": [
              "<pandas.io.formats.style.Styler at 0x7ff42c7017c0>"
            ],
            "text/html": [
              "<style type=\"text/css\">\n",
              "</style>\n",
              "<table id=\"T_a99ce_\" class=\"dataframe\">\n",
              "  <thead>\n",
              "    <tr>\n",
              "      <th class=\"blank level0\" >&nbsp;</th>\n",
              "      <th class=\"col_heading level0 col0\" >Model</th>\n",
              "      <th class=\"col_heading level0 col1\" >Accuracy</th>\n",
              "      <th class=\"col_heading level0 col2\" >AUC</th>\n",
              "      <th class=\"col_heading level0 col3\" >Recall</th>\n",
              "      <th class=\"col_heading level0 col4\" >Prec.</th>\n",
              "      <th class=\"col_heading level0 col5\" >F1</th>\n",
              "      <th class=\"col_heading level0 col6\" >Kappa</th>\n",
              "      <th class=\"col_heading level0 col7\" >MCC</th>\n",
              "    </tr>\n",
              "  </thead>\n",
              "  <tbody>\n",
              "    <tr>\n",
              "      <th id=\"T_a99ce_level0_row0\" class=\"row_heading level0 row0\" >0</th>\n",
              "      <td id=\"T_a99ce_row0_col0\" class=\"data row0 col0\" >Quadratic Discriminant Analysis</td>\n",
              "      <td id=\"T_a99ce_row0_col1\" class=\"data row0 col1\" >0.4286</td>\n",
              "      <td id=\"T_a99ce_row0_col2\" class=\"data row0 col2\" >0.4016</td>\n",
              "      <td id=\"T_a99ce_row0_col3\" class=\"data row0 col3\" >0.3525</td>\n",
              "      <td id=\"T_a99ce_row0_col4\" class=\"data row0 col4\" >0.3740</td>\n",
              "      <td id=\"T_a99ce_row0_col5\" class=\"data row0 col5\" >0.3630</td>\n",
              "      <td id=\"T_a99ce_row0_col6\" class=\"data row0 col6\" >-0.1543</td>\n",
              "      <td id=\"T_a99ce_row0_col7\" class=\"data row0 col7\" >-0.1545</td>\n",
              "    </tr>\n",
              "  </tbody>\n",
              "</table>\n"
            ]
          },
          "metadata": {}
        },
        {
          "output_type": "execute_result",
          "data": {
            "text/plain": [
              "      Topic_0   Topic_1   Topic_2   Topic_3  Dominant_Topic_Topic 2  \\\n",
              "699  0.041772  0.081074  0.221819  0.655335                     0.0   \n",
              "700  0.078467  0.031887  0.083223  0.806423                     0.0   \n",
              "701  0.036137  0.069875  0.721903  0.172085                     1.0   \n",
              "702  0.021612  0.277958  0.414090  0.286340                     1.0   \n",
              "703  0.025746  0.049923  0.300242  0.624088                     0.0   \n",
              "..        ...       ...       ...       ...                     ...   \n",
              "995  0.018581  0.212961  0.619827  0.148630                     1.0   \n",
              "996  0.041755  0.100489  0.211178  0.646578                     0.0   \n",
              "997  0.028467  0.272653  0.410451  0.288429                     1.0   \n",
              "998  0.156332  0.323181  0.254398  0.266089                     0.0   \n",
              "999  0.031933  0.180681  0.164366  0.623019                     0.0   \n",
              "\n",
              "     Dominant_Topic_Topic 1  Dominant_Topic_Topic 0  Dominant_Topic_Topic 3  \\\n",
              "699                     0.0                     0.0                     1.0   \n",
              "700                     0.0                     0.0                     1.0   \n",
              "701                     0.0                     0.0                     0.0   \n",
              "702                     0.0                     0.0                     0.0   \n",
              "703                     0.0                     0.0                     1.0   \n",
              "..                      ...                     ...                     ...   \n",
              "995                     0.0                     0.0                     0.0   \n",
              "996                     0.0                     0.0                     1.0   \n",
              "997                     0.0                     0.0                     0.0   \n",
              "998                     1.0                     0.0                     0.0   \n",
              "999                     0.0                     0.0                     1.0   \n",
              "\n",
              "     Perc_Dominant_Topic  IsToxic  prediction_label  prediction_score  \n",
              "699                 0.66        0                 0            0.8751  \n",
              "700                 0.81        0                 0            0.9979  \n",
              "701                 0.72        1                 0            0.5308  \n",
              "702                 0.41        1                 1            0.7133  \n",
              "703                 0.62        1                 0            0.8763  \n",
              "..                   ...      ...               ...               ...  \n",
              "995                 0.62        1                 0            0.5319  \n",
              "996                 0.65        1                 1            0.5283  \n",
              "997                 0.41        0                 1            0.7226  \n",
              "998                 0.32        0                 1            0.9369  \n",
              "999                 0.62        1                 1            0.5103  \n",
              "\n",
              "[301 rows x 12 columns]"
            ],
            "text/html": [
              "\n",
              "  <div id=\"df-edfeb743-6b45-4556-b646-a262f42eb59d\">\n",
              "    <div class=\"colab-df-container\">\n",
              "      <div>\n",
              "<style scoped>\n",
              "    .dataframe tbody tr th:only-of-type {\n",
              "        vertical-align: middle;\n",
              "    }\n",
              "\n",
              "    .dataframe tbody tr th {\n",
              "        vertical-align: top;\n",
              "    }\n",
              "\n",
              "    .dataframe thead th {\n",
              "        text-align: right;\n",
              "    }\n",
              "</style>\n",
              "<table border=\"1\" class=\"dataframe\">\n",
              "  <thead>\n",
              "    <tr style=\"text-align: right;\">\n",
              "      <th></th>\n",
              "      <th>Topic_0</th>\n",
              "      <th>Topic_1</th>\n",
              "      <th>Topic_2</th>\n",
              "      <th>Topic_3</th>\n",
              "      <th>Dominant_Topic_Topic 2</th>\n",
              "      <th>Dominant_Topic_Topic 1</th>\n",
              "      <th>Dominant_Topic_Topic 0</th>\n",
              "      <th>Dominant_Topic_Topic 3</th>\n",
              "      <th>Perc_Dominant_Topic</th>\n",
              "      <th>IsToxic</th>\n",
              "      <th>prediction_label</th>\n",
              "      <th>prediction_score</th>\n",
              "    </tr>\n",
              "  </thead>\n",
              "  <tbody>\n",
              "    <tr>\n",
              "      <th>699</th>\n",
              "      <td>0.041772</td>\n",
              "      <td>0.081074</td>\n",
              "      <td>0.221819</td>\n",
              "      <td>0.655335</td>\n",
              "      <td>0.0</td>\n",
              "      <td>0.0</td>\n",
              "      <td>0.0</td>\n",
              "      <td>1.0</td>\n",
              "      <td>0.66</td>\n",
              "      <td>0</td>\n",
              "      <td>0</td>\n",
              "      <td>0.8751</td>\n",
              "    </tr>\n",
              "    <tr>\n",
              "      <th>700</th>\n",
              "      <td>0.078467</td>\n",
              "      <td>0.031887</td>\n",
              "      <td>0.083223</td>\n",
              "      <td>0.806423</td>\n",
              "      <td>0.0</td>\n",
              "      <td>0.0</td>\n",
              "      <td>0.0</td>\n",
              "      <td>1.0</td>\n",
              "      <td>0.81</td>\n",
              "      <td>0</td>\n",
              "      <td>0</td>\n",
              "      <td>0.9979</td>\n",
              "    </tr>\n",
              "    <tr>\n",
              "      <th>701</th>\n",
              "      <td>0.036137</td>\n",
              "      <td>0.069875</td>\n",
              "      <td>0.721903</td>\n",
              "      <td>0.172085</td>\n",
              "      <td>1.0</td>\n",
              "      <td>0.0</td>\n",
              "      <td>0.0</td>\n",
              "      <td>0.0</td>\n",
              "      <td>0.72</td>\n",
              "      <td>1</td>\n",
              "      <td>0</td>\n",
              "      <td>0.5308</td>\n",
              "    </tr>\n",
              "    <tr>\n",
              "      <th>702</th>\n",
              "      <td>0.021612</td>\n",
              "      <td>0.277958</td>\n",
              "      <td>0.414090</td>\n",
              "      <td>0.286340</td>\n",
              "      <td>1.0</td>\n",
              "      <td>0.0</td>\n",
              "      <td>0.0</td>\n",
              "      <td>0.0</td>\n",
              "      <td>0.41</td>\n",
              "      <td>1</td>\n",
              "      <td>1</td>\n",
              "      <td>0.7133</td>\n",
              "    </tr>\n",
              "    <tr>\n",
              "      <th>703</th>\n",
              "      <td>0.025746</td>\n",
              "      <td>0.049923</td>\n",
              "      <td>0.300242</td>\n",
              "      <td>0.624088</td>\n",
              "      <td>0.0</td>\n",
              "      <td>0.0</td>\n",
              "      <td>0.0</td>\n",
              "      <td>1.0</td>\n",
              "      <td>0.62</td>\n",
              "      <td>1</td>\n",
              "      <td>0</td>\n",
              "      <td>0.8763</td>\n",
              "    </tr>\n",
              "    <tr>\n",
              "      <th>...</th>\n",
              "      <td>...</td>\n",
              "      <td>...</td>\n",
              "      <td>...</td>\n",
              "      <td>...</td>\n",
              "      <td>...</td>\n",
              "      <td>...</td>\n",
              "      <td>...</td>\n",
              "      <td>...</td>\n",
              "      <td>...</td>\n",
              "      <td>...</td>\n",
              "      <td>...</td>\n",
              "      <td>...</td>\n",
              "    </tr>\n",
              "    <tr>\n",
              "      <th>995</th>\n",
              "      <td>0.018581</td>\n",
              "      <td>0.212961</td>\n",
              "      <td>0.619827</td>\n",
              "      <td>0.148630</td>\n",
              "      <td>1.0</td>\n",
              "      <td>0.0</td>\n",
              "      <td>0.0</td>\n",
              "      <td>0.0</td>\n",
              "      <td>0.62</td>\n",
              "      <td>1</td>\n",
              "      <td>0</td>\n",
              "      <td>0.5319</td>\n",
              "    </tr>\n",
              "    <tr>\n",
              "      <th>996</th>\n",
              "      <td>0.041755</td>\n",
              "      <td>0.100489</td>\n",
              "      <td>0.211178</td>\n",
              "      <td>0.646578</td>\n",
              "      <td>0.0</td>\n",
              "      <td>0.0</td>\n",
              "      <td>0.0</td>\n",
              "      <td>1.0</td>\n",
              "      <td>0.65</td>\n",
              "      <td>1</td>\n",
              "      <td>1</td>\n",
              "      <td>0.5283</td>\n",
              "    </tr>\n",
              "    <tr>\n",
              "      <th>997</th>\n",
              "      <td>0.028467</td>\n",
              "      <td>0.272653</td>\n",
              "      <td>0.410451</td>\n",
              "      <td>0.288429</td>\n",
              "      <td>1.0</td>\n",
              "      <td>0.0</td>\n",
              "      <td>0.0</td>\n",
              "      <td>0.0</td>\n",
              "      <td>0.41</td>\n",
              "      <td>0</td>\n",
              "      <td>1</td>\n",
              "      <td>0.7226</td>\n",
              "    </tr>\n",
              "    <tr>\n",
              "      <th>998</th>\n",
              "      <td>0.156332</td>\n",
              "      <td>0.323181</td>\n",
              "      <td>0.254398</td>\n",
              "      <td>0.266089</td>\n",
              "      <td>0.0</td>\n",
              "      <td>1.0</td>\n",
              "      <td>0.0</td>\n",
              "      <td>0.0</td>\n",
              "      <td>0.32</td>\n",
              "      <td>0</td>\n",
              "      <td>1</td>\n",
              "      <td>0.9369</td>\n",
              "    </tr>\n",
              "    <tr>\n",
              "      <th>999</th>\n",
              "      <td>0.031933</td>\n",
              "      <td>0.180681</td>\n",
              "      <td>0.164366</td>\n",
              "      <td>0.623019</td>\n",
              "      <td>0.0</td>\n",
              "      <td>0.0</td>\n",
              "      <td>0.0</td>\n",
              "      <td>1.0</td>\n",
              "      <td>0.62</td>\n",
              "      <td>1</td>\n",
              "      <td>1</td>\n",
              "      <td>0.5103</td>\n",
              "    </tr>\n",
              "  </tbody>\n",
              "</table>\n",
              "<p>301 rows × 12 columns</p>\n",
              "</div>\n",
              "      <button class=\"colab-df-convert\" onclick=\"convertToInteractive('df-edfeb743-6b45-4556-b646-a262f42eb59d')\"\n",
              "              title=\"Convert this dataframe to an interactive table.\"\n",
              "              style=\"display:none;\">\n",
              "        \n",
              "  <svg xmlns=\"http://www.w3.org/2000/svg\" height=\"24px\"viewBox=\"0 0 24 24\"\n",
              "       width=\"24px\">\n",
              "    <path d=\"M0 0h24v24H0V0z\" fill=\"none\"/>\n",
              "    <path d=\"M18.56 5.44l.94 2.06.94-2.06 2.06-.94-2.06-.94-.94-2.06-.94 2.06-2.06.94zm-11 1L8.5 8.5l.94-2.06 2.06-.94-2.06-.94L8.5 2.5l-.94 2.06-2.06.94zm10 10l.94 2.06.94-2.06 2.06-.94-2.06-.94-.94-2.06-.94 2.06-2.06.94z\"/><path d=\"M17.41 7.96l-1.37-1.37c-.4-.4-.92-.59-1.43-.59-.52 0-1.04.2-1.43.59L10.3 9.45l-7.72 7.72c-.78.78-.78 2.05 0 2.83L4 21.41c.39.39.9.59 1.41.59.51 0 1.02-.2 1.41-.59l7.78-7.78 2.81-2.81c.8-.78.8-2.07 0-2.86zM5.41 20L4 18.59l7.72-7.72 1.47 1.35L5.41 20z\"/>\n",
              "  </svg>\n",
              "      </button>\n",
              "      \n",
              "  <style>\n",
              "    .colab-df-container {\n",
              "      display:flex;\n",
              "      flex-wrap:wrap;\n",
              "      gap: 12px;\n",
              "    }\n",
              "\n",
              "    .colab-df-convert {\n",
              "      background-color: #E8F0FE;\n",
              "      border: none;\n",
              "      border-radius: 50%;\n",
              "      cursor: pointer;\n",
              "      display: none;\n",
              "      fill: #1967D2;\n",
              "      height: 32px;\n",
              "      padding: 0 0 0 0;\n",
              "      width: 32px;\n",
              "    }\n",
              "\n",
              "    .colab-df-convert:hover {\n",
              "      background-color: #E2EBFA;\n",
              "      box-shadow: 0px 1px 2px rgba(60, 64, 67, 0.3), 0px 1px 3px 1px rgba(60, 64, 67, 0.15);\n",
              "      fill: #174EA6;\n",
              "    }\n",
              "\n",
              "    [theme=dark] .colab-df-convert {\n",
              "      background-color: #3B4455;\n",
              "      fill: #D2E3FC;\n",
              "    }\n",
              "\n",
              "    [theme=dark] .colab-df-convert:hover {\n",
              "      background-color: #434B5C;\n",
              "      box-shadow: 0px 1px 3px 1px rgba(0, 0, 0, 0.15);\n",
              "      filter: drop-shadow(0px 1px 2px rgba(0, 0, 0, 0.3));\n",
              "      fill: #FFFFFF;\n",
              "    }\n",
              "  </style>\n",
              "\n",
              "      <script>\n",
              "        const buttonEl =\n",
              "          document.querySelector('#df-edfeb743-6b45-4556-b646-a262f42eb59d button.colab-df-convert');\n",
              "        buttonEl.style.display =\n",
              "          google.colab.kernel.accessAllowed ? 'block' : 'none';\n",
              "\n",
              "        async function convertToInteractive(key) {\n",
              "          const element = document.querySelector('#df-edfeb743-6b45-4556-b646-a262f42eb59d');\n",
              "          const dataTable =\n",
              "            await google.colab.kernel.invokeFunction('convertToInteractive',\n",
              "                                                     [key], {});\n",
              "          if (!dataTable) return;\n",
              "\n",
              "          const docLinkHtml = 'Like what you see? Visit the ' +\n",
              "            '<a target=\"_blank\" href=https://colab.research.google.com/notebooks/data_table.ipynb>data table notebook</a>'\n",
              "            + ' to learn more about interactive tables.';\n",
              "          element.innerHTML = '';\n",
              "          dataTable['output_type'] = 'display_data';\n",
              "          await google.colab.output.renderOutput(dataTable, element);\n",
              "          const docLink = document.createElement('div');\n",
              "          docLink.innerHTML = docLinkHtml;\n",
              "          element.appendChild(docLink);\n",
              "        }\n",
              "      </script>\n",
              "    </div>\n",
              "  </div>\n",
              "  "
            ]
          },
          "metadata": {},
          "execution_count": 127
        }
      ]
    },
    {
      "cell_type": "code",
      "source": [
        "np.abs(((0.9640 - 0.9508)/0.9640) *100)"
      ],
      "metadata": {
        "colab": {
          "base_uri": "https://localhost:8080/"
        },
        "id": "EGU_xoqwoJw7",
        "outputId": "dd7db1d3-4214-4891-9796-60ba0e85d2e6"
      },
      "id": "EGU_xoqwoJw7",
      "execution_count": 128,
      "outputs": [
        {
          "output_type": "execute_result",
          "data": {
            "text/plain": [
              "1.3692946058091275"
            ]
          },
          "metadata": {},
          "execution_count": 128
        }
      ]
    }
  ],
  "metadata": {
    "colab": {
      "provenance": []
    },
    "kernelspec": {
      "display_name": "Python 3 (ipykernel)",
      "language": "python",
      "name": "python3"
    },
    "language_info": {
      "codemirror_mode": {
        "name": "ipython",
        "version": 3
      },
      "file_extension": ".py",
      "mimetype": "text/x-python",
      "name": "python",
      "nbconvert_exporter": "python",
      "pygments_lexer": "ipython3",
      "version": "3.10.8"
    },
    "vscode": {
      "interpreter": {
        "hash": "9e5b7788a29f1d840a4c703888c44b85ff725f1d39a11799edab98dde2bf1c69"
      }
    },
    "widgets": {
      "application/vnd.jupyter.widget-state+json": {
        "9b5f159fd9f348a38df9ff560a5040ce": {
          "model_module": "@jupyter-widgets/controls",
          "model_name": "IntProgressModel",
          "model_module_version": "1.5.0",
          "state": {
            "_dom_classes": [],
            "_model_module": "@jupyter-widgets/controls",
            "_model_module_version": "1.5.0",
            "_model_name": "IntProgressModel",
            "_view_count": null,
            "_view_module": "@jupyter-widgets/controls",
            "_view_module_version": "1.5.0",
            "_view_name": "ProgressView",
            "bar_style": "",
            "description": "Processing: ",
            "description_tooltip": null,
            "layout": "IPY_MODEL_bcbc3a88745347989e86e1828f21ec14",
            "max": 11,
            "min": 0,
            "orientation": "horizontal",
            "style": "IPY_MODEL_4736cd339a654c0ea65e52aa711b1da4",
            "value": 11
          }
        },
        "bcbc3a88745347989e86e1828f21ec14": {
          "model_module": "@jupyter-widgets/base",
          "model_name": "LayoutModel",
          "model_module_version": "1.2.0",
          "state": {
            "_model_module": "@jupyter-widgets/base",
            "_model_module_version": "1.2.0",
            "_model_name": "LayoutModel",
            "_view_count": null,
            "_view_module": "@jupyter-widgets/base",
            "_view_module_version": "1.2.0",
            "_view_name": "LayoutView",
            "align_content": null,
            "align_items": null,
            "align_self": null,
            "border": null,
            "bottom": null,
            "display": null,
            "flex": null,
            "flex_flow": null,
            "grid_area": null,
            "grid_auto_columns": null,
            "grid_auto_flow": null,
            "grid_auto_rows": null,
            "grid_column": null,
            "grid_gap": null,
            "grid_row": null,
            "grid_template_areas": null,
            "grid_template_columns": null,
            "grid_template_rows": null,
            "height": null,
            "justify_content": null,
            "justify_items": null,
            "left": null,
            "margin": null,
            "max_height": null,
            "max_width": null,
            "min_height": null,
            "min_width": null,
            "object_fit": null,
            "object_position": null,
            "order": null,
            "overflow": null,
            "overflow_x": null,
            "overflow_y": null,
            "padding": null,
            "right": null,
            "top": null,
            "visibility": null,
            "width": null
          }
        },
        "4736cd339a654c0ea65e52aa711b1da4": {
          "model_module": "@jupyter-widgets/controls",
          "model_name": "ProgressStyleModel",
          "model_module_version": "1.5.0",
          "state": {
            "_model_module": "@jupyter-widgets/controls",
            "_model_module_version": "1.5.0",
            "_model_name": "ProgressStyleModel",
            "_view_count": null,
            "_view_module": "@jupyter-widgets/base",
            "_view_module_version": "1.2.0",
            "_view_name": "StyleView",
            "bar_color": null,
            "description_width": ""
          }
        },
        "734d7b0c97c24dd380c4bb72ceb7899b": {
          "model_module": "@jupyter-widgets/controls",
          "model_name": "IntProgressModel",
          "model_module_version": "1.5.0",
          "state": {
            "_dom_classes": [],
            "_model_module": "@jupyter-widgets/controls",
            "_model_module_version": "1.5.0",
            "_model_name": "IntProgressModel",
            "_view_count": null,
            "_view_module": "@jupyter-widgets/controls",
            "_view_module_version": "1.5.0",
            "_view_name": "ProgressView",
            "bar_style": "",
            "description": "Processing: ",
            "description_tooltip": null,
            "layout": "IPY_MODEL_d6b5f7bef6294b5fac66296e9554d941",
            "max": 4,
            "min": 0,
            "orientation": "horizontal",
            "style": "IPY_MODEL_3db17ac242f54176b0b959e203e43be6",
            "value": 4
          }
        },
        "d6b5f7bef6294b5fac66296e9554d941": {
          "model_module": "@jupyter-widgets/base",
          "model_name": "LayoutModel",
          "model_module_version": "1.2.0",
          "state": {
            "_model_module": "@jupyter-widgets/base",
            "_model_module_version": "1.2.0",
            "_model_name": "LayoutModel",
            "_view_count": null,
            "_view_module": "@jupyter-widgets/base",
            "_view_module_version": "1.2.0",
            "_view_name": "LayoutView",
            "align_content": null,
            "align_items": null,
            "align_self": null,
            "border": null,
            "bottom": null,
            "display": null,
            "flex": null,
            "flex_flow": null,
            "grid_area": null,
            "grid_auto_columns": null,
            "grid_auto_flow": null,
            "grid_auto_rows": null,
            "grid_column": null,
            "grid_gap": null,
            "grid_row": null,
            "grid_template_areas": null,
            "grid_template_columns": null,
            "grid_template_rows": null,
            "height": null,
            "justify_content": null,
            "justify_items": null,
            "left": null,
            "margin": null,
            "max_height": null,
            "max_width": null,
            "min_height": null,
            "min_width": null,
            "object_fit": null,
            "object_position": null,
            "order": null,
            "overflow": null,
            "overflow_x": null,
            "overflow_y": null,
            "padding": null,
            "right": null,
            "top": null,
            "visibility": null,
            "width": null
          }
        },
        "3db17ac242f54176b0b959e203e43be6": {
          "model_module": "@jupyter-widgets/controls",
          "model_name": "ProgressStyleModel",
          "model_module_version": "1.5.0",
          "state": {
            "_model_module": "@jupyter-widgets/controls",
            "_model_module_version": "1.5.0",
            "_model_name": "ProgressStyleModel",
            "_view_count": null,
            "_view_module": "@jupyter-widgets/base",
            "_view_module_version": "1.2.0",
            "_view_name": "StyleView",
            "bar_color": null,
            "description_width": ""
          }
        },
        "85105b908d88455f9e9f94a4fccba623": {
          "model_module": "@jupyter-widgets/controls",
          "model_name": "IntProgressModel",
          "model_module_version": "1.5.0",
          "state": {
            "_dom_classes": [],
            "_model_module": "@jupyter-widgets/controls",
            "_model_module_version": "1.5.0",
            "_model_name": "IntProgressModel",
            "_view_count": null,
            "_view_module": "@jupyter-widgets/controls",
            "_view_module_version": "1.5.0",
            "_view_name": "ProgressView",
            "bar_style": "",
            "description": "Processing: ",
            "description_tooltip": null,
            "layout": "IPY_MODEL_3c1c810ff2af480e8240973730eec998",
            "max": 1005,
            "min": 0,
            "orientation": "horizontal",
            "style": "IPY_MODEL_76ef2a74477441dab5ffffd1b9d41817",
            "value": 1005
          }
        },
        "3c1c810ff2af480e8240973730eec998": {
          "model_module": "@jupyter-widgets/base",
          "model_name": "LayoutModel",
          "model_module_version": "1.2.0",
          "state": {
            "_model_module": "@jupyter-widgets/base",
            "_model_module_version": "1.2.0",
            "_model_name": "LayoutModel",
            "_view_count": null,
            "_view_module": "@jupyter-widgets/base",
            "_view_module_version": "1.2.0",
            "_view_name": "LayoutView",
            "align_content": null,
            "align_items": null,
            "align_self": null,
            "border": null,
            "bottom": null,
            "display": null,
            "flex": null,
            "flex_flow": null,
            "grid_area": null,
            "grid_auto_columns": null,
            "grid_auto_flow": null,
            "grid_auto_rows": null,
            "grid_column": null,
            "grid_gap": null,
            "grid_row": null,
            "grid_template_areas": null,
            "grid_template_columns": null,
            "grid_template_rows": null,
            "height": null,
            "justify_content": null,
            "justify_items": null,
            "left": null,
            "margin": null,
            "max_height": null,
            "max_width": null,
            "min_height": null,
            "min_width": null,
            "object_fit": null,
            "object_position": null,
            "order": null,
            "overflow": null,
            "overflow_x": null,
            "overflow_y": null,
            "padding": null,
            "right": null,
            "top": null,
            "visibility": null,
            "width": null
          }
        },
        "76ef2a74477441dab5ffffd1b9d41817": {
          "model_module": "@jupyter-widgets/controls",
          "model_name": "ProgressStyleModel",
          "model_module_version": "1.5.0",
          "state": {
            "_model_module": "@jupyter-widgets/controls",
            "_model_module_version": "1.5.0",
            "_model_name": "ProgressStyleModel",
            "_view_count": null,
            "_view_module": "@jupyter-widgets/base",
            "_view_module_version": "1.2.0",
            "_view_name": "StyleView",
            "bar_color": null,
            "description_width": ""
          }
        },
        "f7119a980ae74f88afaf3af3be60e540": {
          "model_module": "@jupyter-widgets/controls",
          "model_name": "HBoxModel",
          "model_module_version": "1.5.0",
          "state": {
            "_dom_classes": [],
            "_model_module": "@jupyter-widgets/controls",
            "_model_module_version": "1.5.0",
            "_model_name": "HBoxModel",
            "_view_count": null,
            "_view_module": "@jupyter-widgets/controls",
            "_view_module_version": "1.5.0",
            "_view_name": "HBoxView",
            "box_style": "",
            "children": [
              "IPY_MODEL_ef9a112cc2d345508ae3dd65f1c63571",
              "IPY_MODEL_21a09fb5a111445d8aee54cf8f1a5441",
              "IPY_MODEL_aec12c1c9cc64ed089f67cff95340049"
            ],
            "layout": "IPY_MODEL_5f3c13b7abfa4f9e87dfd962f971802d"
          }
        },
        "ef9a112cc2d345508ae3dd65f1c63571": {
          "model_module": "@jupyter-widgets/controls",
          "model_name": "HTMLModel",
          "model_module_version": "1.5.0",
          "state": {
            "_dom_classes": [],
            "_model_module": "@jupyter-widgets/controls",
            "_model_module_version": "1.5.0",
            "_model_name": "HTMLModel",
            "_view_count": null,
            "_view_module": "@jupyter-widgets/controls",
            "_view_module_version": "1.5.0",
            "_view_name": "HTMLView",
            "description": "",
            "description_tooltip": null,
            "layout": "IPY_MODEL_bcc08028d29f4ca4bc2085055e53fc4c",
            "placeholder": "​",
            "style": "IPY_MODEL_8055b71868e04bd6929113c9917e4266",
            "value": "Processing: 100%"
          }
        },
        "21a09fb5a111445d8aee54cf8f1a5441": {
          "model_module": "@jupyter-widgets/controls",
          "model_name": "FloatProgressModel",
          "model_module_version": "1.5.0",
          "state": {
            "_dom_classes": [],
            "_model_module": "@jupyter-widgets/controls",
            "_model_module_version": "1.5.0",
            "_model_name": "FloatProgressModel",
            "_view_count": null,
            "_view_module": "@jupyter-widgets/controls",
            "_view_module_version": "1.5.0",
            "_view_name": "ProgressView",
            "bar_style": "",
            "description": "",
            "description_tooltip": null,
            "layout": "IPY_MODEL_57e23775163946b59b280af1d343b119",
            "max": 65,
            "min": 0,
            "orientation": "horizontal",
            "style": "IPY_MODEL_723c3507d62c4611a34be1c077909c9a",
            "value": 65
          }
        },
        "aec12c1c9cc64ed089f67cff95340049": {
          "model_module": "@jupyter-widgets/controls",
          "model_name": "HTMLModel",
          "model_module_version": "1.5.0",
          "state": {
            "_dom_classes": [],
            "_model_module": "@jupyter-widgets/controls",
            "_model_module_version": "1.5.0",
            "_model_name": "HTMLModel",
            "_view_count": null,
            "_view_module": "@jupyter-widgets/controls",
            "_view_module_version": "1.5.0",
            "_view_name": "HTMLView",
            "description": "",
            "description_tooltip": null,
            "layout": "IPY_MODEL_973ba7c7a3f6456cbf612bd6d3a269c3",
            "placeholder": "​",
            "style": "IPY_MODEL_f803c394bf71430da8c95333dfe4fe59",
            "value": " 65/65 [00:28&lt;00:00,  4.18it/s]"
          }
        },
        "5f3c13b7abfa4f9e87dfd962f971802d": {
          "model_module": "@jupyter-widgets/base",
          "model_name": "LayoutModel",
          "model_module_version": "1.2.0",
          "state": {
            "_model_module": "@jupyter-widgets/base",
            "_model_module_version": "1.2.0",
            "_model_name": "LayoutModel",
            "_view_count": null,
            "_view_module": "@jupyter-widgets/base",
            "_view_module_version": "1.2.0",
            "_view_name": "LayoutView",
            "align_content": null,
            "align_items": null,
            "align_self": null,
            "border": null,
            "bottom": null,
            "display": null,
            "flex": null,
            "flex_flow": null,
            "grid_area": null,
            "grid_auto_columns": null,
            "grid_auto_flow": null,
            "grid_auto_rows": null,
            "grid_column": null,
            "grid_gap": null,
            "grid_row": null,
            "grid_template_areas": null,
            "grid_template_columns": null,
            "grid_template_rows": null,
            "height": null,
            "justify_content": null,
            "justify_items": null,
            "left": null,
            "margin": null,
            "max_height": null,
            "max_width": null,
            "min_height": null,
            "min_width": null,
            "object_fit": null,
            "object_position": null,
            "order": null,
            "overflow": null,
            "overflow_x": null,
            "overflow_y": null,
            "padding": null,
            "right": null,
            "top": null,
            "visibility": "hidden",
            "width": null
          }
        },
        "bcc08028d29f4ca4bc2085055e53fc4c": {
          "model_module": "@jupyter-widgets/base",
          "model_name": "LayoutModel",
          "model_module_version": "1.2.0",
          "state": {
            "_model_module": "@jupyter-widgets/base",
            "_model_module_version": "1.2.0",
            "_model_name": "LayoutModel",
            "_view_count": null,
            "_view_module": "@jupyter-widgets/base",
            "_view_module_version": "1.2.0",
            "_view_name": "LayoutView",
            "align_content": null,
            "align_items": null,
            "align_self": null,
            "border": null,
            "bottom": null,
            "display": null,
            "flex": null,
            "flex_flow": null,
            "grid_area": null,
            "grid_auto_columns": null,
            "grid_auto_flow": null,
            "grid_auto_rows": null,
            "grid_column": null,
            "grid_gap": null,
            "grid_row": null,
            "grid_template_areas": null,
            "grid_template_columns": null,
            "grid_template_rows": null,
            "height": null,
            "justify_content": null,
            "justify_items": null,
            "left": null,
            "margin": null,
            "max_height": null,
            "max_width": null,
            "min_height": null,
            "min_width": null,
            "object_fit": null,
            "object_position": null,
            "order": null,
            "overflow": null,
            "overflow_x": null,
            "overflow_y": null,
            "padding": null,
            "right": null,
            "top": null,
            "visibility": null,
            "width": null
          }
        },
        "8055b71868e04bd6929113c9917e4266": {
          "model_module": "@jupyter-widgets/controls",
          "model_name": "DescriptionStyleModel",
          "model_module_version": "1.5.0",
          "state": {
            "_model_module": "@jupyter-widgets/controls",
            "_model_module_version": "1.5.0",
            "_model_name": "DescriptionStyleModel",
            "_view_count": null,
            "_view_module": "@jupyter-widgets/base",
            "_view_module_version": "1.2.0",
            "_view_name": "StyleView",
            "description_width": ""
          }
        },
        "57e23775163946b59b280af1d343b119": {
          "model_module": "@jupyter-widgets/base",
          "model_name": "LayoutModel",
          "model_module_version": "1.2.0",
          "state": {
            "_model_module": "@jupyter-widgets/base",
            "_model_module_version": "1.2.0",
            "_model_name": "LayoutModel",
            "_view_count": null,
            "_view_module": "@jupyter-widgets/base",
            "_view_module_version": "1.2.0",
            "_view_name": "LayoutView",
            "align_content": null,
            "align_items": null,
            "align_self": null,
            "border": null,
            "bottom": null,
            "display": null,
            "flex": null,
            "flex_flow": null,
            "grid_area": null,
            "grid_auto_columns": null,
            "grid_auto_flow": null,
            "grid_auto_rows": null,
            "grid_column": null,
            "grid_gap": null,
            "grid_row": null,
            "grid_template_areas": null,
            "grid_template_columns": null,
            "grid_template_rows": null,
            "height": null,
            "justify_content": null,
            "justify_items": null,
            "left": null,
            "margin": null,
            "max_height": null,
            "max_width": null,
            "min_height": null,
            "min_width": null,
            "object_fit": null,
            "object_position": null,
            "order": null,
            "overflow": null,
            "overflow_x": null,
            "overflow_y": null,
            "padding": null,
            "right": null,
            "top": null,
            "visibility": null,
            "width": null
          }
        },
        "723c3507d62c4611a34be1c077909c9a": {
          "model_module": "@jupyter-widgets/controls",
          "model_name": "ProgressStyleModel",
          "model_module_version": "1.5.0",
          "state": {
            "_model_module": "@jupyter-widgets/controls",
            "_model_module_version": "1.5.0",
            "_model_name": "ProgressStyleModel",
            "_view_count": null,
            "_view_module": "@jupyter-widgets/base",
            "_view_module_version": "1.2.0",
            "_view_name": "StyleView",
            "bar_color": null,
            "description_width": ""
          }
        },
        "973ba7c7a3f6456cbf612bd6d3a269c3": {
          "model_module": "@jupyter-widgets/base",
          "model_name": "LayoutModel",
          "model_module_version": "1.2.0",
          "state": {
            "_model_module": "@jupyter-widgets/base",
            "_model_module_version": "1.2.0",
            "_model_name": "LayoutModel",
            "_view_count": null,
            "_view_module": "@jupyter-widgets/base",
            "_view_module_version": "1.2.0",
            "_view_name": "LayoutView",
            "align_content": null,
            "align_items": null,
            "align_self": null,
            "border": null,
            "bottom": null,
            "display": null,
            "flex": null,
            "flex_flow": null,
            "grid_area": null,
            "grid_auto_columns": null,
            "grid_auto_flow": null,
            "grid_auto_rows": null,
            "grid_column": null,
            "grid_gap": null,
            "grid_row": null,
            "grid_template_areas": null,
            "grid_template_columns": null,
            "grid_template_rows": null,
            "height": null,
            "justify_content": null,
            "justify_items": null,
            "left": null,
            "margin": null,
            "max_height": null,
            "max_width": null,
            "min_height": null,
            "min_width": null,
            "object_fit": null,
            "object_position": null,
            "order": null,
            "overflow": null,
            "overflow_x": null,
            "overflow_y": null,
            "padding": null,
            "right": null,
            "top": null,
            "visibility": null,
            "width": null
          }
        },
        "f803c394bf71430da8c95333dfe4fe59": {
          "model_module": "@jupyter-widgets/controls",
          "model_name": "DescriptionStyleModel",
          "model_module_version": "1.5.0",
          "state": {
            "_model_module": "@jupyter-widgets/controls",
            "_model_module_version": "1.5.0",
            "_model_name": "DescriptionStyleModel",
            "_view_count": null,
            "_view_module": "@jupyter-widgets/base",
            "_view_module_version": "1.2.0",
            "_view_name": "StyleView",
            "description_width": ""
          }
        },
        "b89cd869e7104d0d9a9a2e3afd3c1908": {
          "model_module": "@jupyter-widgets/controls",
          "model_name": "HBoxModel",
          "model_module_version": "1.5.0",
          "state": {
            "_dom_classes": [],
            "_model_module": "@jupyter-widgets/controls",
            "_model_module_version": "1.5.0",
            "_model_name": "HBoxModel",
            "_view_count": null,
            "_view_module": "@jupyter-widgets/controls",
            "_view_module_version": "1.5.0",
            "_view_name": "HBoxView",
            "box_style": "",
            "children": [
              "IPY_MODEL_cb90c3efe91542f0a904ef48679ac421",
              "IPY_MODEL_91b42381098549648b737420536f93a1",
              "IPY_MODEL_00a5b7bd66f84898a30bc246d24db569"
            ],
            "layout": "IPY_MODEL_ffa6597692c84357b19a3f12968e1ab7"
          }
        },
        "cb90c3efe91542f0a904ef48679ac421": {
          "model_module": "@jupyter-widgets/controls",
          "model_name": "HTMLModel",
          "model_module_version": "1.5.0",
          "state": {
            "_dom_classes": [],
            "_model_module": "@jupyter-widgets/controls",
            "_model_module_version": "1.5.0",
            "_model_name": "HTMLModel",
            "_view_count": null,
            "_view_module": "@jupyter-widgets/controls",
            "_view_module_version": "1.5.0",
            "_view_name": "HTMLView",
            "description": "",
            "description_tooltip": null,
            "layout": "IPY_MODEL_28925277fab04f50a98448e654c165ef",
            "placeholder": "​",
            "style": "IPY_MODEL_6998fe3afc734556a51559179ad20024",
            "value": "Processing:  86%"
          }
        },
        "91b42381098549648b737420536f93a1": {
          "model_module": "@jupyter-widgets/controls",
          "model_name": "FloatProgressModel",
          "model_module_version": "1.5.0",
          "state": {
            "_dom_classes": [],
            "_model_module": "@jupyter-widgets/controls",
            "_model_module_version": "1.5.0",
            "_model_name": "FloatProgressModel",
            "_view_count": null,
            "_view_module": "@jupyter-widgets/controls",
            "_view_module_version": "1.5.0",
            "_view_name": "ProgressView",
            "bar_style": "",
            "description": "",
            "description_tooltip": null,
            "layout": "IPY_MODEL_4fb95071c54f46ba805abad013e3a4cf",
            "max": 7,
            "min": 0,
            "orientation": "horizontal",
            "style": "IPY_MODEL_b00d90588530416bad386b3a3bfbc185",
            "value": 7
          }
        },
        "00a5b7bd66f84898a30bc246d24db569": {
          "model_module": "@jupyter-widgets/controls",
          "model_name": "HTMLModel",
          "model_module_version": "1.5.0",
          "state": {
            "_dom_classes": [],
            "_model_module": "@jupyter-widgets/controls",
            "_model_module_version": "1.5.0",
            "_model_name": "HTMLModel",
            "_view_count": null,
            "_view_module": "@jupyter-widgets/controls",
            "_view_module_version": "1.5.0",
            "_view_name": "HTMLView",
            "description": "",
            "description_tooltip": null,
            "layout": "IPY_MODEL_a69af6e9105a4a94bad46656a56762c5",
            "placeholder": "​",
            "style": "IPY_MODEL_29c394f5a3e74f9ea1c5a02b8abd5595",
            "value": " 6/7 [00:04&lt;00:00,  1.46it/s]"
          }
        },
        "ffa6597692c84357b19a3f12968e1ab7": {
          "model_module": "@jupyter-widgets/base",
          "model_name": "LayoutModel",
          "model_module_version": "1.2.0",
          "state": {
            "_model_module": "@jupyter-widgets/base",
            "_model_module_version": "1.2.0",
            "_model_name": "LayoutModel",
            "_view_count": null,
            "_view_module": "@jupyter-widgets/base",
            "_view_module_version": "1.2.0",
            "_view_name": "LayoutView",
            "align_content": null,
            "align_items": null,
            "align_self": null,
            "border": null,
            "bottom": null,
            "display": null,
            "flex": null,
            "flex_flow": null,
            "grid_area": null,
            "grid_auto_columns": null,
            "grid_auto_flow": null,
            "grid_auto_rows": null,
            "grid_column": null,
            "grid_gap": null,
            "grid_row": null,
            "grid_template_areas": null,
            "grid_template_columns": null,
            "grid_template_rows": null,
            "height": null,
            "justify_content": null,
            "justify_items": null,
            "left": null,
            "margin": null,
            "max_height": null,
            "max_width": null,
            "min_height": null,
            "min_width": null,
            "object_fit": null,
            "object_position": null,
            "order": null,
            "overflow": null,
            "overflow_x": null,
            "overflow_y": null,
            "padding": null,
            "right": null,
            "top": null,
            "visibility": "hidden",
            "width": null
          }
        },
        "28925277fab04f50a98448e654c165ef": {
          "model_module": "@jupyter-widgets/base",
          "model_name": "LayoutModel",
          "model_module_version": "1.2.0",
          "state": {
            "_model_module": "@jupyter-widgets/base",
            "_model_module_version": "1.2.0",
            "_model_name": "LayoutModel",
            "_view_count": null,
            "_view_module": "@jupyter-widgets/base",
            "_view_module_version": "1.2.0",
            "_view_name": "LayoutView",
            "align_content": null,
            "align_items": null,
            "align_self": null,
            "border": null,
            "bottom": null,
            "display": null,
            "flex": null,
            "flex_flow": null,
            "grid_area": null,
            "grid_auto_columns": null,
            "grid_auto_flow": null,
            "grid_auto_rows": null,
            "grid_column": null,
            "grid_gap": null,
            "grid_row": null,
            "grid_template_areas": null,
            "grid_template_columns": null,
            "grid_template_rows": null,
            "height": null,
            "justify_content": null,
            "justify_items": null,
            "left": null,
            "margin": null,
            "max_height": null,
            "max_width": null,
            "min_height": null,
            "min_width": null,
            "object_fit": null,
            "object_position": null,
            "order": null,
            "overflow": null,
            "overflow_x": null,
            "overflow_y": null,
            "padding": null,
            "right": null,
            "top": null,
            "visibility": null,
            "width": null
          }
        },
        "6998fe3afc734556a51559179ad20024": {
          "model_module": "@jupyter-widgets/controls",
          "model_name": "DescriptionStyleModel",
          "model_module_version": "1.5.0",
          "state": {
            "_model_module": "@jupyter-widgets/controls",
            "_model_module_version": "1.5.0",
            "_model_name": "DescriptionStyleModel",
            "_view_count": null,
            "_view_module": "@jupyter-widgets/base",
            "_view_module_version": "1.2.0",
            "_view_name": "StyleView",
            "description_width": ""
          }
        },
        "4fb95071c54f46ba805abad013e3a4cf": {
          "model_module": "@jupyter-widgets/base",
          "model_name": "LayoutModel",
          "model_module_version": "1.2.0",
          "state": {
            "_model_module": "@jupyter-widgets/base",
            "_model_module_version": "1.2.0",
            "_model_name": "LayoutModel",
            "_view_count": null,
            "_view_module": "@jupyter-widgets/base",
            "_view_module_version": "1.2.0",
            "_view_name": "LayoutView",
            "align_content": null,
            "align_items": null,
            "align_self": null,
            "border": null,
            "bottom": null,
            "display": null,
            "flex": null,
            "flex_flow": null,
            "grid_area": null,
            "grid_auto_columns": null,
            "grid_auto_flow": null,
            "grid_auto_rows": null,
            "grid_column": null,
            "grid_gap": null,
            "grid_row": null,
            "grid_template_areas": null,
            "grid_template_columns": null,
            "grid_template_rows": null,
            "height": null,
            "justify_content": null,
            "justify_items": null,
            "left": null,
            "margin": null,
            "max_height": null,
            "max_width": null,
            "min_height": null,
            "min_width": null,
            "object_fit": null,
            "object_position": null,
            "order": null,
            "overflow": null,
            "overflow_x": null,
            "overflow_y": null,
            "padding": null,
            "right": null,
            "top": null,
            "visibility": null,
            "width": null
          }
        },
        "b00d90588530416bad386b3a3bfbc185": {
          "model_module": "@jupyter-widgets/controls",
          "model_name": "ProgressStyleModel",
          "model_module_version": "1.5.0",
          "state": {
            "_model_module": "@jupyter-widgets/controls",
            "_model_module_version": "1.5.0",
            "_model_name": "ProgressStyleModel",
            "_view_count": null,
            "_view_module": "@jupyter-widgets/base",
            "_view_module_version": "1.2.0",
            "_view_name": "StyleView",
            "bar_color": null,
            "description_width": ""
          }
        },
        "a69af6e9105a4a94bad46656a56762c5": {
          "model_module": "@jupyter-widgets/base",
          "model_name": "LayoutModel",
          "model_module_version": "1.2.0",
          "state": {
            "_model_module": "@jupyter-widgets/base",
            "_model_module_version": "1.2.0",
            "_model_name": "LayoutModel",
            "_view_count": null,
            "_view_module": "@jupyter-widgets/base",
            "_view_module_version": "1.2.0",
            "_view_name": "LayoutView",
            "align_content": null,
            "align_items": null,
            "align_self": null,
            "border": null,
            "bottom": null,
            "display": null,
            "flex": null,
            "flex_flow": null,
            "grid_area": null,
            "grid_auto_columns": null,
            "grid_auto_flow": null,
            "grid_auto_rows": null,
            "grid_column": null,
            "grid_gap": null,
            "grid_row": null,
            "grid_template_areas": null,
            "grid_template_columns": null,
            "grid_template_rows": null,
            "height": null,
            "justify_content": null,
            "justify_items": null,
            "left": null,
            "margin": null,
            "max_height": null,
            "max_width": null,
            "min_height": null,
            "min_width": null,
            "object_fit": null,
            "object_position": null,
            "order": null,
            "overflow": null,
            "overflow_x": null,
            "overflow_y": null,
            "padding": null,
            "right": null,
            "top": null,
            "visibility": null,
            "width": null
          }
        },
        "29c394f5a3e74f9ea1c5a02b8abd5595": {
          "model_module": "@jupyter-widgets/controls",
          "model_name": "DescriptionStyleModel",
          "model_module_version": "1.5.0",
          "state": {
            "_model_module": "@jupyter-widgets/controls",
            "_model_module_version": "1.5.0",
            "_model_name": "DescriptionStyleModel",
            "_view_count": null,
            "_view_module": "@jupyter-widgets/base",
            "_view_module_version": "1.2.0",
            "_view_name": "StyleView",
            "description_width": ""
          }
        }
      }
    }
  },
  "nbformat": 4,
  "nbformat_minor": 5
}