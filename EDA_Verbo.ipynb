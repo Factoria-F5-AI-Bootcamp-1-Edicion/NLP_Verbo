{
  "cells": [
    {
      "cell_type": "code",
      "execution_count": 1570,
      "id": "c99c2b04-2dd6-4013-b3c1-acb701679537",
      "metadata": {
        "id": "c99c2b04-2dd6-4013-b3c1-acb701679537"
      },
      "outputs": [],
      "source": [
        "# Importación de librerias a usar.\n",
        "\n",
        "import pandas as pd\n",
        "import numpy as np\n",
        "import matplotlib.pyplot as plt\n",
        "import seaborn as sns\n",
        "# Importación spaCy\n",
        "import spacy\n",
        "import en_core_web_sm\n",
        "\n",
        "%matplotlib inline\n",
        "import warnings\n",
        "warnings.filterwarnings(\"ignore\")"
      ]
    },
    {
      "cell_type": "code",
      "execution_count": 1571,
      "id": "9822846c-bc6a-4a8e-a16f-9d083069ad75",
      "metadata": {
        "colab": {
          "base_uri": "https://localhost:8080/",
          "height": 576
        },
        "id": "9822846c-bc6a-4a8e-a16f-9d083069ad75",
        "outputId": "6e18f25d-31fe-4b44-d0d0-f85c6e811722"
      },
      "outputs": [
        {
          "output_type": "execute_result",
          "data": {
            "text/plain": [
              "              CommentId      VideoId  \\\n",
              "0  Ugg2KwwX0V8-aXgCoAEC  04kJtp6pVXI   \n",
              "1  Ugg2s5AzSPioEXgCoAEC  04kJtp6pVXI   \n",
              "2  Ugg3dWTOxryFfHgCoAEC  04kJtp6pVXI   \n",
              "3  Ugg7Gd006w1MPngCoAEC  04kJtp6pVXI   \n",
              "4  Ugg8FfTbbNF8IngCoAEC  04kJtp6pVXI   \n",
              "5  Ugg9a6FtoXdxmXgCoAEC  04kJtp6pVXI   \n",
              "6  Ugga9KzkNDGvlXgCoAEC  04kJtp6pVXI   \n",
              "\n",
              "                                                Text  IsToxic  IsAbusive  \\\n",
              "0  If only people would just take a step back and...    False      False   \n",
              "1  Law enforcement is not trained to shoot to app...     True       True   \n",
              "2  \\nDont you reckon them 'black lives matter' ba...     True       True   \n",
              "3  There are a very large number of people who do...    False      False   \n",
              "4  The Arab dude is absolutely right, he should h...    False      False   \n",
              "5  here people his facebook is https://www.facebo...     True      False   \n",
              "6  Check out this you tube post. \"Black man goes ...     True      False   \n",
              "\n",
              "   IsThreat  IsProvocative  IsObscene  IsHatespeech  IsRacist  IsNationalist  \\\n",
              "0     False          False      False         False     False          False   \n",
              "1     False          False      False         False     False          False   \n",
              "2     False          False       True         False     False          False   \n",
              "3     False          False      False         False     False          False   \n",
              "4     False          False      False         False     False          False   \n",
              "5     False          False      False          True     False          False   \n",
              "6     False          False      False          True      True          False   \n",
              "\n",
              "   IsSexist  IsHomophobic  IsReligiousHate  IsRadicalism  \n",
              "0     False         False            False         False  \n",
              "1     False         False            False         False  \n",
              "2     False         False            False         False  \n",
              "3     False         False            False         False  \n",
              "4     False         False            False         False  \n",
              "5     False         False             True         False  \n",
              "6     False         False            False         False  "
            ],
            "text/html": [
              "\n",
              "  <div id=\"df-35ec6516-4d99-4858-ad7a-3a788cb1de83\">\n",
              "    <div class=\"colab-df-container\">\n",
              "      <div>\n",
              "<style scoped>\n",
              "    .dataframe tbody tr th:only-of-type {\n",
              "        vertical-align: middle;\n",
              "    }\n",
              "\n",
              "    .dataframe tbody tr th {\n",
              "        vertical-align: top;\n",
              "    }\n",
              "\n",
              "    .dataframe thead th {\n",
              "        text-align: right;\n",
              "    }\n",
              "</style>\n",
              "<table border=\"1\" class=\"dataframe\">\n",
              "  <thead>\n",
              "    <tr style=\"text-align: right;\">\n",
              "      <th></th>\n",
              "      <th>CommentId</th>\n",
              "      <th>VideoId</th>\n",
              "      <th>Text</th>\n",
              "      <th>IsToxic</th>\n",
              "      <th>IsAbusive</th>\n",
              "      <th>IsThreat</th>\n",
              "      <th>IsProvocative</th>\n",
              "      <th>IsObscene</th>\n",
              "      <th>IsHatespeech</th>\n",
              "      <th>IsRacist</th>\n",
              "      <th>IsNationalist</th>\n",
              "      <th>IsSexist</th>\n",
              "      <th>IsHomophobic</th>\n",
              "      <th>IsReligiousHate</th>\n",
              "      <th>IsRadicalism</th>\n",
              "    </tr>\n",
              "  </thead>\n",
              "  <tbody>\n",
              "    <tr>\n",
              "      <th>0</th>\n",
              "      <td>Ugg2KwwX0V8-aXgCoAEC</td>\n",
              "      <td>04kJtp6pVXI</td>\n",
              "      <td>If only people would just take a step back and...</td>\n",
              "      <td>False</td>\n",
              "      <td>False</td>\n",
              "      <td>False</td>\n",
              "      <td>False</td>\n",
              "      <td>False</td>\n",
              "      <td>False</td>\n",
              "      <td>False</td>\n",
              "      <td>False</td>\n",
              "      <td>False</td>\n",
              "      <td>False</td>\n",
              "      <td>False</td>\n",
              "      <td>False</td>\n",
              "    </tr>\n",
              "    <tr>\n",
              "      <th>1</th>\n",
              "      <td>Ugg2s5AzSPioEXgCoAEC</td>\n",
              "      <td>04kJtp6pVXI</td>\n",
              "      <td>Law enforcement is not trained to shoot to app...</td>\n",
              "      <td>True</td>\n",
              "      <td>True</td>\n",
              "      <td>False</td>\n",
              "      <td>False</td>\n",
              "      <td>False</td>\n",
              "      <td>False</td>\n",
              "      <td>False</td>\n",
              "      <td>False</td>\n",
              "      <td>False</td>\n",
              "      <td>False</td>\n",
              "      <td>False</td>\n",
              "      <td>False</td>\n",
              "    </tr>\n",
              "    <tr>\n",
              "      <th>2</th>\n",
              "      <td>Ugg3dWTOxryFfHgCoAEC</td>\n",
              "      <td>04kJtp6pVXI</td>\n",
              "      <td>\\nDont you reckon them 'black lives matter' ba...</td>\n",
              "      <td>True</td>\n",
              "      <td>True</td>\n",
              "      <td>False</td>\n",
              "      <td>False</td>\n",
              "      <td>True</td>\n",
              "      <td>False</td>\n",
              "      <td>False</td>\n",
              "      <td>False</td>\n",
              "      <td>False</td>\n",
              "      <td>False</td>\n",
              "      <td>False</td>\n",
              "      <td>False</td>\n",
              "    </tr>\n",
              "    <tr>\n",
              "      <th>3</th>\n",
              "      <td>Ugg7Gd006w1MPngCoAEC</td>\n",
              "      <td>04kJtp6pVXI</td>\n",
              "      <td>There are a very large number of people who do...</td>\n",
              "      <td>False</td>\n",
              "      <td>False</td>\n",
              "      <td>False</td>\n",
              "      <td>False</td>\n",
              "      <td>False</td>\n",
              "      <td>False</td>\n",
              "      <td>False</td>\n",
              "      <td>False</td>\n",
              "      <td>False</td>\n",
              "      <td>False</td>\n",
              "      <td>False</td>\n",
              "      <td>False</td>\n",
              "    </tr>\n",
              "    <tr>\n",
              "      <th>4</th>\n",
              "      <td>Ugg8FfTbbNF8IngCoAEC</td>\n",
              "      <td>04kJtp6pVXI</td>\n",
              "      <td>The Arab dude is absolutely right, he should h...</td>\n",
              "      <td>False</td>\n",
              "      <td>False</td>\n",
              "      <td>False</td>\n",
              "      <td>False</td>\n",
              "      <td>False</td>\n",
              "      <td>False</td>\n",
              "      <td>False</td>\n",
              "      <td>False</td>\n",
              "      <td>False</td>\n",
              "      <td>False</td>\n",
              "      <td>False</td>\n",
              "      <td>False</td>\n",
              "    </tr>\n",
              "    <tr>\n",
              "      <th>5</th>\n",
              "      <td>Ugg9a6FtoXdxmXgCoAEC</td>\n",
              "      <td>04kJtp6pVXI</td>\n",
              "      <td>here people his facebook is https://www.facebo...</td>\n",
              "      <td>True</td>\n",
              "      <td>False</td>\n",
              "      <td>False</td>\n",
              "      <td>False</td>\n",
              "      <td>False</td>\n",
              "      <td>True</td>\n",
              "      <td>False</td>\n",
              "      <td>False</td>\n",
              "      <td>False</td>\n",
              "      <td>False</td>\n",
              "      <td>True</td>\n",
              "      <td>False</td>\n",
              "    </tr>\n",
              "    <tr>\n",
              "      <th>6</th>\n",
              "      <td>Ugga9KzkNDGvlXgCoAEC</td>\n",
              "      <td>04kJtp6pVXI</td>\n",
              "      <td>Check out this you tube post. \"Black man goes ...</td>\n",
              "      <td>True</td>\n",
              "      <td>False</td>\n",
              "      <td>False</td>\n",
              "      <td>False</td>\n",
              "      <td>False</td>\n",
              "      <td>True</td>\n",
              "      <td>True</td>\n",
              "      <td>False</td>\n",
              "      <td>False</td>\n",
              "      <td>False</td>\n",
              "      <td>False</td>\n",
              "      <td>False</td>\n",
              "    </tr>\n",
              "  </tbody>\n",
              "</table>\n",
              "</div>\n",
              "      <button class=\"colab-df-convert\" onclick=\"convertToInteractive('df-35ec6516-4d99-4858-ad7a-3a788cb1de83')\"\n",
              "              title=\"Convert this dataframe to an interactive table.\"\n",
              "              style=\"display:none;\">\n",
              "        \n",
              "  <svg xmlns=\"http://www.w3.org/2000/svg\" height=\"24px\"viewBox=\"0 0 24 24\"\n",
              "       width=\"24px\">\n",
              "    <path d=\"M0 0h24v24H0V0z\" fill=\"none\"/>\n",
              "    <path d=\"M18.56 5.44l.94 2.06.94-2.06 2.06-.94-2.06-.94-.94-2.06-.94 2.06-2.06.94zm-11 1L8.5 8.5l.94-2.06 2.06-.94-2.06-.94L8.5 2.5l-.94 2.06-2.06.94zm10 10l.94 2.06.94-2.06 2.06-.94-2.06-.94-.94-2.06-.94 2.06-2.06.94z\"/><path d=\"M17.41 7.96l-1.37-1.37c-.4-.4-.92-.59-1.43-.59-.52 0-1.04.2-1.43.59L10.3 9.45l-7.72 7.72c-.78.78-.78 2.05 0 2.83L4 21.41c.39.39.9.59 1.41.59.51 0 1.02-.2 1.41-.59l7.78-7.78 2.81-2.81c.8-.78.8-2.07 0-2.86zM5.41 20L4 18.59l7.72-7.72 1.47 1.35L5.41 20z\"/>\n",
              "  </svg>\n",
              "      </button>\n",
              "      \n",
              "  <style>\n",
              "    .colab-df-container {\n",
              "      display:flex;\n",
              "      flex-wrap:wrap;\n",
              "      gap: 12px;\n",
              "    }\n",
              "\n",
              "    .colab-df-convert {\n",
              "      background-color: #E8F0FE;\n",
              "      border: none;\n",
              "      border-radius: 50%;\n",
              "      cursor: pointer;\n",
              "      display: none;\n",
              "      fill: #1967D2;\n",
              "      height: 32px;\n",
              "      padding: 0 0 0 0;\n",
              "      width: 32px;\n",
              "    }\n",
              "\n",
              "    .colab-df-convert:hover {\n",
              "      background-color: #E2EBFA;\n",
              "      box-shadow: 0px 1px 2px rgba(60, 64, 67, 0.3), 0px 1px 3px 1px rgba(60, 64, 67, 0.15);\n",
              "      fill: #174EA6;\n",
              "    }\n",
              "\n",
              "    [theme=dark] .colab-df-convert {\n",
              "      background-color: #3B4455;\n",
              "      fill: #D2E3FC;\n",
              "    }\n",
              "\n",
              "    [theme=dark] .colab-df-convert:hover {\n",
              "      background-color: #434B5C;\n",
              "      box-shadow: 0px 1px 3px 1px rgba(0, 0, 0, 0.15);\n",
              "      filter: drop-shadow(0px 1px 2px rgba(0, 0, 0, 0.3));\n",
              "      fill: #FFFFFF;\n",
              "    }\n",
              "  </style>\n",
              "\n",
              "      <script>\n",
              "        const buttonEl =\n",
              "          document.querySelector('#df-35ec6516-4d99-4858-ad7a-3a788cb1de83 button.colab-df-convert');\n",
              "        buttonEl.style.display =\n",
              "          google.colab.kernel.accessAllowed ? 'block' : 'none';\n",
              "\n",
              "        async function convertToInteractive(key) {\n",
              "          const element = document.querySelector('#df-35ec6516-4d99-4858-ad7a-3a788cb1de83');\n",
              "          const dataTable =\n",
              "            await google.colab.kernel.invokeFunction('convertToInteractive',\n",
              "                                                     [key], {});\n",
              "          if (!dataTable) return;\n",
              "\n",
              "          const docLinkHtml = 'Like what you see? Visit the ' +\n",
              "            '<a target=\"_blank\" href=https://colab.research.google.com/notebooks/data_table.ipynb>data table notebook</a>'\n",
              "            + ' to learn more about interactive tables.';\n",
              "          element.innerHTML = '';\n",
              "          dataTable['output_type'] = 'display_data';\n",
              "          await google.colab.output.renderOutput(dataTable, element);\n",
              "          const docLink = document.createElement('div');\n",
              "          docLink.innerHTML = docLinkHtml;\n",
              "          element.appendChild(docLink);\n",
              "        }\n",
              "      </script>\n",
              "    </div>\n",
              "  </div>\n",
              "  "
            ]
          },
          "metadata": {},
          "execution_count": 1571
        }
      ],
      "source": [
        "# Abrimos el csv.\n",
        "data = pd.read_csv('youtoxic_english_1000.csv')\n",
        "data.head(7)"
      ]
    },
    {
      "cell_type": "code",
      "execution_count": 1572,
      "id": "d271cc44-292a-469e-a434-dc4fcf11344c",
      "metadata": {
        "colab": {
          "base_uri": "https://localhost:8080/",
          "height": 297
        },
        "id": "d271cc44-292a-469e-a434-dc4fcf11344c",
        "outputId": "196f9398-7339-4eaa-add1-a2bd59b7b730"
      },
      "outputs": [
        {
          "output_type": "execute_result",
          "data": {
            "text/plain": [
              "<matplotlib.axes._subplots.AxesSubplot at 0x7fcca829e340>"
            ]
          },
          "metadata": {},
          "execution_count": 1572
        },
        {
          "output_type": "display_data",
          "data": {
            "text/plain": [
              "<Figure size 432x288 with 1 Axes>"
            ],
            "image/png": "[encoded data removed]"
          },
          "metadata": {
            "needs_background": "light"
          }
        }
      ],
      "source": [
        "#Comprobamos si los datos están balanceados si es Istoxic o no.\n",
        "sns.countplot(x ='IsToxic', data = data)"
      ]
    },
    {
      "cell_type": "markdown",
      "source": [
        "Podemos observar que los datos más o menos están balanceados, tomamos la decisión de no tratar los datos.\n"
      ],
      "metadata": {
        "id": "fnt5d9t7hO3G"
      },
      "id": "fnt5d9t7hO3G"
    },
    {
      "cell_type": "code",
      "execution_count": 1573,
      "id": "fiOAN_10e3P1",
      "metadata": {
        "colab": {
          "base_uri": "https://localhost:8080/",
          "height": 833
        },
        "id": "fiOAN_10e3P1",
        "outputId": "48589868-5fc0-49a7-9759-28c0db37357e"
      },
      "outputs": [
        {
          "output_type": "display_data",
          "data": {
            "text/plain": [
              "<Figure size 1440x1080 with 12 Axes>"
            ],
            "image/png": "[encoded data removed]"
          },
          "metadata": {
            "needs_background": "light"
          }
        }
      ],
      "source": [
        "#Se crea un gráfico para visualizar de manera simultánea todas las variables.\n",
        "fig, ax = plt.subplots(3, 4, figsize = (20, 15))\n",
        "ax[2, 3].axis('off')\n",
        "\n",
        "plt.suptitle('Relación de las variables negativas', fontsize = 30, color = 'teal')\n",
        "\n",
        "ax1 = sns.countplot(x ='IsToxic', data= data, hue= 'IsToxic', ax= ax[0, 0], palette= 'RdPu')\n",
        "ax1.set(xlabel = 'Comentarios toxicos')\n",
        "\n",
        "ax2 = sns.countplot(x ='IsAbusive', data= data, hue= 'IsAbusive', ax= ax[0, 1], palette= 'winter')\n",
        "ax2.set(xlabel = 'Comentarios abusivos')\n",
        "\n",
        "ax3 = sns.countplot(x ='IsThreat', data= data, hue= 'IsThreat', ax= ax[0, 2], palette= 'summer')\n",
        "ax3.set(xlabel = 'Comentarios amenazantes ')\n",
        "\n",
        "ax4 = sns.countplot(x ='IsProvocative', data= data, hue= 'IsProvocative', ax= ax[0, 3], palette= 'ocean')\n",
        "ax4.set(xlabel = 'Comentarios provocativos')\n",
        "\n",
        "ax5 = sns.countplot(x ='IsObscene', data= data, hue= 'IsObscene', ax= ax[1, 0], palette= 'YlGnBu')\n",
        "ax5.set(xlabel = 'Comentarios obsceno')\n",
        "\n",
        "ax6 = sns.countplot(x ='IsHatespeech', data= data, hue= 'IsHatespeech', ax= ax[1, 1], palette= 'copper')\n",
        "ax6.set(xlabel = 'Comentarios de odio')\n",
        "\n",
        "ax7 = sns.countplot(x ='IsRacist', data= data, hue= 'IsRacist', ax= ax[1, 2], palette= 'plasma')\n",
        "ax7.set(xlabel = 'Comentarios racistas')\n",
        "\n",
        "ax8 = sns.countplot(x ='IsNationalist', data= data, hue= 'IsNationalist', ax= ax[1, 3], palette= 'winter')\n",
        "ax8.set(xlabel = 'Comentarios nacionalistas')\n",
        "\n",
        "ax9 = sns.countplot(x ='IsSexist', data= data, hue= 'IsSexist', ax= ax[2, 0], palette= 'summer')\n",
        "ax9.set(xlabel = 'Comentarios sexistas')\n",
        "\n",
        "ax10 = sns.countplot(x ='IsHomophobic', data= data, hue= 'IsHomophobic', ax= ax[2, 1], palette= 'ocean')\n",
        "ax10.set(xlabel = 'Comentarios homofobicos')\n",
        "\n",
        "ax11 = sns.countplot(x ='IsReligiousHate', data= data, hue= 'IsReligiousHate', ax= ax[2, 2], palette= 'RdPu')\n",
        "ax11.set(xlabel = 'Comentarios de odio religioso')\n",
        "\n",
        "ax12 = sns.countplot(x ='IsRadicalism', data= data, hue= 'IsRadicalism', ax= ax[2, 3], palette= 'YlGnBu')\n",
        "ax12.set(xlabel = 'Comentarios radicalistas')\n",
        "\n",
        "plt.show()"
      ]
    },
    {
      "cell_type": "markdown",
      "source": [
        "Con este gráfico observamos todas las variables del dataset, vemos que las que más balanceadas están son la variable IsToxic y la variable IsAbusive.\n",
        "Tomamos la decisión que vamos a trabajar con IsToxic como la variable que nos prediga."
      ],
      "metadata": {
        "id": "_MHEPjtbipW2"
      },
      "id": "_MHEPjtbipW2"
    },
    {
      "cell_type": "code",
      "execution_count": 1574,
      "id": "SPatrH02gG-p",
      "metadata": {
        "colab": {
          "base_uri": "https://localhost:8080/",
          "height": 274
        },
        "id": "SPatrH02gG-p",
        "outputId": "87d0b7cb-22e6-4886-f211-0f9603887a38"
      },
      "outputs": [
        {
          "output_type": "execute_result",
          "data": {
            "text/plain": [
              "                   CommentId      VideoId           Text IsToxic IsAbusive  \\\n",
              "count                   1000         1000           1000    1000      1000   \n",
              "unique                  1000           13            997       2         2   \n",
              "top     Ugg2KwwX0V8-aXgCoAEC  9pr1oE34bIM  run them over   False     False   \n",
              "freq                       1          274              3     538       647   \n",
              "\n",
              "       IsThreat IsProvocative IsObscene IsHatespeech IsRacist IsNationalist  \\\n",
              "count      1000          1000      1000         1000     1000          1000   \n",
              "unique        2             2         2            2        2             2   \n",
              "top       False         False     False        False    False         False   \n",
              "freq        979           839       900          862      875           992   \n",
              "\n",
              "       IsSexist IsHomophobic IsReligiousHate IsRadicalism  \n",
              "count      1000         1000            1000         1000  \n",
              "unique        2            1               2            1  \n",
              "top       False        False           False        False  \n",
              "freq        999         1000             988         1000  "
            ],
            "text/html": [
              "\n",
              "  <div id=\"df-ff86960c-8ee2-4e3e-aed6-3f20c735acd4\">\n",
              "    <div class=\"colab-df-container\">\n",
              "      <div>\n",
              "<style scoped>\n",
              "    .dataframe tbody tr th:only-of-type {\n",
              "        vertical-align: middle;\n",
              "    }\n",
              "\n",
              "    .dataframe tbody tr th {\n",
              "        vertical-align: top;\n",
              "    }\n",
              "\n",
              "    .dataframe thead th {\n",
              "        text-align: right;\n",
              "    }\n",
              "</style>\n",
              "<table border=\"1\" class=\"dataframe\">\n",
              "  <thead>\n",
              "    <tr style=\"text-align: right;\">\n",
              "      <th></th>\n",
              "      <th>CommentId</th>\n",
              "      <th>VideoId</th>\n",
              "      <th>Text</th>\n",
              "      <th>IsToxic</th>\n",
              "      <th>IsAbusive</th>\n",
              "      <th>IsThreat</th>\n",
              "      <th>IsProvocative</th>\n",
              "      <th>IsObscene</th>\n",
              "      <th>IsHatespeech</th>\n",
              "      <th>IsRacist</th>\n",
              "      <th>IsNationalist</th>\n",
              "      <th>IsSexist</th>\n",
              "      <th>IsHomophobic</th>\n",
              "      <th>IsReligiousHate</th>\n",
              "      <th>IsRadicalism</th>\n",
              "    </tr>\n",
              "  </thead>\n",
              "  <tbody>\n",
              "    <tr>\n",
              "      <th>count</th>\n",
              "      <td>1000</td>\n",
              "      <td>1000</td>\n",
              "      <td>1000</td>\n",
              "      <td>1000</td>\n",
              "      <td>1000</td>\n",
              "      <td>1000</td>\n",
              "      <td>1000</td>\n",
              "      <td>1000</td>\n",
              "      <td>1000</td>\n",
              "      <td>1000</td>\n",
              "      <td>1000</td>\n",
              "      <td>1000</td>\n",
              "      <td>1000</td>\n",
              "      <td>1000</td>\n",
              "      <td>1000</td>\n",
              "    </tr>\n",
              "    <tr>\n",
              "      <th>unique</th>\n",
              "      <td>1000</td>\n",
              "      <td>13</td>\n",
              "      <td>997</td>\n",
              "      <td>2</td>\n",
              "      <td>2</td>\n",
              "      <td>2</td>\n",
              "      <td>2</td>\n",
              "      <td>2</td>\n",
              "      <td>2</td>\n",
              "      <td>2</td>\n",
              "      <td>2</td>\n",
              "      <td>2</td>\n",
              "      <td>1</td>\n",
              "      <td>2</td>\n",
              "      <td>1</td>\n",
              "    </tr>\n",
              "    <tr>\n",
              "      <th>top</th>\n",
              "      <td>Ugg2KwwX0V8-aXgCoAEC</td>\n",
              "      <td>9pr1oE34bIM</td>\n",
              "      <td>run them over</td>\n",
              "      <td>False</td>\n",
              "      <td>False</td>\n",
              "      <td>False</td>\n",
              "      <td>False</td>\n",
              "      <td>False</td>\n",
              "      <td>False</td>\n",
              "      <td>False</td>\n",
              "      <td>False</td>\n",
              "      <td>False</td>\n",
              "      <td>False</td>\n",
              "      <td>False</td>\n",
              "      <td>False</td>\n",
              "    </tr>\n",
              "    <tr>\n",
              "      <th>freq</th>\n",
              "      <td>1</td>\n",
              "      <td>274</td>\n",
              "      <td>3</td>\n",
              "      <td>538</td>\n",
              "      <td>647</td>\n",
              "      <td>979</td>\n",
              "      <td>839</td>\n",
              "      <td>900</td>\n",
              "      <td>862</td>\n",
              "      <td>875</td>\n",
              "      <td>992</td>\n",
              "      <td>999</td>\n",
              "      <td>1000</td>\n",
              "      <td>988</td>\n",
              "      <td>1000</td>\n",
              "    </tr>\n",
              "  </tbody>\n",
              "</table>\n",
              "</div>\n",
              "      <button class=\"colab-df-convert\" onclick=\"convertToInteractive('df-ff86960c-8ee2-4e3e-aed6-3f20c735acd4')\"\n",
              "              title=\"Convert this dataframe to an interactive table.\"\n",
              "              style=\"display:none;\">\n",
              "        \n",
              "  <svg xmlns=\"http://www.w3.org/2000/svg\" height=\"24px\"viewBox=\"0 0 24 24\"\n",
              "       width=\"24px\">\n",
              "    <path d=\"M0 0h24v24H0V0z\" fill=\"none\"/>\n",
              "    <path d=\"M18.56 5.44l.94 2.06.94-2.06 2.06-.94-2.06-.94-.94-2.06-.94 2.06-2.06.94zm-11 1L8.5 8.5l.94-2.06 2.06-.94-2.06-.94L8.5 2.5l-.94 2.06-2.06.94zm10 10l.94 2.06.94-2.06 2.06-.94-2.06-.94-.94-2.06-.94 2.06-2.06.94z\"/><path d=\"M17.41 7.96l-1.37-1.37c-.4-.4-.92-.59-1.43-.59-.52 0-1.04.2-1.43.59L10.3 9.45l-7.72 7.72c-.78.78-.78 2.05 0 2.83L4 21.41c.39.39.9.59 1.41.59.51 0 1.02-.2 1.41-.59l7.78-7.78 2.81-2.81c.8-.78.8-2.07 0-2.86zM5.41 20L4 18.59l7.72-7.72 1.47 1.35L5.41 20z\"/>\n",
              "  </svg>\n",
              "      </button>\n",
              "      \n",
              "  <style>\n",
              "    .colab-df-container {\n",
              "      display:flex;\n",
              "      flex-wrap:wrap;\n",
              "      gap: 12px;\n",
              "    }\n",
              "\n",
              "    .colab-df-convert {\n",
              "      background-color: #E8F0FE;\n",
              "      border: none;\n",
              "      border-radius: 50%;\n",
              "      cursor: pointer;\n",
              "      display: none;\n",
              "      fill: #1967D2;\n",
              "      height: 32px;\n",
              "      padding: 0 0 0 0;\n",
              "      width: 32px;\n",
              "    }\n",
              "\n",
              "    .colab-df-convert:hover {\n",
              "      background-color: #E2EBFA;\n",
              "      box-shadow: 0px 1px 2px rgba(60, 64, 67, 0.3), 0px 1px 3px 1px rgba(60, 64, 67, 0.15);\n",
              "      fill: #174EA6;\n",
              "    }\n",
              "\n",
              "    [theme=dark] .colab-df-convert {\n",
              "      background-color: #3B4455;\n",
              "      fill: #D2E3FC;\n",
              "    }\n",
              "\n",
              "    [theme=dark] .colab-df-convert:hover {\n",
              "      background-color: #434B5C;\n",
              "      box-shadow: 0px 1px 3px 1px rgba(0, 0, 0, 0.15);\n",
              "      filter: drop-shadow(0px 1px 2px rgba(0, 0, 0, 0.3));\n",
              "      fill: #FFFFFF;\n",
              "    }\n",
              "  </style>\n",
              "\n",
              "      <script>\n",
              "        const buttonEl =\n",
              "          document.querySelector('#df-ff86960c-8ee2-4e3e-aed6-3f20c735acd4 button.colab-df-convert');\n",
              "        buttonEl.style.display =\n",
              "          google.colab.kernel.accessAllowed ? 'block' : 'none';\n",
              "\n",
              "        async function convertToInteractive(key) {\n",
              "          const element = document.querySelector('#df-ff86960c-8ee2-4e3e-aed6-3f20c735acd4');\n",
              "          const dataTable =\n",
              "            await google.colab.kernel.invokeFunction('convertToInteractive',\n",
              "                                                     [key], {});\n",
              "          if (!dataTable) return;\n",
              "\n",
              "          const docLinkHtml = 'Like what you see? Visit the ' +\n",
              "            '<a target=\"_blank\" href=https://colab.research.google.com/notebooks/data_table.ipynb>data table notebook</a>'\n",
              "            + ' to learn more about interactive tables.';\n",
              "          element.innerHTML = '';\n",
              "          dataTable['output_type'] = 'display_data';\n",
              "          await google.colab.output.renderOutput(dataTable, element);\n",
              "          const docLink = document.createElement('div');\n",
              "          docLink.innerHTML = docLinkHtml;\n",
              "          element.appendChild(docLink);\n",
              "        }\n",
              "      </script>\n",
              "    </div>\n",
              "  </div>\n",
              "  "
            ]
          },
          "metadata": {},
          "execution_count": 1574
        }
      ],
      "source": [
        "#Decripción del dataset\n",
        "data.describe()"
      ]
    },
    {
      "cell_type": "code",
      "execution_count": 1575,
      "id": "agdV1uWkgO6L",
      "metadata": {
        "colab": {
          "base_uri": "https://localhost:8080/"
        },
        "id": "agdV1uWkgO6L",
        "outputId": "84bd2aa1-5fab-420d-e580-71f82d560128"
      },
      "outputs": [
        {
          "output_type": "stream",
          "name": "stdout",
          "text": [
            "<class 'pandas.core.frame.DataFrame'>\n",
            "RangeIndex: 1000 entries, 0 to 999\n",
            "Data columns (total 15 columns):\n",
            " #   Column           Non-Null Count  Dtype \n",
            "---  ------           --------------  ----- \n",
            " 0   CommentId        1000 non-null   object\n",
            " 1   VideoId          1000 non-null   object\n",
            " 2   Text             1000 non-null   object\n",
            " 3   IsToxic          1000 non-null   bool  \n",
            " 4   IsAbusive        1000 non-null   bool  \n",
            " 5   IsThreat         1000 non-null   bool  \n",
            " 6   IsProvocative    1000 non-null   bool  \n",
            " 7   IsObscene        1000 non-null   bool  \n",
            " 8   IsHatespeech     1000 non-null   bool  \n",
            " 9   IsRacist         1000 non-null   bool  \n",
            " 10  IsNationalist    1000 non-null   bool  \n",
            " 11  IsSexist         1000 non-null   bool  \n",
            " 12  IsHomophobic     1000 non-null   bool  \n",
            " 13  IsReligiousHate  1000 non-null   bool  \n",
            " 14  IsRadicalism     1000 non-null   bool  \n",
            "dtypes: bool(12), object(3)\n",
            "memory usage: 35.3+ KB\n"
          ]
        }
      ],
      "source": [
        "#Información del dataset.\n",
        "data.info()"
      ]
    },
    {
      "cell_type": "code",
      "execution_count": 1576,
      "id": "B_-AA9rmgg-U",
      "metadata": {
        "colab": {
          "base_uri": "https://localhost:8080/"
        },
        "id": "B_-AA9rmgg-U",
        "outputId": "78babaf2-f793-46b5-8330-abda24a74c6d"
      },
      "outputs": [
        {
          "output_type": "execute_result",
          "data": {
            "text/plain": [
              "CommentId          0\n",
              "VideoId            0\n",
              "Text               0\n",
              "IsToxic            0\n",
              "IsAbusive          0\n",
              "IsThreat           0\n",
              "IsProvocative      0\n",
              "IsObscene          0\n",
              "IsHatespeech       0\n",
              "IsRacist           0\n",
              "IsNationalist      0\n",
              "IsSexist           0\n",
              "IsHomophobic       0\n",
              "IsReligiousHate    0\n",
              "IsRadicalism       0\n",
              "dtype: int64"
            ]
          },
          "metadata": {},
          "execution_count": 1576
        }
      ],
      "source": [
        "#Comprobamos si existen valores nulos\n",
        "data.isnull().sum(axis = 0)"
      ]
    },
    {
      "cell_type": "code",
      "execution_count": 1577,
      "id": "qLiD9c_ugsSs",
      "metadata": {
        "colab": {
          "base_uri": "https://localhost:8080/"
        },
        "id": "qLiD9c_ugsSs",
        "outputId": "ffd42765-da97-4470-bdb4-69e1de33b25f"
      },
      "outputs": [
        {
          "output_type": "execute_result",
          "data": {
            "text/plain": [
              "0"
            ]
          },
          "metadata": {},
          "execution_count": 1577
        }
      ],
      "source": [
        "#Comprobamos los datos duplicados\n",
        "data_duplicadas = data[data.duplicated()]\n",
        "len(data_duplicadas)"
      ]
    },
    {
      "cell_type": "markdown",
      "source": [
        "El dataset está con todos los valores, no hace falta tratar los nulos ni limpiar los datos duplicados."
      ],
      "metadata": {
        "id": "Vqtl5cSqjOP8"
      },
      "id": "Vqtl5cSqjOP8"
    },
    {
      "cell_type": "code",
      "execution_count": 1578,
      "id": "kFFqvVB8gz-b",
      "metadata": {
        "colab": {
          "base_uri": "https://localhost:8080/",
          "height": 615
        },
        "id": "kFFqvVB8gz-b",
        "outputId": "9ad25837-7bf0-473d-98e6-8efcf3a4a69a"
      },
      "outputs": [
        {
          "output_type": "execute_result",
          "data": {
            "text/plain": [
              "<matplotlib.axes._subplots.AxesSubplot at 0x7fcca712a850>"
            ]
          },
          "metadata": {},
          "execution_count": 1578
        },
        {
          "output_type": "display_data",
          "data": {
            "text/plain": [
              "<Figure size 792x648 with 2 Axes>"
            ],
            "image/png": "[encoded data removed]"
          },
          "metadata": {
            "needs_background": "light"
          }
        }
      ],
      "source": [
        "#Mapa de calor con las variables con la correlación.\n",
        "mask = np.triu(np.ones_like(data.corr(), dtype=bool))\n",
        "\n",
        "# Configuramos el matplotlib\n",
        "f, ax = plt.subplots(figsize=(11, 9))\n",
        "\n",
        "# Ploteamos el heatmap\n",
        "cmap = sns.diverging_palette(20, 220, n=200)\n",
        "sns.heatmap(data.corr(), mask=mask, vmax=1., vmin=-1., center=0,\n",
        "            square=True, linewidths=.5, cbar_kws={\"shrink\": .5}, annot=True)"
      ]
    },
    {
      "cell_type": "code",
      "execution_count": 1579,
      "id": "8qxa_YSxhG8G",
      "metadata": {
        "colab": {
          "base_uri": "https://localhost:8080/"
        },
        "id": "8qxa_YSxhG8G",
        "outputId": "3a00de6d-5b63-4a31-b069-f9f640dc2a6f"
      },
      "outputs": [
        {
          "output_type": "execute_result",
          "data": {
            "text/plain": [
              "False    1000\n",
              "Name: IsHomophobic, dtype: int64"
            ]
          },
          "metadata": {},
          "execution_count": 1579
        }
      ],
      "source": [
        "# Comprobamos la variable IsHomophobic si tiene valores en True.\n",
        "data.IsHomophobic.value_counts()"
      ]
    },
    {
      "cell_type": "code",
      "execution_count": 1580,
      "id": "pfvCZyY8pwMa",
      "metadata": {
        "colab": {
          "base_uri": "https://localhost:8080/"
        },
        "id": "pfvCZyY8pwMa",
        "outputId": "3623c374-e078-474d-88ff-dfe297bb1356"
      },
      "outputs": [
        {
          "output_type": "execute_result",
          "data": {
            "text/plain": [
              "False    1000\n",
              "Name: IsRadicalism, dtype: int64"
            ]
          },
          "metadata": {},
          "execution_count": 1580
        }
      ],
      "source": [
        "# Comprobamos la variable IsRadicalism si tiene valores en True.\n",
        "data.IsRadicalism.value_counts()"
      ]
    },
    {
      "cell_type": "markdown",
      "id": "wdJ0I6KLiszE",
      "metadata": {
        "id": "wdJ0I6KLiszE"
      },
      "source": [
        "Comprobación de variables que no tienen ningún valor en True. En todo el dataset no se encuentra ningún dato clasificado que tenga estas características."
      ]
    },
    {
      "cell_type": "code",
      "execution_count": 1581,
      "id": "Etdjaq7Oh5Bv",
      "metadata": {
        "colab": {
          "base_uri": "https://localhost:8080/"
        },
        "id": "Etdjaq7Oh5Bv",
        "outputId": "f1748a73-45bb-4481-e576-959e7c65d73f"
      },
      "outputs": [
        {
          "output_type": "execute_result",
          "data": {
            "text/plain": [
              "9pr1oE34bIM    274\n",
              "04kJtp6pVXI    172\n",
              "cT14IbTDW2c    146\n",
              "dG7mZQvaQDk    112\n",
              "TZxEyoplYbI    104\n",
              "bUgKZMSxr3E     39\n",
              "8HB18hZrhXc     38\n",
              "4rCweDxDqdw     37\n",
              "Dt9-byUhPdg     34\n",
              "#NAME?          16\n",
              "dDbRyFIkNII     10\n",
              "XRuCW80L9mA     10\n",
              "5vF4si3hoRA      8\n",
              "Name: VideoId, dtype: int64"
            ]
          },
          "metadata": {},
          "execution_count": 1581
        }
      ],
      "source": [
        "# Sacamos la cantidad de videos y su número de comentarios en el dataset.\n",
        "data.VideoId.value_counts()"
      ]
    },
    {
      "cell_type": "code",
      "execution_count": 1582,
      "id": "GGj9y8w6iVZL",
      "metadata": {
        "colab": {
          "base_uri": "https://localhost:8080/",
          "height": 325
        },
        "id": "GGj9y8w6iVZL",
        "outputId": "57378f61-2e00-4ed6-95f5-09b6e58acbb7"
      },
      "outputs": [
        {
          "output_type": "display_data",
          "data": {
            "text/plain": [
              "<Figure size 432x288 with 1 Axes>"
            ],
            "image/png": "[encoded data removed]"
          },
          "metadata": {
            "needs_background": "light"
          }
        }
      ],
      "source": [
        "# La relación de las variables.\n",
        "sns.boxplot(data=data)\n",
        "plt.xticks(rotation=90)\n",
        "plt.show()"
      ]
    },
    {
      "cell_type": "markdown",
      "id": "xO3Dyt2BkyeW",
      "metadata": {
        "id": "xO3Dyt2BkyeW"
      },
      "source": [
        "## 3. Limpieza de datos"
      ]
    },
    {
      "cell_type": "code",
      "execution_count": 1583,
      "id": "kV6YZkdxjEUI",
      "metadata": {
        "id": "kV6YZkdxjEUI"
      },
      "outputs": [],
      "source": [
        "# Limpieza y unificación de palabras.\n",
        "import re \n",
        "import string \n",
        "def clean_text_round1(text): \n",
        "    '''Nos convierte las palabras a minúsculas, signos de puntuación, números, espacios en blanco y corchetes''' \n",
        "    text = text.lower() \n",
        "    text = re.sub('\\[.*?\\]', '', text) \n",
        "    text = re.sub('[%s]' % re.escape(string.punctuation), '', text) \n",
        "    text = re.sub('\\w*\\d\\w*', '', text) \n",
        "    text = re.sub('[‘’“”…]', '', text)\n",
        "    text = re.sub('\\n', '', text)\n",
        "    return text \n",
        "\n",
        "round1 = lambda x: clean_text_round1(x) "
      ]
    },
    {
      "cell_type": "code",
      "source": [
        "#Reemplazo de \\Xa0 (representa un espacio duro o un espacio sin interrupciones en un programa).\n",
        "data['Text'] = data['Text'].replace(u'\\xa0', u' ')"
      ],
      "metadata": {
        "id": "P_Y6x__9eS_p"
      },
      "id": "P_Y6x__9eS_p",
      "execution_count": 1584,
      "outputs": []
    },
    {
      "cell_type": "code",
      "execution_count": 1585,
      "id": "P70OEcDtmUlW",
      "metadata": {
        "colab": {
          "base_uri": "https://localhost:8080/"
        },
        "id": "P70OEcDtmUlW",
        "outputId": "766e9cd6-d45d-4671-a570-ec176053628b"
      },
      "outputs": [
        {
          "output_type": "execute_result",
          "data": {
            "text/plain": [
              "0      if only people would just take a step back and...\n",
              "1      law enforcement is not trained to shoot to app...\n",
              "2      dont you reckon them black lives matter banner...\n",
              "3      there are a very large number of people who do...\n",
              "4      the arab dude is absolutely right he should ha...\n",
              "                             ...                        \n",
              "995    i remember that they sent in the national defe...\n",
              "996    stats dont represent the problem race baiting ...\n",
              "997    the quote from the mother wow that hit hard ve...\n",
              "998                              this video is so racist\n",
              "999          god the narrator has such an annoying lisp \n",
              "Name: Text, Length: 1000, dtype: object"
            ]
          },
          "metadata": {},
          "execution_count": 1585
        }
      ],
      "source": [
        "# Aplicamos la limpieza hecha hasta ahora a la variable Text.\n",
        "text_clean = data[\"Text\"].apply(round1)\n",
        "text_clean"
      ]
    },
    {
      "cell_type": "code",
      "execution_count": 1586,
      "id": "2qsGa8Ej1qjs",
      "metadata": {
        "id": "2qsGa8Ej1qjs"
      },
      "outputs": [],
      "source": [
        "# Limpiamos emojis\n",
        "import re\n",
        "def remove_emojis(data_clean):\n",
        "    emoj = re.compile(\"[\"\n",
        "        u\"\\U0001F600-\\U0001F64F\"  # emoticons\n",
        "        u\"\\U0001F300-\\U0001F5FF\"  # symbols & pictographs\n",
        "        u\"\\U0001F680-\\U0001F6FF\"  # transport & map symbols\n",
        "        u\"\\U0001F1E0-\\U0001F1FF\"  # flags (iOS)\n",
        "        u\"\\U00002500-\\U00002BEF\"  # chinese char\n",
        "        u\"\\U00002702-\\U000027B0\"\n",
        "        u\"\\U00002702-\\U000027B0\"\n",
        "        u\"\\U000024C2-\\U0001F251\"\n",
        "        u\"\\U0001f926-\\U0001f937\"\n",
        "        u\"\\U00010000-\\U0010ffff\"\n",
        "        u\"\\u2640-\\u2642\" \n",
        "        u\"\\u2600-\\u2B55\"\n",
        "        u\"\\u200d\"\n",
        "        u\"\\u23cf\"\n",
        "        u\"\\u23e9\"\n",
        "        u\"\\u231a\"\n",
        "        u\"\\ufe0f\"  # dingbats\n",
        "        u\"\\u3030\"\n",
        "                      \"]+\", re.UNICODE)\n",
        "    return re.sub(emoj, '', data_clean)\n",
        "\n",
        "    round1 = lambda x: remove_emojis(x)"
      ]
    },
    {
      "cell_type": "code",
      "execution_count": 1587,
      "id": "dabb2d5c",
      "metadata": {
        "colab": {
          "base_uri": "https://localhost:8080/"
        },
        "id": "dabb2d5c",
        "outputId": "2bfb32fb-020c-453e-c97c-5249563ddec9"
      },
      "outputs": [
        {
          "output_type": "execute_result",
          "data": {
            "text/plain": [
              "0      if only people would just take a step back and...\n",
              "1      law enforcement is not trained to shoot to app...\n",
              "2      dont you reckon them black lives matter banner...\n",
              "3      there are a very large number of people who do...\n",
              "4      the arab dude is absolutely right he should ha...\n",
              "                             ...                        \n",
              "995    i remember that they sent in the national defe...\n",
              "996    stats dont represent the problem race baiting ...\n",
              "997    the quote from the mother wow that hit hard ve...\n",
              "998                              this video is so racist\n",
              "999          god the narrator has such an annoying lisp \n",
              "Name: Text, Length: 1000, dtype: object"
            ]
          },
          "metadata": {},
          "execution_count": 1587
        }
      ],
      "source": [
        "# Aplicamos la limpieza de los emjis en el texto limpio.\n",
        "final_text = text_clean.apply(round1)\n",
        "final_text"
      ]
    },
    {
      "cell_type": "markdown",
      "source": [
        "Ya tenemos todo el texto unificado y limpio en minúsculas, sin signos de puntuación y sin emojis, listo para proceder a la tokenización.\n"
      ],
      "metadata": {
        "id": "hgxUNdjEmic7"
      },
      "id": "hgxUNdjEmic7"
    },
    {
      "cell_type": "markdown",
      "id": "Xcd4IYr75AAJ",
      "metadata": {
        "id": "Xcd4IYr75AAJ"
      },
      "source": [
        "# Tokenización"
      ]
    },
    {
      "cell_type": "code",
      "execution_count": 1588,
      "id": "7198467f-9256-428e-98c2-20c8b4c249e6",
      "metadata": {
        "colab": {
          "base_uri": "https://localhost:8080/",
          "height": 424
        },
        "id": "7198467f-9256-428e-98c2-20c8b4c249e6",
        "outputId": "894b2aaf-0ddf-4c1f-b95c-3efa372d460b"
      },
      "outputs": [
        {
          "output_type": "execute_result",
          "data": {
            "text/plain": [
              "                                                  Text  IsToxic\n",
              "0    if only people would just take a step back and...        0\n",
              "1    law enforcement is not trained to shoot to app...        1\n",
              "2    dont you reckon them black lives matter banner...        1\n",
              "3    there are a very large number of people who do...        0\n",
              "4    the arab dude is absolutely right he should ha...        0\n",
              "..                                                 ...      ...\n",
              "995  i remember that they sent in the national defe...        0\n",
              "996  stats dont represent the problem race baiting ...        1\n",
              "997  the quote from the mother wow that hit hard ve...        0\n",
              "998                            this video is so racist        0\n",
              "999        god the narrator has such an annoying lisp         0\n",
              "\n",
              "[1000 rows x 2 columns]"
            ],
            "text/html": [
              "\n",
              "  <div id=\"df-81ccd261-bd1c-4d75-80cd-1f41579d4fea\">\n",
              "    <div class=\"colab-df-container\">\n",
              "      <div>\n",
              "<style scoped>\n",
              "    .dataframe tbody tr th:only-of-type {\n",
              "        vertical-align: middle;\n",
              "    }\n",
              "\n",
              "    .dataframe tbody tr th {\n",
              "        vertical-align: top;\n",
              "    }\n",
              "\n",
              "    .dataframe thead th {\n",
              "        text-align: right;\n",
              "    }\n",
              "</style>\n",
              "<table border=\"1\" class=\"dataframe\">\n",
              "  <thead>\n",
              "    <tr style=\"text-align: right;\">\n",
              "      <th></th>\n",
              "      <th>Text</th>\n",
              "      <th>IsToxic</th>\n",
              "    </tr>\n",
              "  </thead>\n",
              "  <tbody>\n",
              "    <tr>\n",
              "      <th>0</th>\n",
              "      <td>if only people would just take a step back and...</td>\n",
              "      <td>0</td>\n",
              "    </tr>\n",
              "    <tr>\n",
              "      <th>1</th>\n",
              "      <td>law enforcement is not trained to shoot to app...</td>\n",
              "      <td>1</td>\n",
              "    </tr>\n",
              "    <tr>\n",
              "      <th>2</th>\n",
              "      <td>dont you reckon them black lives matter banner...</td>\n",
              "      <td>1</td>\n",
              "    </tr>\n",
              "    <tr>\n",
              "      <th>3</th>\n",
              "      <td>there are a very large number of people who do...</td>\n",
              "      <td>0</td>\n",
              "    </tr>\n",
              "    <tr>\n",
              "      <th>4</th>\n",
              "      <td>the arab dude is absolutely right he should ha...</td>\n",
              "      <td>0</td>\n",
              "    </tr>\n",
              "    <tr>\n",
              "      <th>...</th>\n",
              "      <td>...</td>\n",
              "      <td>...</td>\n",
              "    </tr>\n",
              "    <tr>\n",
              "      <th>995</th>\n",
              "      <td>i remember that they sent in the national defe...</td>\n",
              "      <td>0</td>\n",
              "    </tr>\n",
              "    <tr>\n",
              "      <th>996</th>\n",
              "      <td>stats dont represent the problem race baiting ...</td>\n",
              "      <td>1</td>\n",
              "    </tr>\n",
              "    <tr>\n",
              "      <th>997</th>\n",
              "      <td>the quote from the mother wow that hit hard ve...</td>\n",
              "      <td>0</td>\n",
              "    </tr>\n",
              "    <tr>\n",
              "      <th>998</th>\n",
              "      <td>this video is so racist</td>\n",
              "      <td>0</td>\n",
              "    </tr>\n",
              "    <tr>\n",
              "      <th>999</th>\n",
              "      <td>god the narrator has such an annoying lisp</td>\n",
              "      <td>0</td>\n",
              "    </tr>\n",
              "  </tbody>\n",
              "</table>\n",
              "<p>1000 rows × 2 columns</p>\n",
              "</div>\n",
              "      <button class=\"colab-df-convert\" onclick=\"convertToInteractive('df-81ccd261-bd1c-4d75-80cd-1f41579d4fea')\"\n",
              "              title=\"Convert this dataframe to an interactive table.\"\n",
              "              style=\"display:none;\">\n",
              "        \n",
              "  <svg xmlns=\"http://www.w3.org/2000/svg\" height=\"24px\"viewBox=\"0 0 24 24\"\n",
              "       width=\"24px\">\n",
              "    <path d=\"M0 0h24v24H0V0z\" fill=\"none\"/>\n",
              "    <path d=\"M18.56 5.44l.94 2.06.94-2.06 2.06-.94-2.06-.94-.94-2.06-.94 2.06-2.06.94zm-11 1L8.5 8.5l.94-2.06 2.06-.94-2.06-.94L8.5 2.5l-.94 2.06-2.06.94zm10 10l.94 2.06.94-2.06 2.06-.94-2.06-.94-.94-2.06-.94 2.06-2.06.94z\"/><path d=\"M17.41 7.96l-1.37-1.37c-.4-.4-.92-.59-1.43-.59-.52 0-1.04.2-1.43.59L10.3 9.45l-7.72 7.72c-.78.78-.78 2.05 0 2.83L4 21.41c.39.39.9.59 1.41.59.51 0 1.02-.2 1.41-.59l7.78-7.78 2.81-2.81c.8-.78.8-2.07 0-2.86zM5.41 20L4 18.59l7.72-7.72 1.47 1.35L5.41 20z\"/>\n",
              "  </svg>\n",
              "      </button>\n",
              "      \n",
              "  <style>\n",
              "    .colab-df-container {\n",
              "      display:flex;\n",
              "      flex-wrap:wrap;\n",
              "      gap: 12px;\n",
              "    }\n",
              "\n",
              "    .colab-df-convert {\n",
              "      background-color: #E8F0FE;\n",
              "      border: none;\n",
              "      border-radius: 50%;\n",
              "      cursor: pointer;\n",
              "      display: none;\n",
              "      fill: #1967D2;\n",
              "      height: 32px;\n",
              "      padding: 0 0 0 0;\n",
              "      width: 32px;\n",
              "    }\n",
              "\n",
              "    .colab-df-convert:hover {\n",
              "      background-color: #E2EBFA;\n",
              "      box-shadow: 0px 1px 2px rgba(60, 64, 67, 0.3), 0px 1px 3px 1px rgba(60, 64, 67, 0.15);\n",
              "      fill: #174EA6;\n",
              "    }\n",
              "\n",
              "    [theme=dark] .colab-df-convert {\n",
              "      background-color: #3B4455;\n",
              "      fill: #D2E3FC;\n",
              "    }\n",
              "\n",
              "    [theme=dark] .colab-df-convert:hover {\n",
              "      background-color: #434B5C;\n",
              "      box-shadow: 0px 1px 3px 1px rgba(0, 0, 0, 0.15);\n",
              "      filter: drop-shadow(0px 1px 2px rgba(0, 0, 0, 0.3));\n",
              "      fill: #FFFFFF;\n",
              "    }\n",
              "  </style>\n",
              "\n",
              "      <script>\n",
              "        const buttonEl =\n",
              "          document.querySelector('#df-81ccd261-bd1c-4d75-80cd-1f41579d4fea button.colab-df-convert');\n",
              "        buttonEl.style.display =\n",
              "          google.colab.kernel.accessAllowed ? 'block' : 'none';\n",
              "\n",
              "        async function convertToInteractive(key) {\n",
              "          const element = document.querySelector('#df-81ccd261-bd1c-4d75-80cd-1f41579d4fea');\n",
              "          const dataTable =\n",
              "            await google.colab.kernel.invokeFunction('convertToInteractive',\n",
              "                                                     [key], {});\n",
              "          if (!dataTable) return;\n",
              "\n",
              "          const docLinkHtml = 'Like what you see? Visit the ' +\n",
              "            '<a target=\"_blank\" href=https://colab.research.google.com/notebooks/data_table.ipynb>data table notebook</a>'\n",
              "            + ' to learn more about interactive tables.';\n",
              "          element.innerHTML = '';\n",
              "          dataTable['output_type'] = 'display_data';\n",
              "          await google.colab.output.renderOutput(dataTable, element);\n",
              "          const docLink = document.createElement('div');\n",
              "          docLink.innerHTML = docLinkHtml;\n",
              "          element.appendChild(docLink);\n",
              "        }\n",
              "      </script>\n",
              "    </div>\n",
              "  </div>\n",
              "  "
            ]
          },
          "metadata": {},
          "execution_count": 1588
        }
      ],
      "source": [
        "# Cambiamos la variable de IsToxic a numérica para que nos devuelva 0 si no es tóxico o 1 si es tóxico.\n",
        "istoxic = data[\"IsToxic\"].astype(\"uint8\")\n",
        "result = pd.concat([final_text, istoxic], axis=1)\n",
        "result\n"
      ]
    },
    {
      "cell_type": "markdown",
      "source": [
        "- Tokenizamos con Spacy"
      ],
      "metadata": {
        "id": "Cg4DOsN3nZg3"
      },
      "id": "Cg4DOsN3nZg3"
    },
    {
      "cell_type": "code",
      "execution_count": 1589,
      "id": "4fef80de-9374-4079-9039-7bcc5c7bdbe0",
      "metadata": {
        "tags": [],
        "colab": {
          "base_uri": "https://localhost:8080/",
          "height": 424
        },
        "id": "4fef80de-9374-4079-9039-7bcc5c7bdbe0",
        "outputId": "aaebe391-fe55-4d86-a665-3db99a61ec41"
      },
      "outputs": [
        {
          "output_type": "execute_result",
          "data": {
            "text/plain": [
              "                                                  Text  IsToxic  \\\n",
              "0    if only people would just take a step back and...        0   \n",
              "1    law enforcement is not trained to shoot to app...        1   \n",
              "2    dont you reckon them black lives matter banner...        1   \n",
              "3    there are a very large number of people who do...        0   \n",
              "4    the arab dude is absolutely right he should ha...        0   \n",
              "..                                                 ...      ...   \n",
              "995  i remember that they sent in the national defe...        0   \n",
              "996  stats dont represent the problem race baiting ...        1   \n",
              "997  the quote from the mother wow that hit hard ve...        0   \n",
              "998                            this video is so racist        0   \n",
              "999        god the narrator has such an annoying lisp         0   \n",
              "\n",
              "                                          Tokenizacion  \n",
              "0    (if, only, people, would, just, take, a, step,...  \n",
              "1    (law, enforcement, is, not, trained, to, shoot...  \n",
              "2    (do, nt, you, reckon, them, black, lives, matt...  \n",
              "3    (there, are, a, very, large, number, of, peopl...  \n",
              "4    (the, arab, dude, is, absolutely, right, he, s...  \n",
              "..                                                 ...  \n",
              "995  (i, remember, that, they, sent, in, the, natio...  \n",
              "996  (stats, do, nt, represent, the, problem, race,...  \n",
              "997  (the, quote, from, the, mother, wow, that, hit...  \n",
              "998                      (this, video, is, so, racist)  \n",
              "999  (god, the, narrator, has, such, an, annoying, ...  \n",
              "\n",
              "[1000 rows x 3 columns]"
            ],
            "text/html": [
              "\n",
              "  <div id=\"df-e2280eae-7161-4a4e-92f6-fe5668655d0c\">\n",
              "    <div class=\"colab-df-container\">\n",
              "      <div>\n",
              "<style scoped>\n",
              "    .dataframe tbody tr th:only-of-type {\n",
              "        vertical-align: middle;\n",
              "    }\n",
              "\n",
              "    .dataframe tbody tr th {\n",
              "        vertical-align: top;\n",
              "    }\n",
              "\n",
              "    .dataframe thead th {\n",
              "        text-align: right;\n",
              "    }\n",
              "</style>\n",
              "<table border=\"1\" class=\"dataframe\">\n",
              "  <thead>\n",
              "    <tr style=\"text-align: right;\">\n",
              "      <th></th>\n",
              "      <th>Text</th>\n",
              "      <th>IsToxic</th>\n",
              "      <th>Tokenizacion</th>\n",
              "    </tr>\n",
              "  </thead>\n",
              "  <tbody>\n",
              "    <tr>\n",
              "      <th>0</th>\n",
              "      <td>if only people would just take a step back and...</td>\n",
              "      <td>0</td>\n",
              "      <td>(if, only, people, would, just, take, a, step,...</td>\n",
              "    </tr>\n",
              "    <tr>\n",
              "      <th>1</th>\n",
              "      <td>law enforcement is not trained to shoot to app...</td>\n",
              "      <td>1</td>\n",
              "      <td>(law, enforcement, is, not, trained, to, shoot...</td>\n",
              "    </tr>\n",
              "    <tr>\n",
              "      <th>2</th>\n",
              "      <td>dont you reckon them black lives matter banner...</td>\n",
              "      <td>1</td>\n",
              "      <td>(do, nt, you, reckon, them, black, lives, matt...</td>\n",
              "    </tr>\n",
              "    <tr>\n",
              "      <th>3</th>\n",
              "      <td>there are a very large number of people who do...</td>\n",
              "      <td>0</td>\n",
              "      <td>(there, are, a, very, large, number, of, peopl...</td>\n",
              "    </tr>\n",
              "    <tr>\n",
              "      <th>4</th>\n",
              "      <td>the arab dude is absolutely right he should ha...</td>\n",
              "      <td>0</td>\n",
              "      <td>(the, arab, dude, is, absolutely, right, he, s...</td>\n",
              "    </tr>\n",
              "    <tr>\n",
              "      <th>...</th>\n",
              "      <td>...</td>\n",
              "      <td>...</td>\n",
              "      <td>...</td>\n",
              "    </tr>\n",
              "    <tr>\n",
              "      <th>995</th>\n",
              "      <td>i remember that they sent in the national defe...</td>\n",
              "      <td>0</td>\n",
              "      <td>(i, remember, that, they, sent, in, the, natio...</td>\n",
              "    </tr>\n",
              "    <tr>\n",
              "      <th>996</th>\n",
              "      <td>stats dont represent the problem race baiting ...</td>\n",
              "      <td>1</td>\n",
              "      <td>(stats, do, nt, represent, the, problem, race,...</td>\n",
              "    </tr>\n",
              "    <tr>\n",
              "      <th>997</th>\n",
              "      <td>the quote from the mother wow that hit hard ve...</td>\n",
              "      <td>0</td>\n",
              "      <td>(the, quote, from, the, mother, wow, that, hit...</td>\n",
              "    </tr>\n",
              "    <tr>\n",
              "      <th>998</th>\n",
              "      <td>this video is so racist</td>\n",
              "      <td>0</td>\n",
              "      <td>(this, video, is, so, racist)</td>\n",
              "    </tr>\n",
              "    <tr>\n",
              "      <th>999</th>\n",
              "      <td>god the narrator has such an annoying lisp</td>\n",
              "      <td>0</td>\n",
              "      <td>(god, the, narrator, has, such, an, annoying, ...</td>\n",
              "    </tr>\n",
              "  </tbody>\n",
              "</table>\n",
              "<p>1000 rows × 3 columns</p>\n",
              "</div>\n",
              "      <button class=\"colab-df-convert\" onclick=\"convertToInteractive('df-e2280eae-7161-4a4e-92f6-fe5668655d0c')\"\n",
              "              title=\"Convert this dataframe to an interactive table.\"\n",
              "              style=\"display:none;\">\n",
              "        \n",
              "  <svg xmlns=\"http://www.w3.org/2000/svg\" height=\"24px\"viewBox=\"0 0 24 24\"\n",
              "       width=\"24px\">\n",
              "    <path d=\"M0 0h24v24H0V0z\" fill=\"none\"/>\n",
              "    <path d=\"M18.56 5.44l.94 2.06.94-2.06 2.06-.94-2.06-.94-.94-2.06-.94 2.06-2.06.94zm-11 1L8.5 8.5l.94-2.06 2.06-.94-2.06-.94L8.5 2.5l-.94 2.06-2.06.94zm10 10l.94 2.06.94-2.06 2.06-.94-2.06-.94-.94-2.06-.94 2.06-2.06.94z\"/><path d=\"M17.41 7.96l-1.37-1.37c-.4-.4-.92-.59-1.43-.59-.52 0-1.04.2-1.43.59L10.3 9.45l-7.72 7.72c-.78.78-.78 2.05 0 2.83L4 21.41c.39.39.9.59 1.41.59.51 0 1.02-.2 1.41-.59l7.78-7.78 2.81-2.81c.8-.78.8-2.07 0-2.86zM5.41 20L4 18.59l7.72-7.72 1.47 1.35L5.41 20z\"/>\n",
              "  </svg>\n",
              "      </button>\n",
              "      \n",
              "  <style>\n",
              "    .colab-df-container {\n",
              "      display:flex;\n",
              "      flex-wrap:wrap;\n",
              "      gap: 12px;\n",
              "    }\n",
              "\n",
              "    .colab-df-convert {\n",
              "      background-color: #E8F0FE;\n",
              "      border: none;\n",
              "      border-radius: 50%;\n",
              "      cursor: pointer;\n",
              "      display: none;\n",
              "      fill: #1967D2;\n",
              "      height: 32px;\n",
              "      padding: 0 0 0 0;\n",
              "      width: 32px;\n",
              "    }\n",
              "\n",
              "    .colab-df-convert:hover {\n",
              "      background-color: #E2EBFA;\n",
              "      box-shadow: 0px 1px 2px rgba(60, 64, 67, 0.3), 0px 1px 3px 1px rgba(60, 64, 67, 0.15);\n",
              "      fill: #174EA6;\n",
              "    }\n",
              "\n",
              "    [theme=dark] .colab-df-convert {\n",
              "      background-color: #3B4455;\n",
              "      fill: #D2E3FC;\n",
              "    }\n",
              "\n",
              "    [theme=dark] .colab-df-convert:hover {\n",
              "      background-color: #434B5C;\n",
              "      box-shadow: 0px 1px 3px 1px rgba(0, 0, 0, 0.15);\n",
              "      filter: drop-shadow(0px 1px 2px rgba(0, 0, 0, 0.3));\n",
              "      fill: #FFFFFF;\n",
              "    }\n",
              "  </style>\n",
              "\n",
              "      <script>\n",
              "        const buttonEl =\n",
              "          document.querySelector('#df-e2280eae-7161-4a4e-92f6-fe5668655d0c button.colab-df-convert');\n",
              "        buttonEl.style.display =\n",
              "          google.colab.kernel.accessAllowed ? 'block' : 'none';\n",
              "\n",
              "        async function convertToInteractive(key) {\n",
              "          const element = document.querySelector('#df-e2280eae-7161-4a4e-92f6-fe5668655d0c');\n",
              "          const dataTable =\n",
              "            await google.colab.kernel.invokeFunction('convertToInteractive',\n",
              "                                                     [key], {});\n",
              "          if (!dataTable) return;\n",
              "\n",
              "          const docLinkHtml = 'Like what you see? Visit the ' +\n",
              "            '<a target=\"_blank\" href=https://colab.research.google.com/notebooks/data_table.ipynb>data table notebook</a>'\n",
              "            + ' to learn more about interactive tables.';\n",
              "          element.innerHTML = '';\n",
              "          dataTable['output_type'] = 'display_data';\n",
              "          await google.colab.output.renderOutput(dataTable, element);\n",
              "          const docLink = document.createElement('div');\n",
              "          docLink.innerHTML = docLinkHtml;\n",
              "          element.appendChild(docLink);\n",
              "        }\n",
              "      </script>\n",
              "    </div>\n",
              "  </div>\n",
              "  "
            ]
          },
          "metadata": {},
          "execution_count": 1589
        }
      ],
      "source": [
        "nlp = spacy.load(\"en_core_web_sm\")\n",
        "result[\"Tokenizacion\"]= final_text.apply(lambda x: nlp.tokenizer(x))\n",
        "result"
      ]
    },
    {
      "cell_type": "code",
      "source": [
        "# Resultado del dataset una vez tokenizado con la variable IsToxic.\n",
        "result.info()"
      ],
      "metadata": {
        "colab": {
          "base_uri": "https://localhost:8080/"
        },
        "id": "MFxBtwFvQVL5",
        "outputId": "bce2facc-4dc5-4599-80fb-0894e9acb085"
      },
      "id": "MFxBtwFvQVL5",
      "execution_count": 1590,
      "outputs": [
        {
          "output_type": "stream",
          "name": "stdout",
          "text": [
            "<class 'pandas.core.frame.DataFrame'>\n",
            "RangeIndex: 1000 entries, 0 to 999\n",
            "Data columns (total 3 columns):\n",
            " #   Column        Non-Null Count  Dtype \n",
            "---  ------        --------------  ----- \n",
            " 0   Text          1000 non-null   object\n",
            " 1   IsToxic       1000 non-null   uint8 \n",
            " 2   Tokenizacion  1000 non-null   object\n",
            "dtypes: object(2), uint8(1)\n",
            "memory usage: 16.7+ KB\n"
          ]
        }
      ]
    },
    {
      "cell_type": "markdown",
      "source": [
        "Ya tenemos un dataframe con variable tokenizada, podemos proceder a la separación con split."
      ],
      "metadata": {
        "id": "6U_FmB2qofUO"
      },
      "id": "6U_FmB2qofUO"
    },
    {
      "cell_type": "markdown",
      "id": "ac9963db",
      "metadata": {
        "id": "ac9963db"
      },
      "source": [
        "# Split"
      ]
    },
    {
      "cell_type": "code",
      "execution_count": 1591,
      "id": "d156fac7",
      "metadata": {
        "colab": {
          "base_uri": "https://localhost:8080/"
        },
        "id": "d156fac7",
        "outputId": "8a32a20f-b602-41ff-fdc3-30465caf552b"
      },
      "outputs": [
        {
          "output_type": "stream",
          "name": "stdout",
          "text": [
            "Training examples: 800, testing examples 200\n"
          ]
        }
      ],
      "source": [
        "#Separación en train y test con sklearn.\n",
        "from sklearn.model_selection import train_test_split\n",
        "X = result[\"Text\"]\n",
        "y = result[\"IsToxic\"]\n",
        "\n",
        "train_text,test_text, train_labels, test_labels = train_test_split( X, y, test_size=0.2, stratify = y)\n",
        "print(f\"Training examples: {len(train_text)}, testing examples {len(test_text)}\")"
      ]
    },
    {
      "cell_type": "markdown",
      "source": [
        "Al separar en train y test, decidimos trabajar con un 80% de los datos para train y un 20% de los datos para test."
      ],
      "metadata": {
        "id": "jzeLCDRMpVYD"
      },
      "id": "jzeLCDRMpVYD"
    },
    {
      "cell_type": "markdown",
      "id": "ec260ae4",
      "metadata": {
        "id": "ec260ae4"
      },
      "source": [
        "# Entrenamiento"
      ]
    },
    {
      "cell_type": "code",
      "source": [
        "# Vectorización con Sklearn.\n",
        "from sklearn.feature_extraction.text import CountVectorizer, TfidfTransformer\n",
        "count_vect = CountVectorizer(stop_words='english')\n",
        "transformer = TfidfTransformer(norm='l2',sublinear_tf=True)"
      ],
      "metadata": {
        "id": "sBhyljn0e_G1"
      },
      "id": "sBhyljn0e_G1",
      "execution_count": 1592,
      "outputs": []
    },
    {
      "cell_type": "code",
      "source": [
        "# Vectorizamos los datos de train.\n",
        "x_train_counts = count_vect.fit_transform(train_text)\n",
        "x_train_tfidf = transformer.fit_transform(x_train_counts)"
      ],
      "metadata": {
        "id": "jUucVcNFmLfk"
      },
      "id": "jUucVcNFmLfk",
      "execution_count": 1593,
      "outputs": []
    },
    {
      "cell_type": "code",
      "source": [
        "# Vemos el resultado de los datos de train una vez vectorizados.\n",
        "print(x_train_counts.shape)\n",
        "print(x_train_tfidf.shape)"
      ],
      "metadata": {
        "colab": {
          "base_uri": "https://localhost:8080/"
        },
        "id": "6CEpB3rzmSNy",
        "outputId": "af3328ff-07ba-44f3-d9e4-75f3b2e402b5"
      },
      "id": "6CEpB3rzmSNy",
      "execution_count": 1594,
      "outputs": [
        {
          "output_type": "stream",
          "name": "stdout",
          "text": [
            "(800, 3935)\n",
            "(800, 3935)\n"
          ]
        }
      ]
    },
    {
      "cell_type": "code",
      "source": [
        "# Vectorizamos los datos de test.\n",
        "x_test_counts = count_vect.transform(test_text)\n",
        "x_test_tfidf = transformer.transform(x_test_counts)"
      ],
      "metadata": {
        "id": "qMdQYlFzmYGS"
      },
      "id": "qMdQYlFzmYGS",
      "execution_count": 1595,
      "outputs": []
    },
    {
      "cell_type": "code",
      "source": [
        "# Vemos el resultado de los datos de test una vez vectorizados.\n",
        "print(x_test_counts.shape)\n",
        "print(x_test_tfidf.shape)"
      ],
      "metadata": {
        "colab": {
          "base_uri": "https://localhost:8080/"
        },
        "id": "Z7b47gXzqLbn",
        "outputId": "212f84bc-fd38-49da-e418-d8a1fa88d63b"
      },
      "id": "Z7b47gXzqLbn",
      "execution_count": 1596,
      "outputs": [
        {
          "output_type": "stream",
          "name": "stdout",
          "text": [
            "(200, 3935)\n",
            "(200, 3935)\n"
          ]
        }
      ]
    },
    {
      "cell_type": "markdown",
      "id": "2eda5f0d",
      "metadata": {
        "id": "2eda5f0d"
      },
      "source": [
        "# Modelos predictivos"
      ]
    },
    {
      "cell_type": "code",
      "source": [
        "# Importación de libererías para trabajar con Random Forest.\n",
        "from sklearn.ensemble import RandomForestClassifier\n",
        "from sklearn.metrics import *\n",
        "\n",
        "model = RandomForestClassifier(n_estimators=500)\n",
        "model.fit(x_train_tfidf,train_labels)"
      ],
      "metadata": {
        "colab": {
          "base_uri": "https://localhost:8080/"
        },
        "id": "jLvBAcCYmj6f",
        "outputId": "06c57416-9c2e-4fe6-940a-b6e7e7284418"
      },
      "id": "jLvBAcCYmj6f",
      "execution_count": 1597,
      "outputs": [
        {
          "output_type": "execute_result",
          "data": {
            "text/plain": [
              "RandomForestClassifier(bootstrap=True, ccp_alpha=0.0, class_weight=None,\n",
              "                       criterion='gini', max_depth=None, max_features='auto',\n",
              "                       max_leaf_nodes=None, max_samples=None,\n",
              "                       min_impurity_decrease=0.0, min_samples_leaf=1,\n",
              "                       min_samples_split=2, min_weight_fraction_leaf=0.0,\n",
              "                       n_estimators=500, n_jobs=None, oob_score=False,\n",
              "                       random_state=None, verbose=0, warm_start=False)"
            ]
          },
          "metadata": {},
          "execution_count": 1597
        }
      ]
    },
    {
      "cell_type": "code",
      "source": [
        "# Predicciones de test y train Random Forest.\n",
        "predictions = model.predict(x_test_tfidf)\n",
        "predictions2 = model.predict(x_train_tfidf)"
      ],
      "metadata": {
        "id": "wXzg7GgDmrZR"
      },
      "id": "wXzg7GgDmrZR",
      "execution_count": 1598,
      "outputs": []
    },
    {
      "cell_type": "code",
      "source": [
        "#Matriz de confusión para Random Forest.\n",
        "    \n",
        "print()\n",
        "print(f\"Matriz de Confusión:\")\n",
        "print()\n",
        "    \n",
        "con_matrix = confusion_matrix(test_labels, predictions)\n",
        "classes_names = ['False', 'True']\n",
        "con_matrix_ConfusionMatrix = pd.DataFrame(con_matrix, index=classes_names, columns=classes_names)\n",
        "\n",
        "sns.heatmap(con_matrix_ConfusionMatrix, annot=True, cbar=None, cmap=\"Blues\", fmt = 'g')\n",
        "plt.title(\"RandomForest Confusion Matrix\")\n",
        "plt.tight_layout()\n",
        "plt.ylabel(\"True Class\")\n",
        "plt.xlabel(\"Predicted Class\")\n",
        "plt.show()\n",
        "\n",
        "\n",
        "#Métricas de test de Random Forest.\n",
        "\n",
        "accur = accuracy_score(test_labels, predictions)\n",
        "preci = precision_score(test_labels, predictions)\n",
        "recal = recall_score(test_labels, predictions)\n",
        "f1 = f1_score(test_labels, predictions)\n",
        "class_repor = classification_report(test_labels, predictions)\n",
        "\n",
        "\n",
        "#Métricas de train de Random Forest.\n",
        "\n",
        "accur_train = accuracy_score(train_labels, predictions2)\n",
        "preci_train = precision_score(train_labels, predictions2)\n",
        "recal_train = recall_score(train_labels, predictions2)\n",
        "f1_train = f1_score(train_labels, predictions2)\n",
        "\n",
        "\n",
        "print()\n",
        "print(f\"Recall: {recal}\")\n",
        "print(f\"Precision: {preci}\")\n",
        "print(f\"F1_score: {f1}\")\n",
        "print(f\"Accuracy: {accur}\")\n",
        "print()\n",
        "print(\"*************************************************\")\n",
        "print()\n",
        "print(f\"recall_score_train: {recal_train}\")\n",
        "print(f\"precision_score_train: {preci_train}\")\n",
        "print(f\"f1_score_train: {f1_train}\")\n",
        "print(f\"accuracy_score_train: {accur_train}\")\n",
        "print()\n",
        "print(\"Overfitting {:.2f} % \".format(((accur - accur_train)/accur) *100))\n",
        "print()\n",
        "print(f\"Reporte de Clasificación:\")\n",
        "print()\n",
        "print(classification_report(predictions,test_labels))"
      ],
      "metadata": {
        "colab": {
          "base_uri": "https://localhost:8080/",
          "height": 829
        },
        "id": "ghT9_Tqgn7Np",
        "outputId": "8112a0f8-0500-474f-9150-336b392018df"
      },
      "id": "ghT9_Tqgn7Np",
      "execution_count": 1599,
      "outputs": [
        {
          "output_type": "stream",
          "name": "stdout",
          "text": [
            "\n",
            "Matriz de Confusión:\n",
            "\n"
          ]
        },
        {
          "output_type": "display_data",
          "data": {
            "text/plain": [
              "<Figure size 432x288 with 1 Axes>"
            ],
            "image/png": "[encoded data removed]"
          },
          "metadata": {
            "needs_background": "light"
          }
        },
        {
          "output_type": "stream",
          "name": "stdout",
          "text": [
            "\n",
            "Recall: 0.5543478260869565\n",
            "Precision: 0.75\n",
            "F1_score: 0.6375000000000001\n",
            "Accuracy: 0.71\n",
            "\n",
            "*************************************************\n",
            "\n",
            "recall_score_train: 1.0\n",
            "precision_score_train: 1.0\n",
            "f1_score_train: 1.0\n",
            "accuracy_score_train: 1.0\n",
            "\n",
            "Overfitting -40.85 % \n",
            "\n",
            "Reporte de Clasificación:\n",
            "\n",
            "              precision    recall  f1-score   support\n",
            "\n",
            "           0       0.84      0.69      0.76       132\n",
            "           1       0.55      0.75      0.64        68\n",
            "\n",
            "    accuracy                           0.71       200\n",
            "   macro avg       0.70      0.72      0.70       200\n",
            "weighted avg       0.74      0.71      0.72       200\n",
            "\n"
          ]
        }
      ]
    },
    {
      "cell_type": "markdown",
      "source": [
        "**- Conclusiones algoritmo Random Forest:**\n",
        "- Matriz de confusión:\n",
        "Tenemos pocos Verdaderos Positivos en proporción a los falsos negativos.\n",
        "- Métricas:\n",
        "No salen malos resultados pero con la cantidad de overfitting que nos sale, decidimos probar con otros algoritmos para comparar resultados."
      ],
      "metadata": {
        "id": "m4Cpfy9mrrZL"
      },
      "id": "m4Cpfy9mrrZL"
    },
    {
      "cell_type": "code",
      "source": [
        "#Algoritmo Naive Bayes\n",
        "from sklearn.naive_bayes import MultinomialNB\n",
        "NB = MultinomialNB()\n",
        "NB.fit(x_train_tfidf, train_labels)"
      ],
      "metadata": {
        "colab": {
          "base_uri": "https://localhost:8080/"
        },
        "id": "2d4J1DVVrkVZ",
        "outputId": "6d5fea12-c797-4cc3-8e31-8d77f1dc403e"
      },
      "id": "2d4J1DVVrkVZ",
      "execution_count": 1600,
      "outputs": [
        {
          "output_type": "execute_result",
          "data": {
            "text/plain": [
              "MultinomialNB(alpha=1.0, class_prior=None, fit_prior=True)"
            ]
          },
          "metadata": {},
          "execution_count": 1600
        }
      ]
    },
    {
      "cell_type": "code",
      "source": [
        "# Predicciones de test y train Naive Bayes.\n",
        "predict_nb = NB.predict(x_test_tfidf)\n",
        "predict2_nb = NB.predict(x_train_tfidf)"
      ],
      "metadata": {
        "id": "s0gsj0mCDE3i"
      },
      "id": "s0gsj0mCDE3i",
      "execution_count": 1601,
      "outputs": []
    },
    {
      "cell_type": "code",
      "source": [
        "#Matriz de confusión Naive Bayes.\n",
        "    \n",
        "print()\n",
        "print(f\"Matriz de Confusión:\")\n",
        "print()\n",
        "    \n",
        "con_matrix = confusion_matrix(test_labels, predict_nb)\n",
        "classes_names = ['False', 'True']\n",
        "con_matrix_ConfusionMatrix = pd.DataFrame(con_matrix, index=classes_names, columns=classes_names)\n",
        "\n",
        "sns.heatmap(con_matrix_ConfusionMatrix, annot=True, cbar=None, cmap=\"Blues\", fmt = 'g')\n",
        "plt.title(\"Naive Bayes Confusion Matrix\")\n",
        "plt.tight_layout()\n",
        "plt.ylabel(\"True Class\")\n",
        "plt.xlabel(\"Predicted Class\")\n",
        "plt.show()\n",
        "\n",
        "#Métricas de test Naive Bayes\n",
        "\n",
        "accur = accuracy_score(test_labels, predict_nb)\n",
        "preci = precision_score(test_labels, predict_nb)\n",
        "recal = recall_score(test_labels, predict_nb)\n",
        "f1 = f1_score(test_labels, predict_nb)\n",
        "class_repor = classification_report(test_labels, predict_nb)\n",
        "\n",
        "\n",
        "#Métricas de train Naive Bayes\n",
        "\n",
        "accur_train = accuracy_score(train_labels, predict2_nb)\n",
        "preci_train = precision_score(train_labels, predict2_nb)\n",
        "recal_train = recall_score(train_labels, predict2_nb)\n",
        "f1_train = f1_score(train_labels, predict2_nb)\n",
        "\n",
        "\n",
        "print()\n",
        "print(f\"Recall: {recal}\")\n",
        "print(f\"Precision: {preci}\")\n",
        "print(f\"F1_score: {f1}\")\n",
        "print(f\"Accuracy: {accur}\")\n",
        "print()\n",
        "print(\"*************************************************\")\n",
        "print()\n",
        "print(f\"recall_score_train: {recal_train}\")\n",
        "print(f\"precision_score_train: {preci_train}\")\n",
        "print(f\"f1_score_train: {f1_train}\")\n",
        "print(f\"accuracy_score_train: {accur_train}\")\n",
        "print()\n",
        "print(f\"accuracy_score_train: {accur_train}\")\n",
        "print()\n",
        "print(\"Overfitting {:.2f} % \".format(((accur - accur_train)/accur) *100))\n",
        "print()\n",
        "print(f\"Reporte de Clasificación:\")\n",
        "print()\n",
        "print(classification_report(predict_nb,test_labels))"
      ],
      "metadata": {
        "colab": {
          "base_uri": "https://localhost:8080/",
          "height": 865
        },
        "id": "o90dy5QwDLwQ",
        "outputId": "5796b1e1-1195-4c4c-ae88-c1aca9965d10"
      },
      "id": "o90dy5QwDLwQ",
      "execution_count": 1602,
      "outputs": [
        {
          "output_type": "stream",
          "name": "stdout",
          "text": [
            "\n",
            "Matriz de Confusión:\n",
            "\n"
          ]
        },
        {
          "output_type": "display_data",
          "data": {
            "text/plain": [
              "<Figure size 432x288 with 1 Axes>"
            ],
            "image/png": "[encoded data removed]"
          },
          "metadata": {
            "needs_background": "light"
          }
        },
        {
          "output_type": "stream",
          "name": "stdout",
          "text": [
            "\n",
            "Recall: 0.6195652173913043\n",
            "Precision: 0.75\n",
            "F1_score: 0.6785714285714286\n",
            "Accuracy: 0.73\n",
            "\n",
            "*************************************************\n",
            "\n",
            "recall_score_train: 0.9459459459459459\n",
            "precision_score_train: 0.9859154929577465\n",
            "f1_score_train: 0.9655172413793103\n",
            "accuracy_score_train: 0.96875\n",
            "\n",
            "accuracy_score_train: 0.96875\n",
            "\n",
            "Overfitting -32.71 % \n",
            "\n",
            "Reporte de Clasificación:\n",
            "\n",
            "              precision    recall  f1-score   support\n",
            "\n",
            "           0       0.82      0.72      0.77       124\n",
            "           1       0.62      0.75      0.68        76\n",
            "\n",
            "    accuracy                           0.73       200\n",
            "   macro avg       0.72      0.73      0.72       200\n",
            "weighted avg       0.75      0.73      0.73       200\n",
            "\n"
          ]
        }
      ]
    },
    {
      "cell_type": "markdown",
      "source": [
        "**- Conclusiones algoritmo Naive Bayes:**\n",
        "- Matriz de confusión:\n",
        "Mejora la proporción de los verdaderos positivos y los falsos negativos, respecto al Random Forest.\n",
        "- Métricas:\n",
        "Las métricas están bastante bien pero el overfitting es terrible aún."
      ],
      "metadata": {
        "id": "tb6b9Qgdv2M1"
      },
      "id": "tb6b9Qgdv2M1"
    },
    {
      "cell_type": "code",
      "source": [
        "# Algoritmo Lightgbm\n",
        "from lightgbm import LGBMClassifier\n",
        "LGBM = LGBMClassifier(learning_rate=0.01, max_depth = 4, scale_pos_weight = 5, class_weight= \"balanced\", min_child_weight =15)\n",
        "LGBM.fit(x_train_tfidf, train_labels)"
      ],
      "metadata": {
        "colab": {
          "base_uri": "https://localhost:8080/"
        },
        "id": "9Dpl66XTDYNm",
        "outputId": "15937796-eeba-4512-af6b-c50a8f752959"
      },
      "id": "9Dpl66XTDYNm",
      "execution_count": 1603,
      "outputs": [
        {
          "output_type": "execute_result",
          "data": {
            "text/plain": [
              "LGBMClassifier(boosting_type='gbdt', class_weight='balanced',\n",
              "               colsample_bytree=1.0, importance_type='split',\n",
              "               learning_rate=0.01, max_depth=4, min_child_samples=20,\n",
              "               min_child_weight=15, min_split_gain=0.0, n_estimators=100,\n",
              "               n_jobs=-1, num_leaves=31, objective=None, random_state=None,\n",
              "               reg_alpha=0.0, reg_lambda=0.0, scale_pos_weight=5, silent=True,\n",
              "               subsample=1.0, subsample_for_bin=200000, subsample_freq=0)"
            ]
          },
          "metadata": {},
          "execution_count": 1603
        }
      ]
    },
    {
      "cell_type": "code",
      "source": [
        "# Predicciones de test y train Lightgbm.\n",
        "predict_lgbm = LGBM.predict(x_test_tfidf)\n",
        "predict2_lgbm = LGBM.predict(x_train_tfidf)"
      ],
      "metadata": {
        "id": "u8YIhe8FF9Dr"
      },
      "id": "u8YIhe8FF9Dr",
      "execution_count": 1604,
      "outputs": []
    },
    {
      "cell_type": "code",
      "source": [
        "#Matriz de confusión Lightgbm\n",
        "    \n",
        "print()\n",
        "print(f\"Matriz de Confusión:\")\n",
        "print()\n",
        "    \n",
        "con_matrix = confusion_matrix(test_labels, predict_nb)\n",
        "classes_names = ['False', 'True']\n",
        "con_matrix_ConfusionMatrix = pd.DataFrame(con_matrix, index=classes_names, columns=classes_names)\n",
        "\n",
        "sns.heatmap(con_matrix_ConfusionMatrix, annot=True, cbar=None, cmap=\"Blues\", fmt = 'g')\n",
        "plt.title(\"LGBM Confusion Matrix\")\n",
        "plt.tight_layout()\n",
        "plt.ylabel(\"True Class\")\n",
        "plt.xlabel(\"Predicted Class\")\n",
        "plt.show()\n",
        "\n",
        "#Métricas de test Lightgbm.\n",
        "\n",
        "accur = accuracy_score(test_labels, predict_lgbm)\n",
        "preci = precision_score(test_labels, predict_lgbm)\n",
        "recal = recall_score(test_labels, predict_lgbm)\n",
        "f1 = f1_score(test_labels, predict_lgbm)\n",
        "class_repor = classification_report(test_labels, predict_lgbm)\n",
        "\n",
        "\n",
        "#Métricas de train Lightgbm\n",
        "\n",
        "accur_train = accuracy_score(train_labels, predict2_lgbm)\n",
        "preci_train = precision_score(train_labels, predict2_lgbm)\n",
        "recal_train = recall_score(train_labels, predict2_lgbm)\n",
        "f1_train = f1_score(train_labels, predict2_lgbm)\n",
        "\n",
        "\n",
        "print()\n",
        "print(f\"Recall: {recal}\")\n",
        "print(f\"Precision: {preci}\")\n",
        "print(f\"F1_score: {f1}\")\n",
        "print(f\"Accuracy: {accur}\")\n",
        "print()\n",
        "print(\"*************************************************\")\n",
        "print()\n",
        "print(f\"recall_score_train: {recal_train}\")\n",
        "print(f\"precision_score_train: {preci_train}\")\n",
        "print(f\"f1_score_train: {f1_train}\")\n",
        "print(f\"accuracy_score_train: {accur_train}\")\n",
        "print()\n",
        "print(\"Overfitting {:.2f} % \".format(((accur - accur_train)/accur) *100))\n",
        "print(\"-----------------------------------------------------\")\n",
        "print()\n",
        "print(f\"Reporte de Clasificación:\")\n",
        "print()\n",
        "print(classification_report(predict_lgbm,test_labels))"
      ],
      "metadata": {
        "colab": {
          "base_uri": "https://localhost:8080/",
          "height": 847
        },
        "id": "7rUNW0g3GPm9",
        "outputId": "253a13c1-4093-4ca1-dffb-8d0971c583e8"
      },
      "id": "7rUNW0g3GPm9",
      "execution_count": 1605,
      "outputs": [
        {
          "output_type": "stream",
          "name": "stdout",
          "text": [
            "\n",
            "Matriz de Confusión:\n",
            "\n"
          ]
        },
        {
          "output_type": "display_data",
          "data": {
            "text/plain": [
              "<Figure size 432x288 with 1 Axes>"
            ],
            "image/png": "[encoded data removed]"
          },
          "metadata": {
            "needs_background": "light"
          }
        },
        {
          "output_type": "stream",
          "name": "stdout",
          "text": [
            "\n",
            "Recall: 1.0\n",
            "Precision: 0.46\n",
            "F1_score: 0.6301369863013699\n",
            "Accuracy: 0.46\n",
            "\n",
            "*************************************************\n",
            "\n",
            "recall_score_train: 1.0\n",
            "precision_score_train: 0.4625\n",
            "f1_score_train: 0.6324786324786326\n",
            "accuracy_score_train: 0.4625\n",
            "\n",
            "Overfitting -0.54 % \n",
            "-----------------------------------------------------\n",
            "\n",
            "Reporte de Clasificación:\n",
            "\n",
            "              precision    recall  f1-score   support\n",
            "\n",
            "           0       0.00      0.00      0.00         0\n",
            "           1       1.00      0.46      0.63       200\n",
            "\n",
            "    accuracy                           0.46       200\n",
            "   macro avg       0.50      0.23      0.32       200\n",
            "weighted avg       1.00      0.46      0.63       200\n",
            "\n"
          ]
        }
      ]
    },
    {
      "cell_type": "markdown",
      "source": [
        "**- Conclusiones algoritmo Lightgbm:**\n",
        "- Matriz de confusión:\n",
        "Mejora la proporción de los verdaderos positivos y los falsos negativos, respecto al Random Forest pero es muy parecida a la que sale en Naive Bayes.\n",
        "- Métricas:\n",
        "Las métricas son peores pero el overfitting es muy bajo, lo cual también nos hace desconfiar."
      ],
      "metadata": {
        "id": "jLytPBvVxh5t"
      },
      "id": "jLytPBvVxh5t"
    },
    {
      "cell_type": "markdown",
      "source": [
        "## Modelo de XGBoost Classifier"
      ],
      "metadata": {
        "id": "KEN9T_EZALzI"
      },
      "id": "KEN9T_EZALzI"
    },
    {
      "cell_type": "code",
      "source": [
        "# Algoritmo XGBoost.\n",
        "from xgboost import XGBClassifier\n",
        "model_bow = XGBClassifier(learning_rate=0.01, max_depth = 5, scale_pos_weight = 10, class_weight= \"balanced\")\n",
        "model_bow.fit(x_train_tfidf,train_labels)"
      ],
      "metadata": {
        "colab": {
          "base_uri": "https://localhost:8080/"
        },
        "id": "oiLNegxCJQi1",
        "outputId": "90db2b12-7818-4e71-b343-9cf43038889b"
      },
      "id": "oiLNegxCJQi1",
      "execution_count": 1606,
      "outputs": [
        {
          "output_type": "execute_result",
          "data": {
            "text/plain": [
              "XGBClassifier(base_score=0.5, booster='gbtree', class_weight='balanced',\n",
              "              colsample_bylevel=1, colsample_bynode=1, colsample_bytree=1,\n",
              "              gamma=0, learning_rate=0.01, max_delta_step=0, max_depth=5,\n",
              "              min_child_weight=1, missing=None, n_estimators=100, n_jobs=1,\n",
              "              nthread=None, objective='binary:logistic', random_state=0,\n",
              "              reg_alpha=0, reg_lambda=1, scale_pos_weight=10, seed=None,\n",
              "              silent=None, subsample=1, verbosity=1)"
            ]
          },
          "metadata": {},
          "execution_count": 1606
        }
      ]
    },
    {
      "cell_type": "code",
      "source": [
        "# Predicciones de train y test de XGBoost.\n",
        "predict_xgb = model_bow.predict(x_test_tfidf)\n",
        "predict2_xgb = model_bow.predict(x_train_tfidf)"
      ],
      "metadata": {
        "id": "nAkf2AQanzc6"
      },
      "id": "nAkf2AQanzc6",
      "execution_count": 1607,
      "outputs": []
    },
    {
      "cell_type": "code",
      "source": [
        "#Matriz de confusión XGBoost.\n",
        "    \n",
        "print()\n",
        "print(f\"Matriz de Confusión:\")\n",
        "print()\n",
        "    \n",
        "con_matrix = confusion_matrix(test_labels, predict_xgb)\n",
        "classes_names = ['False', 'True']\n",
        "con_matrix_ConfusionMatrix = pd.DataFrame(con_matrix, index=classes_names, columns=classes_names)\n",
        "\n",
        "sns.heatmap(con_matrix_ConfusionMatrix, annot=True, cbar=None, cmap=\"Blues\", fmt = 'g')\n",
        "plt.title(\"XGBoost Confusion Matrix\")\n",
        "plt.tight_layout()\n",
        "plt.ylabel(\"True Class\")\n",
        "plt.xlabel(\"Predicted Class\")\n",
        "plt.show()\n",
        "\n",
        "\n",
        "#Métricas de test XGBoost.\n",
        "\n",
        "accur = accuracy_score(test_labels, predict_xgb)\n",
        "preci = precision_score(test_labels, predict_xgb)\n",
        "recal = recall_score(test_labels, predict_xgb)\n",
        "f1 = f1_score(test_labels, predict_xgb)\n",
        "class_repor = classification_report(test_labels, predict_xgb)\n",
        "\n",
        "\n",
        "#Métricas de train XGBoost.\n",
        "\n",
        "accur_train = accuracy_score(train_labels, predict2_xgb)\n",
        "preci_train = precision_score(train_labels, predict2_xgb)\n",
        "recal_train = recall_score(train_labels, predict2_xgb)\n",
        "f1_train = f1_score(train_labels, predict2_xgb)\n",
        "\n",
        "\n",
        "print()\n",
        "print(f\"Recall: {recal}\")\n",
        "print(f\"Precision: {preci}\")\n",
        "print(f\"F1_score: {f1}\")\n",
        "print(f\"Accuracy: {accur}\")\n",
        "print()\n",
        "print(\"*************************************************\")\n",
        "print()\n",
        "print(f\"recall_score_train: {recal_train}\")\n",
        "print(f\"precision_score_train: {preci_train}\")\n",
        "print(f\"f1_score_train: {f1_train}\")\n",
        "print(f\"accuracy_score_train: {accur_train}\")\n",
        "print()\n",
        "print()\n",
        "print(\"Overfitting {:.2f} % \".format(((accur - accur_train)/accur) *100))\n",
        "print()\n",
        "print(f\"Reporte de Clasificación:\")\n",
        "print()\n",
        "print(classification_report(predict_xgb,test_labels))"
      ],
      "metadata": {
        "colab": {
          "base_uri": "https://localhost:8080/",
          "height": 847
        },
        "id": "46jenKsyn3pf",
        "outputId": "130ed058-38a3-4866-d466-e4f192a745e3"
      },
      "id": "46jenKsyn3pf",
      "execution_count": 1608,
      "outputs": [
        {
          "output_type": "stream",
          "name": "stdout",
          "text": [
            "\n",
            "Matriz de Confusión:\n",
            "\n"
          ]
        },
        {
          "output_type": "display_data",
          "data": {
            "text/plain": [
              "<Figure size 432x288 with 1 Axes>"
            ],
            "image/png": "[encoded data removed]"
          },
          "metadata": {
            "needs_background": "light"
          }
        },
        {
          "output_type": "stream",
          "name": "stdout",
          "text": [
            "\n",
            "Recall: 0.9891304347826086\n",
            "Precision: 0.4789473684210526\n",
            "F1_score: 0.6453900709219859\n",
            "Accuracy: 0.5\n",
            "\n",
            "*************************************************\n",
            "\n",
            "recall_score_train: 1.0\n",
            "precision_score_train: 0.48620236530880423\n",
            "f1_score_train: 0.6542882404951371\n",
            "accuracy_score_train: 0.51125\n",
            "\n",
            "\n",
            "Overfitting -2.25 % \n",
            "\n",
            "Reporte de Clasificación:\n",
            "\n",
            "              precision    recall  f1-score   support\n",
            "\n",
            "           0       0.08      0.90      0.15        10\n",
            "           1       0.99      0.48      0.65       190\n",
            "\n",
            "    accuracy                           0.50       200\n",
            "   macro avg       0.54      0.69      0.40       200\n",
            "weighted avg       0.94      0.50      0.62       200\n",
            "\n"
          ]
        }
      ]
    },
    {
      "cell_type": "markdown",
      "source": [
        "**- Conclusiones algoritmo XGBoost:**\n",
        "- Matriz de confusión:\n",
        "En esta matriz encontramos resultados más cercanos a lo que queremos, los verdaderos positivos superan a los falsos.\n",
        "- Métricas:\n",
        "Nos salen unas métricas mejores y el overfitting es el más bajo de todos."
      ],
      "metadata": {
        "id": "9ib6sdvyy25s"
      },
      "id": "9ib6sdvyy25s"
    },
    {
      "cell_type": "markdown",
      "source": [
        "Elegimos este modelo ya que con las métricas que obtenemos es el mejor algoritmo para nuestros datos."
      ],
      "metadata": {
        "id": "G562MjYF157G"
      },
      "id": "G562MjYF157G"
    },
    {
      "cell_type": "code",
      "source": [
        "#Se importa pickle para guardar el modelo y el transformer\n",
        "import pickle\n",
        "modelo_pickle = 'xg_boost.pkl'\n",
        "pickle.dump(model_bow, open(modelo_pickle, 'wb')) \n",
        "#Comprobar que el modelo de ha guardado\n",
        "modeloprueba = pickle.load(open('xg_boost.pkl', 'rb'))"
      ],
      "metadata": {
        "id": "6vtxkijPh4IR"
      },
      "id": "6vtxkijPh4IR",
      "execution_count": 1609,
      "outputs": []
    },
    {
      "cell_type": "code",
      "source": [
        "# Guardamos el vectorizador que hemos empleado.\n",
        "pickle.dump(count_vect, open('Vectoriser.pkl', 'wb'))\n"
      ],
      "metadata": {
        "id": "wIQuebzIG85j"
      },
      "id": "wIQuebzIG85j",
      "execution_count": 1610,
      "outputs": []
    },
    {
      "cell_type": "markdown",
      "source": [
        "## Auto ML"
      ],
      "metadata": {
        "id": "dKzHKDR3SngG"
      },
      "id": "dKzHKDR3SngG"
    },
    {
      "cell_type": "markdown",
      "source": [
        "Queremos ver otras formas para preprocesar el texto, tuneo de hiperparámetros y comprobar automáticamente los modelos, pasamos a probar con Auto ML"
      ],
      "metadata": {
        "id": "6T52vkoa1swZ"
      },
      "id": "6T52vkoa1swZ"
    },
    {
      "cell_type": "code",
      "source": [
        "! pip install -pre pycaret"
      ],
      "metadata": {
        "colab": {
          "base_uri": "https://localhost:8080/"
        },
        "id": "PTM7DJOmxS6F",
        "outputId": "24ac11d7-83f8-4395-c8a8-c47bcda98cc3"
      },
      "id": "PTM7DJOmxS6F",
      "execution_count": 1611,
      "outputs": [
        {
          "output_type": "stream",
          "name": "stdout",
          "text": [
            "\n",
            "Usage:   \n",
            "  pip3 install [options] <requirement specifier> [package-index-options] ...\n",
            "  pip3 install [options] -r <requirements file> [package-index-options] ...\n",
            "  pip3 install [options] [-e] <vcs project url> ...\n",
            "  pip3 install [options] [-e] <local project path> ...\n",
            "  pip3 install [options] <archive url/path> ...\n",
            "\n",
            "no such option: -p\n"
          ]
        }
      ]
    },
    {
      "cell_type": "code",
      "source": [
        "# Importar Librerias\n",
        "import re\n",
        "import nltk\n",
        "import gensim\n",
        "from gensim.models import Word2Vec\n",
        "from pycaret.nlp import *\n",
        "from pycaret.classification import *"
      ],
      "metadata": {
        "id": "lAt7HN-NhRtx"
      },
      "id": "lAt7HN-NhRtx",
      "execution_count": 1612,
      "outputs": []
    },
    {
      "cell_type": "code",
      "source": [
        "# Preprocesamiento del dataset, configurado en inglés y que nos elimina las stop-words.\n",
        "pre_process = setup(data = result ,target ='Tokenizacion', session_id = 1, custom_stopwords= ['english'])\n"
      ],
      "metadata": {
        "colab": {
          "base_uri": "https://localhost:8080/",
          "height": 187
        },
        "id": "68gBXDIeSsPa",
        "outputId": "95bff751-9c56-4dce-9ece-a0b26813d88e"
      },
      "id": "68gBXDIeSsPa",
      "execution_count": 1613,
      "outputs": [
        {
          "output_type": "error",
          "ename": "TypeError",
          "evalue": "ignored",
          "traceback": [
            "\u001b[0;31m---------------------------------------------------------------------------\u001b[0m",
            "\u001b[0;31mTypeError\u001b[0m                                 Traceback (most recent call last)",
            "\u001b[0;32m<ipython-input-1613-b60d5442aebc>\u001b[0m in \u001b[0;36m<module>\u001b[0;34m\u001b[0m\n\u001b[1;32m      1\u001b[0m \u001b[0;31m# Preprocesamiento del dataset, configurado en inglés y que nos elimina las stop-words.\u001b[0m\u001b[0;34m\u001b[0m\u001b[0;34m\u001b[0m\u001b[0;34m\u001b[0m\u001b[0m\n\u001b[0;32m----> 2\u001b[0;31m \u001b[0mpre_process\u001b[0m \u001b[0;34m=\u001b[0m \u001b[0msetup\u001b[0m\u001b[0;34m(\u001b[0m\u001b[0mdata\u001b[0m \u001b[0;34m=\u001b[0m \u001b[0mresult\u001b[0m \u001b[0;34m,\u001b[0m\u001b[0mtarget\u001b[0m \u001b[0;34m=\u001b[0m\u001b[0;34m'Tokenizacion'\u001b[0m\u001b[0;34m,\u001b[0m \u001b[0msession_id\u001b[0m \u001b[0;34m=\u001b[0m \u001b[0;36m1\u001b[0m\u001b[0;34m,\u001b[0m \u001b[0mcustom_stopwords\u001b[0m\u001b[0;34m=\u001b[0m \u001b[0;34m[\u001b[0m\u001b[0;34m'english'\u001b[0m\u001b[0;34m]\u001b[0m\u001b[0;34m)\u001b[0m\u001b[0;34m\u001b[0m\u001b[0;34m\u001b[0m\u001b[0m\n\u001b[0m",
            "\u001b[0;31mTypeError\u001b[0m: setup() got an unexpected keyword argument 'custom_stopwords'"
          ]
        }
      ]
    },
    {
      "cell_type": "code",
      "source": [
        "# Llamada a los modelos.\n",
        "models()"
      ],
      "metadata": {
        "id": "I3NaAw8tS3cA"
      },
      "id": "I3NaAw8tS3cA",
      "execution_count": null,
      "outputs": []
    },
    {
      "cell_type": "markdown",
      "source": [
        "Nos imprime cinco modelos."
      ],
      "metadata": {
        "id": "82XW_35O3o5D"
      },
      "id": "82XW_35O3o5D"
    },
    {
      "cell_type": "code",
      "source": [
        "#Se elige un modelo de pycaret\n",
        "lda = create_model('lda')\n",
        "print(lda)"
      ],
      "metadata": {
        "id": "alEfIvfMVRbz"
      },
      "id": "alEfIvfMVRbz",
      "execution_count": null,
      "outputs": []
    },
    {
      "cell_type": "code",
      "source": [
        "# Mostrando el dataset y se crean los topics.\n",
        "lda_data = assign_model(lda)\n",
        "lda_data.head()"
      ],
      "metadata": {
        "id": "u472TMd1VUN0"
      },
      "id": "u472TMd1VUN0",
      "execution_count": null,
      "outputs": []
    },
    {
      "cell_type": "code",
      "source": [
        "# Eliminación de las variables.\n",
        "lda_data.drop(['Text','Tokenizacion'], axis = 1, inplace=True, errors='ignore')"
      ],
      "metadata": {
        "id": "iGjm3DPBXYGj"
      },
      "id": "iGjm3DPBXYGj",
      "execution_count": null,
      "outputs": []
    },
    {
      "cell_type": "code",
      "source": [
        "\n",
        "model = setup(data = lda_data, target = 'IsToxic')\n"
      ],
      "metadata": {
        "id": "oLsn1QTRmgg2"
      },
      "id": "oLsn1QTRmgg2",
      "execution_count": null,
      "outputs": []
    },
    {
      "cell_type": "markdown",
      "source": [
        "Al probar AutoML, no nos convencían las métricas de este procesamiento, por lo que hemos decidido quedarnos con XGBoost, el overfitting era igual en ambos procesos pero salían mejores métricas."
      ],
      "metadata": {
        "id": "l_UAq3hfFVZQ"
      },
      "id": "l_UAq3hfFVZQ"
    },
    {
      "cell_type": "code",
      "source": [],
      "metadata": {
        "id": "g9ZQXW4OFv6-"
      },
      "id": "g9ZQXW4OFv6-",
      "execution_count": null,
      "outputs": []
    }
  ],
  "metadata": {
    "colab": {
      "provenance": []
    },
    "kernelspec": {
      "display_name": "Python 3 (ipykernel)",
      "language": "python",
      "name": "python3"
    },
    "language_info": {
      "codemirror_mode": {
        "name": "ipython",
        "version": 3
      },
      "file_extension": ".py",
      "mimetype": "text/x-python",
      "name": "python",
      "nbconvert_exporter": "python",
      "pygments_lexer": "ipython3",
      "version": "3.10.8"
    },
    "vscode": {
      "interpreter": {
        "hash": "9e5b7788a29f1d840a4c703888c44b85ff725f1d39a11799edab98dde2bf1c69"
      }
    }
  },
  "nbformat": 4,
  "nbformat_minor": 5
}