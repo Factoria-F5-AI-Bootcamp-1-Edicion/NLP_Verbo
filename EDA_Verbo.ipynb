{
  "cells": [
    {
      "cell_type": "code",
      "execution_count": 868,
      "id": "c99c2b04-2dd6-4013-b3c1-acb701679537",
      "metadata": {
        "id": "c99c2b04-2dd6-4013-b3c1-acb701679537"
      },
      "outputs": [],
      "source": [
        "# Importación de librerias a usar.\n",
        "\n",
        "import pandas as pd\n",
        "import numpy as np\n",
        "import matplotlib.pyplot as plt\n",
        "import seaborn as sns\n",
        "# Importación spaCy\n",
        "import spacy\n",
        "import en_core_web_sm\n",
        "\n",
        "%matplotlib inline\n",
        "import warnings\n",
        "warnings.filterwarnings(\"ignore\")"
      ]
    },
    {
      "cell_type": "code",
      "execution_count": 869,
      "id": "9822846c-bc6a-4a8e-a16f-9d083069ad75",
      "metadata": {
        "colab": {
          "base_uri": "https://localhost:8080/",
          "height": 576
        },
        "id": "9822846c-bc6a-4a8e-a16f-9d083069ad75",
        "outputId": "dcd10eda-431b-46d8-bc16-d6f9a1bc9e84"
      },
      "outputs": [
        {
          "data": {
            "text/html": [
              "\n",
              "  <div id=\"df-45f5bd12-f56c-47df-abd1-5e09bd7ad810\">\n",
              "    <div class=\"colab-df-container\">\n",
              "      <div>\n",
              "<style scoped>\n",
              "    .dataframe tbody tr th:only-of-type {\n",
              "        vertical-align: middle;\n",
              "    }\n",
              "\n",
              "    .dataframe tbody tr th {\n",
              "        vertical-align: top;\n",
              "    }\n",
              "\n",
              "    .dataframe thead th {\n",
              "        text-align: right;\n",
              "    }\n",
              "</style>\n",
              "<table border=\"1\" class=\"dataframe\">\n",
              "  <thead>\n",
              "    <tr style=\"text-align: right;\">\n",
              "      <th></th>\n",
              "      <th>CommentId</th>\n",
              "      <th>VideoId</th>\n",
              "      <th>Text</th>\n",
              "      <th>IsToxic</th>\n",
              "      <th>IsAbusive</th>\n",
              "      <th>IsThreat</th>\n",
              "      <th>IsProvocative</th>\n",
              "      <th>IsObscene</th>\n",
              "      <th>IsHatespeech</th>\n",
              "      <th>IsRacist</th>\n",
              "      <th>IsNationalist</th>\n",
              "      <th>IsSexist</th>\n",
              "      <th>IsHomophobic</th>\n",
              "      <th>IsReligiousHate</th>\n",
              "      <th>IsRadicalism</th>\n",
              "    </tr>\n",
              "  </thead>\n",
              "  <tbody>\n",
              "    <tr>\n",
              "      <th>0</th>\n",
              "      <td>Ugg2KwwX0V8-aXgCoAEC</td>\n",
              "      <td>04kJtp6pVXI</td>\n",
              "      <td>If only people would just take a step back and...</td>\n",
              "      <td>False</td>\n",
              "      <td>False</td>\n",
              "      <td>False</td>\n",
              "      <td>False</td>\n",
              "      <td>False</td>\n",
              "      <td>False</td>\n",
              "      <td>False</td>\n",
              "      <td>False</td>\n",
              "      <td>False</td>\n",
              "      <td>False</td>\n",
              "      <td>False</td>\n",
              "      <td>False</td>\n",
              "    </tr>\n",
              "    <tr>\n",
              "      <th>1</th>\n",
              "      <td>Ugg2s5AzSPioEXgCoAEC</td>\n",
              "      <td>04kJtp6pVXI</td>\n",
              "      <td>Law enforcement is not trained to shoot to app...</td>\n",
              "      <td>True</td>\n",
              "      <td>True</td>\n",
              "      <td>False</td>\n",
              "      <td>False</td>\n",
              "      <td>False</td>\n",
              "      <td>False</td>\n",
              "      <td>False</td>\n",
              "      <td>False</td>\n",
              "      <td>False</td>\n",
              "      <td>False</td>\n",
              "      <td>False</td>\n",
              "      <td>False</td>\n",
              "    </tr>\n",
              "    <tr>\n",
              "      <th>2</th>\n",
              "      <td>Ugg3dWTOxryFfHgCoAEC</td>\n",
              "      <td>04kJtp6pVXI</td>\n",
              "      <td>\\nDont you reckon them 'black lives matter' ba...</td>\n",
              "      <td>True</td>\n",
              "      <td>True</td>\n",
              "      <td>False</td>\n",
              "      <td>False</td>\n",
              "      <td>True</td>\n",
              "      <td>False</td>\n",
              "      <td>False</td>\n",
              "      <td>False</td>\n",
              "      <td>False</td>\n",
              "      <td>False</td>\n",
              "      <td>False</td>\n",
              "      <td>False</td>\n",
              "    </tr>\n",
              "    <tr>\n",
              "      <th>3</th>\n",
              "      <td>Ugg7Gd006w1MPngCoAEC</td>\n",
              "      <td>04kJtp6pVXI</td>\n",
              "      <td>There are a very large number of people who do...</td>\n",
              "      <td>False</td>\n",
              "      <td>False</td>\n",
              "      <td>False</td>\n",
              "      <td>False</td>\n",
              "      <td>False</td>\n",
              "      <td>False</td>\n",
              "      <td>False</td>\n",
              "      <td>False</td>\n",
              "      <td>False</td>\n",
              "      <td>False</td>\n",
              "      <td>False</td>\n",
              "      <td>False</td>\n",
              "    </tr>\n",
              "    <tr>\n",
              "      <th>4</th>\n",
              "      <td>Ugg8FfTbbNF8IngCoAEC</td>\n",
              "      <td>04kJtp6pVXI</td>\n",
              "      <td>The Arab dude is absolutely right, he should h...</td>\n",
              "      <td>False</td>\n",
              "      <td>False</td>\n",
              "      <td>False</td>\n",
              "      <td>False</td>\n",
              "      <td>False</td>\n",
              "      <td>False</td>\n",
              "      <td>False</td>\n",
              "      <td>False</td>\n",
              "      <td>False</td>\n",
              "      <td>False</td>\n",
              "      <td>False</td>\n",
              "      <td>False</td>\n",
              "    </tr>\n",
              "    <tr>\n",
              "      <th>5</th>\n",
              "      <td>Ugg9a6FtoXdxmXgCoAEC</td>\n",
              "      <td>04kJtp6pVXI</td>\n",
              "      <td>here people his facebook is https://www.facebo...</td>\n",
              "      <td>True</td>\n",
              "      <td>False</td>\n",
              "      <td>False</td>\n",
              "      <td>False</td>\n",
              "      <td>False</td>\n",
              "      <td>True</td>\n",
              "      <td>False</td>\n",
              "      <td>False</td>\n",
              "      <td>False</td>\n",
              "      <td>False</td>\n",
              "      <td>True</td>\n",
              "      <td>False</td>\n",
              "    </tr>\n",
              "    <tr>\n",
              "      <th>6</th>\n",
              "      <td>Ugga9KzkNDGvlXgCoAEC</td>\n",
              "      <td>04kJtp6pVXI</td>\n",
              "      <td>Check out this you tube post. \"Black man goes ...</td>\n",
              "      <td>True</td>\n",
              "      <td>False</td>\n",
              "      <td>False</td>\n",
              "      <td>False</td>\n",
              "      <td>False</td>\n",
              "      <td>True</td>\n",
              "      <td>True</td>\n",
              "      <td>False</td>\n",
              "      <td>False</td>\n",
              "      <td>False</td>\n",
              "      <td>False</td>\n",
              "      <td>False</td>\n",
              "    </tr>\n",
              "  </tbody>\n",
              "</table>\n",
              "</div>\n",
              "      <button class=\"colab-df-convert\" onclick=\"convertToInteractive('df-45f5bd12-f56c-47df-abd1-5e09bd7ad810')\"\n",
              "              title=\"Convert this dataframe to an interactive table.\"\n",
              "              style=\"display:none;\">\n",
              "        \n",
              "  <svg xmlns=\"http://www.w3.org/2000/svg\" height=\"24px\"viewBox=\"0 0 24 24\"\n",
              "       width=\"24px\">\n",
              "    <path d=\"M0 0h24v24H0V0z\" fill=\"none\"/>\n",
              "    <path d=\"M18.56 5.44l.94 2.06.94-2.06 2.06-.94-2.06-.94-.94-2.06-.94 2.06-2.06.94zm-11 1L8.5 8.5l.94-2.06 2.06-.94-2.06-.94L8.5 2.5l-.94 2.06-2.06.94zm10 10l.94 2.06.94-2.06 2.06-.94-2.06-.94-.94-2.06-.94 2.06-2.06.94z\"/><path d=\"M17.41 7.96l-1.37-1.37c-.4-.4-.92-.59-1.43-.59-.52 0-1.04.2-1.43.59L10.3 9.45l-7.72 7.72c-.78.78-.78 2.05 0 2.83L4 21.41c.39.39.9.59 1.41.59.51 0 1.02-.2 1.41-.59l7.78-7.78 2.81-2.81c.8-.78.8-2.07 0-2.86zM5.41 20L4 18.59l7.72-7.72 1.47 1.35L5.41 20z\"/>\n",
              "  </svg>\n",
              "      </button>\n",
              "      \n",
              "  <style>\n",
              "    .colab-df-container {\n",
              "      display:flex;\n",
              "      flex-wrap:wrap;\n",
              "      gap: 12px;\n",
              "    }\n",
              "\n",
              "    .colab-df-convert {\n",
              "      background-color: #E8F0FE;\n",
              "      border: none;\n",
              "      border-radius: 50%;\n",
              "      cursor: pointer;\n",
              "      display: none;\n",
              "      fill: #1967D2;\n",
              "      height: 32px;\n",
              "      padding: 0 0 0 0;\n",
              "      width: 32px;\n",
              "    }\n",
              "\n",
              "    .colab-df-convert:hover {\n",
              "      background-color: #E2EBFA;\n",
              "      box-shadow: 0px 1px 2px rgba(60, 64, 67, 0.3), 0px 1px 3px 1px rgba(60, 64, 67, 0.15);\n",
              "      fill: #174EA6;\n",
              "    }\n",
              "\n",
              "    [theme=dark] .colab-df-convert {\n",
              "      background-color: #3B4455;\n",
              "      fill: #D2E3FC;\n",
              "    }\n",
              "\n",
              "    [theme=dark] .colab-df-convert:hover {\n",
              "      background-color: #434B5C;\n",
              "      box-shadow: 0px 1px 3px 1px rgba(0, 0, 0, 0.15);\n",
              "      filter: drop-shadow(0px 1px 2px rgba(0, 0, 0, 0.3));\n",
              "      fill: #FFFFFF;\n",
              "    }\n",
              "  </style>\n",
              "\n",
              "      <script>\n",
              "        const buttonEl =\n",
              "          document.querySelector('#df-45f5bd12-f56c-47df-abd1-5e09bd7ad810 button.colab-df-convert');\n",
              "        buttonEl.style.display =\n",
              "          google.colab.kernel.accessAllowed ? 'block' : 'none';\n",
              "\n",
              "        async function convertToInteractive(key) {\n",
              "          const element = document.querySelector('#df-45f5bd12-f56c-47df-abd1-5e09bd7ad810');\n",
              "          const dataTable =\n",
              "            await google.colab.kernel.invokeFunction('convertToInteractive',\n",
              "                                                     [key], {});\n",
              "          if (!dataTable) return;\n",
              "\n",
              "          const docLinkHtml = 'Like what you see? Visit the ' +\n",
              "            '<a target=\"_blank\" href=https://colab.research.google.com/notebooks/data_table.ipynb>data table notebook</a>'\n",
              "            + ' to learn more about interactive tables.';\n",
              "          element.innerHTML = '';\n",
              "          dataTable['output_type'] = 'display_data';\n",
              "          await google.colab.output.renderOutput(dataTable, element);\n",
              "          const docLink = document.createElement('div');\n",
              "          docLink.innerHTML = docLinkHtml;\n",
              "          element.appendChild(docLink);\n",
              "        }\n",
              "      </script>\n",
              "    </div>\n",
              "  </div>\n",
              "  "
            ],
            "text/plain": [
              "              CommentId      VideoId  \\\n",
              "0  Ugg2KwwX0V8-aXgCoAEC  04kJtp6pVXI   \n",
              "1  Ugg2s5AzSPioEXgCoAEC  04kJtp6pVXI   \n",
              "2  Ugg3dWTOxryFfHgCoAEC  04kJtp6pVXI   \n",
              "3  Ugg7Gd006w1MPngCoAEC  04kJtp6pVXI   \n",
              "4  Ugg8FfTbbNF8IngCoAEC  04kJtp6pVXI   \n",
              "5  Ugg9a6FtoXdxmXgCoAEC  04kJtp6pVXI   \n",
              "6  Ugga9KzkNDGvlXgCoAEC  04kJtp6pVXI   \n",
              "\n",
              "                                                Text  IsToxic  IsAbusive  \\\n",
              "0  If only people would just take a step back and...    False      False   \n",
              "1  Law enforcement is not trained to shoot to app...     True       True   \n",
              "2  \\nDont you reckon them 'black lives matter' ba...     True       True   \n",
              "3  There are a very large number of people who do...    False      False   \n",
              "4  The Arab dude is absolutely right, he should h...    False      False   \n",
              "5  here people his facebook is https://www.facebo...     True      False   \n",
              "6  Check out this you tube post. \"Black man goes ...     True      False   \n",
              "\n",
              "   IsThreat  IsProvocative  IsObscene  IsHatespeech  IsRacist  IsNationalist  \\\n",
              "0     False          False      False         False     False          False   \n",
              "1     False          False      False         False     False          False   \n",
              "2     False          False       True         False     False          False   \n",
              "3     False          False      False         False     False          False   \n",
              "4     False          False      False         False     False          False   \n",
              "5     False          False      False          True     False          False   \n",
              "6     False          False      False          True      True          False   \n",
              "\n",
              "   IsSexist  IsHomophobic  IsReligiousHate  IsRadicalism  \n",
              "0     False         False            False         False  \n",
              "1     False         False            False         False  \n",
              "2     False         False            False         False  \n",
              "3     False         False            False         False  \n",
              "4     False         False            False         False  \n",
              "5     False         False             True         False  \n",
              "6     False         False            False         False  "
            ]
          },
          "execution_count": 869,
          "metadata": {},
          "output_type": "execute_result"
        }
      ],
      "source": [
        "# Abrimos el csv.\n",
        "data = pd.read_csv('youtoxic_english_1000.csv')\n",
        "data.head(7)"
      ]
    },
    {
      "cell_type": "code",
      "execution_count": 870,
      "id": "d271cc44-292a-469e-a434-dc4fcf11344c",
      "metadata": {
        "colab": {
          "base_uri": "https://localhost:8080/",
          "height": 297
        },
        "id": "d271cc44-292a-469e-a434-dc4fcf11344c",
        "outputId": "0a0e7729-4f5b-4dec-f00f-d83f84f333e1"
      },
      "outputs": [
        {
          "data": {
            "text/plain": [
              "<matplotlib.axes._subplots.AxesSubplot at 0x7fccb8523370>"
            ]
          },
          "execution_count": 870,
          "metadata": {},
          "output_type": "execute_result"
        },
        {
          "data": {
            "image/png": "[encoded data removed]",
            "text/plain": [
              "<Figure size 432x288 with 1 Axes>"
            ]
          },
          "metadata": {
            "needs_background": "light"
          },
          "output_type": "display_data"
        }
      ],
      "source": [
        "#Comprobamos si los datos están balanceados si es Istoxic o no.\n",
        "sns.countplot(x ='IsToxic', data = data)"
      ]
    },
    {
      "cell_type": "markdown",
      "id": "fnt5d9t7hO3G",
      "metadata": {
        "id": "fnt5d9t7hO3G"
      },
      "source": [
        "Podemos observar que los datos más o menos están balanceados, tomamos la decisión de no tratar los datos.\n"
      ]
    },
    {
      "cell_type": "code",
      "execution_count": 871,
      "id": "fiOAN_10e3P1",
      "metadata": {
        "colab": {
          "base_uri": "https://localhost:8080/",
          "height": 833
        },
        "id": "fiOAN_10e3P1",
        "outputId": "8d635f7b-b866-4201-a723-5359f8afedea"
      },
      "outputs": [
        {
          "data": {
            "image/png": "[encoded data removed]",
            "text/plain": [
              "<Figure size 1440x1080 with 12 Axes>"
            ]
          },
          "metadata": {
            "needs_background": "light"
          },
          "output_type": "display_data"
        }
      ],
      "source": [
        "#Se crea un gráfico para visualizar de manera simultánea todas las variables.\n",
        "fig, ax = plt.subplots(3, 4, figsize = (20, 15))\n",
        "ax[2, 3].axis('off')\n",
        "\n",
        "plt.suptitle('Relación de las variables negativas', fontsize = 30, color = 'teal')\n",
        "\n",
        "ax1 = sns.countplot(x ='IsToxic', data= data, hue= 'IsToxic', ax= ax[0, 0], palette= 'RdPu')\n",
        "ax1.set(xlabel = 'Comentarios toxicos')\n",
        "\n",
        "ax2 = sns.countplot(x ='IsAbusive', data= data, hue= 'IsAbusive', ax= ax[0, 1], palette= 'winter')\n",
        "ax2.set(xlabel = 'Comentarios abusivos')\n",
        "\n",
        "ax3 = sns.countplot(x ='IsThreat', data= data, hue= 'IsThreat', ax= ax[0, 2], palette= 'summer')\n",
        "ax3.set(xlabel = 'Comentarios amenazantes ')\n",
        "\n",
        "ax4 = sns.countplot(x ='IsProvocative', data= data, hue= 'IsProvocative', ax= ax[0, 3], palette= 'ocean')\n",
        "ax4.set(xlabel = 'Comentarios provocativos')\n",
        "\n",
        "ax5 = sns.countplot(x ='IsObscene', data= data, hue= 'IsObscene', ax= ax[1, 0], palette= 'YlGnBu')\n",
        "ax5.set(xlabel = 'Comentarios obsceno')\n",
        "\n",
        "ax6 = sns.countplot(x ='IsHatespeech', data= data, hue= 'IsHatespeech', ax= ax[1, 1], palette= 'copper')\n",
        "ax6.set(xlabel = 'Comentarios de odio')\n",
        "\n",
        "ax7 = sns.countplot(x ='IsRacist', data= data, hue= 'IsRacist', ax= ax[1, 2], palette= 'plasma')\n",
        "ax7.set(xlabel = 'Comentarios racistas')\n",
        "\n",
        "ax8 = sns.countplot(x ='IsNationalist', data= data, hue= 'IsNationalist', ax= ax[1, 3], palette= 'winter')\n",
        "ax8.set(xlabel = 'Comentarios nacionalistas')\n",
        "\n",
        "ax9 = sns.countplot(x ='IsSexist', data= data, hue= 'IsSexist', ax= ax[2, 0], palette= 'summer')\n",
        "ax9.set(xlabel = 'Comentarios sexistas')\n",
        "\n",
        "ax10 = sns.countplot(x ='IsHomophobic', data= data, hue= 'IsHomophobic', ax= ax[2, 1], palette= 'ocean')\n",
        "ax10.set(xlabel = 'Comentarios homofobicos')\n",
        "\n",
        "ax11 = sns.countplot(x ='IsReligiousHate', data= data, hue= 'IsReligiousHate', ax= ax[2, 2], palette= 'RdPu')\n",
        "ax11.set(xlabel = 'Comentarios de odio religioso')\n",
        "\n",
        "ax12 = sns.countplot(x ='IsRadicalism', data= data, hue= 'IsRadicalism', ax= ax[2, 3], palette= 'YlGnBu')\n",
        "ax12.set(xlabel = 'Comentarios radicalistas')\n",
        "\n",
        "plt.show()"
      ]
    },
    {
      "cell_type": "markdown",
      "id": "_MHEPjtbipW2",
      "metadata": {
        "id": "_MHEPjtbipW2"
      },
      "source": [
        "Con este gráfico observamos todas las variables del dataset, vemos que las que más balanceadas están son la variable IsToxic y la variable IsAbusive.\n",
        "Tomamos la decisión que vamos a trabajar con IsToxic como la variable que nos prediga."
      ]
    },
    {
      "cell_type": "code",
      "execution_count": 872,
      "id": "SPatrH02gG-p",
      "metadata": {
        "colab": {
          "base_uri": "https://localhost:8080/",
          "height": 274
        },
        "id": "SPatrH02gG-p",
        "outputId": "10a4d258-5fe7-4dcf-d2c9-e6452c76aba7"
      },
      "outputs": [
        {
          "data": {
            "text/html": [
              "\n",
              "  <div id=\"df-e8e59695-df8e-445c-96bb-299311796c20\">\n",
              "    <div class=\"colab-df-container\">\n",
              "      <div>\n",
              "<style scoped>\n",
              "    .dataframe tbody tr th:only-of-type {\n",
              "        vertical-align: middle;\n",
              "    }\n",
              "\n",
              "    .dataframe tbody tr th {\n",
              "        vertical-align: top;\n",
              "    }\n",
              "\n",
              "    .dataframe thead th {\n",
              "        text-align: right;\n",
              "    }\n",
              "</style>\n",
              "<table border=\"1\" class=\"dataframe\">\n",
              "  <thead>\n",
              "    <tr style=\"text-align: right;\">\n",
              "      <th></th>\n",
              "      <th>CommentId</th>\n",
              "      <th>VideoId</th>\n",
              "      <th>Text</th>\n",
              "      <th>IsToxic</th>\n",
              "      <th>IsAbusive</th>\n",
              "      <th>IsThreat</th>\n",
              "      <th>IsProvocative</th>\n",
              "      <th>IsObscene</th>\n",
              "      <th>IsHatespeech</th>\n",
              "      <th>IsRacist</th>\n",
              "      <th>IsNationalist</th>\n",
              "      <th>IsSexist</th>\n",
              "      <th>IsHomophobic</th>\n",
              "      <th>IsReligiousHate</th>\n",
              "      <th>IsRadicalism</th>\n",
              "    </tr>\n",
              "  </thead>\n",
              "  <tbody>\n",
              "    <tr>\n",
              "      <th>count</th>\n",
              "      <td>1000</td>\n",
              "      <td>1000</td>\n",
              "      <td>1000</td>\n",
              "      <td>1000</td>\n",
              "      <td>1000</td>\n",
              "      <td>1000</td>\n",
              "      <td>1000</td>\n",
              "      <td>1000</td>\n",
              "      <td>1000</td>\n",
              "      <td>1000</td>\n",
              "      <td>1000</td>\n",
              "      <td>1000</td>\n",
              "      <td>1000</td>\n",
              "      <td>1000</td>\n",
              "      <td>1000</td>\n",
              "    </tr>\n",
              "    <tr>\n",
              "      <th>unique</th>\n",
              "      <td>1000</td>\n",
              "      <td>13</td>\n",
              "      <td>997</td>\n",
              "      <td>2</td>\n",
              "      <td>2</td>\n",
              "      <td>2</td>\n",
              "      <td>2</td>\n",
              "      <td>2</td>\n",
              "      <td>2</td>\n",
              "      <td>2</td>\n",
              "      <td>2</td>\n",
              "      <td>2</td>\n",
              "      <td>1</td>\n",
              "      <td>2</td>\n",
              "      <td>1</td>\n",
              "    </tr>\n",
              "    <tr>\n",
              "      <th>top</th>\n",
              "      <td>Ugg2KwwX0V8-aXgCoAEC</td>\n",
              "      <td>9pr1oE34bIM</td>\n",
              "      <td>run them over</td>\n",
              "      <td>False</td>\n",
              "      <td>False</td>\n",
              "      <td>False</td>\n",
              "      <td>False</td>\n",
              "      <td>False</td>\n",
              "      <td>False</td>\n",
              "      <td>False</td>\n",
              "      <td>False</td>\n",
              "      <td>False</td>\n",
              "      <td>False</td>\n",
              "      <td>False</td>\n",
              "      <td>False</td>\n",
              "    </tr>\n",
              "    <tr>\n",
              "      <th>freq</th>\n",
              "      <td>1</td>\n",
              "      <td>274</td>\n",
              "      <td>3</td>\n",
              "      <td>538</td>\n",
              "      <td>647</td>\n",
              "      <td>979</td>\n",
              "      <td>839</td>\n",
              "      <td>900</td>\n",
              "      <td>862</td>\n",
              "      <td>875</td>\n",
              "      <td>992</td>\n",
              "      <td>999</td>\n",
              "      <td>1000</td>\n",
              "      <td>988</td>\n",
              "      <td>1000</td>\n",
              "    </tr>\n",
              "  </tbody>\n",
              "</table>\n",
              "</div>\n",
              "      <button class=\"colab-df-convert\" onclick=\"convertToInteractive('df-e8e59695-df8e-445c-96bb-299311796c20')\"\n",
              "              title=\"Convert this dataframe to an interactive table.\"\n",
              "              style=\"display:none;\">\n",
              "        \n",
              "  <svg xmlns=\"http://www.w3.org/2000/svg\" height=\"24px\"viewBox=\"0 0 24 24\"\n",
              "       width=\"24px\">\n",
              "    <path d=\"M0 0h24v24H0V0z\" fill=\"none\"/>\n",
              "    <path d=\"M18.56 5.44l.94 2.06.94-2.06 2.06-.94-2.06-.94-.94-2.06-.94 2.06-2.06.94zm-11 1L8.5 8.5l.94-2.06 2.06-.94-2.06-.94L8.5 2.5l-.94 2.06-2.06.94zm10 10l.94 2.06.94-2.06 2.06-.94-2.06-.94-.94-2.06-.94 2.06-2.06.94z\"/><path d=\"M17.41 7.96l-1.37-1.37c-.4-.4-.92-.59-1.43-.59-.52 0-1.04.2-1.43.59L10.3 9.45l-7.72 7.72c-.78.78-.78 2.05 0 2.83L4 21.41c.39.39.9.59 1.41.59.51 0 1.02-.2 1.41-.59l7.78-7.78 2.81-2.81c.8-.78.8-2.07 0-2.86zM5.41 20L4 18.59l7.72-7.72 1.47 1.35L5.41 20z\"/>\n",
              "  </svg>\n",
              "      </button>\n",
              "      \n",
              "  <style>\n",
              "    .colab-df-container {\n",
              "      display:flex;\n",
              "      flex-wrap:wrap;\n",
              "      gap: 12px;\n",
              "    }\n",
              "\n",
              "    .colab-df-convert {\n",
              "      background-color: #E8F0FE;\n",
              "      border: none;\n",
              "      border-radius: 50%;\n",
              "      cursor: pointer;\n",
              "      display: none;\n",
              "      fill: #1967D2;\n",
              "      height: 32px;\n",
              "      padding: 0 0 0 0;\n",
              "      width: 32px;\n",
              "    }\n",
              "\n",
              "    .colab-df-convert:hover {\n",
              "      background-color: #E2EBFA;\n",
              "      box-shadow: 0px 1px 2px rgba(60, 64, 67, 0.3), 0px 1px 3px 1px rgba(60, 64, 67, 0.15);\n",
              "      fill: #174EA6;\n",
              "    }\n",
              "\n",
              "    [theme=dark] .colab-df-convert {\n",
              "      background-color: #3B4455;\n",
              "      fill: #D2E3FC;\n",
              "    }\n",
              "\n",
              "    [theme=dark] .colab-df-convert:hover {\n",
              "      background-color: #434B5C;\n",
              "      box-shadow: 0px 1px 3px 1px rgba(0, 0, 0, 0.15);\n",
              "      filter: drop-shadow(0px 1px 2px rgba(0, 0, 0, 0.3));\n",
              "      fill: #FFFFFF;\n",
              "    }\n",
              "  </style>\n",
              "\n",
              "      <script>\n",
              "        const buttonEl =\n",
              "          document.querySelector('#df-e8e59695-df8e-445c-96bb-299311796c20 button.colab-df-convert');\n",
              "        buttonEl.style.display =\n",
              "          google.colab.kernel.accessAllowed ? 'block' : 'none';\n",
              "\n",
              "        async function convertToInteractive(key) {\n",
              "          const element = document.querySelector('#df-e8e59695-df8e-445c-96bb-299311796c20');\n",
              "          const dataTable =\n",
              "            await google.colab.kernel.invokeFunction('convertToInteractive',\n",
              "                                                     [key], {});\n",
              "          if (!dataTable) return;\n",
              "\n",
              "          const docLinkHtml = 'Like what you see? Visit the ' +\n",
              "            '<a target=\"_blank\" href=https://colab.research.google.com/notebooks/data_table.ipynb>data table notebook</a>'\n",
              "            + ' to learn more about interactive tables.';\n",
              "          element.innerHTML = '';\n",
              "          dataTable['output_type'] = 'display_data';\n",
              "          await google.colab.output.renderOutput(dataTable, element);\n",
              "          const docLink = document.createElement('div');\n",
              "          docLink.innerHTML = docLinkHtml;\n",
              "          element.appendChild(docLink);\n",
              "        }\n",
              "      </script>\n",
              "    </div>\n",
              "  </div>\n",
              "  "
            ],
            "text/plain": [
              "                   CommentId      VideoId           Text IsToxic IsAbusive  \\\n",
              "count                   1000         1000           1000    1000      1000   \n",
              "unique                  1000           13            997       2         2   \n",
              "top     Ugg2KwwX0V8-aXgCoAEC  9pr1oE34bIM  run them over   False     False   \n",
              "freq                       1          274              3     538       647   \n",
              "\n",
              "       IsThreat IsProvocative IsObscene IsHatespeech IsRacist IsNationalist  \\\n",
              "count      1000          1000      1000         1000     1000          1000   \n",
              "unique        2             2         2            2        2             2   \n",
              "top       False         False     False        False    False         False   \n",
              "freq        979           839       900          862      875           992   \n",
              "\n",
              "       IsSexist IsHomophobic IsReligiousHate IsRadicalism  \n",
              "count      1000         1000            1000         1000  \n",
              "unique        2            1               2            1  \n",
              "top       False        False           False        False  \n",
              "freq        999         1000             988         1000  "
            ]
          },
          "execution_count": 872,
          "metadata": {},
          "output_type": "execute_result"
        }
      ],
      "source": [
        "#Decripción del dataset\n",
        "data.describe()"
      ]
    },
    {
      "cell_type": "code",
      "execution_count": 873,
      "id": "agdV1uWkgO6L",
      "metadata": {
        "colab": {
          "base_uri": "https://localhost:8080/"
        },
        "id": "agdV1uWkgO6L",
        "outputId": "8db1ae2f-9334-48f8-be9a-ed472bd1fa56"
      },
      "outputs": [
        {
          "name": "stdout",
          "output_type": "stream",
          "text": [
            "<class 'pandas.core.frame.DataFrame'>\n",
            "RangeIndex: 1000 entries, 0 to 999\n",
            "Data columns (total 15 columns):\n",
            " #   Column           Non-Null Count  Dtype \n",
            "---  ------           --------------  ----- \n",
            " 0   CommentId        1000 non-null   object\n",
            " 1   VideoId          1000 non-null   object\n",
            " 2   Text             1000 non-null   object\n",
            " 3   IsToxic          1000 non-null   bool  \n",
            " 4   IsAbusive        1000 non-null   bool  \n",
            " 5   IsThreat         1000 non-null   bool  \n",
            " 6   IsProvocative    1000 non-null   bool  \n",
            " 7   IsObscene        1000 non-null   bool  \n",
            " 8   IsHatespeech     1000 non-null   bool  \n",
            " 9   IsRacist         1000 non-null   bool  \n",
            " 10  IsNationalist    1000 non-null   bool  \n",
            " 11  IsSexist         1000 non-null   bool  \n",
            " 12  IsHomophobic     1000 non-null   bool  \n",
            " 13  IsReligiousHate  1000 non-null   bool  \n",
            " 14  IsRadicalism     1000 non-null   bool  \n",
            "dtypes: bool(12), object(3)\n",
            "memory usage: 35.3+ KB\n"
          ]
        }
      ],
      "source": [
        "#Información del dataset.\n",
        "data.info()"
      ]
    },
    {
      "cell_type": "code",
      "execution_count": 874,
      "id": "B_-AA9rmgg-U",
      "metadata": {
        "colab": {
          "base_uri": "https://localhost:8080/"
        },
        "id": "B_-AA9rmgg-U",
        "outputId": "d627196d-700c-4ed5-98b9-76fa3831e96b"
      },
      "outputs": [
        {
          "data": {
            "text/plain": [
              "CommentId          0\n",
              "VideoId            0\n",
              "Text               0\n",
              "IsToxic            0\n",
              "IsAbusive          0\n",
              "IsThreat           0\n",
              "IsProvocative      0\n",
              "IsObscene          0\n",
              "IsHatespeech       0\n",
              "IsRacist           0\n",
              "IsNationalist      0\n",
              "IsSexist           0\n",
              "IsHomophobic       0\n",
              "IsReligiousHate    0\n",
              "IsRadicalism       0\n",
              "dtype: int64"
            ]
          },
          "execution_count": 874,
          "metadata": {},
          "output_type": "execute_result"
        }
      ],
      "source": [
        "#Comprobamos si existen valores nulos\n",
        "data.isnull().sum(axis = 0)"
      ]
    },
    {
      "cell_type": "code",
      "execution_count": 875,
      "id": "qLiD9c_ugsSs",
      "metadata": {
        "colab": {
          "base_uri": "https://localhost:8080/"
        },
        "id": "qLiD9c_ugsSs",
        "outputId": "66837ba6-0fdd-468b-ec40-32c1fce39883"
      },
      "outputs": [
        {
          "data": {
            "text/plain": [
              "0"
            ]
          },
          "execution_count": 875,
          "metadata": {},
          "output_type": "execute_result"
        }
      ],
      "source": [
        "#Comprobamos los datos duplicados\n",
        "data_duplicadas = data[data.duplicated()]\n",
        "len(data_duplicadas)"
      ]
    },
    {
      "cell_type": "markdown",
      "id": "Vqtl5cSqjOP8",
      "metadata": {
        "id": "Vqtl5cSqjOP8"
      },
      "source": [
        "El dataset está con todos los valores, no hace falta tratar los nulos ni limpiar los datos duplicados."
      ]
    },
    {
      "cell_type": "code",
      "execution_count": 876,
      "id": "kFFqvVB8gz-b",
      "metadata": {
        "colab": {
          "base_uri": "https://localhost:8080/",
          "height": 615
        },
        "id": "kFFqvVB8gz-b",
        "outputId": "80470f4f-280f-4124-b77e-440fcb469c2e"
      },
      "outputs": [
        {
          "data": {
            "text/plain": [
              "<matplotlib.axes._subplots.AxesSubplot at 0x7fccba8eab80>"
            ]
          },
          "execution_count": 876,
          "metadata": {},
          "output_type": "execute_result"
        },
        {
          "data": {
            "image/png": "[encoded data removed]",
            "text/plain": [
              "<Figure size 792x648 with 2 Axes>"
            ]
          },
          "metadata": {
            "needs_background": "light"
          },
          "output_type": "display_data"
        }
      ],
      "source": [
        "#Mapa de calor con las variables con la correlación.\n",
        "mask = np.triu(np.ones_like(data.corr(), dtype=bool))\n",
        "\n",
        "# Configuramos el matplotlib\n",
        "f, ax = plt.subplots(figsize=(11, 9))\n",
        "\n",
        "# Ploteamos el heatmap\n",
        "cmap = sns.diverging_palette(20, 220, n=200)\n",
        "sns.heatmap(data.corr(), mask=mask, vmax=1., vmin=-1., center=0,\n",
        "            square=True, linewidths=.5, cbar_kws={\"shrink\": .5}, annot=True)"
      ]
    },
    {
      "cell_type": "code",
      "execution_count": 877,
      "id": "8qxa_YSxhG8G",
      "metadata": {
        "colab": {
          "base_uri": "https://localhost:8080/"
        },
        "id": "8qxa_YSxhG8G",
        "outputId": "a3f3a09c-1382-42a8-9bb3-52e2546472cd"
      },
      "outputs": [
        {
          "data": {
            "text/plain": [
              "False    1000\n",
              "Name: IsHomophobic, dtype: int64"
            ]
          },
          "execution_count": 877,
          "metadata": {},
          "output_type": "execute_result"
        }
      ],
      "source": [
        "# Comprobamos la variable IsHomophobic si tiene valores en True.\n",
        "data.IsHomophobic.value_counts()"
      ]
    },
    {
      "cell_type": "code",
      "execution_count": 878,
      "id": "pfvCZyY8pwMa",
      "metadata": {
        "colab": {
          "base_uri": "https://localhost:8080/"
        },
        "id": "pfvCZyY8pwMa",
        "outputId": "b5d4a5c2-6d0e-4954-98e5-eed51b2c670f"
      },
      "outputs": [
        {
          "data": {
            "text/plain": [
              "False    1000\n",
              "Name: IsRadicalism, dtype: int64"
            ]
          },
          "execution_count": 878,
          "metadata": {},
          "output_type": "execute_result"
        }
      ],
      "source": [
        "# Comprobamos la variable IsRadicalism si tiene valores en True.\n",
        "data.IsRadicalism.value_counts()"
      ]
    },
    {
      "cell_type": "markdown",
      "id": "wdJ0I6KLiszE",
      "metadata": {
        "id": "wdJ0I6KLiszE"
      },
      "source": [
        "Comprobación de variables que no tienen ningún valor en True. En todo el dataset no se encuentra ningún dato clasificado que tenga estas características."
      ]
    },
    {
      "cell_type": "code",
      "execution_count": 879,
      "id": "Etdjaq7Oh5Bv",
      "metadata": {
        "colab": {
          "base_uri": "https://localhost:8080/"
        },
        "id": "Etdjaq7Oh5Bv",
        "outputId": "be9c5b3f-3bf3-4d14-af9f-2ceeb1c341b8"
      },
      "outputs": [
        {
          "data": {
            "text/plain": [
              "9pr1oE34bIM    274\n",
              "04kJtp6pVXI    172\n",
              "cT14IbTDW2c    146\n",
              "dG7mZQvaQDk    112\n",
              "TZxEyoplYbI    104\n",
              "bUgKZMSxr3E     39\n",
              "8HB18hZrhXc     38\n",
              "4rCweDxDqdw     37\n",
              "Dt9-byUhPdg     34\n",
              "#NAME?          16\n",
              "dDbRyFIkNII     10\n",
              "XRuCW80L9mA     10\n",
              "5vF4si3hoRA      8\n",
              "Name: VideoId, dtype: int64"
            ]
          },
          "execution_count": 879,
          "metadata": {},
          "output_type": "execute_result"
        }
      ],
      "source": [
        "# Sacamos la cantidad de videos y su número de comentarios en el dataset.\n",
        "data.VideoId.value_counts()"
      ]
    },
    {
      "cell_type": "code",
      "execution_count": 880,
      "id": "GGj9y8w6iVZL",
      "metadata": {
        "colab": {
          "base_uri": "https://localhost:8080/",
          "height": 325
        },
        "id": "GGj9y8w6iVZL",
        "outputId": "b6f1c1d5-9b2b-46af-da40-3b3acc44f0e8"
      },
      "outputs": [
        {
          "data": {
            "image/png": "[encoded data removed]",
            "text/plain": [
              "<Figure size 432x288 with 1 Axes>"
            ]
          },
          "metadata": {
            "needs_background": "light"
          },
          "output_type": "display_data"
        }
      ],
      "source": [
        "# La relación de las variables.\n",
        "sns.boxplot(data=data)\n",
        "plt.xticks(rotation=90)\n",
        "plt.show()"
      ]
    },
    {
      "cell_type": "markdown",
      "id": "xO3Dyt2BkyeW",
      "metadata": {
        "id": "xO3Dyt2BkyeW"
      },
      "source": [
        "## 3. Limpieza de datos"
      ]
    },
    {
      "cell_type": "code",
      "execution_count": 881,
      "id": "kV6YZkdxjEUI",
      "metadata": {
        "id": "kV6YZkdxjEUI"
      },
      "outputs": [],
      "source": [
        "# Limpieza y unificación de palabras.\n",
        "import re \n",
        "import string \n",
        "def clean_text_round1(text): \n",
        "    '''Nos convierte las palabras a minúsculas, signos de puntuación, números, espacios en blanco y corchetes''' \n",
        "    text = text.lower() \n",
        "    text = re.sub('\\[.*?\\]', '', text) \n",
        "    text = re.sub('[%s]' % re.escape(string.punctuation), '', text) \n",
        "    text = re.sub('\\w*\\d\\w*', '', text) \n",
        "    text = re.sub('[‘’“”…]', '', text)\n",
        "    text = re.sub('\\n', '', text)\n",
        "    return text \n",
        "\n",
        "round1 = lambda x: clean_text_round1(x) "
      ]
    },
    {
      "cell_type": "code",
      "execution_count": 882,
      "id": "P_Y6x__9eS_p",
      "metadata": {
        "id": "P_Y6x__9eS_p"
      },
      "outputs": [],
      "source": [
        "#Reemplazo de \\Xa0 (representa un espacio duro o un espacio sin interrupciones en un programa).\n",
        "data['Text'] = data['Text'].replace(u'\\xa0', u' ')"
      ]
    },
    {
      "cell_type": "code",
      "execution_count": 883,
      "id": "P70OEcDtmUlW",
      "metadata": {
        "colab": {
          "base_uri": "https://localhost:8080/"
        },
        "id": "P70OEcDtmUlW",
        "outputId": "d14a3e4c-0d3e-4a70-b662-1f2702950f20"
      },
      "outputs": [
        {
          "data": {
            "text/plain": [
              "0      if only people would just take a step back and...\n",
              "1      law enforcement is not trained to shoot to app...\n",
              "2      dont you reckon them black lives matter banner...\n",
              "3      there are a very large number of people who do...\n",
              "4      the arab dude is absolutely right he should ha...\n",
              "                             ...                        \n",
              "995    i remember that they sent in the national defe...\n",
              "996    stats dont represent the problem race baiting ...\n",
              "997    the quote from the mother wow that hit hard ve...\n",
              "998                              this video is so racist\n",
              "999          god the narrator has such an annoying lisp \n",
              "Name: Text, Length: 1000, dtype: object"
            ]
          },
          "execution_count": 883,
          "metadata": {},
          "output_type": "execute_result"
        }
      ],
      "source": [
        "# Aplicamos la limpieza hecha hasta ahora a la variable Text.\n",
        "text_clean = data[\"Text\"].apply(round1)\n",
        "text_clean"
      ]
    },
    {
      "cell_type": "code",
      "execution_count": 884,
      "id": "2qsGa8Ej1qjs",
      "metadata": {
        "id": "2qsGa8Ej1qjs"
      },
      "outputs": [],
      "source": [
        "# Limpiamos emojis\n",
        "import re\n",
        "def remove_emojis(data_clean):\n",
        "    emoj = re.compile(\"[\"\n",
        "        u\"\\U0001F600-\\U0001F64F\"  # emoticons\n",
        "        u\"\\U0001F300-\\U0001F5FF\"  # symbols & pictographs\n",
        "        u\"\\U0001F680-\\U0001F6FF\"  # transport & map symbols\n",
        "        u\"\\U0001F1E0-\\U0001F1FF\"  # flags (iOS)\n",
        "        u\"\\U00002500-\\U00002BEF\"  # chinese char\n",
        "        u\"\\U00002702-\\U000027B0\"\n",
        "        u\"\\U00002702-\\U000027B0\"\n",
        "        u\"\\U000024C2-\\U0001F251\"\n",
        "        u\"\\U0001f926-\\U0001f937\"\n",
        "        u\"\\U00010000-\\U0010ffff\"\n",
        "        u\"\\u2640-\\u2642\" \n",
        "        u\"\\u2600-\\u2B55\"\n",
        "        u\"\\u200d\"\n",
        "        u\"\\u23cf\"\n",
        "        u\"\\u23e9\"\n",
        "        u\"\\u231a\"\n",
        "        u\"\\ufe0f\"  # dingbats\n",
        "        u\"\\u3030\"\n",
        "                      \"]+\", re.UNICODE)\n",
        "    return re.sub(emoj, '', data_clean)\n",
        "\n",
        "    round1 = lambda x: remove_emojis(x)"
      ]
    },
    {
      "cell_type": "code",
      "execution_count": 885,
      "id": "dabb2d5c",
      "metadata": {
        "colab": {
          "base_uri": "https://localhost:8080/"
        },
        "id": "dabb2d5c",
        "outputId": "199e833e-9716-4348-ac2b-743365cb4ca8"
      },
      "outputs": [
        {
          "data": {
            "text/plain": [
              "0      if only people would just take a step back and...\n",
              "1      law enforcement is not trained to shoot to app...\n",
              "2      dont you reckon them black lives matter banner...\n",
              "3      there are a very large number of people who do...\n",
              "4      the arab dude is absolutely right he should ha...\n",
              "                             ...                        \n",
              "995    i remember that they sent in the national defe...\n",
              "996    stats dont represent the problem race baiting ...\n",
              "997    the quote from the mother wow that hit hard ve...\n",
              "998                              this video is so racist\n",
              "999          god the narrator has such an annoying lisp \n",
              "Name: Text, Length: 1000, dtype: object"
            ]
          },
          "execution_count": 885,
          "metadata": {},
          "output_type": "execute_result"
        }
      ],
      "source": [
        "# Aplicamos la limpieza de los emjis en el texto limpio.\n",
        "final_text = text_clean.apply(round1)\n",
        "final_text"
      ]
    },
    {
      "cell_type": "markdown",
      "id": "hgxUNdjEmic7",
      "metadata": {
        "id": "hgxUNdjEmic7"
      },
      "source": [
        "Ya tenemos todo el texto unificado y limpio en minúsculas, sin signos de puntuación y sin emojis, listo para proceder a la tokenización.\n"
      ]
    },
    {
      "cell_type": "markdown",
      "id": "Xcd4IYr75AAJ",
      "metadata": {
        "id": "Xcd4IYr75AAJ"
      },
      "source": [
        "# Tokenización"
      ]
    },
    {
      "cell_type": "code",
      "execution_count": 886,
      "id": "7198467f-9256-428e-98c2-20c8b4c249e6",
      "metadata": {
        "colab": {
          "base_uri": "https://localhost:8080/",
          "height": 424
        },
        "id": "7198467f-9256-428e-98c2-20c8b4c249e6",
        "outputId": "8f0f5d7f-3ecd-4e73-a882-c4166098a94f"
      },
      "outputs": [
        {
          "data": {
            "text/html": [
              "\n",
              "  <div id=\"df-6b28a20c-9f91-4931-ac83-1668b0bdc4d0\">\n",
              "    <div class=\"colab-df-container\">\n",
              "      <div>\n",
              "<style scoped>\n",
              "    .dataframe tbody tr th:only-of-type {\n",
              "        vertical-align: middle;\n",
              "    }\n",
              "\n",
              "    .dataframe tbody tr th {\n",
              "        vertical-align: top;\n",
              "    }\n",
              "\n",
              "    .dataframe thead th {\n",
              "        text-align: right;\n",
              "    }\n",
              "</style>\n",
              "<table border=\"1\" class=\"dataframe\">\n",
              "  <thead>\n",
              "    <tr style=\"text-align: right;\">\n",
              "      <th></th>\n",
              "      <th>Text</th>\n",
              "      <th>IsToxic</th>\n",
              "    </tr>\n",
              "  </thead>\n",
              "  <tbody>\n",
              "    <tr>\n",
              "      <th>0</th>\n",
              "      <td>if only people would just take a step back and...</td>\n",
              "      <td>0</td>\n",
              "    </tr>\n",
              "    <tr>\n",
              "      <th>1</th>\n",
              "      <td>law enforcement is not trained to shoot to app...</td>\n",
              "      <td>1</td>\n",
              "    </tr>\n",
              "    <tr>\n",
              "      <th>2</th>\n",
              "      <td>dont you reckon them black lives matter banner...</td>\n",
              "      <td>1</td>\n",
              "    </tr>\n",
              "    <tr>\n",
              "      <th>3</th>\n",
              "      <td>there are a very large number of people who do...</td>\n",
              "      <td>0</td>\n",
              "    </tr>\n",
              "    <tr>\n",
              "      <th>4</th>\n",
              "      <td>the arab dude is absolutely right he should ha...</td>\n",
              "      <td>0</td>\n",
              "    </tr>\n",
              "    <tr>\n",
              "      <th>...</th>\n",
              "      <td>...</td>\n",
              "      <td>...</td>\n",
              "    </tr>\n",
              "    <tr>\n",
              "      <th>995</th>\n",
              "      <td>i remember that they sent in the national defe...</td>\n",
              "      <td>0</td>\n",
              "    </tr>\n",
              "    <tr>\n",
              "      <th>996</th>\n",
              "      <td>stats dont represent the problem race baiting ...</td>\n",
              "      <td>1</td>\n",
              "    </tr>\n",
              "    <tr>\n",
              "      <th>997</th>\n",
              "      <td>the quote from the mother wow that hit hard ve...</td>\n",
              "      <td>0</td>\n",
              "    </tr>\n",
              "    <tr>\n",
              "      <th>998</th>\n",
              "      <td>this video is so racist</td>\n",
              "      <td>0</td>\n",
              "    </tr>\n",
              "    <tr>\n",
              "      <th>999</th>\n",
              "      <td>god the narrator has such an annoying lisp</td>\n",
              "      <td>0</td>\n",
              "    </tr>\n",
              "  </tbody>\n",
              "</table>\n",
              "<p>1000 rows × 2 columns</p>\n",
              "</div>\n",
              "      <button class=\"colab-df-convert\" onclick=\"convertToInteractive('df-6b28a20c-9f91-4931-ac83-1668b0bdc4d0')\"\n",
              "              title=\"Convert this dataframe to an interactive table.\"\n",
              "              style=\"display:none;\">\n",
              "        \n",
              "  <svg xmlns=\"http://www.w3.org/2000/svg\" height=\"24px\"viewBox=\"0 0 24 24\"\n",
              "       width=\"24px\">\n",
              "    <path d=\"M0 0h24v24H0V0z\" fill=\"none\"/>\n",
              "    <path d=\"M18.56 5.44l.94 2.06.94-2.06 2.06-.94-2.06-.94-.94-2.06-.94 2.06-2.06.94zm-11 1L8.5 8.5l.94-2.06 2.06-.94-2.06-.94L8.5 2.5l-.94 2.06-2.06.94zm10 10l.94 2.06.94-2.06 2.06-.94-2.06-.94-.94-2.06-.94 2.06-2.06.94z\"/><path d=\"M17.41 7.96l-1.37-1.37c-.4-.4-.92-.59-1.43-.59-.52 0-1.04.2-1.43.59L10.3 9.45l-7.72 7.72c-.78.78-.78 2.05 0 2.83L4 21.41c.39.39.9.59 1.41.59.51 0 1.02-.2 1.41-.59l7.78-7.78 2.81-2.81c.8-.78.8-2.07 0-2.86zM5.41 20L4 18.59l7.72-7.72 1.47 1.35L5.41 20z\"/>\n",
              "  </svg>\n",
              "      </button>\n",
              "      \n",
              "  <style>\n",
              "    .colab-df-container {\n",
              "      display:flex;\n",
              "      flex-wrap:wrap;\n",
              "      gap: 12px;\n",
              "    }\n",
              "\n",
              "    .colab-df-convert {\n",
              "      background-color: #E8F0FE;\n",
              "      border: none;\n",
              "      border-radius: 50%;\n",
              "      cursor: pointer;\n",
              "      display: none;\n",
              "      fill: #1967D2;\n",
              "      height: 32px;\n",
              "      padding: 0 0 0 0;\n",
              "      width: 32px;\n",
              "    }\n",
              "\n",
              "    .colab-df-convert:hover {\n",
              "      background-color: #E2EBFA;\n",
              "      box-shadow: 0px 1px 2px rgba(60, 64, 67, 0.3), 0px 1px 3px 1px rgba(60, 64, 67, 0.15);\n",
              "      fill: #174EA6;\n",
              "    }\n",
              "\n",
              "    [theme=dark] .colab-df-convert {\n",
              "      background-color: #3B4455;\n",
              "      fill: #D2E3FC;\n",
              "    }\n",
              "\n",
              "    [theme=dark] .colab-df-convert:hover {\n",
              "      background-color: #434B5C;\n",
              "      box-shadow: 0px 1px 3px 1px rgba(0, 0, 0, 0.15);\n",
              "      filter: drop-shadow(0px 1px 2px rgba(0, 0, 0, 0.3));\n",
              "      fill: #FFFFFF;\n",
              "    }\n",
              "  </style>\n",
              "\n",
              "      <script>\n",
              "        const buttonEl =\n",
              "          document.querySelector('#df-6b28a20c-9f91-4931-ac83-1668b0bdc4d0 button.colab-df-convert');\n",
              "        buttonEl.style.display =\n",
              "          google.colab.kernel.accessAllowed ? 'block' : 'none';\n",
              "\n",
              "        async function convertToInteractive(key) {\n",
              "          const element = document.querySelector('#df-6b28a20c-9f91-4931-ac83-1668b0bdc4d0');\n",
              "          const dataTable =\n",
              "            await google.colab.kernel.invokeFunction('convertToInteractive',\n",
              "                                                     [key], {});\n",
              "          if (!dataTable) return;\n",
              "\n",
              "          const docLinkHtml = 'Like what you see? Visit the ' +\n",
              "            '<a target=\"_blank\" href=https://colab.research.google.com/notebooks/data_table.ipynb>data table notebook</a>'\n",
              "            + ' to learn more about interactive tables.';\n",
              "          element.innerHTML = '';\n",
              "          dataTable['output_type'] = 'display_data';\n",
              "          await google.colab.output.renderOutput(dataTable, element);\n",
              "          const docLink = document.createElement('div');\n",
              "          docLink.innerHTML = docLinkHtml;\n",
              "          element.appendChild(docLink);\n",
              "        }\n",
              "      </script>\n",
              "    </div>\n",
              "  </div>\n",
              "  "
            ],
            "text/plain": [
              "                                                  Text  IsToxic\n",
              "0    if only people would just take a step back and...        0\n",
              "1    law enforcement is not trained to shoot to app...        1\n",
              "2    dont you reckon them black lives matter banner...        1\n",
              "3    there are a very large number of people who do...        0\n",
              "4    the arab dude is absolutely right he should ha...        0\n",
              "..                                                 ...      ...\n",
              "995  i remember that they sent in the national defe...        0\n",
              "996  stats dont represent the problem race baiting ...        1\n",
              "997  the quote from the mother wow that hit hard ve...        0\n",
              "998                            this video is so racist        0\n",
              "999        god the narrator has such an annoying lisp         0\n",
              "\n",
              "[1000 rows x 2 columns]"
            ]
          },
          "execution_count": 886,
          "metadata": {},
          "output_type": "execute_result"
        }
      ],
      "source": [
        "# Cambiamos la variable de IsToxic a numérica para que nos devuelva 0 si no es tóxico o 1 si es tóxico.\n",
        "istoxic = data[\"IsToxic\"].astype(\"uint8\")\n",
        "result = pd.concat([final_text, istoxic], axis=1)\n",
        "result\n"
      ]
    },
    {
      "cell_type": "markdown",
      "id": "Cg4DOsN3nZg3",
      "metadata": {
        "id": "Cg4DOsN3nZg3"
      },
      "source": [
        "- Tokenizamos con Spacy"
      ]
    },
    {
      "cell_type": "code",
      "execution_count": 887,
      "id": "4fef80de-9374-4079-9039-7bcc5c7bdbe0",
      "metadata": {
        "colab": {
          "base_uri": "https://localhost:8080/",
          "height": 424
        },
        "id": "4fef80de-9374-4079-9039-7bcc5c7bdbe0",
        "outputId": "5264d016-132b-46d4-b841-b579faf34f1b",
        "tags": []
      },
      "outputs": [
        {
          "data": {
            "text/html": [
              "\n",
              "  <div id=\"df-d34f4f32-6cb1-4adb-af0f-6fd6dffd6ce3\">\n",
              "    <div class=\"colab-df-container\">\n",
              "      <div>\n",
              "<style scoped>\n",
              "    .dataframe tbody tr th:only-of-type {\n",
              "        vertical-align: middle;\n",
              "    }\n",
              "\n",
              "    .dataframe tbody tr th {\n",
              "        vertical-align: top;\n",
              "    }\n",
              "\n",
              "    .dataframe thead th {\n",
              "        text-align: right;\n",
              "    }\n",
              "</style>\n",
              "<table border=\"1\" class=\"dataframe\">\n",
              "  <thead>\n",
              "    <tr style=\"text-align: right;\">\n",
              "      <th></th>\n",
              "      <th>Text</th>\n",
              "      <th>IsToxic</th>\n",
              "      <th>Tokenizacion</th>\n",
              "    </tr>\n",
              "  </thead>\n",
              "  <tbody>\n",
              "    <tr>\n",
              "      <th>0</th>\n",
              "      <td>if only people would just take a step back and...</td>\n",
              "      <td>0</td>\n",
              "      <td>(if, only, people, would, just, take, a, step,...</td>\n",
              "    </tr>\n",
              "    <tr>\n",
              "      <th>1</th>\n",
              "      <td>law enforcement is not trained to shoot to app...</td>\n",
              "      <td>1</td>\n",
              "      <td>(law, enforcement, is, not, trained, to, shoot...</td>\n",
              "    </tr>\n",
              "    <tr>\n",
              "      <th>2</th>\n",
              "      <td>dont you reckon them black lives matter banner...</td>\n",
              "      <td>1</td>\n",
              "      <td>(do, nt, you, reckon, them, black, lives, matt...</td>\n",
              "    </tr>\n",
              "    <tr>\n",
              "      <th>3</th>\n",
              "      <td>there are a very large number of people who do...</td>\n",
              "      <td>0</td>\n",
              "      <td>(there, are, a, very, large, number, of, peopl...</td>\n",
              "    </tr>\n",
              "    <tr>\n",
              "      <th>4</th>\n",
              "      <td>the arab dude is absolutely right he should ha...</td>\n",
              "      <td>0</td>\n",
              "      <td>(the, arab, dude, is, absolutely, right, he, s...</td>\n",
              "    </tr>\n",
              "    <tr>\n",
              "      <th>...</th>\n",
              "      <td>...</td>\n",
              "      <td>...</td>\n",
              "      <td>...</td>\n",
              "    </tr>\n",
              "    <tr>\n",
              "      <th>995</th>\n",
              "      <td>i remember that they sent in the national defe...</td>\n",
              "      <td>0</td>\n",
              "      <td>(i, remember, that, they, sent, in, the, natio...</td>\n",
              "    </tr>\n",
              "    <tr>\n",
              "      <th>996</th>\n",
              "      <td>stats dont represent the problem race baiting ...</td>\n",
              "      <td>1</td>\n",
              "      <td>(stats, do, nt, represent, the, problem, race,...</td>\n",
              "    </tr>\n",
              "    <tr>\n",
              "      <th>997</th>\n",
              "      <td>the quote from the mother wow that hit hard ve...</td>\n",
              "      <td>0</td>\n",
              "      <td>(the, quote, from, the, mother, wow, that, hit...</td>\n",
              "    </tr>\n",
              "    <tr>\n",
              "      <th>998</th>\n",
              "      <td>this video is so racist</td>\n",
              "      <td>0</td>\n",
              "      <td>(this, video, is, so, racist)</td>\n",
              "    </tr>\n",
              "    <tr>\n",
              "      <th>999</th>\n",
              "      <td>god the narrator has such an annoying lisp</td>\n",
              "      <td>0</td>\n",
              "      <td>(god, the, narrator, has, such, an, annoying, ...</td>\n",
              "    </tr>\n",
              "  </tbody>\n",
              "</table>\n",
              "<p>1000 rows × 3 columns</p>\n",
              "</div>\n",
              "      <button class=\"colab-df-convert\" onclick=\"convertToInteractive('df-d34f4f32-6cb1-4adb-af0f-6fd6dffd6ce3')\"\n",
              "              title=\"Convert this dataframe to an interactive table.\"\n",
              "              style=\"display:none;\">\n",
              "        \n",
              "  <svg xmlns=\"http://www.w3.org/2000/svg\" height=\"24px\"viewBox=\"0 0 24 24\"\n",
              "       width=\"24px\">\n",
              "    <path d=\"M0 0h24v24H0V0z\" fill=\"none\"/>\n",
              "    <path d=\"M18.56 5.44l.94 2.06.94-2.06 2.06-.94-2.06-.94-.94-2.06-.94 2.06-2.06.94zm-11 1L8.5 8.5l.94-2.06 2.06-.94-2.06-.94L8.5 2.5l-.94 2.06-2.06.94zm10 10l.94 2.06.94-2.06 2.06-.94-2.06-.94-.94-2.06-.94 2.06-2.06.94z\"/><path d=\"M17.41 7.96l-1.37-1.37c-.4-.4-.92-.59-1.43-.59-.52 0-1.04.2-1.43.59L10.3 9.45l-7.72 7.72c-.78.78-.78 2.05 0 2.83L4 21.41c.39.39.9.59 1.41.59.51 0 1.02-.2 1.41-.59l7.78-7.78 2.81-2.81c.8-.78.8-2.07 0-2.86zM5.41 20L4 18.59l7.72-7.72 1.47 1.35L5.41 20z\"/>\n",
              "  </svg>\n",
              "      </button>\n",
              "      \n",
              "  <style>\n",
              "    .colab-df-container {\n",
              "      display:flex;\n",
              "      flex-wrap:wrap;\n",
              "      gap: 12px;\n",
              "    }\n",
              "\n",
              "    .colab-df-convert {\n",
              "      background-color: #E8F0FE;\n",
              "      border: none;\n",
              "      border-radius: 50%;\n",
              "      cursor: pointer;\n",
              "      display: none;\n",
              "      fill: #1967D2;\n",
              "      height: 32px;\n",
              "      padding: 0 0 0 0;\n",
              "      width: 32px;\n",
              "    }\n",
              "\n",
              "    .colab-df-convert:hover {\n",
              "      background-color: #E2EBFA;\n",
              "      box-shadow: 0px 1px 2px rgba(60, 64, 67, 0.3), 0px 1px 3px 1px rgba(60, 64, 67, 0.15);\n",
              "      fill: #174EA6;\n",
              "    }\n",
              "\n",
              "    [theme=dark] .colab-df-convert {\n",
              "      background-color: #3B4455;\n",
              "      fill: #D2E3FC;\n",
              "    }\n",
              "\n",
              "    [theme=dark] .colab-df-convert:hover {\n",
              "      background-color: #434B5C;\n",
              "      box-shadow: 0px 1px 3px 1px rgba(0, 0, 0, 0.15);\n",
              "      filter: drop-shadow(0px 1px 2px rgba(0, 0, 0, 0.3));\n",
              "      fill: #FFFFFF;\n",
              "    }\n",
              "  </style>\n",
              "\n",
              "      <script>\n",
              "        const buttonEl =\n",
              "          document.querySelector('#df-d34f4f32-6cb1-4adb-af0f-6fd6dffd6ce3 button.colab-df-convert');\n",
              "        buttonEl.style.display =\n",
              "          google.colab.kernel.accessAllowed ? 'block' : 'none';\n",
              "\n",
              "        async function convertToInteractive(key) {\n",
              "          const element = document.querySelector('#df-d34f4f32-6cb1-4adb-af0f-6fd6dffd6ce3');\n",
              "          const dataTable =\n",
              "            await google.colab.kernel.invokeFunction('convertToInteractive',\n",
              "                                                     [key], {});\n",
              "          if (!dataTable) return;\n",
              "\n",
              "          const docLinkHtml = 'Like what you see? Visit the ' +\n",
              "            '<a target=\"_blank\" href=https://colab.research.google.com/notebooks/data_table.ipynb>data table notebook</a>'\n",
              "            + ' to learn more about interactive tables.';\n",
              "          element.innerHTML = '';\n",
              "          dataTable['output_type'] = 'display_data';\n",
              "          await google.colab.output.renderOutput(dataTable, element);\n",
              "          const docLink = document.createElement('div');\n",
              "          docLink.innerHTML = docLinkHtml;\n",
              "          element.appendChild(docLink);\n",
              "        }\n",
              "      </script>\n",
              "    </div>\n",
              "  </div>\n",
              "  "
            ],
            "text/plain": [
              "                                                  Text  IsToxic  \\\n",
              "0    if only people would just take a step back and...        0   \n",
              "1    law enforcement is not trained to shoot to app...        1   \n",
              "2    dont you reckon them black lives matter banner...        1   \n",
              "3    there are a very large number of people who do...        0   \n",
              "4    the arab dude is absolutely right he should ha...        0   \n",
              "..                                                 ...      ...   \n",
              "995  i remember that they sent in the national defe...        0   \n",
              "996  stats dont represent the problem race baiting ...        1   \n",
              "997  the quote from the mother wow that hit hard ve...        0   \n",
              "998                            this video is so racist        0   \n",
              "999        god the narrator has such an annoying lisp         0   \n",
              "\n",
              "                                          Tokenizacion  \n",
              "0    (if, only, people, would, just, take, a, step,...  \n",
              "1    (law, enforcement, is, not, trained, to, shoot...  \n",
              "2    (do, nt, you, reckon, them, black, lives, matt...  \n",
              "3    (there, are, a, very, large, number, of, peopl...  \n",
              "4    (the, arab, dude, is, absolutely, right, he, s...  \n",
              "..                                                 ...  \n",
              "995  (i, remember, that, they, sent, in, the, natio...  \n",
              "996  (stats, do, nt, represent, the, problem, race,...  \n",
              "997  (the, quote, from, the, mother, wow, that, hit...  \n",
              "998                      (this, video, is, so, racist)  \n",
              "999  (god, the, narrator, has, such, an, annoying, ...  \n",
              "\n",
              "[1000 rows x 3 columns]"
            ]
          },
          "execution_count": 887,
          "metadata": {},
          "output_type": "execute_result"
        }
      ],
      "source": [
        "nlp = spacy.load(\"en_core_web_sm\")\n",
        "result[\"Tokenizacion\"]= final_text.apply(lambda x: nlp.tokenizer(x))\n",
        "result"
      ]
    },
    {
      "cell_type": "code",
      "execution_count": 888,
      "id": "MFxBtwFvQVL5",
      "metadata": {
        "colab": {
          "base_uri": "https://localhost:8080/"
        },
        "id": "MFxBtwFvQVL5",
        "outputId": "7afd39e2-f343-445e-c187-c461eab625ad"
      },
      "outputs": [
        {
          "name": "stdout",
          "output_type": "stream",
          "text": [
            "<class 'pandas.core.frame.DataFrame'>\n",
            "RangeIndex: 1000 entries, 0 to 999\n",
            "Data columns (total 3 columns):\n",
            " #   Column        Non-Null Count  Dtype \n",
            "---  ------        --------------  ----- \n",
            " 0   Text          1000 non-null   object\n",
            " 1   IsToxic       1000 non-null   uint8 \n",
            " 2   Tokenizacion  1000 non-null   object\n",
            "dtypes: object(2), uint8(1)\n",
            "memory usage: 16.7+ KB\n"
          ]
        }
      ],
      "source": [
        "# Resultado del dataset una vez tokenizado con la variable IsToxic.\n",
        "result.info()"
      ]
    },
    {
      "cell_type": "markdown",
      "id": "6U_FmB2qofUO",
      "metadata": {
        "id": "6U_FmB2qofUO"
      },
      "source": [
        "Ya tenemos un dataframe con variable tokenizada, podemos proceder a la separación con split."
      ]
    },
    {
      "cell_type": "markdown",
      "id": "ac9963db",
      "metadata": {
        "id": "ac9963db"
      },
      "source": [
        "# Split"
      ]
    },
    {
      "cell_type": "code",
      "execution_count": 889,
      "id": "d156fac7",
      "metadata": {
        "colab": {
          "base_uri": "https://localhost:8080/"
        },
        "id": "d156fac7",
        "outputId": "a8569951-68dd-4f4a-aeb9-6974dc19fcc0"
      },
      "outputs": [
        {
          "name": "stdout",
          "output_type": "stream",
          "text": [
            "Training examples: 800, testing examples 200\n"
          ]
        }
      ],
      "source": [
        "#Separación en train y test con sklearn.\n",
        "from sklearn.model_selection import train_test_split\n",
        "X = result[\"Text\"]\n",
        "y = result[\"IsToxic\"]\n",
        "\n",
        "train_text,test_text, train_labels, test_labels = train_test_split( X, y, test_size=0.2, stratify = y)\n",
        "print(f\"Training examples: {len(train_text)}, testing examples {len(test_text)}\")"
      ]
    },
    {
      "cell_type": "markdown",
      "id": "jzeLCDRMpVYD",
      "metadata": {
        "id": "jzeLCDRMpVYD"
      },
      "source": [
        "Al separar en train y test, decidimos trabajar con un 80% de los datos para train y un 20% de los datos para test."
      ]
    },
    {
      "cell_type": "markdown",
      "id": "ec260ae4",
      "metadata": {
        "id": "ec260ae4"
      },
      "source": [
        "# Entrenamiento"
      ]
    },
    {
      "cell_type": "code",
      "execution_count": 890,
      "id": "sBhyljn0e_G1",
      "metadata": {
        "id": "sBhyljn0e_G1"
      },
      "outputs": [],
      "source": [
        "# Vectorización con Sklearn.\n",
        "from sklearn.feature_extraction.text import CountVectorizer, TfidfTransformer\n",
        "count_vect = CountVectorizer(stop_words='english')\n",
        "transformer = TfidfTransformer(norm='l2',sublinear_tf=True)"
      ]
    },
    {
      "cell_type": "code",
      "execution_count": 891,
      "id": "jUucVcNFmLfk",
      "metadata": {
        "id": "jUucVcNFmLfk"
      },
      "outputs": [],
      "source": [
        "# Vectorizamos los datos de train.\n",
        "x_train_counts = count_vect.fit_transform(train_text)\n",
        "x_train_tfidf = transformer.fit_transform(x_train_counts)"
      ]
    },
    {
      "cell_type": "code",
      "execution_count": 892,
      "id": "6CEpB3rzmSNy",
      "metadata": {
        "colab": {
          "base_uri": "https://localhost:8080/"
        },
        "id": "6CEpB3rzmSNy",
        "outputId": "fa10c8c3-093b-4814-b97b-40f0d6a9cf86"
      },
      "outputs": [
        {
          "name": "stdout",
          "output_type": "stream",
          "text": [
            "(800, 3985)\n",
            "(800, 3985)\n"
          ]
        }
      ],
      "source": [
        "# Vemos el resultado de los datos de train una vez vectorizados.\n",
        "print(x_train_counts.shape)\n",
        "print(x_train_tfidf.shape)"
      ]
    },
    {
      "cell_type": "code",
      "execution_count": 893,
      "id": "qMdQYlFzmYGS",
      "metadata": {
        "id": "qMdQYlFzmYGS"
      },
      "outputs": [],
      "source": [
        "# Vectorizamos los datos de test.\n",
        "x_test_counts = count_vect.transform(test_text)\n",
        "x_test_tfidf = transformer.transform(x_test_counts)"
      ]
    },
    {
      "cell_type": "code",
      "execution_count": 894,
      "id": "Z7b47gXzqLbn",
      "metadata": {
        "colab": {
          "base_uri": "https://localhost:8080/"
        },
        "id": "Z7b47gXzqLbn",
        "outputId": "a4543d92-39ea-49e9-c8b2-71015958509e"
      },
      "outputs": [
        {
          "name": "stdout",
          "output_type": "stream",
          "text": [
            "(200, 3985)\n",
            "(200, 3985)\n"
          ]
        }
      ],
      "source": [
        "# Vemos el resultado de los datos de test una vez vectorizados.\n",
        "print(x_test_counts.shape)\n",
        "print(x_test_tfidf.shape)"
      ]
    },
    {
      "cell_type": "markdown",
      "id": "2eda5f0d",
      "metadata": {
        "id": "2eda5f0d"
      },
      "source": [
        "# Modelos predictivos"
      ]
    },
    {
      "cell_type": "code",
      "execution_count": 895,
      "id": "jLvBAcCYmj6f",
      "metadata": {
        "colab": {
          "base_uri": "https://localhost:8080/"
        },
        "id": "jLvBAcCYmj6f",
        "outputId": "b70336b7-a9d9-4a82-875f-e6f2c14fa28a"
      },
      "outputs": [
        {
          "data": {
            "text/plain": [
              "RandomForestClassifier(bootstrap=True, ccp_alpha=0.0, class_weight=None,\n",
              "                       criterion='gini', max_depth=None, max_features='auto',\n",
              "                       max_leaf_nodes=None, max_samples=None,\n",
              "                       min_impurity_decrease=0.0, min_samples_leaf=1,\n",
              "                       min_samples_split=2, min_weight_fraction_leaf=0.0,\n",
              "                       n_estimators=500, n_jobs=None, oob_score=False,\n",
              "                       random_state=None, verbose=0, warm_start=False)"
            ]
          },
          "execution_count": 895,
          "metadata": {},
          "output_type": "execute_result"
        }
      ],
      "source": [
        "# Importación de libererías para trabajar con Random Forest.\n",
        "from sklearn.ensemble import RandomForestClassifier\n",
        "from sklearn.metrics import *\n",
        "\n",
        "model = RandomForestClassifier(n_estimators=500)\n",
        "model.fit(x_train_tfidf,train_labels)"
      ]
    },
    {
      "cell_type": "code",
      "execution_count": 896,
      "id": "wXzg7GgDmrZR",
      "metadata": {
        "id": "wXzg7GgDmrZR"
      },
      "outputs": [],
      "source": [
        "# Predicciones de test y train Random Forest.\n",
        "predictions = model.predict(x_test_tfidf)\n",
        "predictions2 = model.predict(x_train_tfidf)"
      ]
    },
    {
      "cell_type": "code",
      "execution_count": 897,
      "id": "ghT9_Tqgn7Np",
      "metadata": {
        "colab": {
          "base_uri": "https://localhost:8080/",
          "height": 829
        },
        "id": "ghT9_Tqgn7Np",
        "outputId": "a0cfa9e0-19f4-42d3-e01d-bb0ca28a241e"
      },
      "outputs": [
        {
          "name": "stdout",
          "output_type": "stream",
          "text": [
            "\n",
            "Matriz de Confusión:\n",
            "\n"
          ]
        },
        {
          "data": {
            "image/png": "[encoded data removed]",
            "text/plain": [
              "<Figure size 432x288 with 1 Axes>"
            ]
          },
          "metadata": {
            "needs_background": "light"
          },
          "output_type": "display_data"
        },
        {
          "name": "stdout",
          "output_type": "stream",
          "text": [
            "\n",
            "Recall: 0.532608695652174\n",
            "Precision: 0.765625\n",
            "F1_score: 0.6282051282051283\n",
            "Accuracy: 0.71\n",
            "\n",
            "*************************************************\n",
            "\n",
            "recall_score_train: 1.0\n",
            "precision_score_train: 1.0\n",
            "f1_score_train: 1.0\n",
            "accuracy_score_train: 1.0\n",
            "\n",
            "Overfitting -40.85 % \n",
            "\n",
            "Reporte de Clasificación:\n",
            "\n",
            "              precision    recall  f1-score   support\n",
            "\n",
            "           0       0.86      0.68      0.76       136\n",
            "           1       0.53      0.77      0.63        64\n",
            "\n",
            "    accuracy                           0.71       200\n",
            "   macro avg       0.70      0.72      0.70       200\n",
            "weighted avg       0.76      0.71      0.72       200\n",
            "\n"
          ]
        }
      ],
      "source": [
        "#Matriz de confusión para Random Forest.\n",
        "    \n",
        "print()\n",
        "print(f\"Matriz de Confusión:\")\n",
        "print()\n",
        "    \n",
        "con_matrix = confusion_matrix(test_labels, predictions)\n",
        "classes_names = ['False', 'True']\n",
        "con_matrix_ConfusionMatrix = pd.DataFrame(con_matrix, index=classes_names, columns=classes_names)\n",
        "\n",
        "sns.heatmap(con_matrix_ConfusionMatrix, annot=True, cbar=None, cmap=\"Blues\", fmt = 'g')\n",
        "plt.title(\"RandomForest Confusion Matrix\")\n",
        "plt.tight_layout()\n",
        "plt.ylabel(\"True Class\")\n",
        "plt.xlabel(\"Predicted Class\")\n",
        "plt.show()\n",
        "\n",
        "\n",
        "#Métricas de test de Random Forest.\n",
        "\n",
        "accur = accuracy_score(test_labels, predictions)\n",
        "preci = precision_score(test_labels, predictions)\n",
        "recal = recall_score(test_labels, predictions)\n",
        "f1 = f1_score(test_labels, predictions)\n",
        "class_repor = classification_report(test_labels, predictions)\n",
        "\n",
        "\n",
        "#Métricas de train de Random Forest.\n",
        "\n",
        "accur_train = accuracy_score(train_labels, predictions2)\n",
        "preci_train = precision_score(train_labels, predictions2)\n",
        "recal_train = recall_score(train_labels, predictions2)\n",
        "f1_train = f1_score(train_labels, predictions2)\n",
        "\n",
        "\n",
        "print()\n",
        "print(f\"Recall: {recal}\")\n",
        "print(f\"Precision: {preci}\")\n",
        "print(f\"F1_score: {f1}\")\n",
        "print(f\"Accuracy: {accur}\")\n",
        "print()\n",
        "print(\"*************************************************\")\n",
        "print()\n",
        "print(f\"recall_score_train: {recal_train}\")\n",
        "print(f\"precision_score_train: {preci_train}\")\n",
        "print(f\"f1_score_train: {f1_train}\")\n",
        "print(f\"accuracy_score_train: {accur_train}\")\n",
        "print()\n",
        "print(\"Overfitting {:.2f} % \".format(((accur - accur_train)/accur) *100))\n",
        "print()\n",
        "print(f\"Reporte de Clasificación:\")\n",
        "print()\n",
        "print(classification_report(predictions,test_labels))"
      ]
    },
    {
      "cell_type": "markdown",
      "id": "m4Cpfy9mrrZL",
      "metadata": {
        "id": "m4Cpfy9mrrZL"
      },
      "source": [
        "**- Conclusiones algoritmo Random Forest:**\n",
        "- Matriz de confusión:\n",
        "Tenemos pocos Verdaderos Positivos en proporción a los falsos negativos.\n",
        "- Métricas:\n",
        "No salen malos resultados pero con la cantidad de overfitting que nos sale, decidimos probar con otros algoritmos para comparar resultados."
      ]
    },
    {
      "cell_type": "code",
      "execution_count": 898,
      "id": "2d4J1DVVrkVZ",
      "metadata": {
        "colab": {
          "base_uri": "https://localhost:8080/"
        },
        "id": "2d4J1DVVrkVZ",
        "outputId": "bfd0875c-fcd1-4240-e941-502dbed12f3b"
      },
      "outputs": [
        {
          "data": {
            "text/plain": [
              "MultinomialNB(alpha=1.0, class_prior=None, fit_prior=True)"
            ]
          },
          "execution_count": 898,
          "metadata": {},
          "output_type": "execute_result"
        }
      ],
      "source": [
        "#Algoritmo Naive Bayes\n",
        "from sklearn.naive_bayes import MultinomialNB\n",
        "NB = MultinomialNB()\n",
        "NB.fit(x_train_tfidf, train_labels)"
      ]
    },
    {
      "cell_type": "code",
      "execution_count": 899,
      "id": "s0gsj0mCDE3i",
      "metadata": {
        "id": "s0gsj0mCDE3i"
      },
      "outputs": [],
      "source": [
        "# Predicciones de test y train Naive Bayes.\n",
        "predict_nb = NB.predict(x_test_tfidf)\n",
        "predict2_nb = NB.predict(x_train_tfidf)"
      ]
    },
    {
      "cell_type": "code",
      "execution_count": 900,
      "id": "o90dy5QwDLwQ",
      "metadata": {
        "colab": {
          "base_uri": "https://localhost:8080/",
          "height": 865
        },
        "id": "o90dy5QwDLwQ",
        "outputId": "4d830a41-8f19-40a2-8180-91df17b6d3b6"
      },
      "outputs": [
        {
          "name": "stdout",
          "output_type": "stream",
          "text": [
            "\n",
            "Matriz de Confusión:\n",
            "\n"
          ]
        },
        {
          "data": {
            "image/png": "[encoded data removed]",
            "text/plain": [
              "<Figure size 432x288 with 1 Axes>"
            ]
          },
          "metadata": {
            "needs_background": "light"
          },
          "output_type": "display_data"
        },
        {
          "name": "stdout",
          "output_type": "stream",
          "text": [
            "\n",
            "Recall: 0.6195652173913043\n",
            "Precision: 0.76\n",
            "F1_score: 0.6826347305389221\n",
            "Accuracy: 0.735\n",
            "\n",
            "*************************************************\n",
            "\n",
            "recall_score_train: 0.9486486486486486\n",
            "precision_score_train: 0.9943342776203966\n",
            "f1_score_train: 0.970954356846473\n",
            "accuracy_score_train: 0.97375\n",
            "\n",
            "accuracy_score_train: 0.97375\n",
            "\n",
            "Overfitting -32.48 % \n",
            "\n",
            "Reporte de Clasificación:\n",
            "\n",
            "              precision    recall  f1-score   support\n",
            "\n",
            "           0       0.83      0.72      0.77       125\n",
            "           1       0.62      0.76      0.68        75\n",
            "\n",
            "    accuracy                           0.73       200\n",
            "   macro avg       0.73      0.74      0.73       200\n",
            "weighted avg       0.75      0.73      0.74       200\n",
            "\n"
          ]
        }
      ],
      "source": [
        "#Matriz de confusión Naive Bayes.\n",
        "    \n",
        "print()\n",
        "print(f\"Matriz de Confusión:\")\n",
        "print()\n",
        "    \n",
        "con_matrix = confusion_matrix(test_labels, predict_nb)\n",
        "classes_names = ['False', 'True']\n",
        "con_matrix_ConfusionMatrix = pd.DataFrame(con_matrix, index=classes_names, columns=classes_names)\n",
        "\n",
        "sns.heatmap(con_matrix_ConfusionMatrix, annot=True, cbar=None, cmap=\"Blues\", fmt = 'g')\n",
        "plt.title(\"Naive Bayes Confusion Matrix\")\n",
        "plt.tight_layout()\n",
        "plt.ylabel(\"True Class\")\n",
        "plt.xlabel(\"Predicted Class\")\n",
        "plt.show()\n",
        "\n",
        "#Métricas de test Naive Bayes\n",
        "\n",
        "accur = accuracy_score(test_labels, predict_nb)\n",
        "preci = precision_score(test_labels, predict_nb)\n",
        "recal = recall_score(test_labels, predict_nb)\n",
        "f1 = f1_score(test_labels, predict_nb)\n",
        "class_repor = classification_report(test_labels, predict_nb)\n",
        "\n",
        "\n",
        "#Métricas de train Naive Bayes\n",
        "\n",
        "accur_train = accuracy_score(train_labels, predict2_nb)\n",
        "preci_train = precision_score(train_labels, predict2_nb)\n",
        "recal_train = recall_score(train_labels, predict2_nb)\n",
        "f1_train = f1_score(train_labels, predict2_nb)\n",
        "\n",
        "\n",
        "print()\n",
        "print(f\"Recall: {recal}\")\n",
        "print(f\"Precision: {preci}\")\n",
        "print(f\"F1_score: {f1}\")\n",
        "print(f\"Accuracy: {accur}\")\n",
        "print()\n",
        "print(\"*************************************************\")\n",
        "print()\n",
        "print(f\"recall_score_train: {recal_train}\")\n",
        "print(f\"precision_score_train: {preci_train}\")\n",
        "print(f\"f1_score_train: {f1_train}\")\n",
        "print(f\"accuracy_score_train: {accur_train}\")\n",
        "print()\n",
        "print(f\"accuracy_score_train: {accur_train}\")\n",
        "print()\n",
        "print(\"Overfitting {:.2f} % \".format(((accur - accur_train)/accur) *100))\n",
        "print()\n",
        "print(f\"Reporte de Clasificación:\")\n",
        "print()\n",
        "print(classification_report(predict_nb,test_labels))"
      ]
    },
    {
      "cell_type": "markdown",
      "id": "tb6b9Qgdv2M1",
      "metadata": {
        "id": "tb6b9Qgdv2M1"
      },
      "source": [
        "**- Conclusiones algoritmo Naive Bayes:**\n",
        "- Matriz de confusión:\n",
        "Mejora la proporción de los verdaderos positivos y los falsos negativos, respecto al Random Forest.\n",
        "- Métricas:\n",
        "Las métricas están bastante bien pero el overfitting es terrible aún."
      ]
    },
    {
      "cell_type": "code",
      "execution_count": 901,
      "id": "9Dpl66XTDYNm",
      "metadata": {
        "colab": {
          "base_uri": "https://localhost:8080/"
        },
        "id": "9Dpl66XTDYNm",
        "outputId": "bd4d330d-4773-4209-8cfe-1fafdac32c63"
      },
      "outputs": [
        {
          "data": {
            "text/plain": [
              "LGBMClassifier(boosting_type='gbdt', class_weight='balanced',\n",
              "               colsample_bytree=1.0, importance_type='split',\n",
              "               learning_rate=0.01, max_depth=4, min_child_samples=20,\n",
              "               min_child_weight=15, min_split_gain=0.0, n_estimators=100,\n",
              "               n_jobs=-1, num_leaves=31, objective=None, random_state=None,\n",
              "               reg_alpha=0.0, reg_lambda=0.0, scale_pos_weight=5, silent=True,\n",
              "               subsample=1.0, subsample_for_bin=200000, subsample_freq=0)"
            ]
          },
          "execution_count": 901,
          "metadata": {},
          "output_type": "execute_result"
        }
      ],
      "source": [
        "# Algoritmo Lightgbm\n",
        "from lightgbm import LGBMClassifier\n",
        "LGBM = LGBMClassifier(learning_rate=0.01, max_depth = 4, scale_pos_weight = 5, class_weight= \"balanced\", min_child_weight =15)\n",
        "LGBM.fit(x_train_tfidf, train_labels)"
      ]
    },
    {
      "cell_type": "code",
      "execution_count": 902,
      "id": "u8YIhe8FF9Dr",
      "metadata": {
        "id": "u8YIhe8FF9Dr"
      },
      "outputs": [],
      "source": [
        "# Predicciones de test y train Lightgbm.\n",
        "predict_lgbm = LGBM.predict(x_test_tfidf)\n",
        "predict2_lgbm = LGBM.predict(x_train_tfidf)"
      ]
    },
    {
      "cell_type": "code",
      "execution_count": 903,
      "id": "7rUNW0g3GPm9",
      "metadata": {
        "colab": {
          "base_uri": "https://localhost:8080/",
          "height": 847
        },
        "id": "7rUNW0g3GPm9",
        "outputId": "ecc66d71-fe52-4eb3-fb95-ecfa5e86f86b"
      },
      "outputs": [
        {
          "name": "stdout",
          "output_type": "stream",
          "text": [
            "\n",
            "Matriz de Confusión:\n",
            "\n"
          ]
        },
        {
          "data": {
            "image/png": "[encoded data removed]",
            "text/plain": [
              "<Figure size 432x288 with 1 Axes>"
            ]
          },
          "metadata": {
            "needs_background": "light"
          },
          "output_type": "display_data"
        },
        {
          "name": "stdout",
          "output_type": "stream",
          "text": [
            "\n",
            "Recall: 1.0\n",
            "Precision: 0.4623115577889447\n",
            "F1_score: 0.6323024054982818\n",
            "Accuracy: 0.465\n",
            "\n",
            "*************************************************\n",
            "\n",
            "recall_score_train: 1.0\n",
            "precision_score_train: 0.46540880503144655\n",
            "f1_score_train: 0.6351931330472104\n",
            "accuracy_score_train: 0.46875\n",
            "\n",
            "Overfitting -0.81 % \n",
            "-----------------------------------------------------\n",
            "\n",
            "Reporte de Clasificación:\n",
            "\n",
            "              precision    recall  f1-score   support\n",
            "\n",
            "           0       0.01      1.00      0.02         1\n",
            "           1       1.00      0.46      0.63       199\n",
            "\n",
            "    accuracy                           0.47       200\n",
            "   macro avg       0.50      0.73      0.33       200\n",
            "weighted avg       1.00      0.47      0.63       200\n",
            "\n"
          ]
        }
      ],
      "source": [
        "#Matriz de confusión Lightgbm\n",
        "    \n",
        "print()\n",
        "print(f\"Matriz de Confusión:\")\n",
        "print()\n",
        "    \n",
        "con_matrix = confusion_matrix(test_labels, predict_nb)\n",
        "classes_names = ['False', 'True']\n",
        "con_matrix_ConfusionMatrix = pd.DataFrame(con_matrix, index=classes_names, columns=classes_names)\n",
        "\n",
        "sns.heatmap(con_matrix_ConfusionMatrix, annot=True, cbar=None, cmap=\"Blues\", fmt = 'g')\n",
        "plt.title(\"LGBM Confusion Matrix\")\n",
        "plt.tight_layout()\n",
        "plt.ylabel(\"True Class\")\n",
        "plt.xlabel(\"Predicted Class\")\n",
        "plt.show()\n",
        "\n",
        "#Métricas de test Lightgbm.\n",
        "\n",
        "accur = accuracy_score(test_labels, predict_lgbm)\n",
        "preci = precision_score(test_labels, predict_lgbm)\n",
        "recal = recall_score(test_labels, predict_lgbm)\n",
        "f1 = f1_score(test_labels, predict_lgbm)\n",
        "class_repor = classification_report(test_labels, predict_lgbm)\n",
        "\n",
        "\n",
        "#Métricas de train Lightgbm\n",
        "\n",
        "accur_train = accuracy_score(train_labels, predict2_lgbm)\n",
        "preci_train = precision_score(train_labels, predict2_lgbm)\n",
        "recal_train = recall_score(train_labels, predict2_lgbm)\n",
        "f1_train = f1_score(train_labels, predict2_lgbm)\n",
        "\n",
        "\n",
        "print()\n",
        "print(f\"Recall: {recal}\")\n",
        "print(f\"Precision: {preci}\")\n",
        "print(f\"F1_score: {f1}\")\n",
        "print(f\"Accuracy: {accur}\")\n",
        "print()\n",
        "print(\"*************************************************\")\n",
        "print()\n",
        "print(f\"recall_score_train: {recal_train}\")\n",
        "print(f\"precision_score_train: {preci_train}\")\n",
        "print(f\"f1_score_train: {f1_train}\")\n",
        "print(f\"accuracy_score_train: {accur_train}\")\n",
        "print()\n",
        "print(\"Overfitting {:.2f} % \".format(((accur - accur_train)/accur) *100))\n",
        "print(\"-----------------------------------------------------\")\n",
        "print()\n",
        "print(f\"Reporte de Clasificación:\")\n",
        "print()\n",
        "print(classification_report(predict_lgbm,test_labels))"
      ]
    },
    {
      "cell_type": "markdown",
      "id": "jLytPBvVxh5t",
      "metadata": {
        "id": "jLytPBvVxh5t"
      },
      "source": [
        "**- Conclusiones algoritmo Lightgbm:**\n",
        "- Matriz de confusión:\n",
        "Mejora la proporción de los verdaderos positivos y los falsos negativos, respecto al Random Forest pero es muy parecida a la que sale en Naive Bayes.\n",
        "- Métricas:\n",
        "Las métricas son peores pero el overfitting es muy bajo, lo cual también nos hace desconfiar."
      ]
    },
    {
      "cell_type": "markdown",
      "id": "KEN9T_EZALzI",
      "metadata": {
        "id": "KEN9T_EZALzI"
      },
      "source": [
        "## Modelo de XGBoost Classifier"
      ]
    },
    {
      "cell_type": "code",
      "execution_count": 904,
      "id": "oiLNegxCJQi1",
      "metadata": {
        "colab": {
          "base_uri": "https://localhost:8080/"
        },
        "id": "oiLNegxCJQi1",
        "outputId": "9402c486-7ab7-482a-d304-5ad133ef20db"
      },
      "outputs": [
        {
          "data": {
            "text/plain": [
              "XGBClassifier(base_score=0.5, booster='gbtree', class_weight='balanced',\n",
              "              colsample_bylevel=1, colsample_bynode=1, colsample_bytree=1,\n",
              "              gamma=0, learning_rate=0.01, max_delta_step=0, max_depth=5,\n",
              "              min_child_weight=1, missing=None, n_estimators=100, n_jobs=1,\n",
              "              nthread=None, objective='binary:logistic', random_state=0,\n",
              "              reg_alpha=0, reg_lambda=1, scale_pos_weight=10, seed=None,\n",
              "              silent=None, subsample=1, verbosity=1)"
            ]
          },
          "execution_count": 904,
          "metadata": {},
          "output_type": "execute_result"
        }
      ],
      "source": [
        "# Algoritmo XGBoost.\n",
        "from xgboost import XGBClassifier\n",
        "model_bow = XGBClassifier(learning_rate=0.01, max_depth = 5, scale_pos_weight = 10, class_weight= \"balanced\")\n",
        "model_bow.fit(x_train_tfidf,train_labels)"
      ]
    },
    {
      "cell_type": "code",
      "execution_count": 905,
      "id": "nAkf2AQanzc6",
      "metadata": {
        "id": "nAkf2AQanzc6"
      },
      "outputs": [],
      "source": [
        "# Predicciones de train y test de XGBoost.\n",
        "predict_xgb = model_bow.predict(x_test_tfidf)\n",
        "predict2_xgb = model_bow.predict(x_train_tfidf)"
      ]
    },
    {
      "cell_type": "code",
      "execution_count": 906,
      "id": "46jenKsyn3pf",
      "metadata": {
        "colab": {
          "base_uri": "https://localhost:8080/",
          "height": 847
        },
        "id": "46jenKsyn3pf",
        "outputId": "19b8ee63-cd04-4c55-b746-9fc4e196f7ad"
      },
      "outputs": [
        {
          "name": "stdout",
          "output_type": "stream",
          "text": [
            "\n",
            "Matriz de Confusión:\n",
            "\n"
          ]
        },
        {
          "data": {
            "image/png": "[encoded data removed]",
            "text/plain": [
              "<Figure size 432x288 with 1 Axes>"
            ]
          },
          "metadata": {
            "needs_background": "light"
          },
          "output_type": "display_data"
        },
        {
          "name": "stdout",
          "output_type": "stream",
          "text": [
            "\n",
            "Recall: 1.0\n",
            "Precision: 0.4816753926701571\n",
            "F1_score: 0.6501766784452296\n",
            "Accuracy: 0.505\n",
            "\n",
            "*************************************************\n",
            "\n",
            "recall_score_train: 1.0\n",
            "precision_score_train: 0.4868421052631579\n",
            "f1_score_train: 0.6548672566371682\n",
            "accuracy_score_train: 0.5125\n",
            "\n",
            "\n",
            "Overfitting -1.49 % \n",
            "\n",
            "Reporte de Clasificación:\n",
            "\n",
            "              precision    recall  f1-score   support\n",
            "\n",
            "           0       0.08      1.00      0.15         9\n",
            "           1       1.00      0.48      0.65       191\n",
            "\n",
            "    accuracy                           0.51       200\n",
            "   macro avg       0.54      0.74      0.40       200\n",
            "weighted avg       0.96      0.51      0.63       200\n",
            "\n"
          ]
        }
      ],
      "source": [
        "#Matriz de confusión XGBoost.\n",
        "    \n",
        "print()\n",
        "print(f\"Matriz de Confusión:\")\n",
        "print()\n",
        "    \n",
        "con_matrix = confusion_matrix(test_labels, predict_xgb)\n",
        "classes_names = ['False', 'True']\n",
        "con_matrix_ConfusionMatrix = pd.DataFrame(con_matrix, index=classes_names, columns=classes_names)\n",
        "\n",
        "sns.heatmap(con_matrix_ConfusionMatrix, annot=True, cbar=None, cmap=\"Blues\", fmt = 'g')\n",
        "plt.title(\"XGBoost Confusion Matrix\")\n",
        "plt.tight_layout()\n",
        "plt.ylabel(\"True Class\")\n",
        "plt.xlabel(\"Predicted Class\")\n",
        "plt.show()\n",
        "\n",
        "\n",
        "#Métricas de test XGBoost.\n",
        "\n",
        "accur = accuracy_score(test_labels, predict_xgb)\n",
        "preci = precision_score(test_labels, predict_xgb)\n",
        "recal = recall_score(test_labels, predict_xgb)\n",
        "f1 = f1_score(test_labels, predict_xgb)\n",
        "class_repor = classification_report(test_labels, predict_xgb)\n",
        "\n",
        "\n",
        "#Métricas de train XGBoost.\n",
        "\n",
        "accur_train = accuracy_score(train_labels, predict2_xgb)\n",
        "preci_train = precision_score(train_labels, predict2_xgb)\n",
        "recal_train = recall_score(train_labels, predict2_xgb)\n",
        "f1_train = f1_score(train_labels, predict2_xgb)\n",
        "\n",
        "\n",
        "print()\n",
        "print(f\"Recall: {recal}\")\n",
        "print(f\"Precision: {preci}\")\n",
        "print(f\"F1_score: {f1}\")\n",
        "print(f\"Accuracy: {accur}\")\n",
        "print()\n",
        "print(\"*************************************************\")\n",
        "print()\n",
        "print(f\"recall_score_train: {recal_train}\")\n",
        "print(f\"precision_score_train: {preci_train}\")\n",
        "print(f\"f1_score_train: {f1_train}\")\n",
        "print(f\"accuracy_score_train: {accur_train}\")\n",
        "print()\n",
        "print()\n",
        "print(\"Overfitting {:.2f} % \".format(((accur - accur_train)/accur) *100))\n",
        "print()\n",
        "print(f\"Reporte de Clasificación:\")\n",
        "print()\n",
        "print(classification_report(predict_xgb,test_labels))"
      ]
    },
    {
      "cell_type": "markdown",
      "id": "9ib6sdvyy25s",
      "metadata": {
        "id": "9ib6sdvyy25s"
      },
      "source": [
        "**- Conclusiones algoritmo XGBoost:**\n",
        "- Matriz de confusión:\n",
        "En esta matriz encontramos resultados más cercanos a lo que queremos, los verdaderos positivos superan a los falsos.\n",
        "- Métricas:\n",
        "Nos salen unas métricas mejores y el overfitting es el más bajo de todos."
      ]
    },
    {
      "cell_type": "markdown",
      "id": "G562MjYF157G",
      "metadata": {
        "id": "G562MjYF157G"
      },
      "source": [
        "Elegimos este modelo ya que con las métricas que obtenemos es el mejor algoritmo para nuestros datos."
      ]
    },
    {
      "cell_type": "code",
      "execution_count": 907,
      "id": "6vtxkijPh4IR",
      "metadata": {
        "id": "6vtxkijPh4IR"
      },
      "outputs": [],
      "source": [
        "#Se importa pickle para guardar el modelo y el transformer\n",
        "import pickle\n",
        "modelo_pickle = 'xg_boost.pkl'\n",
        "pickle.dump(model_bow, open(modelo_pickle, 'wb')) \n",
        "#Comprobar que el modelo de ha guardado\n",
        "modeloprueba = pickle.load(open('xg_boost.pkl', 'rb'))"
      ]
    },
    {
      "cell_type": "code",
      "execution_count": 908,
      "id": "wIQuebzIG85j",
      "metadata": {
        "id": "wIQuebzIG85j"
      },
      "outputs": [],
      "source": [
        "# Guardamos el vectorizador que hemos empleado.\n",
        "pickle.dump(count_vect, open('Vectoriser.pkl', 'wb'))\n"
      ]
    },
    {
      "cell_type": "markdown",
      "id": "dKzHKDR3SngG",
      "metadata": {
        "id": "dKzHKDR3SngG"
      },
      "source": [
        "## Auto ML"
      ]
    },
    {
      "cell_type": "markdown",
      "id": "6T52vkoa1swZ",
      "metadata": {
        "id": "6T52vkoa1swZ"
      },
      "source": [
        "Queremos ver otras formas para preprocesar el texto, tuneo de hiperparámetros y comprobar automáticamente los modelos, pasamos a probar con Auto ML"
      ]
    },
    {
      "cell_type": "code",
      "execution_count": 909,
      "id": "lAt7HN-NhRtx",
      "metadata": {
        "id": "lAt7HN-NhRtx"
      },
      "outputs": [],
      "source": [
        "# Importar Librerias\n",
        "import re\n",
        "import nltk\n",
        "import gensim\n",
        "from gensim.models import Word2Vec\n",
        "from pycaret.nlp import *\n",
        "from pycaret.classification import *"
      ]
    },
    {
      "cell_type": "code",
      "execution_count": 910,
      "id": "68gBXDIeSsPa",
      "metadata": {
        "colab": {
          "base_uri": "https://localhost:8080/",
          "height": 187
        },
        "id": "68gBXDIeSsPa",
        "outputId": "86402cb6-4dcf-416d-c9fe-ebb0bd39a3df"
      },
      "outputs": [
        {
          "ename": "TypeError",
          "evalue": "ignored",
          "output_type": "error",
          "traceback": [
            "\u001b[0;31m---------------------------------------------------------------------------\u001b[0m",
            "\u001b[0;31mTypeError\u001b[0m                                 Traceback (most recent call last)",
            "\u001b[0;32m<ipython-input-910-b60d5442aebc>\u001b[0m in \u001b[0;36m<module>\u001b[0;34m\u001b[0m\n\u001b[1;32m      1\u001b[0m \u001b[0;31m# Preprocesamiento del dataset, configurado en inglés y que nos elimina las stop-words.\u001b[0m\u001b[0;34m\u001b[0m\u001b[0;34m\u001b[0m\u001b[0;34m\u001b[0m\u001b[0m\n\u001b[0;32m----> 2\u001b[0;31m \u001b[0mpre_process\u001b[0m \u001b[0;34m=\u001b[0m \u001b[0msetup\u001b[0m\u001b[0;34m(\u001b[0m\u001b[0mdata\u001b[0m \u001b[0;34m=\u001b[0m \u001b[0mresult\u001b[0m \u001b[0;34m,\u001b[0m\u001b[0mtarget\u001b[0m \u001b[0;34m=\u001b[0m\u001b[0;34m'Tokenizacion'\u001b[0m\u001b[0;34m,\u001b[0m \u001b[0msession_id\u001b[0m \u001b[0;34m=\u001b[0m \u001b[0;36m1\u001b[0m\u001b[0;34m,\u001b[0m \u001b[0mcustom_stopwords\u001b[0m\u001b[0;34m=\u001b[0m \u001b[0;34m[\u001b[0m\u001b[0;34m'english'\u001b[0m\u001b[0;34m]\u001b[0m\u001b[0;34m)\u001b[0m\u001b[0;34m\u001b[0m\u001b[0;34m\u001b[0m\u001b[0m\n\u001b[0m",
            "\u001b[0;31mTypeError\u001b[0m: setup() got an unexpected keyword argument 'custom_stopwords'"
          ]
        }
      ],
      "source": [
        "# Preprocesamiento del dataset, configurado en inglés y que nos elimina las stop-words.\n",
        "pre_process = setup(data = result ,target ='Tokenizacion', session_id = 1, custom_stopwords= ['english'])\n"
      ]
    },
    {
      "cell_type": "code",
      "execution_count": null,
      "id": "I3NaAw8tS3cA",
      "metadata": {
        "id": "I3NaAw8tS3cA"
      },
      "outputs": [],
      "source": [
        "# Llamada a los modelos.\n",
        "models()"
      ]
    },
    {
      "cell_type": "markdown",
      "id": "82XW_35O3o5D",
      "metadata": {
        "id": "82XW_35O3o5D"
      },
      "source": [
        "Nos imprime cinco modelos."
      ]
    },
    {
      "cell_type": "code",
      "execution_count": null,
      "id": "alEfIvfMVRbz",
      "metadata": {
        "id": "alEfIvfMVRbz"
      },
      "outputs": [],
      "source": [
        "#Se elige un modelo de pycaret\n",
        "lda = create_model('lda')\n",
        "print(lda)"
      ]
    },
    {
      "cell_type": "code",
      "execution_count": null,
      "id": "u472TMd1VUN0",
      "metadata": {
        "id": "u472TMd1VUN0"
      },
      "outputs": [],
      "source": [
        "# Mostrando el dataset y se crean los topics.\n",
        "lda_data = assign_model(lda)\n",
        "lda_data.head()"
      ]
    },
    {
      "cell_type": "code",
      "execution_count": null,
      "id": "iGjm3DPBXYGj",
      "metadata": {
        "id": "iGjm3DPBXYGj"
      },
      "outputs": [],
      "source": [
        "# Eliminación de las variables.\n",
        "lda_data.drop(['Text','Tokenizacion'], axis = 1, inplace=True, errors='ignore')"
      ]
    },
    {
      "cell_type": "code",
      "execution_count": null,
      "id": "oLsn1QTRmgg2",
      "metadata": {
        "id": "oLsn1QTRmgg2"
      },
      "outputs": [],
      "source": [
        "\n",
        "model = setup(data = lda_data, target = 'IsToxic')\n"
      ]
    },
    {
      "cell_type": "markdown",
      "id": "l_UAq3hfFVZQ",
      "metadata": {
        "id": "l_UAq3hfFVZQ"
      },
      "source": [
        "Al probar AutoML, no nos convencían las métricas de este procesamiento, por lo que hemos decidido quedarnos con XGBoost, el overfitting era igual en ambos procesos pero salían mejores métricas."
      ]
    },
    {
      "cell_type": "code",
      "execution_count": null,
      "id": "g9ZQXW4OFv6-",
      "metadata": {
        "id": "g9ZQXW4OFv6-"
      },
      "outputs": [],
      "source": []
    }
  ],
  "metadata": {
    "colab": {
      "provenance": []
    },
    "kernelspec": {
      "display_name": "Python 3 (ipykernel)",
      "language": "python",
      "name": "python3"
    },
    "language_info": {
      "codemirror_mode": {
        "name": "ipython",
        "version": 3
      },
      "file_extension": ".py",
      "mimetype": "text/x-python",
      "name": "python",
      "nbconvert_exporter": "python",
      "pygments_lexer": "ipython3",
      "version": "3.10.8"
    },
    "vscode": {
      "interpreter": {
        "hash": "9e5b7788a29f1d840a4c703888c44b85ff725f1d39a11799edab98dde2bf1c69"
      }
    }
  },
  "nbformat": 4,
  "nbformat_minor": 5
}
