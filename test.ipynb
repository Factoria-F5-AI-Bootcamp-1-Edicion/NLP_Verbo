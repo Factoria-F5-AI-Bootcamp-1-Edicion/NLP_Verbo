{
 "cells": [
  {
   "cell_type": "code",
   "execution_count": 4,
   "metadata": {},
   "outputs": [],
   "source": [
    "from limpieza import preprocess\n",
    "import pickle"
   ]
  },
  {
   "cell_type": "code",
   "execution_count": 5,
   "metadata": {},
   "outputs": [],
   "source": [
    "#Vectoriser\n",
    "with open ('Vectoriser.pkl', 'rb') as d:\n",
    "    vectoriser = pickle.load(d)\n",
    "#Model \n",
    "with open ('MultinomialNB_NLP.pkl', 'rb') as f:\n",
    "    model = pickle.load(f)"
   ]
  },
  {
   "cell_type": "code",
   "execution_count": 12,
   "metadata": {},
   "outputs": [
    {
     "data": {
      "text/plain": [
       "['hate black people ']"
      ]
     },
     "execution_count": 12,
     "metadata": {},
     "output_type": "execute_result"
    }
   ],
   "source": [
    "preprocess([\"i hate black people\"])"
   ]
  },
  {
   "cell_type": "code",
   "execution_count": 18,
   "metadata": {},
   "outputs": [
    {
     "name": "stdout",
     "output_type": "stream",
     "text": [
      "['hate black people ']\n",
      "  (0, 4076)\t0.3615406349028041\n",
      "  (0, 2342)\t0.6847661659743776\n",
      "  (0, 831)\t0.5138233087067111\n",
      "  (0, 812)\t0.36928210717622995\n",
      "[1]\n"
     ]
    }
   ],
   "source": [
    "data = \"i hate black people\"    \n",
    "processed_data= preprocess([data])\n",
    "print(processed_data)\n",
    "vectorised_data = vectoriser.transform(processed_data)\n",
    "print(vectorised_data)\n",
    "prediction = model.predict(vectorised_data)\n",
    "print(prediction)\n",
    "\n",
    "\n"
   ]
  }
 ],
 "metadata": {
  "kernelspec": {
   "display_name": "Python 3.10.8 ('nlp-app')",
   "language": "python",
   "name": "python3"
  },
  "language_info": {
   "codemirror_mode": {
    "name": "ipython",
    "version": 3
   },
   "file_extension": ".py",
   "mimetype": "text/x-python",
   "name": "python",
   "nbconvert_exporter": "python",
   "pygments_lexer": "ipython3",
   "version": "3.10.8"
  },
  "orig_nbformat": 4,
  "vscode": {
   "interpreter": {
    "hash": "9e5b7788a29f1d840a4c703888c44b85ff725f1d39a11799edab98dde2bf1c69"
   }
  }
 },
 "nbformat": 4,
 "nbformat_minor": 2
}
